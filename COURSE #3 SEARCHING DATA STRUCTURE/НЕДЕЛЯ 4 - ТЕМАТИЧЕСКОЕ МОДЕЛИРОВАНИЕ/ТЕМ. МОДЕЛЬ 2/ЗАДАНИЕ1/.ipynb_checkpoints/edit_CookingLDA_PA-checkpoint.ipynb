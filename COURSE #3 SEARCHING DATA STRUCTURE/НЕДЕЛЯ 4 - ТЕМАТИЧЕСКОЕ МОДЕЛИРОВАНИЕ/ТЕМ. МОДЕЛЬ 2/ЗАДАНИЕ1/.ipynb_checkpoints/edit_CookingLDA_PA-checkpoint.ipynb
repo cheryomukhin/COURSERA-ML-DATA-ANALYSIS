{
 "cells": [
  {
   "cell_type": "markdown",
   "metadata": {},
   "source": [
    "# Programming Assignment: \n",
    "## Готовим LDA по рецептам"
   ]
  },
  {
   "cell_type": "markdown",
   "metadata": {},
   "source": [
    "Как вы уже знаете, в тематическом моделировании делается предположение о том, что для определения тематики порядок слов в документе не важен; об этом гласит гипотеза «мешка слов». Сегодня мы будем работать с несколько нестандартной для тематического моделирования коллекцией, которую можно назвать «мешком ингредиентов», потому что на состоит из рецептов блюд разных кухонь. Тематические модели ищут слова, которые часто вместе встречаются в документах, и составляют из них темы. Мы попробуем применить эту идею к рецептам и найти кулинарные «темы». Эта коллекция хороша тем, что не требует предобработки. Кроме того, эта задача достаточно наглядно иллюстрирует принцип работы тематических моделей.\n",
    "\n",
    "Для выполнения заданий, помимо часто используемых в курсе библиотек, потребуются модули *json* и *gensim*. Первый входит в дистрибутив Anaconda, второй можно поставить командой \n",
    "\n",
    "*pip install gensim*\n",
    "лучше исталлировать через анаконду\n",
    "\n",
    "Построение модели занимает некоторое время. На ноутбуке с процессором Intel Core i7 и тактовой частотой 2400 МГц на построение одной модели уходит менее 10 минут."
   ]
  },
  {
   "cell_type": "markdown",
   "metadata": {},
   "source": [
    "### Загрузка данных"
   ]
  },
  {
   "cell_type": "markdown",
   "metadata": {},
   "source": [
    "Коллекция дана в json-формате: для каждого рецепта известны его id, кухня (cuisine) и список ингредиентов, в него входящих. Загрузить данные можно с помощью модуля json (он входит в дистрибутив Anaconda):"
   ]
  },
  {
   "cell_type": "code",
   "execution_count": 1,
   "metadata": {},
   "outputs": [],
   "source": [
    "import json"
   ]
  },
  {
   "cell_type": "code",
   "execution_count": 2,
   "metadata": {},
   "outputs": [],
   "source": [
    "with open(\"recipes.json\") as f:\n",
    "    recipes = json.load(f)"
   ]
  },
  {
   "cell_type": "code",
   "execution_count": 3,
   "metadata": {},
   "outputs": [
    {
     "data": {
      "text/plain": [
       "39774"
      ]
     },
     "execution_count": 3,
     "metadata": {},
     "output_type": "execute_result"
    }
   ],
   "source": [
    "len(recipes)"
   ]
  },
  {
   "cell_type": "code",
   "execution_count": 4,
   "metadata": {},
   "outputs": [
    {
     "name": "stdout",
     "output_type": "stream",
     "text": [
      "{'id': 20130, 'cuisine': 'filipino', 'ingredients': ['eggs', 'pepper', 'salt', 'mayonaise', 'cooking oil', 'green chilies', 'grilled chicken breasts', 'garlic powder', 'yellow onion', 'soy sauce', 'butter', 'chicken livers']}\n"
     ]
    }
   ],
   "source": [
    "print (recipes[2])"
   ]
  },
  {
   "cell_type": "markdown",
   "metadata": {},
   "source": [
    "### Составление корпуса"
   ]
  },
  {
   "cell_type": "code",
   "execution_count": 83,
   "metadata": {},
   "outputs": [],
   "source": [
    "from gensim import corpora, models\n",
    "from gensim.models import CoherenceModel\n",
    "import numpy as np"
   ]
  },
  {
   "cell_type": "markdown",
   "metadata": {},
   "source": [
    "Наша коллекция небольшая, и целиком помещается в оперативную память. Gensim может работать с такими данными и не требует их сохранения на диск в специальном формате. Для этого коллекция должна быть представлена в виде списка списков, каждый внутренний список соответствует отдельному документу и состоит из его слов. Пример коллекции из двух документов: \n",
    "\n",
    "[[\"hello\", \"world\"], [\"programming\", \"in\", \"python\"]]\n",
    "\n",
    "Преобразуем наши данные в такой формат, а затем создадим объекты corpus и dictionary, с которыми будет работать модель."
   ]
  },
  {
   "cell_type": "code",
   "execution_count": 8,
   "metadata": {},
   "outputs": [],
   "source": [
    "texts = [recipe[\"ingredients\"] for recipe in recipes]\n",
    "dictionary = corpora.Dictionary(texts)   # составляем словарь\n",
    "corpus = [dictionary.doc2bow(text) for text in texts]  # составляем корпус документов"
   ]
  },
  {
   "cell_type": "code",
   "execution_count": 12,
   "metadata": {},
   "outputs": [
    {
     "data": {
      "text/plain": [
       "[{'id': 10259,\n",
       "  'cuisine': 'greek',\n",
       "  'ingredients': ['romaine lettuce',\n",
       "   'black olives',\n",
       "   'grape tomatoes',\n",
       "   'garlic',\n",
       "   'pepper',\n",
       "   'purple onion',\n",
       "   'seasoning',\n",
       "   'garbanzo beans',\n",
       "   'feta cheese crumbles']},\n",
       " {'id': 25693,\n",
       "  'cuisine': 'southern_us',\n",
       "  'ingredients': ['plain flour',\n",
       "   'ground pepper',\n",
       "   'salt',\n",
       "   'tomatoes',\n",
       "   'ground black pepper',\n",
       "   'thyme',\n",
       "   'eggs',\n",
       "   'green tomatoes',\n",
       "   'yellow corn meal',\n",
       "   'milk',\n",
       "   'vegetable oil']}]"
      ]
     },
     "execution_count": 12,
     "metadata": {},
     "output_type": "execute_result"
    }
   ],
   "source": [
    "list(recipes[:2]) #return the first two keys, items respectively:"
   ]
  },
  {
   "cell_type": "code",
   "execution_count": 13,
   "metadata": {},
   "outputs": [
    {
     "name": "stdout",
     "output_type": "stream",
     "text": [
      "['romaine lettuce', 'black olives', 'grape tomatoes', 'garlic', 'pepper', 'purple onion', 'seasoning', 'garbanzo beans', 'feta cheese crumbles']\n",
      "[(0, 1), (1, 1), (2, 1), (3, 1), (4, 1), (5, 1), (6, 1), (7, 1), (8, 1)]\n"
     ]
    }
   ],
   "source": [
    "print (texts[0])\n",
    "print (corpus[0])"
   ]
  },
  {
   "cell_type": "code",
   "execution_count": 14,
   "metadata": {},
   "outputs": [
    {
     "name": "stdout",
     "output_type": "stream",
     "text": [
      "Dictionary(6714 unique tokens: ['black olives', 'feta cheese crumbles', 'garbanzo beans', 'garlic', 'grape tomatoes']...)\n"
     ]
    }
   ],
   "source": [
    "print(dictionary)\n"
   ]
  },
  {
   "cell_type": "markdown",
   "metadata": {},
   "source": [
    "У объекта dictionary есть полезная переменная dictionary.token2id, позволяющая находить соответствие между ингредиентами и их индексами."
   ]
  },
  {
   "cell_type": "markdown",
   "metadata": {},
   "source": [
    "### Обучение модели\n",
    "Вам может понадобиться [документация](https://radimrehurek.com/gensim/models/ldamodel.html) LDA в gensim."
   ]
  },
  {
   "cell_type": "markdown",
   "metadata": {},
   "source": [
    "__Задание 1.__ Обучите модель LDA с 40 темами, установив количество проходов по коллекции 5 и оставив остальные параметры по умолчанию. \n",
    "\n",
    "\n",
    "Затем вызовите метод модели *show_topics*, указав количество тем 40 и количество токенов 10, и сохраните результат (топы ингредиентов в темах) в отдельную переменную. Если при вызове метода *show_topics* указать параметр *formatted=True*, то топы ингредиентов будет удобно выводить на печать, если *formatted=False*, будет удобно работать со списком программно. Выведите топы на печать, рассмотрите темы, а затем ответьте на вопрос:\n",
    "\n",
    "Сколько раз ингредиенты \"salt\", \"sugar\", \"water\", \"mushrooms\", \"chicken\", \"eggs\" встретились среди топов-10 всех 40 тем? При ответе __не нужно__ учитывать составные ингредиенты, например, \"hot water\".\n",
    "\n",
    "Передайте 6 чисел в функцию save_answers1 и загрузите сгенерированный файл в форму.\n",
    "\n",
    "У gensim нет возможности фиксировать случайное приближение через параметры метода, но библиотека использует numpy для инициализации матриц. Поэтому, по утверждению автора библиотеки, фиксировать случайное приближение нужно командой, которая написана в следующей ячейке. __Перед строкой кода с построением модели обязательно вставляйте указанную строку фиксации random.seed.__"
   ]
  },
  {
   "cell_type": "code",
   "execution_count": 15,
   "metadata": {},
   "outputs": [],
   "source": [
    "np.random.seed(76543)\n",
    "# здесь код для построения модели:\n",
    "lda = models.LdaModel(corpus=corpus, num_topics=40, passes=5)"
   ]
  },
  {
   "cell_type": "code",
   "execution_count": 16,
   "metadata": {},
   "outputs": [],
   "source": [
    "lda_topics = lda.show_topics(40, 10, formatted=False)"
   ]
  },
  {
   "cell_type": "code",
   "execution_count": 17,
   "metadata": {},
   "outputs": [
    {
     "data": {
      "text/plain": [
       "[(0,\n",
       "  '0.084*\"104\" + 0.070*\"279\" + 0.068*\"117\" + 0.065*\"15\" + 0.044*\"29\" + 0.042*\"118\" + 0.040*\"211\" + 0.039*\"146\" + 0.026*\"32\" + 0.024*\"555\"'),\n",
       " (1,\n",
       "  '0.076*\"902\" + 0.065*\"1124\" + 0.054*\"722\" + 0.053*\"803\" + 0.052*\"245\" + 0.044*\"333\" + 0.039*\"129\" + 0.037*\"805\" + 0.036*\"1099\" + 0.035*\"116\"'),\n",
       " (2,\n",
       "  '0.081*\"59\" + 0.055*\"210\" + 0.052*\"306\" + 0.042*\"15\" + 0.041*\"189\" + 0.039*\"104\" + 0.034*\"600\" + 0.033*\"475\" + 0.031*\"20\" + 0.029*\"94\"'),\n",
       " (3,\n",
       "  '0.074*\"207\" + 0.073*\"15\" + 0.061*\"660\" + 0.047*\"11\" + 0.046*\"3\" + 0.042*\"664\" + 0.038*\"44\" + 0.037*\"241\" + 0.036*\"59\" + 0.031*\"743\"'),\n",
       " (4,\n",
       "  '0.130*\"114\" + 0.124*\"204\" + 0.089*\"15\" + 0.080*\"13\" + 0.071*\"20\" + 0.050*\"52\" + 0.041*\"47\" + 0.031*\"51\" + 0.026*\"18\" + 0.024*\"532\"'),\n",
       " (5,\n",
       "  '0.079*\"307\" + 0.064*\"46\" + 0.052*\"59\" + 0.039*\"15\" + 0.030*\"388\" + 0.030*\"476\" + 0.029*\"20\" + 0.028*\"550\" + 0.025*\"827\" + 0.023*\"367\"'),\n",
       " (6,\n",
       "  '0.075*\"334\" + 0.073*\"772\" + 0.050*\"1004\" + 0.045*\"653\" + 0.044*\"1637\" + 0.034*\"701\" + 0.031*\"194\" + 0.026*\"603\" + 0.025*\"1337\" + 0.024*\"770\"'),\n",
       " (7,\n",
       "  '0.088*\"27\" + 0.054*\"98\" + 0.046*\"97\" + 0.044*\"230\" + 0.039*\"90\" + 0.039*\"362\" + 0.036*\"52\" + 0.034*\"3\" + 0.031*\"18\" + 0.027*\"93\"'),\n",
       " (8,\n",
       "  '0.177*\"23\" + 0.117*\"34\" + 0.066*\"216\" + 0.044*\"876\" + 0.043*\"11\" + 0.035*\"32\" + 0.027*\"102\" + 0.026*\"15\" + 0.023*\"131\" + 0.022*\"350\"'),\n",
       " (9,\n",
       "  '0.069*\"59\" + 0.063*\"15\" + 0.059*\"6\" + 0.055*\"104\" + 0.048*\"103\" + 0.047*\"77\" + 0.045*\"78\" + 0.045*\"113\" + 0.041*\"11\" + 0.033*\"391\"'),\n",
       " (10,\n",
       "  '0.054*\"1528\" + 0.051*\"280\" + 0.041*\"588\" + 0.040*\"1085\" + 0.037*\"467\" + 0.032*\"1432\" + 0.032*\"2223\" + 0.030*\"86\" + 0.029*\"414\" + 0.027*\"303\"'),\n",
       " (11,\n",
       "  '0.102*\"112\" + 0.091*\"73\" + 0.048*\"15\" + 0.044*\"3\" + 0.042*\"110\" + 0.042*\"54\" + 0.039*\"6\" + 0.035*\"57\" + 0.026*\"185\" + 0.021*\"59\"'),\n",
       " (12,\n",
       "  '0.083*\"202\" + 0.080*\"757\" + 0.075*\"1083\" + 0.051*\"192\" + 0.050*\"938\" + 0.045*\"481\" + 0.032*\"707\" + 0.029*\"607\" + 0.028*\"710\" + 0.026*\"331\"'),\n",
       " (13,\n",
       "  '0.078*\"228\" + 0.071*\"81\" + 0.056*\"44\" + 0.051*\"480\" + 0.048*\"15\" + 0.044*\"3\" + 0.039*\"229\" + 0.039*\"59\" + 0.036*\"347\" + 0.029*\"321\"'),\n",
       " (14,\n",
       "  '0.066*\"956\" + 0.051*\"44\" + 0.047*\"1492\" + 0.044*\"821\" + 0.042*\"681\" + 0.038*\"868\" + 0.033*\"651\" + 0.030*\"1255\" + 0.028*\"142\" + 0.028*\"1008\"'),\n",
       " (15,\n",
       "  '0.128*\"313\" + 0.065*\"52\" + 0.059*\"861\" + 0.048*\"525\" + 0.042*\"205\" + 0.034*\"318\" + 0.033*\"29\" + 0.029*\"949\" + 0.028*\"723\" + 0.023*\"1393\"'),\n",
       " (16,\n",
       "  '0.074*\"69\" + 0.069*\"143\" + 0.067*\"57\" + 0.054*\"469\" + 0.040*\"108\" + 0.037*\"104\" + 0.036*\"15\" + 0.030*\"327\" + 0.029*\"40\" + 0.027*\"12\"'),\n",
       " (17,\n",
       "  '0.129*\"557\" + 0.071*\"358\" + 0.060*\"44\" + 0.051*\"59\" + 0.050*\"315\" + 0.048*\"3\" + 0.045*\"1048\" + 0.039*\"1025\" + 0.037*\"568\" + 0.033*\"495\"'),\n",
       " (18,\n",
       "  '0.106*\"714\" + 0.075*\"15\" + 0.065*\"397\" + 0.053*\"59\" + 0.052*\"795\" + 0.049*\"29\" + 0.036*\"857\" + 0.031*\"1051\" + 0.030*\"822\" + 0.028*\"14\"'),\n",
       " (19,\n",
       "  '0.132*\"312\" + 0.071*\"114\" + 0.066*\"15\" + 0.056*\"52\" + 0.055*\"204\" + 0.042*\"462\" + 0.042*\"441\" + 0.033*\"289\" + 0.030*\"364\" + 0.029*\"47\"'),\n",
       " (20,\n",
       "  '0.088*\"490\" + 0.069*\"56\" + 0.052*\"59\" + 0.045*\"17\" + 0.044*\"77\" + 0.041*\"104\" + 0.037*\"436\" + 0.035*\"11\" + 0.034*\"502\" + 0.034*\"15\"'),\n",
       " (21,\n",
       "  '0.210*\"141\" + 0.086*\"679\" + 0.078*\"796\" + 0.057*\"208\" + 0.038*\"1108\" + 0.030*\"20\" + 0.030*\"5\" + 0.025*\"44\" + 0.022*\"656\" + 0.022*\"892\"'),\n",
       " (22,\n",
       "  '0.131*\"189\" + 0.050*\"59\" + 0.048*\"260\" + 0.044*\"395\" + 0.037*\"3\" + 0.036*\"15\" + 0.036*\"135\" + 0.035*\"9\" + 0.029*\"5\" + 0.026*\"711\"'),\n",
       " (23,\n",
       "  '0.070*\"373\" + 0.046*\"27\" + 0.044*\"15\" + 0.044*\"29\" + 0.043*\"99\" + 0.038*\"43\" + 0.038*\"52\" + 0.036*\"916\" + 0.036*\"276\" + 0.035*\"3\"'),\n",
       " (24,\n",
       "  '0.075*\"40\" + 0.044*\"111\" + 0.044*\"15\" + 0.029*\"44\" + 0.027*\"3\" + 0.025*\"346\" + 0.024*\"104\" + 0.023*\"186\" + 0.022*\"18\" + 0.022*\"398\"'),\n",
       " (25,\n",
       "  '0.079*\"448\" + 0.070*\"774\" + 0.065*\"447\" + 0.053*\"213\" + 0.046*\"1222\" + 0.036*\"105\" + 0.029*\"294\" + 0.026*\"1339\" + 0.024*\"1852\" + 0.024*\"8\"'),\n",
       " (26,\n",
       "  '0.072*\"296\" + 0.063*\"382\" + 0.044*\"1089\" + 0.043*\"928\" + 0.043*\"166\" + 0.037*\"785\" + 0.036*\"298\" + 0.035*\"396\" + 0.031*\"27\" + 0.031*\"52\"'),\n",
       " (27,\n",
       "  '0.169*\"190\" + 0.056*\"451\" + 0.054*\"554\" + 0.041*\"317\" + 0.038*\"312\" + 0.036*\"1347\" + 0.035*\"1274\" + 0.031*\"1291\" + 0.028*\"442\" + 0.027*\"1249\"'),\n",
       " (28,\n",
       "  '0.107*\"43\" + 0.084*\"15\" + 0.048*\"559\" + 0.048*\"24\" + 0.046*\"44\" + 0.044*\"273\" + 0.039*\"346\" + 0.037*\"29\" + 0.033*\"124\" + 0.032*\"35\"'),\n",
       " (29,\n",
       "  '0.075*\"272\" + 0.047*\"35\" + 0.045*\"577\" + 0.045*\"203\" + 0.040*\"519\" + 0.040*\"246\" + 0.038*\"70\" + 0.031*\"40\" + 0.029*\"839\" + 0.027*\"15\"'),\n",
       " (30,\n",
       "  '0.094*\"52\" + 0.080*\"304\" + 0.076*\"597\" + 0.055*\"53\" + 0.043*\"20\" + 0.043*\"989\" + 0.039*\"579\" + 0.037*\"407\" + 0.032*\"29\" + 0.031*\"979\"'),\n",
       " (31,\n",
       "  '0.100*\"220\" + 0.044*\"357\" + 0.041*\"46\" + 0.037*\"52\" + 0.034*\"18\" + 0.033*\"143\" + 0.030*\"339\" + 0.028*\"29\" + 0.023*\"58\" + 0.023*\"148\"'),\n",
       " (32,\n",
       "  '0.134*\"9\" + 0.091*\"15\" + 0.061*\"20\" + 0.056*\"65\" + 0.055*\"114\" + 0.055*\"13\" + 0.052*\"231\" + 0.035*\"52\" + 0.032*\"47\" + 0.022*\"29\"'),\n",
       " (33,\n",
       "  '0.053*\"153\" + 0.052*\"44\" + 0.047*\"15\" + 0.045*\"140\" + 0.044*\"427\" + 0.043*\"274\" + 0.038*\"3\" + 0.033*\"351\" + 0.032*\"174\" + 0.029*\"128\"'),\n",
       " (34,\n",
       "  '0.079*\"433\" + 0.074*\"647\" + 0.053*\"431\" + 0.045*\"38\" + 0.036*\"76\" + 0.036*\"873\" + 0.034*\"39\" + 0.032*\"434\" + 0.030*\"747\" + 0.027*\"249\"'),\n",
       " (35,\n",
       "  '0.059*\"44\" + 0.051*\"15\" + 0.050*\"196\" + 0.045*\"209\" + 0.032*\"350\" + 0.031*\"29\" + 0.028*\"3\" + 0.028*\"249\" + 0.028*\"145\" + 0.026*\"212\"'),\n",
       " (36,\n",
       "  '0.098*\"15\" + 0.070*\"186\" + 0.067*\"44\" + 0.064*\"5\" + 0.057*\"214\" + 0.032*\"194\" + 0.031*\"3\" + 0.029*\"20\" + 0.027*\"465\" + 0.027*\"59\"'),\n",
       " (37,\n",
       "  '0.132*\"77\" + 0.075*\"252\" + 0.069*\"60\" + 0.049*\"254\" + 0.046*\"79\" + 0.038*\"104\" + 0.031*\"623\" + 0.030*\"543\" + 0.030*\"11\" + 0.029*\"700\"'),\n",
       " (38,\n",
       "  '0.088*\"729\" + 0.081*\"250\" + 0.062*\"28\" + 0.054*\"62\" + 0.044*\"3\" + 0.044*\"44\" + 0.043*\"11\" + 0.033*\"79\" + 0.027*\"29\" + 0.027*\"15\"'),\n",
       " (39,\n",
       "  '0.127*\"26\" + 0.063*\"374\" + 0.057*\"1044\" + 0.057*\"349\" + 0.053*\"68\" + 0.039*\"157\" + 0.038*\"835\" + 0.036*\"330\" + 0.036*\"1743\" + 0.027*\"816\"')]"
      ]
     },
     "execution_count": 17,
     "metadata": {},
     "output_type": "execute_result"
    }
   ],
   "source": [
    "lda.show_topics(40, 10, formatted=True)"
   ]
  },
  {
   "cell_type": "code",
   "execution_count": 18,
   "metadata": {},
   "outputs": [],
   "source": [
    "def save_answers1(c_salt, c_sugar, c_water, c_mushrooms, c_chicken, c_eggs):\n",
    "    with open(\"cooking_LDA_pa_task1.txt\", \"w\") as fout:\n",
    "        fout.write(\" \".join([str(el) for el in [c_salt, c_sugar, c_water, c_mushrooms, c_chicken, c_eggs]]))"
   ]
  },
  {
   "cell_type": "code",
   "execution_count": 19,
   "metadata": {},
   "outputs": [],
   "source": [
    "all_words = []\n",
    "for topic in lda_topics:\n",
    "    for word_freq in topic[1]:\n",
    "        all_words.append(word_freq[0])"
   ]
  },
  {
   "cell_type": "code",
   "execution_count": 20,
   "metadata": {},
   "outputs": [
    {
     "name": "stdout",
     "output_type": "stream",
     "text": [
      "['104', '279', '117', '15', '29', '118', '211', '146', '32', '555', '902', '1124', '722', '803', '245', '333', '129', '805', '1099', '116', '59', '210', '306', '15', '189', '104', '600', '475', '20', '94', '207', '15', '660', '11', '3', '664', '44', '241', '59', '743', '114', '204', '15', '13', '20', '52', '47', '51', '18', '532', '307', '46', '59', '15', '388', '476', '20', '550', '827', '367', '334', '772', '1004', '653', '1637', '701', '194', '603', '1337', '770', '27', '98', '97', '230', '90', '362', '52', '3', '18', '93', '23', '34', '216', '876', '11', '32', '102', '15', '131', '350', '59', '15', '6', '104', '103', '77', '78', '113', '11', '391', '1528', '280', '588', '1085', '467', '1432', '2223', '86', '414', '303', '112', '73', '15', '3', '110', '54', '6', '57', '185', '59', '202', '757', '1083', '192', '938', '481', '707', '607', '710', '331', '228', '81', '44', '480', '15', '3', '229', '59', '347', '321', '956', '44', '1492', '821', '681', '868', '651', '1255', '142', '1008', '313', '52', '861', '525', '205', '318', '29', '949', '723', '1393', '69', '143', '57', '469', '108', '104', '15', '327', '40', '12', '557', '358', '44', '59', '315', '3', '1048', '1025', '568', '495', '714', '15', '397', '59', '795', '29', '857', '1051', '822', '14', '312', '114', '15', '52', '204', '462', '441', '289', '364', '47', '490', '56', '59', '17', '77', '104', '436', '11', '502', '15', '141', '679', '796', '208', '1108', '20', '5', '44', '656', '892', '189', '59', '260', '395', '3', '15', '135', '9', '5', '711', '373', '27', '15', '29', '99', '43', '52', '916', '276', '3', '40', '111', '15', '44', '3', '346', '104', '186', '18', '398', '448', '774', '447', '213', '1222', '105', '294', '1339', '1852', '8', '296', '382', '1089', '928', '166', '785', '298', '396', '27', '52', '190', '451', '554', '317', '312', '1347', '1274', '1291', '442', '1249', '43', '15', '559', '24', '44', '273', '346', '29', '124', '35', '272', '35', '577', '203', '519', '246', '70', '40', '839', '15', '52', '304', '597', '53', '20', '989', '579', '407', '29', '979', '220', '357', '46', '52', '18', '143', '339', '29', '58', '148', '9', '15', '20', '65', '114', '13', '231', '52', '47', '29', '153', '44', '15', '140', '427', '274', '3', '351', '174', '128', '433', '647', '431', '38', '76', '873', '39', '434', '747', '249', '44', '15', '196', '209', '350', '29', '3', '249', '145', '212', '15', '186', '44', '5', '214', '194', '3', '20', '465', '59', '77', '252', '60', '254', '79', '104', '623', '543', '11', '700', '729', '250', '28', '62', '3', '44', '11', '79', '29', '15', '26', '374', '1044', '349', '68', '157', '835', '330', '1743', '816']\n"
     ]
    }
   ],
   "source": [
    "print(all_words)"
   ]
  },
  {
   "cell_type": "code",
   "execution_count": 21,
   "metadata": {},
   "outputs": [],
   "source": [
    "from collections import Counter\n",
    "cnt = Counter(all_words)"
   ]
  },
  {
   "cell_type": "code",
   "execution_count": 22,
   "metadata": {},
   "outputs": [
    {
     "name": "stdout",
     "output_type": "stream",
     "text": [
      "Counter({'15': 23, '3': 12, '59': 11, '44': 11, '29': 10, '52': 9, '104': 7, '20': 7, '11': 6, '18': 4, '114': 3, '47': 3, '27': 3, '77': 3, '40': 3, '5': 3, '32': 2, '189': 2, '204': 2, '13': 2, '46': 2, '194': 2, '350': 2, '6': 2, '57': 2, '143': 2, '312': 2, '9': 2, '43': 2, '346': 2, '186': 2, '35': 2, '249': 2, '79': 2, '279': 1, '117': 1, '118': 1, '211': 1, '146': 1, '555': 1, '902': 1, '1124': 1, '722': 1, '803': 1, '245': 1, '333': 1, '129': 1, '805': 1, '1099': 1, '116': 1, '210': 1, '306': 1, '600': 1, '475': 1, '94': 1, '207': 1, '660': 1, '664': 1, '241': 1, '743': 1, '51': 1, '532': 1, '307': 1, '388': 1, '476': 1, '550': 1, '827': 1, '367': 1, '334': 1, '772': 1, '1004': 1, '653': 1, '1637': 1, '701': 1, '603': 1, '1337': 1, '770': 1, '98': 1, '97': 1, '230': 1, '90': 1, '362': 1, '93': 1, '23': 1, '34': 1, '216': 1, '876': 1, '102': 1, '131': 1, '103': 1, '78': 1, '113': 1, '391': 1, '1528': 1, '280': 1, '588': 1, '1085': 1, '467': 1, '1432': 1, '2223': 1, '86': 1, '414': 1, '303': 1, '112': 1, '73': 1, '110': 1, '54': 1, '185': 1, '202': 1, '757': 1, '1083': 1, '192': 1, '938': 1, '481': 1, '707': 1, '607': 1, '710': 1, '331': 1, '228': 1, '81': 1, '480': 1, '229': 1, '347': 1, '321': 1, '956': 1, '1492': 1, '821': 1, '681': 1, '868': 1, '651': 1, '1255': 1, '142': 1, '1008': 1, '313': 1, '861': 1, '525': 1, '205': 1, '318': 1, '949': 1, '723': 1, '1393': 1, '69': 1, '469': 1, '108': 1, '327': 1, '12': 1, '557': 1, '358': 1, '315': 1, '1048': 1, '1025': 1, '568': 1, '495': 1, '714': 1, '397': 1, '795': 1, '857': 1, '1051': 1, '822': 1, '14': 1, '462': 1, '441': 1, '289': 1, '364': 1, '490': 1, '56': 1, '17': 1, '436': 1, '502': 1, '141': 1, '679': 1, '796': 1, '208': 1, '1108': 1, '656': 1, '892': 1, '260': 1, '395': 1, '135': 1, '711': 1, '373': 1, '99': 1, '916': 1, '276': 1, '111': 1, '398': 1, '448': 1, '774': 1, '447': 1, '213': 1, '1222': 1, '105': 1, '294': 1, '1339': 1, '1852': 1, '8': 1, '296': 1, '382': 1, '1089': 1, '928': 1, '166': 1, '785': 1, '298': 1, '396': 1, '190': 1, '451': 1, '554': 1, '317': 1, '1347': 1, '1274': 1, '1291': 1, '442': 1, '1249': 1, '559': 1, '24': 1, '273': 1, '124': 1, '272': 1, '577': 1, '203': 1, '519': 1, '246': 1, '70': 1, '839': 1, '304': 1, '597': 1, '53': 1, '989': 1, '579': 1, '407': 1, '979': 1, '220': 1, '357': 1, '339': 1, '58': 1, '148': 1, '65': 1, '231': 1, '153': 1, '140': 1, '427': 1, '274': 1, '351': 1, '174': 1, '128': 1, '433': 1, '647': 1, '431': 1, '38': 1, '76': 1, '873': 1, '39': 1, '434': 1, '747': 1, '196': 1, '209': 1, '145': 1, '212': 1, '214': 1, '465': 1, '252': 1, '60': 1, '254': 1, '623': 1, '543': 1, '700': 1, '729': 1, '250': 1, '28': 1, '62': 1, '26': 1, '374': 1, '1044': 1, '349': 1, '68': 1, '157': 1, '835': 1, '330': 1, '1743': 1, '816': 1})\n"
     ]
    }
   ],
   "source": [
    "print(cnt)"
   ]
  },
  {
   "cell_type": "code",
   "execution_count": 23,
   "metadata": {},
   "outputs": [],
   "source": [
    "words=[\"salt\", \"sugar\", \"water\", \"mushrooms\", \"chicken\", \"eggs\"]"
   ]
  },
  {
   "cell_type": "code",
   "execution_count": 24,
   "metadata": {},
   "outputs": [
    {
     "name": "stdout",
     "output_type": "stream",
     "text": [
      "{'black olives': 0, 'feta cheese crumbles': 1, 'garbanzo beans': 2, 'garlic': 3, 'grape tomatoes': 4, 'pepper': 5, 'purple onion': 6, 'romaine lettuce': 7, 'seasoning': 8, 'eggs': 9, 'green tomatoes': 10, 'ground black pepper': 11, 'ground pepper': 12, 'milk': 13, 'plain flour': 14, 'salt': 15, 'thyme': 16, 'tomatoes': 17, 'vegetable oil': 18, 'yellow corn meal': 19, 'butter': 20, 'chicken livers': 21, 'cooking oil': 22, 'garlic powder': 23, 'green chilies': 24, 'grilled chicken breasts': 25, 'mayonaise': 26, 'soy sauce': 27, 'yellow onion': 28, 'water': 29, 'wheat': 30, 'bay leaf': 31, 'black pepper': 32, 'boneless chicken skinless thigh': 33, 'cayenne pepper': 34, 'chili powder': 35, 'cornflour': 36, 'double cream': 37, 'garam masala': 38, 'garlic paste': 39, 'ground cumin': 40, 'lemon juice': 41, 'natural yogurt': 42, 'oil': 43, 'onions': 44, 'passata': 45, 'shallots': 46, 'baking powder': 47, 'fresh ginger root': 48, 'ground cinnamon': 49, 'ground ginger': 50, 'powdered sugar': 51, 'sugar': 52, 'vanilla extract': 53, 'chopped cilantro': 54, 'chorizo sausage': 55, 'flat leaf parsley': 56, 'jalapeno chilies': 57, 'medium shrimp': 58, 'olive oil': 59, 'sea salt': 60, 'skirt steak': 61, 'white vinegar': 62, 'almond extract': 63, 'dried cranberries': 64, 'flour': 65, 'pistachio nuts': 66, 'white almond bark': 67, 'cheddar cheese': 68, 'chopped cilantro fresh': 69, 'corn tortillas': 70, 'fresh pineapple': 71, 'iceberg lettuce': 72, 'lime': 73, 'poblano peppers': 74, 'pork': 75, 'chopped tomatoes': 76, 'extra-virgin olive oil': 77, 'fresh basil': 78, 'kosher salt': 79, 'canola oil': 80, 'dried oregano': 81, 'mushrooms': 82, 'pimentos': 83, 'provolone cheese': 84, 'sausages': 85, 'sharp cheddar cheese': 86, 'sweet pepper': 87, 'swiss cheese': 88, 'Shaoxing wine': 89, 'corn starch': 90, 'crushed red pepper flakes': 91, 'dry mustard': 92, 'fresh ginger': 93, 'green beans': 94, 'ground turkey': 95, 'low sodium soy sauce': 96, 'scallions': 97, 'sesame oil': 98, 'white pepper': 99, 'Italian parsley leaves': 100, 'chipotle chile': 101, 'fine sea salt': 102, 'fresh lemon juice': 103, 'garlic cloves': 104, 'hot red pepper flakes': 105, 'trout fillet': 106, 'walnuts': 107, 'avocado': 108, 'flank steak': 109, 'fresh cilantro': 110, 'ground coriander': 111, 'lime juice': 112, 'plum tomatoes': 113, 'all-purpose flour': 114, 'bacon slices': 115, 'chopped fresh chives': 116, 'cooking spray': 117, 'fat free less sodium chicken broth': 118, 'fat free milk': 119, 'fresh parmesan cheese': 120, 'gnocchi': 121, 'gruyere cheese': 122, 'naan': 123, 'red chili peppers': 124, 'red lentils': 125, 'spinach': 126, 'sweet potatoes': 127, 'tumeric': 128, 'vegetable stock': 129, 'confectioners sugar': 130, 'greek yogurt': 131, 'lemon curd': 132, 'raspberries': 133, 'broiler-fryer chicken': 134, 'italian seasoning': 135, 'zesty italian dressing': 136, 'asian fish sauce': 137, 'hot chili': 138, 'broccolini': 139, 'chicken breasts': 140, 'chicken broth': 141, 'cooked rice': 142, 'fresh lime juice': 143, 'garlic chili sauce': 144, 'red bell pepper': 145, 'sliced green onions': 146, 'yellow squash': 147, 'beansprouts': 148, 'chopped fresh mint': 149, 'creamy peanut butter': 150, 'hoisin sauce': 151, 'pork loin': 152, 'rice': 153, 'rice noodles': 154, 'roasted peanuts': 155, 'thai basil': 156, 'roma tomatoes': 157, 'baking potatoes': 158, 'low-fat mayonnaise': 159, 'spicy brown mustard': 160, 'arrowroot powder': 161, 'broccoli': 162, 'extra firm tofu': 163, 'orange bell pepper': 164, 'red curry paste': 165, 'red pepper': 166, 'sesame seeds': 167, 'yellow peppers': 168, 'capers': 169, 'lemon zest': 170, 'linguine': 171, 'marinara sauce': 172, 'olives': 173, 'cabbage': 174, 'chives': 175, 'dark soy sauce': 176, 'dried black mushrooms': 177, 'light soy sauce': 178, 'lo mein noodles': 179, 'oyster sauce': 180, 'peanuts': 181, 'chile pepper': 182, 'fresh tomatoes': 183, 'herbs': 184, 'mango': 185, 'paprika': 186, 'stock': 187, 'cooked chicken': 188, 'grated parmesan cheese': 189, 'heavy cream': 190, 'sherry': 191, 'sliced mushrooms': 192, 'spaghetti': 193, 'carrots': 194, 'egg roll wrappers': 195, 'green bell pepper': 196, 'ground pork': 197, 'molasses': 198, 'shredded cabbage': 199, 'sweet and sour sauce': 200, 'breakfast sausages': 201, 'cheese': 202, 'flour tortillas': 203, 'large eggs': 204, 'boiling water': 205, 'andouille sausage': 206, 'bacon': 207, 'cajun seasoning': 208, 'celery': 209, 'fresh parsley': 210, 'ground red pepper': 211, 'hot sauce': 212, 'peanut oil': 213, 'potatoes': 214, 'shrimp': 215, 'onion powder': 216, 'chile powder': 217, 'chinese chives': 218, 'firm tofu': 219, 'fish sauce': 220, 'green papaya': 221, 'lime wedges': 222, 'palm sugar': 223, 'sliced chicken': 224, 'tamarind paste': 225, 'turnips': 226, 'crushed garlic': 227, 'diced tomatoes': 228, 'dried basil': 229, 'green onions': 230, 'white sugar': 231, 'Johnsonville Andouille Dinner Sausage': 232, 'creole seasoning': 233, 'hot pepper sauce': 234, 'jambalaya rice mix': 235, 'parsley': 236, 'worcestershire sauce': 237, 'bread slices': 238, 'great northern beans': 239, 'sage leaves': 240, 'chicken thighs': 241, 'chinese five-spice powder': 242, 'star anise': 243, 'black-eyed peas': 244, 'cream cheese': 245, 'shredded cheddar cheese': 246, 'tortilla chips': 247, 'apple cider': 248, 'bay leaves': 249, 'chicken stock': 250, 'collard greens': 251, 'freshly ground pepper': 252, 'ham hock': 253, 'large garlic cloves': 254, 'light brown sugar': 255, 'rib': 256, 'Oscar Mayer Deli Fresh Smoked Ham': 257, 'giardiniera': 258, 'hoagie rolls': 259, 'mozzarella cheese': 260, 'pepperoni': 261, 'salami': 262, 'club soda': 263, 'ice cubes': 264, 'turbinado': 265, 'white rum': 266, 'canned black beans': 267, 'enchilada sauce': 268, 'green pepper': 269, 'picante sauce': 270, 'shredded lettuce': 271, 'sour cream': 272, 'cumin seed': 273, 'curry powder': 274, 'salmon fillets': 275, 'sauce': 276, 'serrano chile': 277, 'chicken breast halves': 278, 'chopped onion': 279, 'lettuce leaves': 280, 'frosting': 281, 'mandarin oranges': 282, 'orange liqueur': 283, 'yellow cake mix': 284, 'fennel bulb': 285, 'grapefruit juice': 286, 'lemon olive oil': 287, 'bacon drippings': 288, 'buttermilk': 289, 'white cornmeal': 290, 'crab boil': 291, 'crawfish': 292, 'old bay seasoning': 293, 'corn oil': 294, 'glass noodles': 295, 'mirin': 296, 'napa cabbage': 297, 'sake': 298, 'shiitake': 299, 'sirloin': 300, 'extra sharp cheddar cheese': 301, 'monterey jack': 302, 'quickcooking grits': 303, 'whipping cream': 304, 'basil': 305, 'crushed red pepper': 306, 'dry white wine': 307, 'finely chopped onion': 308, 'mussels': 309, 'baking soda': 310, 'honey': 311, 'unsalted butter': 312, 'lemon': 313, 'pesto': 314, 'white wine': 315, 'allspice': 316, 'bread crumbs': 317, 'cold water': 318, 'curry': 319, 'fresh thyme': 320, 'ground beef': 321, 'low sodium beef broth': 322, 'pickapeppa sauce': 323, 'chopped walnuts': 324, 'matcha green tea powder': 325, 'melted butter': 326, 'coarse salt': 327, 'fenugreek': 328, 'urad dal': 329, 'white rice': 330, 'part-skim mozzarella cheese': 331, 'pizza crust': 332, '1% low-fat milk': 333, 'leeks': 334, 'low-fat sour cream': 335, 'yukon gold potatoes': 336, 'dry sherry': 337, 'golden brown sugar': 338, 'lemongrass': 339, 'peanut sauce': 340, 'spareribs': 341, 'tamari soy sauce': 342, 'unsweetened coconut milk': 343, 'chicken legs': 344, 'ghee': 345, 'ground turmeric': 346, 'tomato paste': 347, 'chillies': 348, 'cracked black pepper': 349, 'dried thyme': 350, 'ginger': 351, 'minced beef': 352, 'boneless pork loin': 353, 'crushed tomatoes': 354, 'fresh rosemary': 355, 'pappardelle': 356, 'coconut milk': 357, 'eggplant': 358, 'Gochujang base': 359, 'Taiwanese bok choy': 360, 'jasmine rice': 361, 'rice vinegar': 362, 'top round steak': 363, 'large egg yolks': 364, 'vanilla': 365, 'gingersnap': 366, 'ground nutmeg': 367, 'maple syrup': 368, 'marshmallow creme': 369, 'orange juice concentrate': 370, 'pumpkin purée': 371, 'toasted pecans': 372, 'brown sugar': 373, 'dijon mustard': 374, 'manchego cheese': 375, 'membrillo': 376, 'serrano ham': 377, 'sourdough': 378, 'Sriracha': 379, 'burger buns': 380, 'chickpea flour': 381, 'chickpeas': 382, 'greens': 383, 'ground flaxseed': 384, 'panko breadcrumbs': 385, 'tahini': 386, 'ground cardamom': 387, 'ground cloves': 388, 'whole nutmegs': 389, 'Italian bread': 390, 'balsamic vinegar': 391, 'penne pasta': 392, 'roasted red peppers': 393, 'sausage casings': 394, 'shredded mozzarella cheese': 395, 'saffron': 396, 'warm water': 397, 'cayenne': 398, 'couscous': 399, 'fat': 400, 'fat skimmed chicken broth': 401, 'harissa': 402, 'pitted kalamata olives': 403, 'preserved lemon': 404, 'espresso': 405, 'ice': 406, 'sweetened condensed milk': 407, 'fresh asparagus': 408, 'chuck': 409, 'crumbled blue cheese': 410, 'hamburger buns': 411, 'okra pods': 412, 'pecans': 413, 'watercress': 414, 'food colouring': 415, 'self rising flour': 416, 'softened butter': 417, 'Fuyu persimmons': 418, 'Madeira': 419, 'demi-glace': 420, 'egg bread': 421, 'foie gras': 422, 'sherry vinegar': 423, 'white bread': 424, 'amchur': 425, 'black mustard seeds': 426, 'coriander': 427, 'fenugreek leaves': 428, 'fingerling potatoes': 429, 'ramps': 430, 'black peppercorns': 431, 'cardamom pods': 432, 'cinnamon sticks': 433, 'coriander seeds': 434, 'asiago': 435, 'sweet onion': 436, 'whole wheat pasta': 437, 'chestnut flour': 438, 'chestnuts': 439, 'coffee ice cream': 440, 'granulated sugar': 441, 'mascarpone': 442, 'rum': 443, 'semisweet chocolate': 444, 'whole milk ricotta cheese': 445, 'baby spinach leaves': 446, 'chopped garlic': 447, 'large shrimp': 448, 'barley': 449, 'cooked ham': 450, 'grated nutmeg': 451, 'starchy potatoes': 452, 'sirloin tip roast': 453, 'steak': 454, 'vegetable shortening': 455, 'caul fat': 456, 'finely chopped fresh parsley': 457, 'vinegar': 458, 'heavy whipping cream': 459, 'instant espresso powder': 460, 'kahlúa': 461, 'whole milk': 462, 'epazote': 463, 'hominy': 464, 'oregano': 465, 'pepitas': 466, 'radishes': 467, 'tomatillos': 468, 'white onion': 469, 'catfish fillets': 470, 'basmati rice': 471, 'cauliflower': 472, 'cumin': 473, 'blood orange': 474, 'low salt chicken broth': 475, 'white wine vinegar': 476, 'chopped green bell pepper': 477, 'english muffins, split and toasted': 478, 'shredded carrots': 479, 'tomato sauce': 480, 'vegetable oil cooking spray': 481, 'prawns': 482, 'rice flour': 483, 'seasoning salt': 484, 'evaporated milk': 485, 'lasagna noodles': 486, 'ranch dressing': 487, 'boneless chop pork': 488, 'minced garlic': 489, 'red wine vinegar': 490, 'chile paste': 491, 'dark sesame oil': 492, 'lower sodium soy sauce': 493, 'pearl barley': 494, 'raisins': 495, 'slivered almonds': 496, 'chocolate bars': 497, 'cinnamon graham crackers': 498, 'marshmallows': 499, 'chopped celery': 500, 'cod': 501, 'dry bread crumbs': 502, 'minced onion': 503, 'mustard powder': 504, 'brewed tea': 505, 'candied orange peel': 506, 'dark brown sugar': 507, 'dried currants': 508, 'golden raisins': 509, 'grated lemon zest': 510, 'mace': 511, 'margarine': 512, 'rum extract': 513, 'baby bok choy': 514, 'black bean sauce': 515, 'noodles': 516, 'red potato': 517, 'chinese rice wine': 518, 'black beans': 519, 'frozen corn': 520, 'quinoa': 521, 'vegetable broth': 522, 'yellow bell pepper': 523, 'duck': 524, 'orange': 525, 'dried mint flakes': 526, 'feta cheese': 527, 'ground lamb': 528, 'penne rigate': 529, 'ras el hanout': 530, '2% reduced-fat milk': 531, 'large egg whites': 532, 'chicken leg quarters': 533, 'cucumber': 534, 'long-grain rice': 535, 'napa cabbage leaves': 536, 'baby potatoes': 537, 'crusty bread': 538, 'smoked streaky bacon': 539, 'ground allspice': 540, 'hibiscus': 541, 'piloncillo': 542, 'fresh oregano': 543, 'chocolate covered coffee beans': 544, 'chocolate morsels': 545, 'cream sweeten whip': 546, 'instant espresso granules': 547, 'pound cake': 548, 'unflavored gelatin': 549, 'arborio rice': 550, 'asparagus spears': 551, 'baby carrots': 552, 'fresh basil leaves': 553, 'frozen peas': 554, 'pinenuts': 555, 'yellow crookneck squash': 556, 'zucchini': 557, 'chipotles in adobo': 558, 'cilantro leaves': 559, 'instant white rice': 560, 'lime zest': 561, 'red beans': 562, 'skinless chicken thighs': 563, 'Mexican cheese blend': 564, 'chunky salsa': 565, 'condensed cream of chicken soup': 566, 'condensed cream of mushroom soup': 567, 'lean ground beef': 568, 'taco seasoning mix': 569, 'chorizo spanish': 570, 'dark rum': 571, 'pineapple juice': 572, 'daikon': 573, 'goji berries': 574, 'oysters': 575, 'pork ribs': 576, 'salsa': 577, 'demerara sugar': 578, 'egg whites': 579, 'frozen pastry puff sheets': 580, 'fruit': 581, 'mixed spice': 582, 'brown mustard seeds': 583, 'chili oil': 584, 'parsnips': 585, 'basil leaves': 586, 'chicken tenderloin': 587, 'chili flakes': 588, 'frozen broad beans': 589, 'kecap manis': 590, 'thai green curry paste': 591, 'unsalted cashews': 592, 'condensed cheddar cheese soup': 593, 'creole style seasoning': 594, 'grated jack cheese': 595, 'refried beans': 596, 'egg yolks': 597, 'asparagus': 598, 'cheese tortellini': 599, 'cherry tomatoes': 600, 'fresh leav spinach': 601, 'navy beans': 602, 'granny smith apples': 603, 'nonfat milk': 604, 'lard': 605, 'fresh fava bean': 606, 'italian sausage': 607, 'pasta sheets': 608, 'pecorino romano cheese': 609, 'Flora Cuisine': 610, 'curry paste': 611, 'low-fat natural yogurt': 612, 'spinach leaves': 613, 'bone-in chicken breasts': 614, 'dried chile peppers': 615, 'white hominy': 616, 'chocolate instant pudding': 617, 'frozen whipped topping': 618, 'graham cracker crumbs': 619, 'instant butterscotch pudding mix': 620, 'fennel seeds': 621, 'kalamata': 622, 'celery ribs': 623, 'ham': 624, 'kielbasa': 625, 'capsicum': 626, 'green mango': 627, 'moong dal': 628, 'dried shiitake mushrooms': 629, 'gari': 630, 'short-grain rice': 631, 'toasted sesame oil': 632, 'tofu': 633, 'Turkish bay leaves': 634, 'dried chickpeas': 635, 'semolina': 636, 'vine ripened tomatoes': 637, 'angel food cake': 638, 'bittersweet chocolate': 639, 'fat free yogurt': 640, 'instant espresso': 641, 'skim milk': 642, 'unsweetened cocoa powder': 643, 'organic chicken': 644, 'anise': 645, 'calimyrna figs': 646, 'clove': 647, 'orange blossom honey': 648, 'plain whole-milk yogurt': 649, 'zinfandel': 650, 'beef stock': 651, 'chuck roast': 652, 'reduced sodium soy sauce': 653, 'Corn Flakes Cereal': 654, 'coleslaw': 655, 'garlic salt': 656, 'asian pear': 657, 'chili paste': 658, 'kiwi': 659, 'red pepper flakes': 660, 'chees fresco queso': 661, 'swiss chard': 662, 'veal cutlets': 663, 'pasta': 664, 'extra-lean ground beef': 665, 'wakame': 666, 'nonstick spray': 667, 'peeled fresh ginger': 668, 'scallion greens': 669, 'wonton wrappers': 670, 'anchovy fillets': 671, 'chicken bones': 672, 'chopped fresh thyme': 673, 'crusty rolls': 674, 'green bell pepper, slice': 675, 'almond flour': 676, 'coconut aminos': 677, 'coconut oil': 678, 'boneless skinless chicken breast halves': 679, 'clams': 680, 'green peas': 681, 'seasoned rice wine vinegar': 682, 'snow peas': 683, 'artichoke hearts': 684, 'hard-boiled egg': 685, 'coriander powder': 686, 'maida flour': 687, 'stuffing': 688, 'pita bread rounds': 689, 'grated Gruyère cheese': 690, 'button mushrooms': 691, 'red miso': 692, 'silken tofu': 693, 'udon': 694, 'pickled jalapenos': 695, 'shredded Monterey Jack cheese': 696, 'whole peeled tomatoes': 697, 'broccoli rabe': 698, 'fontina': 699, 'parmigiano reggiano cheese': 700, 'peppercorns': 701, 'thai chile': 702, 'cream of chicken soup': 703, 'frozen peas and carrots': 704, 'low sodium chicken broth': 705, 'refrigerated piecrusts': 706, 'frozen chopped spinach': 707, 'manicotti shells': 708, 'olive oil flavored cooking spray': 709, 'part-skim ricotta cheese': 710, 'pasta sauce': 711, 'chicken bouillon': 712, 'fettucine': 713, 'parmesan cheese': 714, 'chili paste with garlic': 715, 'fresh veget': 716, 'condiments': 717, 'guacamole': 718, 'pork shoulder roast': 719, 'salsa verde': 720, 'taco sauce': 721, 'tortillas': 722, 'almonds': 723, 'pistachios': 724, 'rose petals': 725, 'chicken wings': 726, 'adobo sauce': 727, 'ancho powder': 728, 'chicken': 729, 'chiles': 730, 'chipotle chile powder': 731, 'drumstick': 732, 'green chile': 733, 'peeled tomatoes': 734, 'Old El Paso Flour Tortillas': 735, 'beef rib short': 736, 'beer': 737, 'chili sauce': 738, 'cranberry sauce': 739, 'dashi': 740, 'miso paste': 741, 'seaweed': 742, 'fresh dill': 743, 'kefalotyri': 744, 'myzithra': 745, 'phyllo': 746, 'yoghurt': 747, 'cracker crumbs': 748, 'okra': 749, 'Philadelphia Cream Cheese': 750, 'crab meat': 751, 'savoy cabbage': 752, 'boneless chicken thighs': 753, 'potato starch': 754, 'cake flour': 755, 'cream of tartar': 756, 'ricotta cheese': 757, 'semi-sweet chocolate morsels': 758, 'serrano': 759, 'hazelnut oil': 760, 'hazelnuts': 761, 'steel-cut oats': 762, 'sweet cherries': 763, 'fire roasted diced tomatoes': 764, 'red kidnei beans, rins and drain': 765, 'Japanese soy sauce': 766, 'black sesame seeds': 767, 'fresh salmon': 768, 'wasabi paste': 769, 'cremini mushrooms': 770, 'dried porcini mushrooms': 771, 'dry red wine': 772, 'fat free less sodium beef broth': 773, 'hot water': 774, 'celery salt': 775, 'creole mustard': 776, 'prepared horseradish': 777, 'shrimp and crab boil seasoning': 778, 'apples': 779, 'butternut squash': 780, 'country ham': 781, 'turnip greens': 782, 'frozen edamame beans': 783, 'whole kernel corn, drain': 784, 'fresh coriander': 785, 'instant yeast': 786, 'kalonji': 787, 'salted butter': 788, 'strong white bread flour': 789, 'sunflower oil': 790, 'cooked white rice': 791, 'mixed mushrooms': 792, 'vegetables': 793, 'wood ear mushrooms': 794, 'bell pepper': 795, 'boneless skinless chicken breasts': 796, 'shredded cheese': 797, 'taco seasoning': 798, 'baking apples': 799, 'cane sugar': 800, 'eau de vie': 801, 'leaves': 802, 'salt and ground black pepper': 803, 'chopped green chilies': 804, 'sliced black olives': 805, 'Guinness Lager': 806, 'dried rosemary': 807, 'lean steak': 808, 'rosemary leaves': 809, 'chinese cabbage': 810, 'dipping sauces': 811, 'lean ground pork': 812, 'water chestnuts, drained and chopped': 813, 'cheese slices': 814, 'chorizo': 815, 'french bread': 816, 'pico de gallo': 817, 'dried dillweed': 818, 'lamb': 819, 'plain yogurt': 820, 'red wine': 821, 'kale': 822, 'Mexican beer': 823, 'boneless beef short ribs': 824, 'guajillo': 825, 'fresh spinach': 826, 'saffron threads': 827, 'banana squash': 828, 'cannellini beans': 829, 'shortening': 830, 'Franks Hot Sauce': 831, 'light pancake syrup': 832, 'pears': 833, 'puff pastry': 834, 'apple cider vinegar': 835, 'bone in chicken thighs': 836, 'fresh bay leaves': 837, 'mushroom powder': 838, 'cilantro': 839, 'skinless chicken breasts': 840, 'fava beans': 841, 'fresh tarragon': 842, 'light sour cream': 843, 'kidney beans': 844, 'orzo pasta': 845, 'dri leav thyme': 846, 'jumbo shrimp': 847, 'sticky rice': 848, 'wasabi': 849, 'white sesame seeds': 850, 'chopped almonds': 851, 'baby arugula': 852, 'margarita mix': 853, 'tequila': 854, 'corn syrup': 855, 'crust': 856, 'grits': 857, 'pecan halves': 858, 'active dry yeast': 859, 'blackberries': 860, 'fresh mint': 861, 'luke warm water': 862, 'superfine sugar': 863, 'whiskey': 864, 'chicken drumsticks': 865, 'jamaican jerk season': 866, 'pineapple preserves': 867, 'goat cheese': 868, 'pitas': 869, 'gingerroot': 870, 'hot bean paste': 871, 'rib eye steaks': 872, 'cream': 873, 'diced bell pepper': 874, 'medjool date': 875, 'smoked paprika': 876, 'reduced fat milk': 877, 'smoked trout': 878, 'garlic puree': 879, 'green cardamom pods': 880, 'tomato purée': 881, 'chile sauce': 882, 'crema mexicana': 883, 'pickled jalapeno peppers': 884, 'queso fresco': 885, 'romaine lettuce leaves': 886, 'Boston lettuce': 887, 'peanut butter': 888, 'persian cucumber': 889, 'rice paper': 890, 'Korean chile flakes': 891, 'boneless chicken breast': 892, 'cashew nuts': 893, 'cinnamon': 894, 'ginger paste': 895, 'kashmiri chile': 896, 'kasuri methi': 897, 'mustard oil': 898, 'red chile powder': 899, 'tomato ketchup': 900, 'pecan pie': 901, 'corn kernels': 902, 'grouper': 903, 'tostada shells': 904, 'ricotta salata': 905, 'grana padano': 906, 'pecorino cheese': 907, 'bamboo shoots': 908, 'corn': 909, 'galangal': 910, 'green curry paste': 911, 'kaffir lime leaves': 912, 'soba noodles': 913, 'bourbon whiskey': 914, 'chopped nuts': 915, 'ketchup': 916, 'rhubarb': 917, 'liquid': 918, 'safflower oil': 919, 'store bought low sodium chicken stock': 920, 'cardamom': 921, 'jeera': 922, 'crema': 923, 'salmon steaks': 924, 'jam': 925, 'free range egg': 926, 'karashi': 927, 'spring onions': 928, 'diced celery': 929, 'jicama': 930, 'water chestnuts': 931, 'dinner rolls': 932, 'shredded sharp cheddar cheese': 933, 'cactus pad': 934, 'boiling potatoes': 935, 'cauliflower flowerets': 936, 'fenugreek seeds': 937, 'baby spinach': 938, 'tuna steaks': 939, 'spices': 940, 'octopuses': 941, 'small red potato': 942, 'smoked gouda': 943, 'vidalia onion': 944, 'fat-free refried beans': 945, 'fresh lime': 946, 'low-fat milk': 947, 'tuna': 948, 'ground white pepper': 949, 'Bertolli® Classico Olive Oil': 950, 'bacon, crisp-cooked and crumbled': 951, 'bertolli vineyard premium collect marinara with burgundi wine sauc': 952, 'bread crumb fresh': 953, 'margarita salt': 954, '(    oz.) tomato sauce': 955, 'beef': 956, 'ground veal': 957, 'italian seasoning mix': 958, 'solid pack pumpkin': 959, 'fresh thyme leaves': 960, 'grapeseed oil': 961, 'organic sugar': 962, 'whole grain thin spaghetti': 963, 'dried cherry': 964, 'straw mushrooms': 965, 'haricots verts': 966, 'vidalia': 967, 'wax beans': 968, 'prosciutto': 969, 'romano cheese': 970, 'cooked shrimp': 971, 'crabmeat': 972, 'blueberri preserv': 973, 'chipotle peppers': 974, 'coffee beans': 975, 'filet': 976, 'green peppercorns': 977, 'pork loin chops': 978, 'strawberries': 979, 'thyme leaves': 980, 'vegan margarine': 981, 'pork shoulder': 982, 'parsley leaves': 983, 'fresh raspberries': 984, 'frozen whole kernel corn': 985, 'torn romain lettuc leav': 986, 'wish bone guacamol ranch dress': 987, 'colby cheese': 988, 'half & half': 989, 'mexican chorizo': 990, 'russet potatoes': 991, 'canned low sodium chicken broth': 992, 'dry vermouth': 993, 'roasted salted cashews': 994, 'fresh lemon': 995, 'paneer cheese': 996, 'toasted sesame seeds': 997, 'Thai fish sauce': 998, 'english cucumber': 999, 'lemon grass': 1000, 'light brown muscavado sugar': 1001, 'fillets': 1002, 'boneless center cut pork chops': 1003, 'pork tenderloin': 1004, 'shell-on shrimp': 1005, 'boneless skinless chicken': 1006, 'caramel sauce': 1007, 'chili pepper': 1008, 'steamed white rice': 1009, 'seasoned bread crumbs': 1010, 'bean threads': 1011, 'reduced sodium tamari': 1012, 'sourdough baguette': 1013, 'bean paste': 1014, 'brown cardamom': 1015, 'chinese black bean': 1016, 'cooking wine': 1017, 'dried chile': 1018, 'green cardamom': 1019, 'liquorice': 1020, 'rock sugar': 1021, 'szechwan peppercorns': 1022, 'leg of lamb': 1023, 'red kidney beans': 1024, 'fresh mushrooms': 1025, 'red radishes': 1026, 'granulated garlic': 1027, 'beans': 1028, 'jack cheese': 1029, 'reduced sodium chicken broth': 1030, 'ricotta': 1031, 'mung bean sprouts': 1032, 'pickled vegetables': 1033, 'sesame paste': 1034, 'coconut': 1035, 'jaggery': 1036, 'chopped pecans': 1037, 'firmly packed brown sugar': 1038, 'kimchi': 1039, 'rice cakes': 1040, 'spam': 1041, 'tapioca starch': 1042, 'chili': 1043, 'cider vinegar': 1044, 'dressing': 1045, 'salad': 1046, 'tuna fillets': 1047, 'chopped parsley': 1048, 'lamb neck fillets': 1049, 'olive oil cooking spray': 1050, 'polenta': 1051, 'cauliflower florets': 1052, 'sweet chili sauce': 1053, 'Old El Paso™ mild red enchilada sauce': 1054, 'Pillsbury™ Refrigerated Crescent Dinner Rolls': 1055, 'red enchilada sauce': 1056, 'refrigerated crescent rolls': 1057, 'bottled clam juice': 1058, 'grate lime peel': 1059, 'sea scallops': 1060, 'sun-dried tomatoes in oil': 1061, 'bok choy': 1062, 'cooked brown rice': 1063, 'dried red chile peppers': 1064, 'unsalted dry roast peanuts': 1065, 'fry mix': 1066, 'yellow mustard': 1067, 'baguette': 1068, 'fennel': 1069, 'orange zest': 1070, 'onion tops': 1071, 'salted roast peanuts': 1072, 'cornmeal': 1073, 'mustard': 1074, 'grated lemon peel': 1075, 'sliced almonds': 1076, 'chili garlic paste': 1077, 'fresh red chili': 1078, 'grated orange': 1079, 'grated orange peel': 1080, 'minced ginger': 1081, 'natural peanut butter': 1082, 'orange juice': 1083, 'masa harina': 1084, 'crème fraîche': 1085, 'double-acting baking powder': 1086, 'duck breast halves': 1087, 'California bay leaves': 1088, 'mint leaves': 1089, 'vanilla lowfat yogurt': 1090, 'arugula': 1091, 'pesto sauce': 1092, 'glutinous rice flour': 1093, 'shredded coconut': 1094, 'lentils': 1095, 'pickled carrots': 1096, 'vermicelli noodles': 1097, 'white radish': 1098, 'cream cheese, soften': 1099, 'coconut sugar': 1100, 'plantains': 1101, 'white corn tortillas': 1102, 'beef shank': 1103, 'egg noodles': 1104, 'fried garlic': 1105, 'ciabatta': 1106, 'fresh herbs': 1107, 'juice': 1108, 'summer squash': 1109, 'plum sauce': 1110, 'coarse sea salt': 1111, 'dough': 1112, 'dried kidney beans': 1113, 'smoked ham hocks': 1114, 'brie cheese': 1115, 'wheat germ': 1116, 'bird chile': 1117, 'boneless rib eye steaks': 1118, 'mini cucumbers': 1119, 'vermicelli': 1120, 'corn flour': 1121, 'Italian seasoned breadcrumbs': 1122, 'cheese ravioli': 1123, 'diced onions': 1124, 'meat bones': 1125, 'coconut cream': 1126, 'coconut flour': 1127, 'flax seed meal': 1128, 'hearts of palm': 1129, 'chunky peanut butter': 1130, 'slaw mix': 1131, 'hoagie buns': 1132, 'pickles': 1133, 'fat-free cottage cheese': 1134, 'oven-ready lasagna noodles': 1135, 'radicchio': 1136, 'andouille sausage links': 1137, 'sweet paprika': 1138, 'rosemary sprigs': 1139, 'tea bags': 1140, 'canned beef broth': 1141, 'rubbed sage': 1142, 'chicken noodle soup': 1143, 'kale leaves': 1144, 'boiled ham': 1145, 'capicola': 1146, 'genoa salami': 1147, 'italian style rolls': 1148, 'grating cheese': 1149, 'table cream': 1150, 'dill': 1151, 'chocolate sauce': 1152, 'quail': 1153, 'caster': 1154, 'extra large eggs': 1155, 'shiso': 1156, 'italian salad dressing mix': 1157, 'dashi kombu': 1158, 'dried bonito flakes': 1159, 'branzino fillets': 1160, 'mixed greens': 1161, 'white miso': 1162, 'round steaks': 1163, 'carbonated beverages': 1164, 'saltines': 1165, 'Sargento® Traditional Cut Shredded Mozzarella Cheese': 1166, 'barbecue sauce': 1167, 'prepared pizza crust': 1168, 'erythritol': 1169, 'allspice berries': 1170, 'artichokes': 1171, 'asparagus tips': 1172, 'fresh chives': 1173, 'ice water': 1174, 'medium eggs': 1175, 'nutmeg': 1176, 'portabello mushroom': 1177, 'nori': 1178, 'yellowtail': 1179, 'tomatillo salsa': 1180, 'chipotle': 1181, 'ground chicken': 1182, 'white sandwich bread': 1183, 'mustard seeds': 1184, 'tamarind pulp': 1185, 'louisiana hot sauce': 1186, 'Himalayan salt': 1187, 'arame': 1188, 'konbu': 1189, 'lemon cucumber': 1190, 'plain breadcrumbs': 1191, 'back bacon rashers': 1192, 'cooked quinoa': 1193, 'gluten-free tamari': 1194, 'uncook medium shrimp, peel and devein': 1195, 'horseradish': 1196, 'catfish': 1197, 'aioli': 1198, 'basil pesto sauce': 1199, 'mozzarella balls': 1200, 'sun-dried tomatoes': 1201, 'cocoa powder': 1202, 'Mexican cheese': 1203, 'corn chips': 1204, 'pasilla pepper': 1205, 'roasted tomatoes': 1206, 'chinese noodles': 1207, 'fettuccine pasta': 1208, 'chopped fresh sage': 1209, 'soft fresh goat cheese': 1210, 'lager beer': 1211, 'poblano chiles': 1212, 'vinaigrette dressing': 1213, 'boiled eggs': 1214, 'red beets': 1215, 'caster sugar': 1216, 'spring roll wrappers': 1217, 'bread flour': 1218, 'apricot preserves': 1219, 'chicken fingers': 1220, 'ginger juice': 1221, 'rice wine': 1222, 'sesame salt': 1223, 'frozen spinach': 1224, 'lasagne': 1225, 'fat free cream cheese': 1226, 'fat-free mayonnaise': 1227, 'non-fat sour cream': 1228, 'reduced fat swiss cheese': 1229, 'roasted garlic': 1230, 'sundried tomato paste': 1231, 'champagne vinegar': 1232, 'dried tart cherries': 1233, 'sheep’s milk cheese': 1234, 'confit': 1235, 'duck fat': 1236, 'porcini': 1237, 'sourdough loaf': 1238, 'squabs': 1239, 'unsalted roasted peanuts': 1240, 'wide rice noodles': 1241, 'canned corn': 1242, 'lettuce': 1243, 'aged gouda': 1244, 'soppressata': 1245, 'beef steak': 1246, 'applewood smoked bacon': 1247, 'biscuits': 1248, 'lump crab meat': 1249, 'seafood seasoning': 1250, 'vegetable juice': 1251, 'chicken cutlets': 1252, 'lemon slices': 1253, 'ground meat': 1254, 'red cabbage': 1255, 'wheat flour': 1256, 'low-fat buttermilk': 1257, 'wheat bran': 1258, 'whole wheat flour': 1259, 'mustard greens': 1260, 'soba': 1261, 'orzo': 1262, 'veal chops': 1263, 'ancho chile pepper': 1264, 'coarse kosher salt': 1265, 'masa': 1266, 'oil cured olives': 1267, 'pasta rotel': 1268, 'pasta water': 1269, 'black salt': 1270, 'tamarind': 1271, 'brine-cured black olives': 1272, 'pork chops': 1273, 'Tabasco Pepper Sauce': 1274, 'uncooked rigatoni': 1275, 'long grain white rice': 1276, 'fish fillets': 1277, 'red chili powder': 1278, 'cinnamon sugar': 1279, 'rolls': 1280, 'golden delicious apples': 1281, 'bosc pears': 1282, 'buckwheat noodles': 1283, 'pepper flakes': 1284, 'rice syrup': 1285, 'curry leaves': 1286, 'Smithfield Ham': 1287, 'freshly grated parmesan': 1288, 'hass avocado': 1289, 'McCormick Parsley Flakes': 1290, 'bread': 1291, 'lower sodium chicken broth': 1292, 'frozen blueberries': 1293, 'peaches': 1294, 'pitted olives': 1295, 'florets': 1296, 'thyme sprigs': 1297, 'butter lettuce': 1298, 'edamame': 1299, 'gluten-free hoisin sauce': 1300, 'ground cayenne pepper': 1301, 'toasted cashews': 1302, 'short rib': 1303, 'sambal ulek': 1304, 'annatto oil': 1305, 'coconut vinegar': 1306, 'lemon soda': 1307, 'egg roll wraps': 1308, 'string beans': 1309, 'steamed rice': 1310, 'penne': 1311, 'Crystal Farms Butter': 1312, 'Crystal Farms Shredded Gouda Cheese': 1313, 'berries': 1314, 'figs': 1315, 'mint': 1316, 'sprinkles': 1317, 'boiling onions': 1318, 'crimini mushrooms': 1319, 'fresh marjoram': 1320, 'Oscar Mayer Bacon': 1321, \"Campbell's Condensed Tomato Soup\": 1322, 'pork belly': 1323, 'brussels sprouts': 1324, 'beef bouillon granules': 1325, 'beef consomme': 1326, 'deli ham': 1327, 'tenderloin roast': 1328, 'crumbled gorgonzola': 1329, 'cachaca': 1330, 'crushed ice': 1331, 'simple syrup': 1332, 'blanched almond flour': 1333, 'mild olive oil': 1334, 'tapioca flour': 1335, 'Guinness Beer': 1336, 'beef broth': 1337, 'beef roast': 1338, 'fontina cheese': 1339, 'lamb shanks': 1340, 'fatfree lowsodium chicken broth': 1341, 'brown rice': 1342, 'greek seasoning': 1343, 'fresh mexican cheese': 1344, \"Hellmann''s Light Mayonnaise\": 1345, 'crumbs': 1346, 'bananas': 1347, 'raisin bread': 1348, 'sweetened coconut flakes': 1349, 'chipotle salsa': 1350, 'refrigerated buttermilk biscuits': 1351, 'dried apricot': 1352, 'lemon pepper': 1353, 'light margarine': 1354, 'pearl onions': 1355, 'peeled shrimp': 1356, 'ground thyme': 1357, 'malt vinegar': 1358, 'pork butt': 1359, 'chutney': 1360, 'dried rice noodles': 1361, 'canned chicken breast': 1362, 'Sicilian olives': 1363, 'italian eggplant': 1364, 'mint sprigs': 1365, 'peasant bread': 1366, 'baking mix': 1367, 'poultry seasoning': 1368, 'ziti': 1369, 'ginger ale': 1370, 'navel oranges': 1371, 'curds': 1372, 'methi': 1373, 'tandoori spices': 1374, 'beef rump': 1375, 'regular soy sauce': 1376, 'Kraft Grated Parmesan Cheese': 1377, 'peas': 1378, 'liquid aminos': 1379, 'stevia': 1380, 'brown lentils': 1381, 'bone-in chicken breast halves': 1382, 'smoked sausage': 1383, 'dried minced onion': 1384, 'sliced ham': 1385, 'Niçoise olives': 1386, 'light tuna': 1387, 'dried navy beans': 1388, 'garnish': 1389, 'parsley sprigs': 1390, 'wheat berries': 1391, 'polenta prepar': 1392, 'all purpose unbleached flour': 1393, 'roasted chestnuts': 1394, 'hash brown': 1395, 'stewed tomatoes': 1396, 'candy': 1397, 'food paste color': 1398, 'light corn syrup': 1399, 'dried parsley': 1400, 'miso': 1401, 'varnish clams': 1402, 'asafoetida powder': 1403, 'ravva': 1404, 'Thai red curry paste': 1405, 'low-fat coconut milk': 1406, 'chinese hot mustard': 1407, 'soy marinade': 1408, 'steamer': 1409, 'asafetida': 1410, 'fish': 1411, 'rigatoni': 1412, 'pancetta': 1413, 'ground sirloin': 1414, 'whole wheat fettuccine': 1415, 'castellane': 1416, 'hot Italian sausages': 1417, 'french rolls': 1418, 'jumbo pasta shells': 1419, 'rib roast': 1420, 'gluten free blend': 1421, 'bone in skinless chicken thigh': 1422, 'Mexican seasoning mix': 1423, 'light cream cheese': 1424, 'egg substitute': 1425, 'shiitake mushroom caps': 1426, 'beef brisket': 1427, 'mini chocolate chips': 1428, 'mini marshmallows': 1429, 'balsamic vinaigrette': 1430, 'asadero': 1431, 'greek style plain yogurt': 1432, 'pepper sauce': 1433, 'beef stew': 1434, 'mild curry powder': 1435, 'pickling spices': 1436, 'teriyaki sauce': 1437, 'ramen noodles': 1438, 'petite peas': 1439, 'glaze': 1440, 'chicken meat': 1441, 'waxy potatoes': 1442, 'flour for dusting': 1443, 'bow-tie pasta': 1444, 'fresh peas': 1445, 'white mushrooms': 1446, 'country white bread': 1447, 'seedless green grape': 1448, 'green leaf lettuce': 1449, 'rice vermicelli': 1450, 'flaked coconut': 1451, 'leaf parsley': 1452, 'garlic pepper seasoning': 1453, 'fresh tomato salsa': 1454, 'pinto beans': 1455, 'Greek feta': 1456, 'nectarines': 1457, 'roast red peppers, drain': 1458, 'pitted prunes': 1459, 'Madras curry powder': 1460, 'medium egg noodles': 1461, 'stir fry vegetable blend': 1462, 'chicken pieces': 1463, 'chips': 1464, 'low-fat cottage cheese': 1465, 'shredded parmesan cheese': 1466, 'whole wheat lasagna noodles': 1467, 'frozen corn kernels': 1468, 'butter crackers': 1469, 'round sourdough bread': 1470, 'amaretto': 1471, 'red currant jelly': 1472, 'toasted almonds': 1473, 'burgers': 1474, 'spring mix': 1475, 'dried fig': 1476, \"soft goat's cheese\": 1477, 'whole wheat english muffins': 1478, 'fresh green bean': 1479, 'brewed coffee': 1480, 'apricots': 1481, 'base': 1482, 'sea salt flakes': 1483, 'tart': 1484, 'grappa': 1485, 'corn grits': 1486, 'roquefort': 1487, 'wine': 1488, 'beef tenderloin': 1489, 'marinade': 1490, 'sirloin tip': 1491, 'green cabbage': 1492, 'lamb leg': 1493, 'quick-cooking barley': 1494, 'rutabaga': 1495, 'low-fat soy milk': 1496, 'nutritional yeast': 1497, 'whole wheat tortillas': 1498, 'bagels': 1499, 'marmite': 1500, 'chicken bouillon granules': 1501, 'dry yeast': 1502, 'field peas': 1503, 'amaretti': 1504, 'frozen strawberries': 1505, 'fino sherry': 1506, 'Maggi': 1507, 'Alfredo sauce': 1508, 'corned beef': 1509, 'whole grain mustard': 1510, 'Hatch Green Chiles': 1511, 'jack': 1512, 'morel': 1513, 'red bell pepper, sliced': 1514, 'snappers': 1515, '1% low-fat cottage cheese': 1516, 'fresh sage': 1517, 'cotija': 1518, 'dry coconut': 1519, 'English muffins': 1520, 'hot pepper': 1521, 'diced green chilies': 1522, 'chili beans': 1523, 'tenderloin': 1524, 'rotisserie chicken': 1525, 'beaten eggs': 1526, 'crackers': 1527, 'broccoli florets': 1528, 'veggies': 1529, 'crystallized ginger': 1530, 'quatre épices': 1531, 'raw honey': 1532, 'sweetener': 1533, 'old-fashioned oats': 1534, 'parmigiano-reggiano cheese': 1535, 'gluten free soy sauce': 1536, 'toasted walnuts': 1537, 'acorn squash': 1538, 'fine salt': 1539, 'snails': 1540, 'clarified butter': 1541, 'baby beets': 1542, 'salad dressing': 1543, 'shrimp paste': 1544, 'white beans': 1545, 'seeds': 1546, 'cream of mushroom soup': 1547, 'long grain and wild rice mix': 1548, 'smoked turkey': 1549, 'turkey legs': 1550, 'cornbread': 1551, 'ground chuck': 1552, 'onion soup': 1553, 'sage': 1554, 'whole wheat bread toasted': 1555, 'lamb chops': 1556, 'Jell-O Gelatin Dessert': 1557, 'romana': 1558, 'squid': 1559, 'seafood stock': 1560, 'apple juice': 1561, 'elbow macaroni': 1562, 'fully cooked ham': 1563, 'white cheddar cheese': 1564, 'gravy': 1565, 'seasoned flour': 1566, 'mandarin orange segments': 1567, 'dark molasses': 1568, 'canned chopped tomatoes': 1569, 'light coconut milk': 1570, 'scotch bonnet chile': 1571, 'serrano peppers': 1572, 'meat': 1573, 'lean ground turkey': 1574, 'ladyfingers': 1575, 'reduced fat cream cheese': 1576, 'whipped topping': 1577, 'unsweetened chocolate': 1578, 'Vietnamese coriander': 1579, 'asian basil': 1580, 'perilla': 1581, 'chile bean paste': 1582, 'anise seed': 1583, 'dates': 1584, 'homemade chicken stock': 1585, 'hot curry powder': 1586, 'Grand Marnier': 1587, 'cognac': 1588, 'pastry cream': 1589, 'fromage blanc': 1590, 'green tea powder': 1591, 'red raspberries': 1592, 'shortbread cookies': 1593, 'Hurst Family Harvest Chipotle Lime Black Bean Soup mix': 1594, 'chipotle puree': 1595, 'gluten free cooking spray': 1596, 'gluten free corn tortillas': 1597, 'fresh turmeric': 1598, 'white peppercorns': 1599, 'white cabbage': 1600, 'rye': 1601, 'wheels': 1602, 'cola soft drink': 1603, 'Mexican oregano': 1604, 'cottage cheese': 1605, 'tahini paste': 1606, 'green olives': 1607, 'bacon rind': 1608, 'garden peas': 1609, 'maldon sea salt': 1610, 'runny honey': 1611, 'salad leaves': 1612, 'scallops': 1613, 'frozen broccoli': 1614, 'fresh curry leaves': 1615, 'dill weed': 1616, 'stone-ground cornmeal': 1617, 'nonfat ricotta cheese': 1618, 'beets': 1619, 'orange peel': 1620, 'bbq sauce': 1621, 'jerk seasoning': 1622, 'pork baby back ribs': 1623, 'spiced rum': 1624, 'mexican chocolate': 1625, 'shells': 1626, 'cornflake cereal': 1627, 'reduced-fat cheese': 1628, 'achiote paste': 1629, 'cherries': 1630, 'frozen orange juice concentrate': 1631, 'tilapia': 1632, 'poblano chilies': 1633, 'vanilla sugar': 1634, 'garlic juice': 1635, 'turkey': 1636, 'cilantro sprigs': 1637, 'fresh lima beans': 1638, 'crusty sandwich rolls': 1639, 'tilapia fillets': 1640, 'dry pasta': 1641, 'sweet italian sausage': 1642, 'oyster mushrooms': 1643, 'fat-trimmed beef flank steak': 1644, 'salad oil': 1645, 'prosecco': 1646, 'bread dough': 1647, 'cooked turkey': 1648, 'leftover gravy': 1649, 'mashed potatoes': 1650, 'turkey broth': 1651, 'baby lima beans': 1652, 'chinkiang vinegar': 1653, 'firm silken tofu': 1654, 'japanese eggplants': 1655, 'fresca': 1656, 'relish': 1657, 'slaw': 1658, 'hot cocoa mix': 1659, 'whipped cream': 1660, 'abbamele': 1661, 'fregola': 1662, 'wild mushrooms': 1663, 'light mayonnaise': 1664, 'mushroom caps': 1665, 'pinot grigio': 1666, 'sablefish': 1667, 'chocolate candy bars': 1668, 'liquid egg substitute': 1669, 'dry roasted peanuts': 1670, 'pineapple': 1671, 'gai lan': 1672, 'msg': 1673, 'fresh chile': 1674, 'lite coconut milk': 1675, 'golden syrup': 1676, 'pitted date': 1677, 'self-rising cake flour': 1678, 'pigeon peas': 1679, 'sushi rice': 1680, 'chaat masala': 1681, 'gram flour': 1682, 'paneer': 1683, 'soda': 1684, 'whole snapper': 1685, 'sauerkraut': 1686, 'banana peppers': 1687, 'boneless beef roast': 1688, 'boneless chicken breast halves': 1689, 'peach preserves': 1690, 'lamb loin chops': 1691, 'Equal Sweetener': 1692, 'boneless pork shoulder': 1693, 'sesame': 1694, 'soft-boiled egg': 1695, 'lemon rind': 1696, 'fresh ham': 1697, 'mulato chiles': 1698, 'pasilla chiles': 1699, 'pumpkin seeds': 1700, 'truffle oil': 1701, 'veal scallopini': 1702, 'blanched almonds': 1703, 'poppy seeds': 1704, 'raw cashews': 1705, 'gluten free all purpose flour': 1706, 'xanthan gum': 1707, 'cake': 1708, 'icing': 1709, 'yeast': 1710, 'bread yeast': 1711, 'vegan parmesan cheese': 1712, 'biscuit baking mix': 1713, 'ahi': 1714, 'whole cranberry sauce': 1715, 'rose water': 1716, 'ginger root': 1717, 'lotus roots': 1718, 'colby jack cheese': 1719, 'taco shells': 1720, 'anjou pears': 1721, 'dried sage': 1722, 'lamb stew meat': 1723, 'yardlong beans': 1724, 'almond butter': 1725, 'frozen banana': 1726, 'pure acai puree': 1727, 'sausage links': 1728, 'chambord': 1729, 'champagne': 1730, 'curly endive': 1731, \"Campbell's Condensed Cream of Chicken Soup\": 1732, 'Pace Picante Sauce': 1733, 'apricot halves': 1734, 'lavender buds': 1735, 'rosemary': 1736, 'diced tomatoes in juice': 1737, 'plums': 1738, 'stewing beef': 1739, 'italian salad dressing': 1740, 'short pasta': 1741, 'pie dough': 1742, 'lemon wedge': 1743, 'porterhouse steaks': 1744, 'dried tarragon leaves': 1745, 'gooseberries': 1746, 'fiber one': 1747, 'vanilla cream': 1748, 'vanilla wafers': 1749, 'green tea': 1750, 'lime rind': 1751, 'reduced fat creamy peanut butter': 1752, 'flat iron steaks': 1753, 'rotel tomatoes': 1754, 'taco toppings': 1755, 'roasted sesame seeds': 1756, 'dill pickles': 1757, 'turkey hot dogs': 1758, 'tripe': 1759, 'coffee granules': 1760, 'plain low-fat yogurt': 1761, 'baby portobello mushrooms': 1762, 'chanterelle': 1763, 'dried pinto beans': 1764, 'ground chipotle chile pepper': 1765, 'blue corn tortilla chips': 1766, 'veget soup mix': 1767, 'dark corn syrup': 1768, 'white peaches': 1769, 'pork lard': 1770, 'whole almonds': 1771, 'ground almonds': 1772, 'ground paprika': 1773, 'marjoram': 1774, 'orecchiette': 1775, 'corn bread': 1776, 'pepper jack': 1777, 'baby corn': 1778, 'bibb lettuce': 1779, 'brioche bread': 1780, 'cornichons': 1781, 'lardons': 1782, 'streaky bacon': 1783, 'peeled deveined shrimp': 1784, 'lillet': 1785, 'soda water': 1786, 'tiger prawn': 1787, 'orange flower water': 1788, 'walnut halves': 1789, 'and fat free half half': 1790, 'condensed chicken broth': 1791, 'caraway seeds': 1792, 'pastry shell': 1793, 'extra lean ground beef': 1794, 'unsalted chicken stock': 1795, 'yellow curry paste': 1796, 'frozen raspberries': 1797, 'glace cherries': 1798, 'raspberry jam': 1799, 'silver dragees': 1800, 'sponge cake': 1801, 'sweet sherry': 1802, 'vanilla pods': 1803, 'pizza shells': 1804, 'xuxu': 1805, 'frozen mixed thawed vegetables,': 1806, 'loosely packed fresh basil leaves': 1807, 'ragu old world style pasta sauc': 1808, 'green lentil': 1809, 'whole wheat spaghetti': 1810, 'triple sec': 1811, 'gaeta olives': 1812, 'pear tomatoes': 1813, 'turbot': 1814, 'medium-grain rice': 1815, 'fresh oregano leaves': 1816, 'refrigerated pizza dough': 1817, 'chocolate': 1818, 'powdered buttermilk': 1819, 'potato gnocchi': 1820, 'olive oil spray': 1821, 'pimenton': 1822, 'guajillo chiles': 1823, 'agave nectar': 1824, 'bitters': 1825, 'hibiscus tea': 1826, 'seltzer water': 1827, 'teas': 1828, 'angel hair': 1829, 'ground tumeric': 1830, 'whole cloves': 1831, 'red food coloring': 1832, 'black vinegar': 1833, 'shanghai noodles': 1834, 'tangerine': 1835, 'baked tortilla chips': 1836, 'reduced fat sharp cheddar cheese': 1837, 'reduced-fat sour cream': 1838, 'amaretto liqueur': 1839, 'cherry preserves': 1840, 'gelato': 1841, 'aleppo pepper': 1842, 'fresh chevre': 1843, 'plain dry bread crumb': 1844, 'vegetable oil spray': 1845, 'nuts': 1846, 'pie shell': 1847, 'beef sirloin': 1848, 'canned chicken broth': 1849, 'sliced shallots': 1850, 'sugar pea': 1851, 'marsala wine': 1852, 'baton': 1853, 'croissant dough': 1854, 'pickled okra': 1855, 'pure vanilla extract': 1856, 'applesauce': 1857, 'fish stock': 1858, 'sturgeon fillets': 1859, 'glazed pecans': 1860, 'hothouse cucumber': 1861, 'toasted peanuts': 1862, 'clam juice': 1863, 'self-rising cornmeal': 1864, 'farmer cheese': 1865, 'umeboshi': 1866, 'umeboshi vinegar': 1867, 'yellow food coloring': 1868, 'hungarian paprika': 1869, 'halibut fillets': 1870, 'bulgur': 1871, 'lamb shoulder': 1872, 'tomatoes with juice': 1873, 'cantaloupe': 1874, 'fresh orange juice': 1875, 'honeydew melon': 1876, 'confit duck leg': 1877, 'shrimp shells': 1878, 'celery seed': 1879, 'Crystal Hot Sauce': 1880, 'new potatoes': 1881, 'sack': 1882, 'table salt': 1883, 'sourdough bread': 1884, 'chopped fresh herbs': 1885, 'escarole': 1886, 'boston butt': 1887, 'pandan extract': 1888, 'smoked kielbasa': 1889, 'all beef hot dogs': 1890, 'hot dog bun': 1891, 'sole fillet': 1892, 'serrano chilies': 1893, 'fresh onion': 1894, 'mushroom soy sauce': 1895, 'yellow rock sugar': 1896, 'spanish paprika': 1897, 'thick-cut bacon': 1898, 'white fleshed fish': 1899, 'prepar salsa': 1900, 'broth': 1901, 'dhal': 1902, 'yellow lentils': 1903, 'coffee liqueur': 1904, 'whitefish fillets': 1905, 'daal': 1906, 'idli': 1907, 'flat anchovy': 1908, 'italian loaf': 1909, 'frozen mixed vegetables': 1910, 'pitted black olives': 1911, 'rotini': 1912, 'rolled oats': 1913, 'cod fillets': 1914, 'buckwheat soba noodles': 1915, 'wasabi powder': 1916, 'reduced fat coconut milk': 1917, 'vine tomatoes': 1918, 'spanish rice': 1919, 'shelled pistachios': 1920, 'canned tomatoes': 1921, 'chinese red vinegar': 1922, 'pork spareribs': 1923, 'vietnamese fish sauce': 1924, 'pumpkin': 1925, 'shoyu': 1926, 'black tea': 1927, 'frozen mixed berries': 1928, 'granola': 1929, 'besan (flour)': 1930, 'bhindi': 1931, 'hanger steak': 1932, 'cooked bacon': 1933, 'pastry dough': 1934, 'dried mushrooms': 1935, 'top sirloin': 1936, 'grated coconut': 1937, 'pandanus leaf': 1938, 'tapioca pearls': 1939, 'pork blade steaks': 1940, 'Chinese egg noodles': 1941, 'light cream': 1942, 'pastry': 1943, 'shredded swiss cheese': 1944, 'single crust pie': 1945, 'angel food cake mix': 1946, 'buttercream frosting': 1947, 'won ton wrappers': 1948, 'calvados': 1949, 'beef rump steaks': 1950, 'chestnut mushrooms': 1951, 'spring greens': 1952, 'canning salt': 1953, 'soaking liquid': 1954, 'medium shrimp uncook': 1955, 'all purpose seasoning': 1956, 'Country Crock® Spread': 1957, 'coffee': 1958, 'condensed milk': 1959, 'pig feet': 1960, 'pork bones': 1961, 'slab bacon': 1962, 'bulgur wheat': 1963, 'espresso powder': 1964, 'watermelon': 1965, 'fish bones': 1966, 'buns': 1967, 'boneless, skinless chicken breast': 1968, 'tandoori paste': 1969, 'risotto': 1970, 'cooked vermicelli': 1971, 'ground chicken breast': 1972, 'nonfat greek yogurt': 1973, 'hominy grits': 1974, 'processed cheese': 1975, 'shredded reduced fat cheddar cheese': 1976, 'fat-free chicken broth': 1977, 'frozen limeade concentrate': 1978, 'light rum': 1979, 'orange marmalade': 1980, 'honey roasted peanuts': 1981, 'tamarind concentrate': 1982, 'dried lentils': 1983, 'duck stock': 1984, 'light red kidney beans': 1985, 'bean thread vermicelli': 1986, '(10 oz.) frozen chopped spinach, thawed and squeezed dry': 1987, 'phyllo dough': 1988, 'garlic flakes': 1989, 'california avocado': 1990, 'canola': 1991, 'cilantro stems': 1992, 'low sodium chicken stock': 1993, 'currant jelly': 1994, 'corn husks': 1995, 'masa dough': 1996, 'boneless lamb': 1997, 'pita bread': 1998, 'tzatziki': 1999, 'grapefruit': 2000, 'habanero pepper': 2001, 'grated romano cheese': 2002, 'pimento stuffed green olives': 2003, 'butter beans': 2004, 'ditalini pasta': 2005, 'soup': 2006, 'littleneck clams': 2007, 'frozen sweet corn': 2008, 'whole wheat bread': 2009, 'salad seasoning mix': 2010, 'chili pepper flakes': 2011, 'crushed pineapple': 2012, 'cubed bread': 2013, 'apricot nectar': 2014, 'curry sauce': 2015, 'pappardelle pasta': 2016, 'duck drippings': 2017, 'toast': 2018, 'dulce de leche': 2019, 'fresh mozzarella': 2020, 'stilton': 2021, 'chinese sausage': 2022, 'glutinous rice': 2023, 'fermented black beans': 2024, 'key lime juice': 2025, 'butter cooking spray': 2026, 'pickle relish': 2027, 'brandy': 2028, 'vanilla beans': 2029, 'basmati': 2030, 'jasmine': 2031, 'salt pork': 2032, 'firmly packed light brown sugar': 2033, 'fresh corn': 2034, 'shredded zucchini': 2035, 'dried pasta': 2036, 'sweet rice flour': 2037, 'diced tomatoes with garlic and onion': 2038, 'fettuccine, cook and drain': 2039, 'ground round': 2040, 'cooked pumpkin': 2041, 'unsweetened soymilk': 2042, 'frozen limeade': 2043, 'lemon-lime soda': 2044, 'muenster cheese': 2045, 'lobster': 2046, 'loin pork roast': 2047, 'rocket leaves': 2048, 'lemon extract': 2049, 'unsweetened apple juice': 2050, 'whole allspice': 2051, 'bonito flakes': 2052, 'small red beans': 2053, 'plain chocolate': 2054, 'anise extract': 2055, 'Poire Williams': 2056, 'bartlett pears': 2057, 'yolk': 2058, 'gala apples': 2059, 'vanilla ice cream': 2060, 'mexican style 4 cheese blend': 2061, 'cheese spread': 2062, 'vegetarian refried beans': 2063, 'quinces': 2064, 'edible flowers': 2065, 'cornbread stuffing mix': 2066, 'ragu old world style tradit pasta sauc': 2067, 'center cut loin pork chop': 2068, 'pumpkin pie spice': 2069, 'pancake mix': 2070, 'fryer chickens': 2071, 'tarragon': 2072, 'ground chile': 2073, 'store bought low sodium chicken broth': 2074, 'chili bean sauce': 2075, 'long beans': 2076, '1% low-fat buttermilk': 2077, 'nonfat sweetened condensed milk': 2078, 'salted dry roasted peanuts': 2079, 'mahimahi': 2080, 'blue cheese dressing': 2081, 'buffalo sauce': 2082, 'asafoetida': 2083, 'nigella seeds': 2084, 'cannelloni shells': 2085, 'light alfredo sauce': 2086, 'chees fresh mozzarella': 2087, 'curly kale': 2088, 'toasted nori': 2089, 'togarashi': 2090, 'lumpia skins': 2091, 'saltine crumbs': 2092, 'red capsicum': 2093, 'sprouts': 2094, 'liquid smoke': 2095, 'lemon lime beverage': 2096, 'herbes de provence': 2097, 'lager': 2098, 'top sirloin steak': 2099, 'clams, well scrub': 2100, 'pork roast': 2101, 'breasts halves': 2102, 'polish sausage': 2103, 'bay scallops': 2104, 'shrimp tails': 2105, 'capellini': 2106, 'mild curry paste': 2107, 'fritos': 2108, 'ranch salad dressing mix': 2109, 'white corn': 2110, 'ponzu': 2111, 'veal': 2112, 'chard': 2113, 'gold potatoes': 2114, 'lime slices': 2115, 'pomegranate juice': 2116, 'pomegranate seeds': 2117, 'bacon bits': 2118, 'caesar salad dressing': 2119, 'croutons': 2120, 'Belgian endive': 2121, 'duck breasts': 2122, 'Louisiana Hot Sauce': 2123, 'panko': 2124, 'coarse-grain salt': 2125, 'country bread': 2126, 'hungarian sweet paprika': 2127, 'roasted hazelnuts': 2128, 'nori flakes': 2129, 'vegan mayonnaise': 2130, 'condensed fiesta nacho cheese soup': 2131, 'frozen tater tots': 2132, 'frozen vegetables': 2133, 'Old El Paso™ chopped green chiles': 2134, 'Progresso Black Beans': 2135, 'green enchilada sauce': 2136, 'nonfat yogurt': 2137, 'whitefish': 2138, \"hellmann' or best food real mayonnais\": 2139, 'ampalaya': 2140, 'chicken feet': 2141, 'cactus leaf': 2142, 'chili seasoning mix': 2143, 'gran marnier': 2144, 'frisee': 2145, 'Wish-Bone Italian Dressing': 2146, 'bacon fat': 2147, 'pernod': 2148, 'alcohol': 2149, 'dark chocolate': 2150, 'evaporated skim milk': 2151, 'knorr garlic minicub': 2152, 'corn tortilla chips': 2153, 'ajwain': 2154, 'anchovies': 2155, 'flat cut': 2156, 'Anaheim chile': 2157, 'Splenda Brown Sugar Blend': 2158, 'liqueur': 2159, 'aged balsamic vinegar': 2160, 'Mexican vanilla extract': 2161, 'kirby cucumbers': 2162, 'low sodium vegetable broth': 2163, 'limoncello': 2164, 'prime rib': 2165, 'hot chili sauce': 2166, 'hot chili powder': 2167, 'bitter melon': 2168, 'golden beets': 2169, 'pizza doughs': 2170, 'black cod': 2171, 'biscuit mix': 2172, 'tamarind extract': 2173, 'Knorr® Beef Bouillon': 2174, 'rice bran oil': 2175, 'shichimi togarashi': 2176, 'cavolo nero': 2177, 'winter squash': 2178, 'thin pizza crust': 2179, 'chicken breast tenders': 2180, 'toasted pine nuts': 2181, 'OREO® Cookies': 2182, 'kahlua': 2183, 'beef stock cubes': 2184, 'lean beef': 2185, 'grated parmesan romano': 2186, 'fleur de sel': 2187, 'garden cress': 2188, 'turkey breast cutlets': 2189, 'atta': 2190, 'methi leaves': 2191, 'pudding': 2192, 'Neapolitan ice cream': 2193, 'whole wheat pastry flour': 2194, 'boneless chicken': 2195, 'mackerel fillets': 2196, 'black': 2197, 'gluten': 2198, 'roast turkey': 2199, 'barilla': 2200, 'tomato juice': 2201, 'sugar syrup': 2202, 'cooked chicken breasts': 2203, 'long pasta': 2204, 'linguini': 2205, 'artichok heart marin': 2206, 'instant rice': 2207, 'beefsteak tomatoes': 2208, 'black mission figs': 2209, 'perciatelli': 2210, 'anchovy paste': 2211, 'swordfish steaks': 2212, 'chunky tomato salsa': 2213, 'fresh lavender': 2214, 'farro': 2215, 'fresh chervil': 2216, 'dark beer': 2217, 'muscovado sugar': 2218, \"I Can't Believe It's Not Butter!® Spread\": 2219, 'sweet potatoes or yams': 2220, 'dijon style mustard': 2221, 'focaccia': 2222, 'pork sausages': 2223, 'creme anglaise': 2224, 'mixed dried fruit': 2225, 'nonfat evaporated milk': 2226, 'pearl rice': 2227, 'bicarbonate of soda': 2228, 'rapeseed oil': 2229, 'white rice flour': 2230, 'raspberry preserves': 2231, 'sponge': 2232, 'doritos': 2233, 'chuck steaks': 2234, 'hatcho miso': 2235, 'japanese rice': 2236, 'pan drippings': 2237, 'liquid honey': 2238, 'boneless beef chuck roast': 2239, 'juniper berries': 2240, 'fresh chorizo': 2241, 'black trumpet mushrooms': 2242, 'chinese celery': 2243, 'e-fu noodl': 2244, 'shao hsing wine': 2245, 'white truffle oil': 2246, 'nonfat cottage cheese': 2247, 'custard powder': 2248, 'drippings': 2249, 'pickling salt': 2250, 'cloud ear fungus': 2251, 'lily flowers': 2252, 'soft tofu': 2253, 'Frangelico': 2254, 'masala': 2255, 'whole chicken': 2256, 'sirloin steak': 2257, 'ahi tuna steaks': 2258, 'minced pork': 2259, 'cabernet sauvignon': 2260, 'rump roast': 2261, 'blood orange juice': 2262, 'papaya': 2263, 'herb vinegar': 2264, 'fresh prawn': 2265, 'diced chicken': 2266, 'mirlitons': 2267, 'extra sharp white cheddar cheese': 2268, 'barley flakes': 2269, 'brown basmati rice': 2270, 'green split peas': 2271, 'no salt added chicken broth': 2272, 'no-salt-added black beans': 2273, 'pig': 2274, 'soda bread': 2275, 'hot dogs': 2276, 'italian style stewed tomatoes': 2277, 'veal stock': 2278, 'crepes': 2279, 'bottled balsamic vinaigrette': 2280, 'italian tomatoes': 2281, 'ground bison': 2282, 'beef smoked sausage': 2283, 'ear of corn': 2284, 'garlic chives': 2285, 'green garlic': 2286, 'whey': 2287, 'fried rice': 2288, 'khoa': 2289, 'rose essence': 2290, 'chana dal': 2291, 'poppyseeds': 2292, 'caviar': 2293, 'whole wheat pizza crust': 2294, 'greek-style vinaigrette': 2295, 'choy sum': 2296, 'dumplings': 2297, 'dried mixed herbs': 2298, 'cider': 2299, 'smoked bacon': 2300, 'armagnac': 2301, 'prunes': 2302, 'cocoa': 2303, 'chicken thigh fillets': 2304, 'creole spice mix': 2305, 'brine cured green olives': 2306, 'red': 2307, 'yams': 2308, 'pineapple juice concentrate': 2309, 'splenda no calorie sweetener': 2310, 'day old bread': 2311, 'tomato salsa': 2312, 'pizza sauce': 2313, 'flatbread': 2314, 'sliced kalamata olives': 2315, 'buttermilk biscuits': 2316, 'fatback': 2317, 'hog casings': 2318, 'pork shoulder butt': 2319, 'rioja': 2320, 'smoked sweet Spanish paprika': 2321, 'red vermouth': 2322, 'pork stew meat': 2323, 'stew meat': 2324, 'pork neck': 2325, 'turkey stock': 2326, 'cooked barley': 2327, 'oatmeal': 2328, 'pork blood': 2329, 'suet': 2330, 'chicken schmaltz': 2331, 'file powder': 2332, 'black tea leaves': 2333, 'ginseng': 2334, 'maple sugar': 2335, 'pie crust': 2336, 'comino': 2337, 'cane vinegar': 2338, 'dried cascabel chile': 2339, 'flounder fillets': 2340, 'satsuma orange': 2341, 'spaghettini': 2342, 'whole okra': 2343, 'Balsamico Bianco': 2344, 'ripe olives': 2345, 'sliced cucumber': 2346, 'sub buns': 2347, 'turkey breast': 2348, 'veal for stew': 2349, 'fillet red snapper': 2350, 'boneless chuck roast': 2351, 'coke': 2352, 'ravioli': 2353, 'meat loaf mix': 2354, 'rub': 2355, 'gorgonzola': 2356, 'canadian bacon': 2357, 'squash': 2358, 'condensed tomato soup': 2359, 'Tokyo negi': 2360, 'kamaboko': 2361, 'komatsuna': 2362, 'rosé wine': 2363, 'panettone': 2364, 'white cheese': 2365, 'fat free frozen top whip': 2366, 'sambuca': 2367, 'pierogi': 2368, 'buckwheat flour': 2369, 'dill tips': 2370, 'salmon roe': 2371, 'smoked salmon': 2372, 'calamansi juice': 2373, 'black bean sauce with garlic': 2374, 'frozen bread dough': 2375, 'branzino': 2376, 'taco meat': 2377, 'whole wheat breadcrumbs': 2378, 'ground mustard': 2379, 'macaroni': 2380, 'jerk marinade': 2381, 'scotch': 2382, 'refrigerated biscuits': 2383, 'mini phyllo dough shells': 2384, 'bows': 2385, 'sweet potatoes & yams': 2386, 'dill seed': 2387, 'ground oregano': 2388, 'hazelnut butter': 2389, 'milk chocolate': 2390, 'seitan': 2391, 'fig jam': 2392, 'chicken stock cubes': 2393, 'redfish fillet': 2394, 'ground turkey breast': 2395, 'sofrito': 2396, 'coconut juice': 2397, 'cooking liquid': 2398, 'kumquats': 2399, 'grilled chicken': 2400, 'somen': 2401, 'usukuchi soy sauce': 2402, 'unsweetened shredded dried coconut': 2403, 'cilantro root': 2404, 'brown mushroom': 2405, 'fresh parsley leaves': 2406, 'rouille': 2407, 'salad greens': 2408, 'whole grain dijon mustard': 2409, 'strip loin steak': 2410, 'pastry flour': 2411, 'chinese black vinegar': 2412, 'starch': 2413, 'reduced fat alfredo sauce': 2414, 'tortellini': 2415, 'black chicken': 2416, 'potato chips': 2417, 'rock salt': 2418, 'wheat crackers': 2419, 'baking spray': 2420, 'lavender': 2421, 'annatto powder': 2422, 'chinese eggplants': 2423, 'Tabasco Green Pepper Sauce': 2424, 'fat free greek yogurt': 2425, 'hummus': 2426, 'spanish chorizo': 2427, 'jamaican jerk spice': 2428, 'organic vegetable broth': 2429, 'whole milk greek yogurt': 2430, 'whole wheat pita': 2431, 'deveined shrimp': 2432, 'custard': 2433, 'powdered milk': 2434, 'prego traditional italian sauce': 2435, 'brown hash potato': 2436, 'fresh blueberries': 2437, 'kochujang': 2438, 'soft-wheat flour': 2439, 'bottle gourd': 2440, 'dried shrimp': 2441, 'palm oil': 2442, 'passion fruit': 2443, 'frozen cheese ravioli': 2444, 'St Germain Liqueur': 2445, 'cherry juice': 2446, 'cocktail cherries': 2447, 'oregano leaves': 2448, 'mild Italian sausage': 2449, 'port': 2450, 'sandwich rolls': 2451, 'white flour': 2452, 'Zatarain’s Jambalaya Mix': 2453, 'frozen peppers and onions': 2454, 'ground roasted sichuan peppers': 2455, 'potato flour': 2456, 'rotelle': 2457, 'sweet italian sausag links, cut into': 2458, 'french fried onions': 2459, 'wide egg noodles': 2460, 'sprite': 2461, 'idaho potatoes': 2462, 'orange pekoe tea': 2463, 'popcorn': 2464, 'marrow bones': 2465, 'diced lamb': 2466, 'puy lentils': 2467, 'spanish onion': 2468, 'essence': 2469, 'savory': 2470, 'sea bass': 2471, 'shredded pepper jack cheese': 2472, 'gluten-free chicken stock': 2473, 'pineapple chunks': 2474, 'wheat free soy sauce': 2475, 'canela': 2476, 'citrus vinaigrette': 2477, 'sliced salami': 2478, 'bread mix': 2479, 'cream style corn': 2480, 'sweet corn': 2481, 'curly leaf spinach': 2482, 'roasted cashews': 2483, 'banana blossom': 2484, 'bawang goreng': 2485, 'yellow bean sauce': 2486, 'neutral oil': 2487, 'wondra flour': 2488, 'dried prawns': 2489, 'greater yam': 2490, 'chile de arbol': 2491, 'flat leaf spinach': 2492, 'yellow mustard seeds': 2493, 'cured chorizo': 2494, 'bonito': 2495, 'brats': 2496, 'knockwurst': 2497, 'pinot blanc': 2498, 'red delicious apples': 2499, 'cinnamon rolls': 2500, 'boneless pork shoulder roast': 2501, 'chocolate syrup': 2502, 'shredded extra sharp cheddar cheese': 2503, 'creole seasoning mix': 2504, 'black forest ham': 2505, 'minced peperoncini': 2506, 'teleme': 2507, 'frozen lima beans': 2508, 'pheasant': 2509, 'rabbit': 2510, 'venison': 2511, 'jelly': 2512, 'bass': 2513, 'gyoza wrappers': 2514, 'bouillon cube': 2515, 'turkey breakfast sausage': 2516, 'tarama': 2517, 'grated horseradish': 2518, 'hot mustard': 2519, 'veal shanks': 2520, 'yukon gold': 2521, 'toasted nuts': 2522, 'five-spice powder': 2523, 'vinaigrette': 2524, 'paella rice': 2525, 'splenda granular': 2526, 'diced red onions': 2527, 'lemon peel': 2528, 'adzuki beans': 2529, 'chopped hazelnuts': 2530, 'gluten free vanilla extract': 2531, 'shredded mild cheddar cheese': 2532, 'orange rind': 2533, 'no-salt-added diced tomatoes': 2534, 'roasted pumpkin seeds': 2535, 'unbaked pie crusts': 2536, 'onion salt': 2537, 'fresh shiitake mushrooms': 2538, 'Irish whiskey': 2539, 'lobster meat': 2540, 'clotted cream': 2541, 'strawberry jam': 2542, 'vanilla essence': 2543, 'sobrasada': 2544, 'orange blossom extract': 2545, 'dried fettuccine': 2546, 'albacore tuna in water': 2547, 'turkey tenderloins': 2548, 'coco': 2549, 'cold milk': 2550, 'bacon grease': 2551, 'golden caster sugar': 2552, 'large free range egg': 2553, 'carrot greens': 2554, 'cranberries': 2555, 'raw almond': 2556, 'dried apple': 2557, 'ground sichuan pepper': 2558, 'roasting chickens': 2559, 'peaches in syrup': 2560, 'sliced carrots': 2561, 'currant': 2562, 'cookies': 2563, 'portobello caps': 2564, 'oil packed anchovy fillets': 2565, 'beef ribs': 2566, 'nonfat buttermilk': 2567, 'low-fat yogurt': 2568, 'black fungus': 2569, 'dumpling wrappers': 2570, 'non dairy milk': 2571, 'non-dairy margarine': 2572, 'pecan meal': 2573, 'french baguette': 2574, 'red serrano peppers': 2575, 'frozen carrots': 2576, 'honey glazed ham': 2577, 'chitterlings': 2578, 'ti leaves': 2579, 'baked ham': 2580, 'steamed brown rice': 2581, 'roast': 2582, 'knorr cilantro minicub': 2583, 'knorr parslei minicub': 2584, 'oxtails': 2585, 'extra wide egg noodles': 2586, 'mixed vegetables': 2587, 'semolina flour': 2588, 'soy glaze': 2589, 'chocolate wafer cookies': 2590, 'instant coffee': 2591, 'large tomato': 2592, 'Argo Corn Starch': 2593, 'karo': 2594, 'low-fat plain yogurt': 2595, 'beef demi-glace': 2596, 'mung beans': 2597, 'piecrust': 2598, 'smoked ham': 2599, 'Quinoa Flour': 2600, 'spelt flour': 2601, 'date sugar': 2602, 'fine granulated sugar': 2603, 'stuffing mix': 2604, 'avocado oil': 2605, 'fideos': 2606, 'lima beans': 2607, 'coconut extract': 2608, 'pure olive oil': 2609, 'whole wheat pita bread': 2610, 'heirloom tomatoes': 2611, 'cabbage leaves': 2612, 'bucatini': 2613, 'egg noodles, cooked and drained': 2614, 'habanero hot sauce': 2615, 'shell pasta': 2616, 'sardines': 2617, 'kirsch': 2618, 'soybean paste': 2619, 'tangerine juice': 2620, 'cooking fat': 2621, 'mexicorn': 2622, 'turkey meat': 2623, 'banana liqueur': 2624, 'coconut rum': 2625, 'cranberry juice': 2626, 'red drum': 2627, 'seedless red grapes': 2628, 'mantou': 2629, 'clear honey': 2630, 'harissa paste': 2631, 'Biryani Masala': 2632, 'lasagna noodles, cooked and drained': 2633, 'country style bread': 2634, 'teardrop tomatoes': 2635, 'fresh tuna steaks': 2636, 'ground sausage': 2637, 'pita pockets': 2638, 'Velveeta': 2639, 'worcestershire sauce low sodium': 2640, 'white chocolate': 2641, 'enokitake': 2642, 'shirataki': 2643, 'shungiku': 2644, 'watercress leaves': 2645, 'Melba toast': 2646, 'tawny port': 2647, 'stout': 2648, 'meringue': 2649, 'dark chicken stock': 2650, 'small capers, rins and drain': 2651, 'brown rice vinegar': 2652, 'cooked brisket': 2653, 'pickled radish': 2654, 'garlic mayonnaise': 2655, 'crema mexican': 2656, 'apple juice concentrate': 2657, 'sole': 2658, 'bouquet': 2659, 'gremolata': 2660, 'pekin duck breast halves': 2661, 'stolichnaya': 2662, 'vodka': 2663, 'fruit filling': 2664, 'pepperocini': 2665, 'tuna packed in olive oil': 2666, 'apple pie spice': 2667, 'candied lemon peel': 2668, 'small eggs': 2669, 'sweet rice wine': 2670, 'wonton skins': 2671, 'granulated white sugar': 2672, 'ox tongue': 2673, 'parsley flakes': 2674, 'dried wood ear mushrooms': 2675, 'vanilla flavoring': 2676, 'long grain brown rice': 2677, 'cherry peppers': 2678, 'dandelion': 2679, 'pink grapefruit': 2680, 'pink grapefruit juice': 2681, 'chopped cooked ham': 2682, 'minute steaks': 2683, 'low-fat vanilla ice cream': 2684, 'curly-leaf parsley': 2685, 'brown rice syrup': 2686, 'Old El Paso™ taco seasoning mix': 2687, 'sliced olives': 2688, 'roasted unsalted cashews': 2689, 'chopped leaves': 2690, \"Campbell's Condensed Cheddar Cheese Soup\": 2691, 'Pace Chunky Salsa': 2692, 'swanson beef broth': 2693, 'almond paste': 2694, 'tart cherries': 2695, 'tamales': 2696, 'mixed nuts': 2697, 'cuban peppers': 2698, 'meatballs': 2699, 'pork roll': 2700, 'roast pork seasoning mix': 2701, 'beef liver': 2702, 'skate wing': 2703, 'turkey sausage': 2704, 'cantal': 2705, 'chervil': 2706, 'wafer': 2707, 'beau monde seasoning': 2708, 'powdered gelatin': 2709, 'corn mix muffin': 2710, 'rice stick noodles': 2711, 'sunflower seed butter': 2712, 'chow mein noodles': 2713, 'jackfruit': 2714, 'sansho': 2715, 'skinless chicken pieces': 2716, 'pita rounds': 2717, 'shiromiso': 2718, 'bulk italian sausag': 2719, 'fiddlehead ferns': 2720, 'soybean sprouts': 2721, 'prebaked pizza crusts': 2722, 'artichoke bottoms': 2723, 'black truffles': 2724, 'oil packed anchovies': 2725, 'burdock': 2726, 'salsify': 2727, 'tamarind juice': 2728, 'grenadine': 2729, 'frozen lemonade concentrate': 2730, 'peach nectar': 2731, 'grapes': 2732, 'merguez sausage': 2733, 'fat free cream of mushroom soup': 2734, 'fatfre cream of chicken soup': 2735, 'low-fat shredded cheddar cheese': 2736, 'diced apples': 2737, 'pork rib chops': 2738, 'carnaroli rice': 2739, \"Hellmann's® Real Mayonnaise\": 2740, 'cornbread mix': 2741, 'queso asadero': 2742, 'candy bar': 2743, 'whole milk yoghurt': 2744, 'poi': 2745, 'sour orange juice': 2746, 'graham crackers': 2747, 'garlic bulb': 2748, 'salted peanuts': 2749, 'hot chili oil': 2750, 'crisps': 2751, 'cornflake crumbs': 2752, 'baby back ribs': 2753, 'fresh tofu': 2754, 'cavatappi': 2755, 'stir fry sauce': 2756, 'Spike Seasoning': 2757, 'organic tomato': 2758, 'small pasta': 2759, 'ground fennel': 2760, 'sharp white cheddar cheese': 2761, 'sliced turkey': 2762, 'low-fat refried beans': 2763, 'roasted white sesame seeds': 2764, 'bone-in pork chops': 2765, 'bengal gram': 2766, 'split black lentils': 2767, 'wish bone ranch dress': 2768, 'gelatin': 2769, 'rajma': 2770, 'Skippy Creamy Peanut Butter': 2771, 'banh hoi': 2772, 'tri tip': 2773, 'Italian herbs': 2774, 'fusilli': 2775, 'almond milk': 2776, 'açai': 2777, 'protein powder': 2778, 'tamarind pod': 2779, 'prepared pasta sauce': 2780, 'emerils original essence': 2781, 'diced yellow onion': 2782, 'shoulder meat': 2783, 'manicotti pasta': 2784, 'large snails': 2785, 'snail shells': 2786, 'haddock fillets': 2787, 'bread ciabatta': 2788, 'yellow hominy': 2789, 'converted rice': 2790, 'seafood': 2791, 'chicken sausage': 2792, 'spring roll skins': 2793, 'sea bass fillets': 2794, 'shredded coleslaw mix': 2795, 'beef tenderloin steaks': 2796, 'crab': 2797, 'small curd cottage cheese': 2798, 'corn-on-the-cob': 2799, 'large flour tortillas': 2800, 'small white beans': 2801, 'BACARDI® Mixers Margarita Mix': 2802, 'BACARDI® Superior': 2803, 'blueberries': 2804, 'blood sausage': 2805, 'toasted slivered almonds': 2806, 'yellow rice': 2807, 'baked beans': 2808, 'hollandaise sauce': 2809, 'tapioca': 2810, 'cardamom seeds': 2811, 'raw sugar': 2812, 'croissants': 2813, 'swiss steak': 2814, 'stick butter': 2815, 'chicken breast fillets': 2816, 'grated carrot': 2817, 'light butter': 2818, 'oats': 2819, 'celery flakes': 2820, 'breadstick': 2821, 'fronds': 2822, 'grated cotija': 2823, 'cranberry beans': 2824, 'ditalini': 2825, 'port wine': 2826, 'sorghum syrup': 2827, 'center cut bacon': 2828, 'california chile': 2829, 'annatto seeds': 2830, 'apple butter': 2831, 'light molasses': 2832, 'five spice': 2833, 'fresh chili': 2834, 'french onion soup': 2835, 'fish balls': 2836, 'chili bean paste': 2837, 'medium firm tofu': 2838, 'Margherita Pepperoni': 2839, 'soft-shell clams': 2840, 'sweet basil': 2841, 'dried black beans': 2842, 'orange slices': 2843, 'pork shoulder boston butt': 2844, 'pickling cucumbers': 2845, 'frozen green beans': 2846, 'lemon thyme': 2847, 'pitted green olives': 2848, 'bouillon granules': 2849, 'beef stew meat': 2850, 'reduced fat cheddar cheese': 2851, 'Haas avocados': 2852, 'prepared mustard': 2853, 'Ritz Crackers': 2854, 'sultana': 2855, \"Uncle Ben's Original Converted Brand rice\": 2856, 'extra large shrimp': 2857, 'cuttlefish balls': 2858, 'orange soda': 2859, 'compote': 2860, 'cointreau': 2861, 'KRAFT Zesty Italian Dressing': 2862, 'chunk light tuna in water': 2863, 'egg beaters': 2864, 'shredded low-fat sharp cheddar': 2865, 'raw milk': 2866, 'soy milk': 2867, 'dillweed': 2868, 'cacao powder': 2869, 'sesame chili oil': 2870, 'cocktail sauce': 2871, 'tartar sauce': 2872, 'baby eggplants': 2873, 'black walnut': 2874, 'wagon wheels': 2875, 'bing cherries': 2876, 'cherry gelatin': 2877, 'crushed pineapples in juice': 2878, 'chilegarlic sauce': 2879, 'green pumpkin seeds': 2880, 'low sodium diced tomatoes': 2881, 'sanding sugar': 2882, 'nian gao': 2883, 'frozen artichoke hearts': 2884, 'low sodium worcestershire sauce': 2885, 'rib-eye roast': 2886, 'cooking sherry': 2887, 'Emmenthal': 2888, 'Bragg Liquid Aminos': 2889, 'marrons': 2890, 'liver': 2891, 'ackee': 2892, 'dried salted codfish': 2893, 'dark ale': 2894, 'halibut': 2895, 'black lentil': 2896, 'sweet soy sauce': 2897, 'mixed seafood': 2898, 'pure vanilla': 2899, 'unsalted margarine': 2900, 'yellow corn': 2901, 'abalone': 2902, 'kewra essence': 2903, 'mutton': 2904, 'shahi jeera': 2905, 'KNUDSEN 2% Milkfat Low Fat Cottage Cheese': 2906, 'KRAFT Reduced Fat Shredded Mozzarella Cheese': 2907, 'soy nuts': 2908, 'thai noodles': 2909, 'rainbow trout': 2910, 'nopales': 2911, 'tostadas': 2912, 'Mo Qua': 2913, 'sweet pickle relish': 2914, 'asian chile paste': 2915, 'posole': 2916, 'burro banana': 2917, 'frozen banana leaf': 2918, 'pork country-style ribs': 2919, 'blue cheese': 2920, 'Saigon cinnamon': 2921, 'roasted ground cumin': 2922, 'collard green leaves': 2923, 'satsuma imo': 2924, 'sweet white miso paste': 2925, 'cheese soup': 2926, 'turkey burger': 2927, 'vegetable stock powder': 2928, 'havarti cheese': 2929, 'fish steaks': 2930, 'ocean perch': 2931, 'reduced fat monterey jack cheese': 2932, 'beef jerky': 2933, 'pork liver': 2934, 'crème de cassis': 2935, 'syrup': 2936, 'low-fat ricotta cheese': 2937, 'side pork': 2938, 'maltose': 2939, 'red preserved bean curd': 2940, 'caponata': 2941, 'cutlet': 2942, 'Baileys Irish Cream Liqueur': 2943, 'chocolate sprinkles': 2944, 'milk chocolate chips': 2945, 'white chocolate chips': 2946, 'hamburger': 2947, 'bocconcini': 2948, 'frozen chopped spinach, thawed and squeezed dry': 2949, 'part-skim mozzarella': 2950, 'peaches in heavy syrup': 2951, 'squirt': 2952, 'stevia extract': 2953, 'unsalted peanut butter': 2954, 'celery heart': 2955, 'cream of celery soup': 2956, 'mild pork sausage': 2957, 'peperoncino': 2958, 'Kerrygold Pure Irish Butter': 2959, 'imitation crab meat': 2960, 'Bertolli® Alfredo Sauce': 2961, 'linguine, cook and drain': 2962, 'McCormick® Pure Vanilla Extract': 2963, 'pie crust mix': 2964, 'diced ham': 2965, 'italian plum tomatoes': 2966, 'doenzang': 2967, 'kelp': 2968, 'fully cooked luncheon meat': 2969, 'sweet pickle': 2970, 'low sodium canned chicken stock': 2971, 'pink beans': 2972, 'strozzapreti': 2973, 'tasso': 2974, 'onion flakes': 2975, 'black cardamom pods': 2976, 'cube steaks': 2977, 'russet': 2978, 'Kraft Sun Dried Tomato Vinaigrette': 2979, 'English mustard': 2980, 'chop fine pecan': 2981, 'salmon': 2982, 'giblet': 2983, 'spelt': 2984, 'Italian turkey sausage': 2985, 'evaporated cane juice': 2986, 'deep dish pie crust': 2987, 'chopped ham': 2988, 'gin': 2989, 'orange segments': 2990, 'kimchi juice': 2991, 'cornish hens': 2992, 'lean minced beef': 2993, 'asian noodles': 2994, 'broccoli stems': 2995, 'knorr tomato bouillon with chicken flavor cube': 2996, 'ginseng tea': 2997, 'coke zero': 2998, 'high-gluten flour': 2999, 'pepperoni turkei': 3000, 'fajita seasoning mix': 3001, 'mahi mahi': 3002, 'cajun style stewed tomatoes': 3003, 'quince paste': 3004, 'sliced apples': 3005, 'curing salt': 3006, 'low fat reduced sodium pasta sauce': 3007, 'whole wheat submarine loaves': 3008, 'gluten-free pasta': 3009, 'lychees': 3010, 'fresh cod': 3011, 'dried leaves oregano': 3012, 'gumbo': 3013, 'ale': 3014, 'medium dry sherry': 3015, 'browning': 3016, 'truffles': 3017, 'beef bouillon': 3018, 'small pearl tapioca': 3019, 'pasta shells': 3020, 'chopped bell pepper': 3021, 'clove garlic, fine chop': 3022, 'sushi grade tuna': 3023, 'paratha': 3024, 'phyllo pastry': 3025, 'vegan butter': 3026, 'treacle': 3027, 'Hidden Valley® Original Ranch® Dips Mix': 3028, 'ground sage': 3029, 'halibut steak': 3030, 'horseradish sauce': 3031, 'perch fillets': 3032, 'citron': 3033, 'Chinese rose wine': 3034, 'macaroni and cheese dinner': 3035, 'calabrese sausage': 3036, 'pâte brisée': 3037, 'color food green': 3038, 'marzipan': 3039, 'rack of lamb': 3040, 'poblano': 3041, \"hellmann' or best food light mayonnais\": 3042, 'shredded monterey jack cheese': 3043, 'steak fillets': 3044, 'sushi vinegar': 3045, 'thin spaghetti': 3046, 'gravlax': 3047, 'butter-margarine blend': 3048, 'celery stick': 3049, 'chinese duck sauce': 3050, 'parmagiano reggiano': 3051, 'picholine': 3052, 'braeburn apple': 3053, 'nam pla': 3054, 'seedless cucumber': 3055, 'Dungeness crabs': 3056, 'basil dried leaves': 3057, 'sherry wine vinegar': 3058, 'brewed espresso': 3059, 'Dutch-processed cocoa powder': 3060, 'mullet': 3061, 'sea bream': 3062, 'striped bass': 3063, 'all potato purpos': 3064, 'dri oregano leaves, crush': 3065, 'knorr chipotl minicub': 3066, 'low-sodium fat-free chicken broth': 3067, 'beef drippings': 3068, 'dried fruit': 3069, 'frozen okra': 3070, 'pasta shell small': 3071, 'barley flour': 3072, '(   oz.) tomato paste': 3073, 'dry lasagna': 3074, 'trout': 3075, 'cornish game hens': 3076, 'sweet rice': 3077, 'dried minced garlic': 3078, 'reduced sodium refried beans': 3079, 'tex mex seasoning': 3080, 'lasagna sheets': 3081, 'Fuji Apple': 3082, 'radicchio leaves': 3083, 'vin santo': 3084, 'tomato basil sauce': 3085, 'swordfish fillets': 3086, 'cilantro pesto': 3087, 'tarragon vinegar': 3088, 'yellow split peas': 3089, 'sorghum': 3090, 'white kidney beans': 3091, 'caciocavallo': 3092, 'frying oil': 3093, 'huitlacoche': 3094, 'Jell-O Gelatin': 3095, 'crushed pretzels': 3096, 'red bartlett pears': 3097, 'cooked vegetables': 3098, 'red leaf lettuce': 3099, 'steak sauce': 3100, 'almond meal': 3101, 'turkey gravy': 3102, 'asian eggplants': 3103, 'ground Italian sausage': 3104, 'korma paste': 3105, 'lamb shoulder chops': 3106, 'less sodium beef broth': 3107, 'low-fat spaghetti sauce': 3108, 'mild cheddar cheese': 3109, 'globe eggplant': 3110, 'whole peel tomatoes, undrain and chop': 3111, 'lime leaves': 3112, 'collards': 3113, 'seedless watermelon': 3114, 'plain low fat greek yogurt': 3115, 'semi firm tofu': 3116, 'raspberry juice': 3117, 'peach slices': 3118, 'soft corn tortillas': 3119, 'stir fry beef meat': 3120, 'chocolate mousse': 3121, 'genoise': 3122, 'blackening seasoning': 3123, 'French lentils': 3124, 'pizza crust mix': 3125, 'bouquet garni': 3126, 'goose fat': 3127, 'haricot beans': 3128, 'white arborio rice': 3129, 'miniature chocolate chips': 3130, 'unsalted roasted pistachios': 3131, 'passion fruit juice': 3132, 'tomato soup': 3133, 'Nutella': 3134, 'basil olive oil': 3135, 'pomegranate molasses': 3136, 'asian barbecue sauce': 3137, 'mango chutney': 3138, 'breast of lamb': 3139, 'ham steak': 3140, 'graham cracker crusts': 3141, 'tagliatelle': 3142, 'quick cooking brown rice': 3143, 'medium curry powder': 3144, 'shortcrust pastry': 3145, 'chile verde': 3146, 'bittersweet chocolate chips': 3147, 'hazelnut meal': 3148, 'prepar pesto': 3149, 'rapid rise yeast': 3150, 'thin deli ham': 3151, 'flavoring': 3152, 'shuck corn': 3153, 'callaloo': 3154, 'pork tail': 3155, 'annatto': 3156, 'palm vinegar': 3157, 'london broil': 3158, 'apricot jam': 3159, 'ground blanched almonds': 3160, 'center cut pork chops': 3161, 'smoked cheddar cheese': 3162, 'shark steak': 3163, 'raita': 3164, 'Jarlsberg': 3165, 'raspberry liqueur': 3166, 'chinese red rice vinegar': 3167, 'pink peppercorns': 3168, 'belacan': 3169, 'pea eggplants': 3170, 'chilli paste': 3171, 'candied fruit': 3172, 'chocolate shavings': 3173, 'vermouth': 3174, 'Nilla Wafers': 3175, 'vanilla instant pudding': 3176, 'japanese cucumber': 3177, 'spicy sausage': 3178, 'habanero chile': 3179, 'grated kefalotiri': 3180, 'muscat': 3181, 'white grapefruit': 3182, 'borlotti beans': 3183, 'grissini': 3184, 'chile paste with garlic': 3185, 'fried eggs': 3186, 'basil mayonnaise': 3187, 'scrod': 3188, 'bottom round': 3189, 'white asparagus': 3190, 'reduced fat ricotta cheese': 3191, 'nonfat plain greek yogurt': 3192, 'nori sheets': 3193, 'candy sprinkles': 3194, 'chipotle sauce': 3195, 'peach purée': 3196, 'herbed goat cheese': 3197, 'fresh green peas': 3198, 'unbleached flour': 3199, 'tomatoes on the vine': 3200, 'low sodium chili sauce': 3201, 'sugar cane juice': 3202, 'dri leav rosemari': 3203, 'chile con queso': 3204, 'herb seasoning': 3205, 'dark leafy greens': 3206, 'polenta corn meal': 3207, 'zest': 3208, 'millet': 3209, 'saba': 3210, 'sumac': 3211, 'crumbles': 3212, 'leaf lettuce': 3213, 'cheese sauce': 3214, 'vegan cheese': 3215, \"Potatoes O'Brien\": 3216, 'masur dal': 3217, 'fowl': 3218, 'brown shrimp': 3219, 'frozen peaches': 3220, 'wheat starch': 3221, 'jamaican rum': 3222, 'risotto rice': 3223, 'fat skimmed reduced sodium chicken broth': 3224, 'cheddar cheese soup': 3225, 'lemon pepper seasoning': 3226, 'ginger beer': 3227, 'ginger liqueur': 3228, 'condensed reduced fat reduced sodium cream of mushroom soup': 3229, 'rock shrimp': 3230, 'splenda': 3231, 'low-fat cheddar': 3232, 'mild green chiles': 3233, 'pepperoni slices': 3234, 'whole wheat buns': 3235, 'taco seasoning reduced sodium': 3236, 'fajita size flour tortillas': 3237, 'white corn syrup': 3238, 'Domino Light Brown Sugar': 3239, 'spaghetti squash': 3240, 'fresh mozzarella balls': 3241, 'chicken carcass': 3242, 'fish fingers': 3243, 'fishcake': 3244, 'garland chrysanthemum': 3245, 'boneless beef sirloin steak': 3246, 'dried split peas': 3247, 'redcurrant jelly': 3248, 'chicken parts': 3249, 'sour cherries': 3250, 'enriched white rice': 3251, 'black turtle beans': 3252, 'spicy pork sausage': 3253, 'fresh pork fat': 3254, 'hickory-flavored liquid smoke': 3255, 'large sausage casing': 3256, 'pork meat': 3257, 'crumbled goat cheese': 3258, 'sweet mini bells': 3259, 'double concentrate tomato paste': 3260, 'wheat bread': 3261, 'Kewpie Mayonnaise': 3262, 'cream cheese with chives and onion': 3263, 'dried pappardelle': 3264, 'radish sprouts': 3265, 'bean soup mix': 3266, 'bass fillets': 3267, 'Angostura bitters': 3268, 'Best Foods® Real Mayonnaise': 3269, 'pork stock': 3270, 'habanero': 3271, 'gochugaru': 3272, 'fish broth': 3273, 'celery leaves': 3274, 'kewra': 3275, 'gumbo file': 3276, 'black bean and corn salsa': 3277, 'pepperidge farm puff pastry': 3278, 'tortilla shells': 3279, 'bean curd skins': 3280, 'turkey bacon': 3281, 'savoiardi': 3282, 'fresh udon': 3283, 'chicken base': 3284, 'whipped butter': 3285, 'arbol chile': 3286, 'bloody mary mix': 3287, 'dried pear': 3288, 'pear nectar': 3289, 'hot chili paste': 3290, 'chayotes': 3291, 'mortadella': 3292, 'Gourmet Garden Oregano': 3293, 'Gourmet Garden garlic paste': 3294, 'Johnsonville Andouille': 3295, 'Pompeian Canola Oil and Extra Virgin Olive Oil': 3296, 'Red Gold® diced tomatoes': 3297, 'condensed french onion soup': 3298, 'sparkling sugar': 3299, 'taro': 3300, 'chocolate cake mix': 3301, 'amaranth': 3302, 'tamale filling': 3303, 'smoked turkey sausage': 3304, 'broccoli slaw': 3305, 'low-fat greek yogurt': 3306, 'Swanson Chicken Broth': 3307, 'chicken gravy': 3308, 'Cointreau Liqueur': 3309, 'McCormick Ground Ginger': 3310, 'achiote': 3311, 'collard leaves': 3312, 'smoked turkey drumstick': 3313, 'red snapper': 3314, 'white distilled vinegar': 3315, 'cardamon': 3316, 'chèvre': 3317, 'bbq seasoning': 3318, 'kiwi fruits': 3319, 'curaçao': 3320, 'sparkling wine': 3321, 'Philadelphia Cooking Creme': 3322, 'pita loaves': 3323, 'American cheese': 3324, 'strawberry preserves': 3325, 'soy bean paste': 3326, 'umeboshi plum vinegar': 3327, 'red grape': 3328, 'codfish': 3329, 'low sodium taco seasoning': 3330, 'sliced chorizo': 3331, 'onion soup mix': 3332, 'Old El Paso Taco Seasoning Mix': 3333, 'char siu': 3334, 'Italian cheese blend': 3335, 'crumbled cheese': 3336, 'chocolate drink': 3337, 'mini m&ms': 3338, 'celery root': 3339, 'bolillo': 3340, 'canned chipotles': 3341, 'pork cutlets': 3342, 'string cheese': 3343, 'guinea hens': 3344, 'rendered duck fat': 3345, 'loin': 3346, 'old ginger': 3347, 'sandwich steak': 3348, 'fuji apples': 3349, 'flavored syrup': 3350, \"Piment d'Espelette\": 3351, 'sliced tomatoes': 3352, 'sandwich buns': 3353, 'achiote powder': 3354, 'dal': 3355, 'dried dill': 3356, 'whole wheat hamburger buns': 3357, 'Crystal Farms® Shredded Cheddar Cheese': 3358, 'old fashioned stone ground grits': 3359, 'white tuna': 3360, 'ragu': 3361, 'shucked oysters': 3362, 'dried guajillo chiles': 3363, 'Thai chili paste': 3364, 'nuoc mam': 3365, 'jack daniels': 3366, \"JOHNSONVILLE® Hot 'N Spicy Brats\": 3367, 'diced tomatoes and green chilies': 3368, 'peach schnapps': 3369, 'raspberry puree': 3370, 'ragu cheesi classic alfredo sauc': 3371, 'min': 3372, 'Barilla Oven-Ready Lasagne': 3373, 'coulis': 3374, 'reduced fat firm tofu': 3375, 'brine': 3376, 'grape leaves': 3377, 'macadamia nuts': 3378, 'coffee low-fat frozen yogurt': 3379, 'espresso beans': 3380, 'nonfat yogurt plain': 3381, 'chuck short ribs': 3382, 'prune juice': 3383, 'dried pineapple': 3384, 'poha': 3385, 'taco bell home originals': 3386, 'sugarcane': 3387, 'chinese ham': 3388, 'lamb stock': 3389, 'roti': 3390, 'dried lavender': 3391, 'baby radishes': 3392, 'cress': 3393, 'masoor dal': 3394, 'chia seeds': 3395, 'coconut flakes': 3396, 'haddock': 3397, 'reduced fat Mexican cheese': 3398, 'vegetarian protein crumbles': 3399, 'chardonnay': 3400, 'treviso': 3401, 'claws': 3402, 'top loin': 3403, 'lamb breast': 3404, 'soya bean': 3405, 'extra virgin coconut oil': 3406, 'dried peach': 3407, 'tart apples': 3408, 'persimmon': 3409, 'sea cucumber': 3410, 'Hawaiian salt': 3411, 'cacao nibs': 3412, 'cashew butter': 3413, 'frozen mango': 3414, 'hemp seeds': 3415, 'pitted cherries': 3416, 'raw buckwheat groats': 3417, 'sliced mango': 3418, 'french toast': 3419, 'orange flavored brandy': 3420, 'tandoori seasoning': 3421, 'Chianti': 3422, 'boar': 3423, 'stilton cheese': 3424, 'adobo seasoning': 3425, 'uncooked vermicelli': 3426, 'smoked fully cooked ham': 3427, 'comice pears': 3428, 'satsumas': 3429, 'bone-in chicken': 3430, 'garlic shoots': 3431, 'barbecued pork': 3432, 'taleggio': 3433, 'yellow summer squash': 3434, 'honey mustard': 3435, 'tea cake': 3436, 'pumpkin seed oil': 3437, 'catalina dressing': 3438, 'boneless skinless chicken thigh fillets': 3439, 'butterflied leg of lamb': 3440, 'rice sticks': 3441, 'limeade concentrate': 3442, 'cream sherry': 3443, 'preserves': 3444, 'duck drumsticks': 3445, 'baby greens': 3446, 'Betty Crocker™ oatmeal cookie mix': 3447, 'Yoplait® Greek 100 blackberry pie yogurt': 3448, 'sliced green olives': 3449, 'chicken-flavored soup powder': 3450, 'unsweetened almond milk': 3451, 'sweet chocolate': 3452, 'new york strip steaks': 3453, 'thin rice stick noodles': 3454, 'KRAFT Mexican Style Finely Shredded Four Cheese': 3455, 'picholine olives': 3456, 'sweet soy': 3457, 'pineapple slices': 3458, 'brisket': 3459, 'brown ale': 3460, 'char siu sauce': 3461, 'rump steak': 3462, 'chinese roast pork': 3463, 'cucumber salad': 3464, 'safflower': 3465, 'broiler': 3466, 'small new potatoes': 3467, 'white button mushrooms': 3468, 'maple extract': 3469, 'maple flavored extract': 3470, 'vanilla bean paste': 3471, 'lowfat pepper jack cheese': 3472, 'whole grain English muffins': 3473, 'shoga': 3474, 'remoulade': 3475, 'katsuo bushi': 3476, 'rice pilaf': 3477, 'low sodium vegetable juice': 3478, 'green grape': 3479, 'shrimp stock': 3480, 'ice cream': 3481, 'vanilla low-fat ic cream': 3482, 'sweet yellow corn': 3483, 'chile negro': 3484, 'new mexico chile pods': 3485, 'Thai chili garlic sauce': 3486, 'groundnut': 3487, 'black cod fillets': 3488, 'roast beef': 3489, 'mostaccioli': 3490, 'corn kernel whole': 3491, 'chicken soup base': 3492, 'uncle bens': 3493, 'matzo meal': 3494, 'chapati flour': 3495, 'pastis': 3496, 'rome apples': 3497, 'grated pecorino': 3498, 'guanciale': 3499, 'roquefort cheese': 3500, 'wine vinegar': 3501, 'soft shelled crabs': 3502, 'dessert wine': 3503, 'ruby port': 3504, 'grill seasoning': 3505, 'oil-cured black olives': 3506, 'boneless country pork ribs': 3507, 'peppadews': 3508, 'low fat mozzarella': 3509, 'double crust pie': 3510, 'cooked rigatoni': 3511, 'cranberry juice cocktail': 3512, 'rock cornish game hens': 3513, 'extra fine granulated sugar': 3514, 'promise buttery spread': 3515, 'organic cane sugar': 3516, 'Hidden Valley® Original Ranch® Dressing': 3517, 'flour tortillas (not low fat)': 3518, 'brioche': 3519, 'whole crab': 3520, 'sorrel': 3521, 'strawberry syrup': 3522, 'virgin olive oil': 3523, 'condensed cream of celery soup': 3524, 'fresh yeast': 3525, 'beef shoulder': 3526, 'pickled beets': 3527, 'pullman loaf': 3528, 'cherry coke': 3529, 'chicken salad': 3530, 'reduced fat mayonnaise': 3531, 'bouillon': 3532, 'uncooked ziti': 3533, 'ruby red grapefruit': 3534, 'smoked turkey breast': 3535, 'prepared lasagne': 3536, 'stewing hen': 3537, 'beef deli roast slice thinli': 3538, 'yellow miso': 3539, 'gluten free chicken broth': 3540, 'gluten-free baking powder': 3541, 'nonhydrogenated margarine': 3542, 'chinese baby corn': 3543, \"I Can't Believe It's Not Butter!® All Purpose Sticks\": 3544, 'Chinese rice vinegar': 3545, 'herbsaint': 3546, 'rye whiskey': 3547, 'sweet chorizo': 3548, 'Adobo All Purpose Seasoning': 3549, 'sazon seasoning': 3550, 'black cumin seeds': 3551, 'boneless pork tenderloin': 3552, 'assorted fresh vegetables': 3553, 'korean chile': 3554, 'carbonated water': 3555, 'lambrusco': 3556, 'barramundi fillets': 3557, 'spaghetti sauce seasoning mix': 3558, 'chicken-apple sausage': 3559, 'waffle': 3560, 'chicken breast tenderloins': 3561, 'baby kale': 3562, \"Campbell's Condensed Cream of Mushroom Soup\": 3563, 'meyer lemon': 3564, \"pig's trotters\": 3565, 'yellow chives': 3566, 'mashed banana': 3567, 'farofa': 3568, 'longaniza': 3569, 'hand': 3570, 'chenpi': 3571, 'chinese wheat noodles': 3572, 'bean soup': 3573, 'Accent Seasoning': 3574, 'endive': 3575, 'cho-cho': 3576, 'jamaican pumpkin': 3577, 'canned coconut milk': 3578, 'shredded reduced fat reduced sodium swiss cheese': 3579, 'reduced fat shredded cheese': 3580, 'guajillo chile powder': 3581, 'shimeji mushrooms': 3582, 'tuna packed in water': 3583, 'oyster-flavor sauc': 3584, 'sherry wine': 3585, 'cauliflowerets': 3586, 'dry rub': 3587, 'kaffir lime': 3588, 'candied citron peel': 3589, 'coca-cola': 3590, 'butter oil': 3591, 'beef bones': 3592, 'french sandwich rolls': 3593, 'low sodium beef stock': 3594, 'McCormick Ground White Pepper': 3595, 'McCormick Poppy Seed': 3596, 'frozen shelled edamame': 3597, 'dhaniya powder': 3598, 'heeng': 3599, 'distilled vinegar': 3600, 'Hidden Valley® Original Ranch® Spicy Ranch Dressing': 3601, 'bone in skin on chicken thigh': 3602, 'French mustard': 3603, 'arrowroot starch': 3604, 'italian seasoned dry bread crumbs': 3605, 'spaghetti, cook and drain': 3606, 'diced potatoes': 3607, 'walnut oil': 3608, 'walnut pieces': 3609, 'shredded Italian cheese': 3610, 'veggie crumbles': 3611, 'veal kidneys': 3612, 'non stick spray': 3613, 'crusty loaf': 3614, 'reduced sodium beef broth': 3615, 'pumpkinseed kernels': 3616, 'minced meat': 3617, 'Johnsonville Mild Italian Sausage Links': 3618, 'red chile sauce': 3619, 'CURRY GUY Smoked Spicy Salt': 3620, 'fat-free buttermilk': 3621, 'pomelo': 3622, 'spearmint': 3623, 'toor dal': 3624, 'winter melon': 3625, 'pure maple syrup': 3626, 'pasta wagon wheel': 3627, 'fresh angel hair': 3628, 'franks': 3629, 'cooking apples': 3630, 'seafood breader': 3631, 'carnitas': 3632, 'bacon pieces': 3633, 'drummettes': 3634, 'Ciabatta rolls': 3635, 'turkey kielbasa': 3636, 'andouille chicken sausage': 3637, 'red grapefruit': 3638, 'dashi powder': 3639, 'shiso leaves': 3640, 'cavatelli': 3641, 'tarragon leaves': 3642, 'chocolate chips': 3643, 'nutritional yeast flakes': 3644, 'plain soy yogurt': 3645, 'boneless chicken thigh fillets': 3646, 'mango nectar': 3647, 'unsalted almonds': 3648, 'sandwiches': 3649, 'cream of coconut': 3650, 'salt water': 3651, 'Johnsonville Smoked Sausage': 3652, 'sangria': 3653, 'sparkling sangria tradicional': 3654, 'candied cherries': 3655, 'mandarin pancakes': 3656, 'ramen': 3657, 'champagne grapes': 3658, 'Knudsen Light Sour Cream': 3659, 'redfish': 3660, 'Spring! Water': 3661, 'egg pasta': 3662, 'patis': 3663, 'prepared coleslaw': 3664, 'parboiled rice': 3665, 'cold cut': 3666, 'center-cut salmon fillet': 3667, 'mochiko': 3668, 'spring water': 3669, 'toasted wheat germ': 3670, 'fresh cranberries': 3671, 'brown rice flour': 3672, 'sweet corn kernels': 3673, 'lemon dressing': 3674, 'rosewater': 3675, 'mexican cooking sauce': 3676, 'lemonade': 3677, 'arrowroot': 3678, 'pita wedges': 3679, 'lean ground meat': 3680, 'pearl tapioca': 3681, 'lotus seeds': 3682, 'lamb sausage': 3683, 'summer savory': 3684, 'tallow': 3685, 'dukkah': 3686, 'flaxseed': 3687, 'cream of shrimp soup': 3688, 'Kahlua Liqueur': 3689, 'A Taste of Thai Rice Noodles': 3690, 'bologna': 3691, 'homemade vegetable stock': 3692, 'Amaretti Cookies': 3693, 'low-fat cream cheese': 3694, 'seltzer': 3695, 'lamb rib chops': 3696, 'chinese mustard': 3697, 'holy basil': 3698, 'Alaskan king crab legs': 3699, 'asakusa nori': 3700, 'osetra caviar': 3701, 'chocolate baking bar': 3702, 'grit quick': 3703, 'links': 3704, 'accent': 3705, 'rich chicken stock': 3706, 'pea pods': 3707, 'sugar cane': 3708, 'chocolate curls': 3709, 'dark crème de cacao': 3710, 'peppermint extract': 3711, 'crumbled ricotta salata cheese': 3712, 'gyoza skins': 3713, 'organic granulated sugar': 3714, 'batter': 3715, 'satsuma juice': 3716, 'romaine lettuce hearts': 3717, 'recipe crumbles': 3718, '95% lean ground beef': 3719, 'shrimp heads': 3720, 'agar': 3721, 'cake yeast': 3722, 'garlic oil': 3723, 'flaked': 3724, 'smoked haddock': 3725, 'reduced fat ranch dressing': 3726, 'shoepeg corn': 3727, 'beef rib roast': 3728, 'fat free reduced sodium chicken broth': 3729, 'red bliss potato': 3730, 'fermented bean curd': 3731, 'raw cane sugar': 3732, 'Estancia Pinot Noir': 3733, 'mung bean noodles': 3734, 'Scotch whisky': 3735, 'green plantains': 3736, 'earl grey tea leaves': 3737, 'cream ic peach': 3738, 'distilled malt vinegar': 3739, 'tenderloin steaks': 3740, 'queso blanco': 3741, 'mahi mahi fillets': 3742, 'merlot': 3743, 'poundcake': 3744, 'blueberry pie filling': 3745, 'powdered vanilla pudding mix': 3746, 'mature cheddar': 3747, 'whole wheat couscous': 3748, 'chinese leaf': 3749, 'free-range eggs': 3750, 'black pudding': 3751, 'cockles': 3752, 'razor clams': 3753, 'coconut water': 3754, 'young coconut meat': 3755, 'sour milk': 3756, 'braising beef': 3757, 'white cake mix': 3758, 'ginger purée': 3759, 'piment despelette': 3760, 'unsalted vegetable stock': 3761, 'whole wheat french bread': 3762, 'Italian cheese': 3763, 'crostini': 3764, 'strawberry yogurt': 3765, 'corn niblets': 3766, 'mesclun': 3767, 'yu choy': 3768, 'field lettuce': 3769, 'bread, cut into italian loaf': 3770, 'pancake': 3771, 'sweet mustard': 3772, 'chunky': 3773, 'muesli': 3774, 'Indian spice': 3775, 'tempeh': 3776, 'ground coffee': 3777, 'leg of veal': 3778, 'melon': 3779, 'kaiser rolls': 3780, 'sodium free chicken broth': 3781, 'reduced fat provolone cheese': 3782, 'whole peppercorn': 3783, 'marmalade': 3784, 'full fat coconut milk': 3785, 'boneless turkey breast': 3786, 'pinhead oatmeal': 3787, 'caramels': 3788, 'cola': 3789, 'ficelle': 3790, 'chat masala': 3791, 'quick-cooking oats': 3792, 'oil of orange': 3793, 'black gram': 3794, 'sausage meat': 3795, 'hawaiian sweet rolls': 3796, 'oloroso sherry': 3797, 'beer batter': 3798, 'purple grapes': 3799, 'low-fat vegetarian chili with beans': 3800, 'dried chives': 3801, 'crispy rice cereal': 3802, 'citrus slices': 3803, 'kirschenliqueur': 3804, 'kirschwasser': 3805, 'mezcal': 3806, 'quick oats': 3807, 'peach vodka': 3808, 'Pale Ale': 3809, 'sliced pears': 3810, 'cereal': 3811, 'popped popcorn': 3812, 'Edam': 3813, 'rib pork chops': 3814, 'dried kelp': 3815, 'stew': 3816, 'reduced-sodium tamari sauce': 3817, 'wildflower honey': 3818, 'almond liqueur': 3819, 'Massaman curry paste': 3820, 'salted roasted pecans': 3821, 'caramel ice cream': 3822, 'unseasoned breadcrumbs': 3823, 'grana': 3824, 'cabbage head': 3825, 'canned tuna': 3826, 'pimento stuffed olives': 3827, 'sugarcane juice': 3828, 'flanken short ribs': 3829, 'boudin': 3830, 'kidney': 3831, 'aged Manchego cheese': 3832, '(14.5 oz.) diced tomatoes': 3833, 'banana leaves': 3834, 'buttermilk ranch dressing': 3835, 'gemelli': 3836, 'jerk sauce': 3837, 'meatloaf': 3838, 'opo squash': 3839, 'low fat plain yoghurt': 3840, 'cornflakes': 3841, 'papad': 3842, 'low sodium tomato sauce': 3843, 'low-fat mozzarella cheese': 3844, 'szechuan sauce': 3845, 'mint sauce': 3846, 'roasted almonds': 3847, 'chinese celery cabbage': 3848, 'free-range chickens': 3849, 'matcha': 3850, 'pineapple rings': 3851, 'jerusalem artichokes': 3852, 'microgreens': 3853, 'roasted pistachios': 3854, 'gherkins': 3855, 'rich turkey stock': 3856, 'chees mozzarella stick': 3857, 'homemade chicken broth': 3858, '1% low-fat chocolate milk': 3859, 'gluten flour': 3860, 'black bean garlic sauce': 3861, 'lobster tails': 3862, 'sugarcane sticks': 3863, 'shelled shrimp': 3864, 'beef shoulder roast': 3865, 'riesling': 3866, 'roux': 3867, 'dried Thai chili': 3868, 'urad dal split': 3869, 'baby zucchini': 3870, 'mild sausage': 3871, 'gingersnap crumbs': 3872, 'kelp noodles': 3873, 'red bean paste': 3874, 'Heinz Chili Sauce': 3875, 'frozen cod fillets': 3876, 'avocado leaves': 3877, 'frozen broccoli florets': 3878, 'knorr italian side   creami garlic shell': 3879, 'anasazi beans': 3880, 'fresh spinach leaves, rins and pat dry': 3881, \"i can't believ it' not butter! made with olive oil spread\": 3882, 'sauterne': 3883, 'cajun spice mix': 3884, 'toasted coconut': 3885, 'ginger piece': 3886, 'green gram': 3887, 'toasted pumpkinseeds': 3888, 'low sodium teriyaki sauce': 3889, 'turkey salami': 3890, 'dark muscovado sugar': 3891, 'mixed peel': 3892, 'self raising flour': 3893, 'Lea & Perrins Worcestershire Sauce': 3894, 'loaves': 3895, 'onion rings': 3896, 'beaujolais': 3897, 'sambal olek': 3898, 'Hidden Valley® Original Ranch Salad® Dressing & Seasoning Mix': 3899, 'pork cubes': 3900, 'jalape': 3901, 'banana bread': 3902, 'chocolate chip cookie dough ice cream': 3903, 'chocolate ice cream': 3904, 'lean bacon': 3905, 'pea shoots': 3906, 'graham cracker pie crust': 3907, 'whipped cream cheese': 3908, 'Conimex Wok Olie': 3909, 'Conimex Woksaus Specials Vietnamese Gember Knoflook': 3910, 'chicken gizzards': 3911, 'raw prawn': 3912, 'sugar cubes': 3913, 'ajinomoto': 3914, 'lacinato kale': 3915, 'prego fresh mushroom italian sauce': 3916, 'coarse ground mustard': 3917, 'italian style seasoning': 3918, 'Bisquick Baking Mix': 3919, \"Old El Paso™ Thick 'n Chunky salsa\": 3920, 'pink salmon': 3921, 'valencia rice': 3922, 'low sodium tomato juice': 3923, 'baby broccoli': 3924, 'whole wheat penne pasta': 3925, 'catsup': 3926, 'kosher wine': 3927, 'lime peel': 3928, 'soursop': 3929, 'rape': 3930, 'pork butt roast': 3931, 'cake mix': 3932, 'pie pastry': 3933, 'fresh flounder fillets': 3934, 'dumpling skins': 3935, 'dri thyme leaves, crush': 3936, 'dried arbol chile': 3937, 'boneless beef round steak': 3938, 'pickling liquid': 3939, 'chicken chorizo sausages': 3940, 'mini pepperoni slices': 3941, 'textured soy protein': 3942, 'cream cheese with chives': 3943, 'tropical fruits': 3944, 'Velveeta Cheese Spread': 3945, 'anise basil': 3946, 'rice paddy herb': 3947, 'Praline Liqueur': 3948, 'green chard': 3949, 'dried plum': 3950, 'India Pale Ale': 3951, 'silver': 3952, 'green soybeans': 3953, 'rounds': 3954, 'banger': 3955, 'roasted chili paste': 3956, 'lentilles du puy': 3957, 'mango salsa': 3958, 'refried black beans': 3959, 'chocolate spread': 3960, 'morsels': 3961, '7 Up': 3962, 'blanco tequila': 3963, 'low sodium pinto beans': 3964, 'meat sauce': 3965, 'seafood base': 3966, 'unsweetened vanilla almond milk': 3967, 'cherry pie filling': 3968, '40% less sodium taco seasoning': 3969, 'unsweetened applesauce': 3970, 'DeLallo Extra Virgin Olive Oil': 3971, 'carpaccio': 3972, 'pisco': 3973, 'malt syrup': 3974, 'america': 3975, 'chilcostle chile': 3976, 'Johnsonville Hot & Spicy Breakfast Links': 3977, 'pozole': 3978, 'irish cream liqueur': 3979, 'turkey mince': 3980, 'deli rolls': 3981, 'decorating sugars': 3982, 'lower sodium beef broth': 3983, 'linguica': 3984, \"Best Food's Mayonnaise with Lime Juice\": 3985, 'pork tenderloin medallions': 3986, 'Godiva Chocolate Liqueur': 3987, 'marshmallow vodka': 3988, 'gluten-free breadcrumbs': 3989, 'gluten-free rolled oats': 3990, 'pot roast': 3991, 'beef marrow': 3992, 'root vegetables': 3993, 'Knorr® Pasta Sides™ - Alfredo': 3994, 'calf liver': 3995, 'dry gin': 3996, 'borage': 3997, 'medium whole wheat tortillas': 3998, 'cooked italian meatballs': 3999, 'low fat cream': 4000, 'campanelle': 4001, 'blue curaçao': 4002, 'vegetable slaw': 4003, 'corn muffin': 4004, 'shaved chocolate': 4005, 'shell steak': 4006, 'ground pecans': 4007, 'cuminseed': 4008, 'pappadams': 4009, 'apple jelly': 4010, 'unsalted pumpkinseed kernels': 4011, 'escargot': 4012, 'reposado': 4013, 'potato flakes': 4014, 'blackcurrant syrup': 4015, 'jelli strawberri': 4016, 'high-fructose corn syrup': 4017, 'long pepper': 4018, 'black rice': 4019, 'nonfat dry milk powder': 4020, '2% low-fat cottage cheese': 4021, 'hero rolls': 4022, 'Johnsonville Andouille Fully Cooked Sausage': 4023, 'Klondike Rose red skin potato': 4024, 'pork sirloin roast': 4025, 'merluza': 4026, 'ancho': 4027, 'rendered bacon fat': 4028, 'fresh pasta': 4029, 'wild garlic': 4030, 'Herdez Salsa Casera': 4031, 'Herdez Salsa Verde': 4032, 'white tequila': 4033, 'milkfish': 4034, 'french fries': 4035, 'unsalted pistachios': 4036, 'vegetable bouillon': 4037, 'lamb fillet': 4038, 'red anjou pears': 4039, 'asian rice noodles': 4040, 'drambuie': 4041, 'grenadine syrup': 4042, 'vanilla glaze': 4043, 'pies': 4044, 'Knorr Chicken Stock Pots': 4045, 'rice powder': 4046, 'toasted unsweetened coconut': 4047, 'apricot brandy': 4048, 'flavored vodka': 4049, 'parmigiano': 4050, 'natural pistachios': 4051, 'pear juice': 4052, 'hearts of romaine': 4053, 'roast beef deli meat': 4054, 'low sodium garbanzo beans': 4055, 'oliv pit ripe': 4056, 'preshred low fat mozzarella chees': 4057, 'gram dal': 4058, 'fresh brussels sprouts': 4059, 'garlic bread': 4060, 'condensed cream of potato soup': 4061, 'lady fingers': 4062, 'dried mango': 4063, 'chopped bacon': 4064, 'frozen meatballs': 4065, 'quail eggs': 4066, 'sweet & sour stir fry sauce': 4067, 'butter pecan cake mix': 4068, 'leek tops': 4069, 'Swanson Vegetable Broth': 4070, 'marjoram leaves': 4071, 'whole wheat bread flour': 4072, 'burrata': 4073, 'lamb seasoning': 4074, 'empanada wrappers': 4075, 'leg quarters': 4076, 'glace de viande': 4077, 'peperoncini': 4078, 'cubed ham': 4079, 'sweet relish': 4080, 'vanilla wafer crumbs': 4081, 'prepared guacamole': 4082, 'luncheon meat': 4083, 'beef sausage': 4084, 'knorr chicken flavor bouillon cube': 4085, 'meat tenderizer': 4086, 'turkey breast tenderloins': 4087, 'canned jalapeno peppers': 4088, 'papalo': 4089, 'ikura': 4090, 'cereal flakes': 4091, 'cassia cinnamon': 4092, 'maifun': 4093, 'freeze-dried strawberries': 4094, 'kalamata olive halves': 4095, 'apple pie filling': 4096, 'Asian sweet chili sauce': 4097, 'pork fillet': 4098, 'whole wheat rotini pasta': 4099, 'bean sauce': 4100, 'biscuit dough': 4101, 'cheese sticks': 4102, 'clamato juice': 4103, 'french dressing': 4104, 'beef heart': 4105, 'frozen sweet peas': 4106, 'dried barberries': 4107, 'raw pistachios': 4108, 'Japanese turnips': 4109, 'double-dark soi sauc': 4110, 'white rice vinegar': 4111, 'sweet white miso': 4112, 'kim chee': 4113, 'pork spare ribs': 4114, 'lobster stock': 4115, 'baking yeast': 4116, 'au jus mix': 4117, 'pepperoncini': 4118, 'reduced sodium chicken stock': 4119, 'apple schnapps': 4120, 'sorghum molasses': 4121, 'butter flavor vegetable shortening': 4122, 'alfredo sauce mix': 4123, 'baking chocolate': 4124, 'store bought low sodium vegetable stock': 4125, 'green apples': 4126, 'canned peas and carrots': 4127, 'foccacia': 4128, 'chicken breast strips': 4129, 'fat-free reduced-sodium chicken broth': 4130, 'less sodium soy sauce': 4131, 'Italian basil': 4132, 'beef base': 4133, 'eye of round steak': 4134, 'blade steak': 4135, 'whole wheat spaghettini': 4136, 'cream cheese frosting': 4137, 'kasseri': 4138, 'Robert Mondavi Fume Blanc': 4139, 'nuoc cham': 4140, 'sambal chile paste': 4141, 'whole grain pasta': 4142, 'tap water': 4143, 'extract': 4144, 'cod cheeks': 4145, 'sandwich bread': 4146, 'sundried tomato pesto': 4147, 'dried fish flakes': 4148, 'bulb': 4149, 'vegetable gumbo mixture': 4150, 'smoked pork neck bones': 4151, 'braising steak': 4152, 'frozen basil': 4153, 'red wine vinaigrette': 4154, 'Asian chili sauce': 4155, 'fruit puree': 4156, 'chinese wolfberries': 4157, 'wholemeal flour': 4158, 'black mushrooms': 4159, 'lavender honey': 4160, 'toasted baguette': 4161, 'light cream or half and half': 4162, 'lipton green tea bag': 4163, 'Knorr® Fiesta Sides™ - Mexican Rice': 4164, 'boneless sirloin steak': 4165, 'millet flour': 4166, 'mo hanh': 4167, 'bone broth': 4168, 'rockfish': 4169, 'veal demi-glace': 4170, 'soft taco size flour tortillas': 4171, 'pinot noir': 4172, 'queso manchego': 4173, 'campari': 4174, 'meringue nests': 4175, 'Yakisoba noodles': 4176, 'tentacles': 4177, 'camembert': 4178, 'steak seasoning': 4179, 'earl grey tea bags': 4180, 'reduced sodium vegetable broth': 4181, 'ground caraway': 4182, 'tonkatsu sauce': 4183, 'fish paste': 4184, 'filo dough': 4185, 'hot sausage': 4186, 'Land O Lakes® Butter': 4187, 'channa dal': 4188, 'crumbled cornbread': 4189, 'Cavenders Greek Seasoning': 4190, 'white tuna in water': 4191, 'brown chicken stock': 4192, 'refined sugar': 4193, 'Burgundy wine': 4194, 'bone in': 4195, 'gravy mix mushroom': 4196, 'fast rising yeast': 4197, 'vegetable fats': 4198, 'unsalted beef stock': 4199, 'Meyer lemon juice': 4200, 'Ortega Tostada Shells': 4201, 'chunky mild salsa': 4202, 'high gluten bread flour': 4203, 'aka miso': 4204, 'shiro miso': 4205, 'eye of round roast': 4206, 'tofu puffs': 4207, 'lamb bouillon cube': 4208, 'asafetida (powder)': 4209, 'Knorr® Fiesta Sides Spanish Rice': 4210, 'pork rub': 4211, 'mi': 4212, 'kabocha squash': 4213, 'nacho chips': 4214, 'chocolate chunks': 4215, 'regular sour cream': 4216, 'sweet peas': 4217, 'sheepshead': 4218, 'dried scallops': 4219, 'virginia ham': 4220, 'pimenton de la vera': 4221, 'wheat cereal': 4222, 'Mizkan Oigatsuo Tsuyu Soup Base': 4223, 'gyoza': 4224, 'cooking salt': 4225, 'bihon': 4226, 'soft sandwich rolls': 4227, 'lipton recip secret golden onion soup mix': 4228, 'toffee sauce': 4229, 'green tomato relish': 4230, 'iceberg': 4231, 'asian black bean sauce': 4232, 'beef bouillon powder': 4233, 'jumbo macaroni shells': 4234, 'low sodium low fat pasta sauce': 4235, 'miso sesame grilling sauce': 4236, 'bechamel': 4237, 'shaved parmesan cheese': 4238, 'cross rib roast': 4239, 'turkey sausage links': 4240, 'italian pork sausage': 4241, '8 ounc ziti pasta, cook and drain': 4242, 'hard salami': 4243, 'calamansi': 4244, 'dandelion greens': 4245, 'Elmlea Single Light': 4246, 'Flora Buttery': 4247, 'smithfield ham': 4248, 'beef fillet': 4249, 'parma ham': 4250, 'haloumi': 4251, 'conch': 4252, 'garlic naan': 4253, 'tortilla wraps': 4254, 'calamari': 4255, 'low sodium gluten free soy sauce': 4256, 'fresno chiles': 4257, 'long green beans': 4258, 'pork sausage links': 4259, 'almond oil': 4260, 'nonfat dry milk': 4261, 'low moisture mozzarella': 4262, 'white cannellini beans': 4263, 'vegetable gumbo': 4264, 'sundae syrup': 4265, 'sauce mix': 4266, 'Nestle Table Cream': 4267, 'fruit cocktail': 4268, 'chocolate leaves': 4269, 'split peas': 4270, 'Progresso™ Chicken Broth': 4271, 'leftover steak': 4272, 'round loaf': 4273, 'blackstrap molasses': 4274, 'cut up chicken': 4275, 'crumb crust': 4276, 'potato bread': 4277, 'low fat graham cracker crumbs': 4278, 'cubed pumpkin': 4279, 'cool whip': 4280, 'crushed cornflakes': 4281, 'macarons': 4282, 'Spanish olives': 4283, 'low-fat bottled italian dressing': 4284, 'Mazola Corn Oil': 4285, 'cubed beef': 4286, 'kewra water': 4287, 'frozen pie crust': 4288, 'lapsang': 4289, 'vanilla bean ice cream': 4290, 'head on shrimp': 4291, 'cubed potatoes': 4292, 'dried udon': 4293, 'laurel leaves': 4294, 'whole wheat pasta shells': 4295, 'cuttlefish': 4296, 'mushroom broth': 4297, 'red mustard': 4298, 'fine grain salt': 4299, 'Bertolli® Arrabbiata Sauce': 4300, 'canola mayonnaise': 4301, 'açai powder': 4302, 'bee pollen': 4303, 'white italian tuna in olive oil': 4304, 'knorr chicken flavor bouillon': 4305, 'chinese barbecue sauce': 4306, 'fines herbes': 4307, 'monkfish fillets': 4308, 'corn flakes': 4309, 'pasta spiral': 4310, 'horseradish root': 4311, 'red pepper hot sauce': 4312, 'seedless raspberry jam': 4313, 'chop green chilies, undrain': 4314, 'flavored oil': 4315, 'elbow pasta': 4316, 'organic chicken broth': 4317, 'pineapple salsa': 4318, 'crushed saltines': 4319, 'tomato jam': 4320, 'forest fruit': 4321, 'baby leaf lettuce': 4322, 'water spinach': 4323, 'chicken wing drummettes': 4324, 'low sodium store bought chicken stock': 4325, 'thai jasmine rice': 4326, 'banana flower': 4327, 'chip plain tortilla': 4328, 'juice concentrate': 4329, 'orange extract': 4330, 'Old El Paso Enchilada Sauce': 4331, 'wondra': 4332, 'ears': 4333, 'pink lady apple': 4334, 'saki': 4335, 'goat milk feta': 4336, 'chocolate-hazelnut spread': 4337, 'small tomatoes': 4338, 'swanson chicken broth': 4339, 'wheat beer': 4340, 'korean chile paste': 4341, 'dark miso': 4342, 'candied peel': 4343, 'instant potato flakes': 4344, 'hillshire farms low fat sausage': 4345, 'barbecue seasoning': 4346, 'lumpia wrappers': 4347, 'corkscrew pasta': 4348, 'crab claws': 4349, 'mustard sauce': 4350, 'sweetened coconut': 4351, 'vanilla yogurt': 4352, 'salted seaweed': 4353, 'dumpling dough': 4354, 'red vinegar': 4355, 'brine-cured olives': 4356, 'gobo root': 4357, 'jello': 4358, 'puff pastry sheets': 4359, 'tea leaves': 4360, 'sweet tea': 4361, 'low fat tortilla chip': 4362, 'fresh dates': 4363, 'kasha': 4364, 'sauvignon blanc': 4365, 'long green chilies': 4366, 'kalamansi juice': 4367, 'hot smoked paprika': 4368, 'boned duck breast halves': 4369, 'sugar pumpkin': 4370, '25% less sodium chicken broth': 4371, 'Philadelphia Light Cream Cheese': 4372, 'candied bacon': 4373, 'coconut meat': 4374, 'char': 4375, 'italian-style meatballs': 4376, 'reduced fat mozzarella': 4377, 'scones': 4378, 'cooked steak': 4379, 'dijon': 4380, 'filet mignon': 4381, 'dried cornhusks': 4382, 'cassava root flour': 4383, 'San Marzano Diced Tomatoes': 4384, 'royal olives': 4385, 'Wish-Bone Light Italian Dressing': 4386, 'mincemeat': 4387, 'pot pie': 4388, 'beef kidney': 4389, 'frozen chopped broccoli': 4390, 'beef soup bones': 4391, 'barley grits': 4392, 'quick-cooking tapioca': 4393, 'Bertolli Garlic Alfredo Sauce': 4394, 'sweet potato vermicelli': 4395, 'Daisy Sour Cream': 4396, 'pickle juice': 4397, 'instant chicken bouillon': 4398, 'tamarind purée': 4399, 'shoulder steak': 4400, 'shortbread': 4401, 'snapper fillets': 4402, 'adobo': 4403, 'mole sauce': 4404, 'orchid': 4405, 'soy': 4406, 'extra lean minced beef': 4407, 'pie filling': 4408, 'Vegeta Seasoning': 4409, 'red russian kale': 4410, 'tuscan sausage': 4411, 'beef tongue': 4412, 'bottom round roast': 4413, 'liquor': 4414, 'malted milk powder': 4415, 'Martha White Cornbread Mix': 4416, 'food gel': 4417, 'icing mix': 4418, 'poured fondant': 4419, 'Southern Comfort Liqueur': 4420, 'nonfat powdered milk': 4421, 'medium tomatoes': 4422, 'dark turkey meat': 4423, 'chihuahua cheese': 4424, 'whole wheat pizza dough': 4425, 'low fat monterey jack cheese': 4426, 'cannoli shells': 4427, 'Ragu Sauce': 4428, 'strip steaks': 4429, 'honey liqueur': 4430, 'iced tea': 4431, 'ricard': 4432, 'lily buds': 4433, 'clover honey': 4434, 'garlic and herb seasoning': 4435, 'filipino eggplant': 4436, 'white vermouth': 4437, 'Crispy Rice Cereal': 4438, 'pectin': 4439, 'cured meats': 4440, 'black onion seeds': 4441, 'mein': 4442, 'manicotti': 4443, 'buttermilk cornbread': 4444, 'Chinese sesame paste': 4445, 'tempura batter': 4446, 'fat free whipped topping': 4447, 'toasted shredded coconut': 4448, 'asian chili red sauc': 4449, 'crescent rolls': 4450, 'truffle butter': 4451, 'veal bones': 4452, 'black treacle': 4453, 'porridge oats': 4454, 'beni shoga': 4455, 'cassava meal': 4456, 'brownie layer': 4457, 'chocolate ice cream mix': 4458, 'fresh bean': 4459, 'shaoxing': 4460, 'onion slices': 4461, 'fructose': 4462, 'back ribs': 4463, 'casings': 4464, 'stone ground mustard': 4465, 'dried mission figs': 4466, 'fresh orange': 4467, 'nonpareils': 4468, 'darjeeling tea leaves': 4469, 'wasabe': 4470, 'reduced sodium garbanzos': 4471, 'key lime': 4472, 'grated cauliflower': 4473, 'semi-soft cheese': 4474, 'frozen orange juice concentrate, thawed and undiluted': 4475, 'low fat mild Italian turkey sausage': 4476, 'angled loofah': 4477, 'cajeta': 4478, 'regular chicken broth': 4479, 'Kraft Miracle Whip Dressing': 4480, 'american cheese slices': 4481, 'center cut pork loin chops': 4482, 'Tyson Crispy Chicken Strips': 4483, 'pak choi': 4484, 'light tuna packed in olive oil': 4485, 'fennel fronds': 4486, 'pork cheeks': 4487, 'Tapatio Hot Sauce': 4488, 'full fat sour cream': 4489, 'red swiss chard': 4490, 'diced pimentos': 4491, 'Greek dressing': 4492, 'crabapples': 4493, 'moose': 4494, 'gingersnap cookies': 4495, 'balm': 4496, 'thyme sprig': 4497, 'ducklings': 4498, 'less sodium reduced fat ham': 4499, 'Knorr Chicken Flavor Bouillon': 4500, 'lotus seed paste': 4501, 'filo': 4502, 'proscuitto di parma': 4503, 'fat-free cheddar cheese': 4504, 'light beer': 4505, 'reduced sodium canned chicken broth': 4506, 'natto': 4507, 'low-fat cheese': 4508, 'mandarin juice': 4509, 'low sodium stock': 4510, 'keema': 4511, 'Meyer lemon peel': 4512, 'irish bacon': 4513, 'savoy cabbage leaves': 4514, 'veal rib chops': 4515, 'corn salsa': 4516, 'southwest seasoning': 4517, 'goat': 4518, 'miniature semisweet chocolate chips': 4519, 'Homemade Yogurt': 4520, \"BREAKSTONE'S Sour Cream\": 4521, 'red chard': 4522, 'cheese cubes': 4523, 'tuna drained and flaked': 4524, 'powdered garlic': 4525, 'low sodium salt': 4526, 'whole grain spelt flour': 4527, 'chicken strips': 4528, 'amontillado sherry': 4529, 'abura age': 4530, 'brazil nuts': 4531, 'manioc flour': 4532, 'vegetable juice cocktail': 4533, 'boneless ham': 4534, 'candied pineapple': 4535, 'arepa flour': 4536, 'grape juice': 4537, 'tapenade': 4538, 'butter salt': 4539, 'shortcakes': 4540, 'Mizkan Rice Vinegar': 4541, 'prune puree': 4542, 'cane syrup': 4543, 'Italian turkey sausage links': 4544, 'ground walnuts': 4545, 'poultry': 4546, 'pace picante sauce': 4547, 'soy chorizo': 4548, 'Stonefire Italian Artisan Pizza Crust': 4549, 'burgundy snails': 4550, 'whole wheat seasoned breadcrumbs': 4551, 'mole poblano': 4552, 'boned lamb shoulder': 4553, 'rusk': 4554, 'whole wheat orzo': 4555, 'Mission Yellow Corn Tortillas': 4556, 'pasilla': 4557, 'petrale sole': 4558, 'sushi nori': 4559, 'umeboshi paste': 4560, 'challa': 4561, 'celtic salt': 4562, 'whole wheat penne': 4563, 'european style butter': 4564, 'pignolis': 4565, 'sunflower seeds': 4566, 'veal shoulder': 4567, 'lowfat plain greekstyl yogurt': 4568, 'boneless skinless chicken tenderloins': 4569, 'any': 4570, 'whole wheat baguette': 4571, 'country crock honey spread': 4572, 'marrow': 4573, 'oat flour': 4574, 'kingfish': 4575, 'kokum': 4576, 'schmaltz': 4577, 'top round roast': 4578, 'pompano fillets': 4579, 'sichuanese chili paste': 4580, 'accompaniment': 4581, 'low sodium black beans': 4582, 'carne seca': 4583, 'farina': 4584, 'pork back ribs': 4585, 'Yuzukosho': 4586, 'pound cake mix': 4587, 'indian flat bread': 4588, 'havarti': 4589, 'herring fillets': 4590, 'ancho chili ground pepper': 4591, 'spiny lobsters': 4592, 'carnation': 4593, 'sugar substitute': 4594, 'pollock': 4595, 'amber': 4596, 'poppy seed filling': 4597, 'ground hazelnuts': 4598, 'chrysanthemum leaves': 4599, 'yam noodles': 4600, 'red vinegar white white, wine,': 4601, 'skinned boned duck breast halves': 4602, 'vanilla vodka': 4603, 'white creme de cacao': 4604, 'duxelles': 4605, 'goose liver': 4606, 'yellow tomato': 4607, 'graviera': 4608, 'smoked trout fillets': 4609, 'Marshmallow Fluff': 4610, 'mojo marinade': 4611, 'whole wheat linguine': 4612, 'pearl couscous': 4613, 'pitted Medjool dates': 4614, 'onion gravy': 4615, 'soup mix': 4616, 'pork hocks': 4617, 'anisette': 4618, 'pink salt': 4619, 'refrigerated chocolate chip cookie dough': 4620, 'ouzo': 4621, 'San Marzano Crushed Tomatoes': 4622, 'wine syrup': 4623, 'brownies': 4624, 'sazon': 4625, 'caper berries': 4626, 'nopalitos': 4627, 'barbecue rub': 4628, 'bear': 4629, 'falafel': 4630, 'mochi': 4631, 'cod fish': 4632, 'mussels, well scrubbed': 4633, 'foie gras terrine': 4634, 'mie': 4635, 'verjus': 4636, 'flavored rice mix': 4637, 'seafood glaze': 4638, 'frozen pizza dough': 4639, 'snow pea shoots': 4640, 'shanks': 4641, 'granita': 4642, 'smoked bratwurst': 4643, 'garlic sauce': 4644, 'mackerel': 4645, 'nonfat chicken broth': 4646, 'cabernet': 4647, 'king prawns': 4648, 'shrimp meat': 4649, 'peppermint': 4650, 'fresh cheese': 4651, 'Saffron Road Vegetable Broth': 4652, 'refrigerated fettuccine': 4653, 'frozen pound cake': 4654, 'nonfat vanilla frozen yogurt': 4655, 'bread and butter pickles': 4656, 'albacore': 4657, 'canton noodles': 4658, 'whipping heavy cream': 4659, 'fat free lemon curd': 4660, 'reduced sodium black beans': 4661, 'blanched hazelnuts': 4662, 'vegan yogurt': 4663, 'cherrystone clams': 4664, 'medium zucchini': 4665, 'low-fat baked tortilla chips': 4666, 'Kikkoman Soy Sauce': 4667, 'frozen petit pois': 4668, 'veal scallops': 4669, 'buttermilk self-rising white cornmeal mix': 4670, 'ibarra': 4671, 'seasoned black beans': 4672, 'tuna in oil': 4673, 'eating apple': 4674, 'meat stock': 4675, 'canned salmon': 4676, 'ciabatta buns': 4677, 'thai black glutinous rice': 4678, 'chipped beef': 4679, 'chourico': 4680, 'imitation vanilla flavoring': 4681, 'beet greens': 4682, 'boneless sirloin': 4683, 'pickle wedges': 4684, 'banh pho rice noodles': 4685, 'kefir': 4686, 'skinless haddock': 4687, 'whole wheat uncooked lasagna noodles': 4688, 'crushed graham crackers': 4689, 'Jameson Irish Whiskey': 4690, 'digestive biscuit': 4691, 'horseradish mustard': 4692, 'calamata olives': 4693, 'bhaji': 4694, 'toasted sunflower seeds': 4695, 'cola-flavored carbonated beverage': 4696, 'energy drink': 4697, 'pressed tofu': 4698, 'cultured buttermilk': 4699, 'ground sumac': 4700, 'Velveeta Queso Blanco': 4701, 'chunky pasta sauce': 4702, 'frozen mini ravioli': 4703, 'frangipane': 4704, 'pumpernickel bread': 4705, 'salmon caviar': 4706, 'nori paper': 4707, 'liver pate': 4708, 'color food orang': 4709, 'vanilla powder': 4710, 'bertolli four chees rosa sauc': 4711, 'hot chocolate mix': 4712, 'kohlrabi': 4713, 'fudge brownie mix': 4714, 'dende oil': 4715, 'oat groats': 4716, 'grass-fed butter': 4717, 'bread, cut french into loaf': 4718, 'cones': 4719, 'roasted rice powder': 4720, 'chapatti flour': 4721, 'wild rice': 4722, 'ramen soup mix': 4723, 'roe': 4724, 'cayenne pepper sauce': 4725, 'portuguese rolls': 4726, 'red grapefruit juice': 4727, 'Knorr® Vegetable recipe mix': 4728, 'feet': 4729, 'pork bouillon cube': 4730, 'solid white tuna': 4731, 'chicken wingettes': 4732, 'chocolate covered english toffee': 4733, 'Swerve Sweetener': 4734, 'nacho cheese tortilla chips': 4735, 'frozen whip topping, thaw': 4736, 'instant pudding mix': 4737, 'Mazola® Chicken Flavor Bouillon Powder': 4738, 'Spice Islands Bay Leaves': 4739, 'Spice Islands Oregano': 4740, 'radish slices': 4741, 'Elmlea single': 4742, 'nam prik': 4743, 'ranch dip': 4744, 'knorr pasta side': 4745, 'reduced fat italian dressing': 4746, 'bacardi': 4747, 'skinless chicken breast fillets': 4748, 'butterscotch chips': 4749, 'pudding powder': 4750, 'gluten-free flour': 4751, 'sweet bean sauce': 4752, 'green tea bags': 4753, 'green pesto': 4754, 'schnapps': 4755, 'aspic': 4756, 'pork rind': 4757, 'vegetable bouillon cube': 4758, 'frogs legs': 4759, 'honey graham crackers': 4760, 'vanilla almondmilk': 4761, 'jerk paste': 4762, 'Toulouse sausage': 4763, 'gorgonzola dolce': 4764, 'bean curd': 4765, 'black moss': 4766, 'deep-fried tofu': 4767, 'popcorn chicken': 4768, 'nuoc nam': 4769, 'crumb topping': 4770, 'candy canes': 4771, 'nonfat mayonnaise': 4772, 'yuca': 4773, 'Japanese mountain yam': 4774, 'red sockeye': 4775, 'manzanilla': 4776, 'smoked pork': 4777, 'pork shanks': 4778, 'goma': 4779, 'minced chicken': 4780, 'other vegetables': 4781, 'vine leaves': 4782, 'mixed bell peppers': 4783, 'full fat cream cheese': 4784, 'oleo': 4785, 'chicken gravy mix': 4786, 'panch phoran': 4787, 'coarse sugar': 4788, 'moroccan seasoning': 4789, 'white frostings': 4790, 'traditional italian sauce': 4791, 'organic soy sauce': 4792, 'instant chicken bouillon granules': 4793, 'ume plum vinegar': 4794, 'root beer': 4795, 'tobiko': 4796, 'silver tequila': 4797, 'melted fat': 4798, 'Budweiser': 4799, 'asafetida powder': 4800, 'citric acid': 4801, 'rennet': 4802, 'golden zucchini': 4803, 'ceci bean': 4804, 'meat filling': 4805, 'homemade stock': 4806, 'skinless salmon fillets': 4807, 'lamb neck': 4808, 'dark chocolate chip': 4809, 'pumpernickel': 4810, 'chicken fillets': 4811, 'sorghum flour': 4812, 'Flora pro.activ': 4813, 'crayfish': 4814, 'KRAFT Shredded Pepper Jack Cheese with a TOUCH OF PHILADELPHIA': 4815, 'honeydew': 4816, 'frozen popcorn chicken': 4817, 'taco seasoned cheese': 4818, 'chinese ginger': 4819, 'cook egg hard': 4820, 'agar agar flakes': 4821, 'sweet vermouth': 4822, 'blue crabs': 4823, 'taro leaf': 4824, 'pepper leaves': 4825, 'whole wheat spaghetti noodles': 4826, 'Heinz Tomato Ketchup': 4827, 'red rice': 4828, 'beef tendons': 4829, 'pork and beans': 4830, 'crisco': 4831, 'dried soba': 4832, 'furikake': 4833, 'and cook drain pasta ziti': 4834, 'red jalapeno peppers': 4835, 'gold tequila': 4836, 'pomegranate': 4837, 'Taco Bell Taco Seasoning Mix': 4838, 'dried tomatoes': 4839, 'chilled seltzer': 4840, 'squash blossoms': 4841, 'Jimmy Dean Pork Sausage': 4842, 'Morton Salt': 4843, 'Pam No-Stick Cooking Spray': 4844, 'rye bread': 4845, 'red apples': 4846, 'peach pie filling': 4847, 'bisquick': 4848, 'jambon de bayonne': 4849, 'chinese black mushrooms': 4850, 'citrus peel': 4851, 'wild salmon': 4852, 'chili habanero pepper': 4853, 'smoked chicken sausages': 4854, 'aleppo': 4855, 'burgundy': 4856, 'sparkling mineral water': 4857, 'reduced sodium teriyaki sauce': 4858, 'Jamaican allspice': 4859, 'jamaican curry powder': 4860, 'hierba santa': 4861, 'veal loin': 4862, 'italian chicken sausage': 4863, 'boneless veal shoulder': 4864, 'veal breast': 4865, 'low-fat sesame-ginger dressing': 4866, 'Lipton® Recipe Secrets® Onion Soup Mix': 4867, 'roast breast of chicken': 4868, 'coffee extract': 4869, 'tree ear mushrooms': 4870, 'skin on bone in chicken legs': 4871, 'gelatin sheet': 4872, 'sparkling rosé wine': 4873, 'sweet potato starch': 4874, 'peaches in light syrup': 4875, 'extra light olive oil': 4876, 'tri-tip roast': 4877, 'solid white tuna in oil': 4878, 'orange bitters': 4879, 'guava': 4880, 'blackberry jam': 4881, 'spice cake mix': 4882, 'kampyo': 4883, 'katsuo dashi': 4884, 'konnyaku': 4885, 'Sargento® Traditional Cut Shredded 4 Cheese Mexican': 4886, 'cream sauce': 4887, 'meat fats': 4888, 'pork leg': 4889, 'maca powder': 4890, 'grained': 4891, 'chinese cinnamon': 4892, 'chive blossoms': 4893, 'cabrales': 4894, 'herb seasoned stuffing': 4895, 'bread machine yeast': 4896, 'dry milk powder': 4897, 'alaskan king salmon': 4898, 'fat free beef broth': 4899, 'medium cheddar cheese': 4900, 'pita chips': 4901, 'evapor low-fat milk': 4902, 'yellow peas': 4903, 'Kraft Sharp Cheddar Cheese': 4904, 'filet mignon steaks': 4905, 'shredded low-fat cheddar cheese': 4906, 'queso anejo': 4907, 'spring rolls': 4908, 'nonfat block cream cheese': 4909, 'low-sodium low-fat chicken broth': 4910, 'monkfish': 4911, 'red mullet': 4912, 'crispy bacon': 4913, 'gouda': 4914, 'mild salsa': 4915, 'tree ears': 4916, 'low sodium 96% fat free ham': 4917, 'hard shelled clams': 4918, 'Cholula Hot Sauce': 4919, 'ammonium bicarbonate': 4920, 'stone flower': 4921, 'smooth natural peanut butter': 4922, 'crème de framboise': 4923, 'dry hard cider': 4924, 'creamed coconut': 4925, 'sugar cookie dough': 4926, 'cheese dip': 4927, 'hot italian pork sausage': 4928, 'boneless chicken cutlet': 4929, 'wish-bone': 4930, 'mineral water': 4931, 'skinless chicken fillets': 4932, 'tikka masala curry paste': 4933, 'rice crackers': 4934, 'chinese chili paste': 4935, 'awase miso': 4936, 'boneless beef rib eye steaks': 4937, 'vietnamese rice paper': 4938, 'chicken consomme': 4939, 'thickeners': 4940, 'low fat low sodium chicken broth': 4941, 'lemon verbena': 4942, 'full-fat plain yogurt': 4943, 'sauce tomato': 4944, 'ascorbic acid': 4945, 'saltpeter': 4946, 'chicken flavor stuffing mix': 4947, 'whole wheat rigatoni': 4948, 'chilli bean sauce': 4949, 'cooking cream': 4950, 'capon': 4951, 'dried oysters': 4952, 'wood mushrooms': 4953, 'eye of the round': 4954, 'shelled hemp seeds': 4955, 'capocollo': 4956, 'meat-filled tortellini': 4957, 'minute rice': 4958, 'dried dates': 4959, 'culantro': 4960, 'kiwifruit': 4961, 'carambola': 4962, 'pancit bihon': 4963, 'fern': 4964, 'shrimp powder': 4965, 'ground cashew': 4966, 'beef gravy': 4967, 'frozen hash browns': 4968, 'sweet red bean paste': 4969, 'apple puree': 4970, 'jamaica': 4971, 'veggie patties': 4972, 'pink lentil': 4973, 'pickled onion': 4974, 'pizza toppings': 4975, 'carrot sticks': 4976, 'fresh sea bass': 4977, 'herb seasoned stuffing mix': 4978, 'Pernod Liqueur': 4979, 'almond filling': 4980, 'baked pizza crust': 4981, 'pastina': 4982, 'cabbage lettuce': 4983, 'duck liver': 4984, 'pork picnic roast': 4985, 'finger chili': 4986, 'knorr homestyl stock   beef': 4987, 'unsalted shelled pistachio': 4988, 'vanilla custard': 4989, 'nigari tofu': 4990, 'clementines': 4991, 'reduced fat whipped topping': 4992, 'rigatoni or large tube pasta': 4993, 'levain bread': 4994, 'mint extract': 4995, 'smoked rashers': 4996, 'dried chestnuts': 4997, 'Jose Cuervo': 4998, 'turkey breast steaks': 4999, 'bertolli organic tradit sauc': 5000, 'penn pasta, cook and drain': 5001, 'fillet of beef': 5002, 'chinese parsley': 5003, 'smoked & dried fish': 5004, \"Quorn Chik''n Tenders\": 5005, 'bouillon powder': 5006, 'yaki-nori': 5007, 'Bartlett Pear': 5008, 'Jiffy Corn Muffin Mix': 5009, 'smoked sea salt': 5010, 'pastry tart shell': 5011, 'tagliarini': 5012, 'candlenuts': 5013, 'stewing steak': 5014, 'cashew milk': 5015, '33% less sodium cooked ham': 5016, 'non dairy yogurt': 5017, 'english breakfast tea bags': 5018, 'vegetable demi-glace': 5019, 'buffalo': 5020, 'italian pizza crust': 5021, 'extra firm silken tofu': 5022, 'snapper head': 5023, 'broiler-fryers': 5024, 'powdered turmeric': 5025, 'cassava': 5026, 'diet dr. pepper': 5027, 'Stonefire Italian Thin Pizza Crust': 5028, 'bitter gourd': 5029, 'English toffee bits': 5030, 'gingersnap cookie crumbs': 5031, 'chinese plum sauce': 5032, 'Bob Evans Italian Sausage': 5033, 'no-calorie sweetener': 5034, 'sauerkraut juice': 5035, 'chocolate glaze': 5036, 'cherry syrup': 5037, 'frozen fruit': 5038, 'turmeric root': 5039, 'anchovy filets': 5040, 'curry leaf': 5041, 'small potatoes': 5042, 'rose hip tea bags': 5043, 'baby gem lettuce': 5044, 'dried lavender blossoms': 5045, 'sour mix': 5046, 'southern comfort': 5047, 'garbonzo bean': 5048, 'whole garam masala': 5049, 'low sodium fat free vegetable broth': 5050, 'caramel topping': 5051, 'low-fat ricotta': 5052, 'butternut': 5053, 'squid tube': 5054, 'green onion bottoms': 5055, 'egg roll skins': 5056, 'Boursin': 5057, 'reduced sodium cream of mushroom soup': 5058, 'flan': 5059, 'candied ginger': 5060, 'acai juice': 5061, 'hot tea': 5062, 'lamb steaks': 5063, 'Neufchâtel': 5064, 'vegan Worcestershire sauce': 5065, 'dried sardines': 5066, 'french fri frozen': 5067, 'condensed golden mushroom soup': 5068, 'low sodium chicken': 5069, 'chocolate cookie crumbs': 5070, 'Tamari Tamari': 5071, 'frozen stir fry vegetable blend': 5072, 'basa fillets': 5073, 'turbot fillets': 5074, 'low-fat salad dressing': 5075, 'virgin coconut oil': 5076, 'potato rolls': 5077, 'turkey thigh': 5078, 'whole wheat thin spaghetti': 5079, 'mentsuyu': 5080, 'buckwheat honey': 5081, 'garbanzo bean flour': 5082, 'gluten-free oat': 5083, 'psyllium husks': 5084, 'teff': 5085, 'masago': 5086, 'yellowfin': 5087, 'pickle spears': 5088, 'precooked meatballs': 5089, 'superfine white sugar': 5090, 'low-fat marinara sauce': 5091, 'shrimp chips': 5092, 'amberjack fillet': 5093, 'French bread loaves': 5094, 'Green Giant™ sliced mushrooms': 5095, 'soya flour': 5096, 'eel': 5097, 'tart shells': 5098, 'ladys house seasoning': 5099, 'hot salsa': 5100, 'sorbet': 5101, 'cooked meatballs': 5102, 'helix snails': 5103, 'harissa sauce': 5104, 'compressed yeast': 5105, 'medium salsa': 5106, 'cracker meal': 5107, '(15 oz.) refried beans': 5108, 'low-fat goat cheese': 5109, 'skinless flounder fillets': 5110, 'european cucumber': 5111, 'flowering chives': 5112, 'king oyster mushroom': 5113, 'black truffle oil': 5114, 'tubetti': 5115, 'beef for stew': 5116, 'clementine sections': 5117, 'muffin': 5118, 'king crab legs': 5119, 'chuck tender': 5120, 'toast points': 5121, 'knoblauch': 5122, 'canola oil cooking spray': 5123, 'veal loin chops': 5124, 'finely ground coffee': 5125, 'margarine spread': 5126, 'triscuits': 5127, 'ground rosemary': 5128, 'pain au levain': 5129, 'cajun seasoning mix': 5130, 'leftover meat': 5131, 'Mae Ploy Sweet Chili Sauce': 5132, 'country loaf': 5133, 'meal': 5134, 'skate': 5135, 'Gold Medal Flour': 5136, 'pane di casa': 5137, 'lemonade concentrate': 5138, 'multi-grain penne pasta': 5139, 'shredded romano cheese': 5140, 'rye flour': 5141, 'chipotle paste': 5142, 'piquillo peppers': 5143, 'dried beans': 5144, 'caribbean jerk seasoning': 5145, 'flounder': 5146, 'turkey meatballs': 5147, 'Royal Baking Powder': 5148, 'single malt Scotch': 5149, 'cummin': 5150, 'lap cheong': 5151, 'asian wheat noodles': 5152, 'country crock calcium plus vitamin d': 5153, 'soya cheese': 5154, 'kumquats in syrup': 5155, 'dried allspice berries': 5156, 'soup bones': 5157, 'fat free less sodium vegetable broth': 5158, 'frozen peach slices': 5159, 'brown gravy': 5160, 'canned snails': 5161, 'granulated tapioca': 5162, 'smoked haddock fillet': 5163, 'Ragu Classic Alfredo Sauce': 5164, 'Ragu Golden Veggie Fettuccine Pasta': 5165, 'fillet steaks': 5166, 'poussins': 5167, 'bean dip': 5168, 'ragu old world style sweet tomato basil pasta sauc': 5169, 'large curd cottage cheese': 5170, 'Flora Original': 5171, 'Knorr Chicken Stock Cubes': 5172, 'natural low-fat yogurt': 5173, 'Breakstone’s Sour Cream': 5174, 'KRAFT Shredded Cheddar Cheese': 5175, 'oat bran': 5176, 'jambalaya mix': 5177, 'shank half': 5178, 'back bacon': 5179, 'olive oil mayonnaise': 5180, 'hibiscus flowers': 5181, 'bread rolls': 5182, 'atlantic cod fillets': 5183, 'cashew chop unsalt': 5184, 'dried tagliatelle': 5185, 'brioche buns': 5186, 'black rice vinegar': 5187, 'whole wheat sandwich bread': 5188, 'chinese rock sugar': 5189, 'chicken in water': 5190, 'chinese pancakes': 5191, 'low-fat white sauce': 5192, 'Jif Creamy Peanut Butter': 5193, 'mora chiles': 5194, 'double smoked bacon': 5195, 'truffle salt': 5196, 'low-fat pasta sauce': 5197, 'Mazola Canola Oil': 5198, 'tex-mex shredded cheese': 5199, '(10 oz.) frozen chopped spinach': 5200, 'seasoned croutons': 5201, 'avocado dressing': 5202, 'light kidney beans': 5203, '33% less sodium ham': 5204, 'white bread slices': 5205, 'caramel ice cream topping': 5206, '40% less sodium taco seasoning mix': 5207, 'dried beef': 5208, 'brown gravy mix': 5209, 'honey mustard dressing': 5210, 'whole wheat bread cubes': 5211, 'whole grain bread': 5212, 'seasoning mix': 5213, 'chocolate sandwich cookies': 5214, 'vanilla frozen yogurt': 5215, 'karo syrup': 5216, 'Texas Pete Hot Sauce': 5217, 'dr. pepper': 5218, 'cake batter': 5219, 'waffle fries': 5220, 'frozen blackberries': 5221, 'unsweetened iced tea': 5222, 'jamaican jerk rub': 5223, 'beef cheek': 5224, 'tamarind water': 5225, 'SYD Hot Rub': 5226, 'lemon vodka': 5227, 'salted fish': 5228, 'salad dressing mix': 5229, 'Fisher Pecans': 5230, 'whole wheat cereal': 5231, 'yucca': 5232, 'korean buckwheat noodles': 5233, 'chunky tomato sauce': 5234, 'baby tatsoi': 5235, 'flowering garlic chives': 5236, 'Yoplait® Greek 2% caramel yogurt': 5237, 'salted cashews': 5238, 'buffalo mozzarella': 5239, 'quick-cooking hominy grits': 5240, 'knorr homestyl stock   chicken': 5241, 'reduced sodium beef stock': 5242, 'wish-bone light asian sesame ginger vinaigrette dressing': 5243, 'hickory smoke': 5244, 'light agave nectar': 5245, 'tuaca': 5246, 'mooli': 5247, 'broad beans': 5248, 'Lipton Sparkling Diet Green Tea with Strawberry Kiwi': 5249, 'sweet bean paste': 5250, 'Doubanjiang': 5251, 'bâtarde': 5252, 'mostarda': 5253, 'uni': 5254, 'yogurt dressing': 5255, 'cooked meat': 5256, 'New York Style Panetini® toasts': 5257, 'ciabatta roll': 5258, 'swordfish': 5259, 'poppadoms': 5260, 'jujube': 5261, 'sweet turkey sausage': 5262, 'whole grain roll': 5263, 'Cara Cara orange': 5264, 'brandy extract': 5265, 'pangasius': 5266, 'robiola': 5267, 'kippered herring fillets': 5268, 'lesser galangal': 5269, 'Bengali 5 Spice': 5270, 'hard cheese': 5271, 'whole wheat dough': 5272, 'dragon fruit': 5273, 'Japanese rice vinegar': 5274, 'bacon salt': 5275, 'plain seltzer': 5276, 'beef hot dogs': 5277, 'semi pearled farro': 5278, 'ground peanut': 5279, 'oriental radish': 5280, 'wish bone red wine vinaigrett dress': 5281, 'chilled prosecco': 5282, 'coarse semolina': 5283, 'Ranch Style Beans': 5284, 'shiraz': 5285, 'nappa cabbage': 5286, 'frozen cranberry juice concentrate': 5287, 'queso fresca': 5288, 'frozen brussels sprouts': 5289, 'parsley root': 5290, 'agave tequila': 5291, 'low fat chunky mushroom pasta sauce': 5292, 'gumbo file powder': 5293, 'sesame seeds buns': 5294, 'garlic herb feta': 5295, 'low sodium parmesan cheese': 5296, 'montreal steak seasoning': 5297, 'low-fat vegetable primavera spaghetti sauce': 5298, 'chili seasoning': 5299, 'hamachi fillets': 5300, 'balsamic vinaigrette salad dressing': 5301, 'unbaked pie shells': 5302, 'parmigiana-reggiano': 5303, 'cava': 5304, 'frozen crabmeat, thaw and drain': 5305, 'non fat chicken stock': 5306, 'bulb fennel': 5307, 'low sodium canned chicken broth': 5308, 'Ragu® Robusto!® Pasta Sauce': 5309, 'white quinoa': 5310, 'semisweet baking chocolate': 5311, 'homemade beef stock': 5312, 'smoked mozzarella': 5313, 'mizuna': 5314, 'reduced fat chunky peanut butter': 5315, 'hot cherry pepper': 5316, 'pink food coloring': 5317, 'bai cai': 5318, 'sweet baking chocolate': 5319, 'trout caviar': 5320, 'puffed rice': 5321, 'soft rolls': 5322, 'knorr rice side   cheddar broccoli': 5323, 'chimichurri': 5324, 'lavash': 5325, 'beef round': 5326, 'boneless moulard duck breast halves': 5327, 'kielbasa (not low fat)': 5328, 'habanero powder': 5329, 'soy yogurt': 5330, 'peppered bacon': 5331, 'progresso reduced sodium chicken broth': 5332, 'fresh masa': 5333, 'mole paste': 5334, 'brown mustard': 5335, 'low-fat flour tortillas': 5336, 'iodized salt': 5337, 'instant tapioca': 5338, 'yellowfin tuna': 5339, 'mixed fruit': 5340, 'bottled italian dressing': 5341, 'Kroger Black Beans': 5342, 'tricolor quinoa': 5343, 'sodium reduced chicken broth': 5344, 'natural sugar': 5345, 'vanilla soy milk': 5346, 'cream yogurt': 5347, 'Jasmine brown rice': 5348, 'Italian seasoned panko bread crumbs': 5349, 'chocolate sticks': 5350, 'pattypan squash': 5351, 'sodium reduced beef broth': 5352, 'chinese spinach': 5353, \"Frank's® RedHot® Original Cayenne Pepper Sauce\": 5354, 'habas': 5355, 'instant banana cream pudding': 5356, 'vegan coffee creamer': 5357, 'Knox unflavored gelatin': 5358, 'sucanat': 5359, 'Texas toast bread': 5360, 'salted roasted almonds': 5361, 'tamari almonds': 5362, 'vital wheat gluten': 5363, 'peeled prawns': 5364, 'coars ground black pepper': 5365, 'veal tongue': 5366, 'Jose Cuervo Gold Tequila': 5367, 'ranch dip mix': 5368, 'creamy gravy': 5369, 'morcilla': 5370, 'shellfish': 5371, 'buckwheat': 5372, 'buttercup squash': 5373, 'lemon twists': 5374, 'boneless skinless turkey breasts': 5375, 'biscotti': 5376, 'petits pois': 5377, 'eggroll wrappers': 5378, 'jamaican jerk marinade': 5379, 'mcintosh apples': 5380, 'curly parsley': 5381, 'water packed artichoke hearts': 5382, 'citrus': 5383, 'cole slaw mix': 5384, 'baby artichokes': 5385, 'raspberry sauce': 5386, 'fresh poblano pepper': 5387, 'bresaola': 5388, 'empanada': 5389, 'yuzu': 5390, 'rice bran': 5391, \"devil's food cake mix\": 5392, 'Imperial Sugar Light Brown Sugar': 5393, 'italian sauce': 5394, 'ceylon cinnamon': 5395, 'veal knuckle': 5396, 'Crisco Pure Canola Oil': 5397, 'fat-free parmesan cheese': 5398, 'cut up cooked chicken': 5399, 'chile colorado': 5400, 'Johnsonville® Mild Italian Ground Sausage': 5401, 'Earth Balance Natural Buttery Spread': 5402, 'bone-in short ribs': 5403, 'Gold Medal All Purpose Flour': 5404, 'Rice Krispies Cereal': 5405, 'balsamic reduction': 5406, 'nashi': 5407, 'sucralose sweetener': 5408, 'cream of tomato soup': 5409, 'adobo style seasoning': 5410, 'breakfast sausage links': 5411, 'seville oranges': 5412, 'sooji': 5413, 'soft buns': 5414, 'pepperidge farm puff pastry sheets': 5415, 'loose leaf black tea': 5416, 'chiffonade': 5417, 'zucchini blossoms': 5418, 'turtle': 5419, 'raspberry vinegar': 5420, 'dry fettuccine': 5421, 'english walnuts': 5422, 'whole wheat penne rigate': 5423, 'goose': 5424, 'rooster': 5425, 'unsmoked bacon': 5426, 'cassis liqueur': 5427, 'Breyers® Natural Vanilla Ice Cream': 5428, 'jumbo shells': 5429, 'chinese jujubes': 5430, 'sweetened red beans': 5431, 'whole wheat pita bread rounds': 5432, 'clam sauce': 5433, 'butter extract': 5434, 'oat milk': 5435, 'cream style cottage cheese': 5436, 'coconut milk powder': 5437, 'tom yum paste': 5438, 'organic unsalted butter': 5439, 'reduced fat reduced sodium tomato and herb pasta sauce': 5440, 'dairy free coconut ice cream': 5441, 'unsweetened pineapple juice': 5442, 'pancake batter': 5443, 'dried hibiscus blossoms': 5444, 'seville orange juice': 5445, 'lamb for stew': 5446, 'low-fat feta': 5447, 'chilean sea bass fillets': 5448, 'duck sauce': 5449, 'Rotel Diced Tomatoes & Green Chilies': 5450, 'Earth Balance Buttery Spread': 5451, 'barley miso': 5452, 'boneless chops': 5453, 'vegetarian oyster sauce': 5454, 'Quorn crumbles': 5455, 'buckwheat groats': 5456, 'vegetable seasoning': 5457, 'and carrot green pea': 5458, 'mushroom soup': 5459, 'Diamond Crystal® Kosher Salt': 5460, 'Old El Paso™ refried beans': 5461, 'essence seasoning': 5462, 'country style italian bread': 5463, 'orange roughy fillet': 5464, 'yuzu juice': 5465, 'smoked eel': 5466, 'shredded basil': 5467, 'less sodium mushroom flavored soy sauce': 5468, 'shredded colby': 5469, 'bottled chili sauce': 5470, 'plum wine': 5471, 'arhar dal': 5472, 'peppermint schnapps': 5473, 'boy choy': 5474, 'alfalfa sprouts': 5475, 'kamut flour': 5476, 'chinese buns': 5477, 'condensed soup': 5478, 'hamachi': 5479, 'Jimmy Dean All Natural Regular Pork Sausage': 5480, 'chopped cooked meat': 5481, 'twists': 5482, 'kasu': 5483, 'JOHNSONVILLE Hot & Spicy Sausage Slices': 5484, 'vegetable-filled ravioli': 5485, 'dasheen': 5486, 'calabaza': 5487, 'ragu cheesi doubl cheddar sauc': 5488, 'salted mixed nuts': 5489, 'chicharron': 5490, 'low-fat coffee ice cream': 5491, 'cooked fettuccini': 5492, 'blackpepper': 5493, 'carne asada': 5494, 'tangerine zest': 5495, 'store-bought pound cake': 5496, 'less sodium chicken broth': 5497, 'tvp': 5498, 'bagel chips': 5499, 'jamaican jerk': 5500, 'beef shin': 5501, 'milk & cream': 5502, 'empanada dough': 5503, 'cornstarch noodles': 5504, 'lamb racks': 5505, 'fat free ice cream': 5506, 'crumbled corn bread': 5507, 'greek style seasoning': 5508, 'gravy granules': 5509, 'saffron powder': 5510, 'frozen potatoes': 5511, 'bread and butter pickle slices': 5512, 'sweet and sour mix': 5513, '(14 oz.) sweetened condensed milk': 5514, 'piri-piri sauce': 5515, 'hoagi or roll': 5516, 'Mrs. Dash': 5517, 'candied jalapeno': 5518, 'coconut chips': 5519, 'organic butter': 5520, 'Soy Vay® Toasted Sesame Dressing & Marinade': 5521, 'meat seasoning': 5522, 'whole wheat thin italian pizza crust': 5523, 'Bordelaise sauce': 5524, 'unsweetened dried coconut': 5525, 'sports drink': 5526, 'Mexican lager beer': 5527, 'asparagus bean': 5528, 'butter-flavored spray': 5529, 'hazelnut flour': 5530, 'Soy Vay® Veri Veri Teriyaki® Marinade & Sauce': 5531, 'boneless skin on chicken thighs': 5532, 'free range chicken breasts': 5533, 'herb dressing': 5534, 'lamb strips': 5535, 'au jus gravy': 5536, 'maraschino': 5537, 'dried bonito': 5538, 'Thai eggplants': 5539, 'cubed meat': 5540, 'chicken pan drippings': 5541, 'lemon pudding': 5542, 'pâté': 5543, 'green figs': 5544, 'Tuttorosso Diced Tomatoes': 5545, 'cooked bone in ham': 5546, 'refrigerated four cheese ravioli': 5547, 'semisweet chocolate chunks': 5548, 'fine egg noodles': 5549, 'lamb cutlet': 5550, 'sliced leeks': 5551, 'Domino Confectioners Sugar': 5552, 'instant couscous': 5553, 'non dairy sour cream': 5554, 'hot pork sausage': 5555, 'fast-rising active dry yeast': 5556, 'low sodium vegetable stock': 5557, 'peanut powder': 5558, 'paccheri': 5559, 'yogurt cheese': 5560, 'vegetarian chicken': 5561, 'Bisquick Original All-Purpose Baking Mix': 5562, 'pansies': 5563, 'chocolate fudge ice cream': 5564, 'hot green chile': 5565, 'chocolatecovered espresso beans': 5566, 'burger style crumbles': 5567, 'unsulphured molasses': 5568, 'green cauliflower': 5569, 'herb cheese': 5570, 'wish-bone light country italian dressing': 5571, 'strawberry ice cream': 5572, 'Alexia Waffle Fries': 5573, 'cream filled chocolate sandwich cookies': 5574, 'crème de menthe': 5575, 'sesame seed paste': 5576, 'yucca root': 5577, 'tartlet shells': 5578, 'shishito chile': 5579, 'custard dessert mix': 5580, 'mrs. dash seasoning mix': 5581, 'muenster': 5582, 'giant white beans': 5583, 'Tipo 00 flour': 5584, 'Heinz Ketchup': 5585, 'cactus paddles': 5586, 'meat cuts': 5587, 'pork chops, 1 inch thick': 5588, 'whole wheat fusilli': 5589, 'San Marzano tomatoes': 5590, 'lamb loin': 5591, 'guacamole seasoning mix': 5592, 'sazon goya': 5593, 'lingcod': 5594, 'granular no-calorie sucralose sweetener': 5595, 'korean vermicelli': 5596, 'meat marinade': 5597, 'ragu pizza quick sauc': 5598, 'bock beer': 5599, 'pina colada mix': 5600, 'greater galangal': 5601, 'dried orange peel': 5602, 'Vadouvan curry': 5603, 'crusty whole wheat toast': 5604, 'longan': 5605, 'regular sugar': 5606, 'table syrup': 5607, 'crescent dinner rolls': 5608, 'water crackers': 5609, 'japanese style bread crumbs': 5610, 'fruit juice': 5611, 'apricot jelly': 5612, 'crushed peppermint candy': 5613, 'stevia powder': 5614, 'dinosaur kale': 5615, 'organic coconut milk': 5616, 'shredded low-fat mozzarella cheese': 5617, 'low-fat balsamic vinaigrette': 5618, 'ornamental kale': 5619, 'roasted bell peppers': 5620, 'canned beans': 5621, 'bertolli vodka sauc made with fresh cream': 5622, 'branston pickle': 5623, 'sweet gherkin': 5624, 'peach juice': 5625, 'whole wheat pita rounds': 5626, 'mitsuba': 5627, 'unagi': 5628, 'japanese pumpkin': 5629, 'vegan chicken flavored bouillon': 5630, 'chinese turnip': 5631, 'hoop cheese': 5632, 'muffin mix': 5633, 'glucose syrup': 5634, 'pasta shapes': 5635, 'chinese pea pods': 5636, 'bran flakes': 5637, 'potsticker wrappers': 5638, 'grilled chicken strips': 5639, 'aonori': 5640, 'chuno sauce': 5641, 'sliced beets': 5642, 'orange roughy': 5643, '33% less sodium smoked fully cooked ham': 5644, 'raw tiger prawn': 5645, 'evaporated low-fat 2% milk': 5646, 'wing sauce': 5647, 'Spanish smoked paprika': 5648, 'organic milk': 5649, 'king salmon': 5650, 'chopmeat': 5651, 'tostitos': 5652, 'ganache': 5653, 'biga': 5654, 'scrod fillets': 5655, 'amber rum': 5656, 'chestnut purée': 5657, 'nonfat vanilla yogurt': 5658, 'Minute White Rice': 5659, 'brown rice noodles': 5660, 'sweet cream butter': 5661, 'dark meat': 5662, 'whole wheat tortilla wraps': 5663, 'gravy master': 5664, 'knorr leek recip mix': 5665, 'nonfat cream cheese': 5666, 'deviled ham': 5667, 'cardoons': 5668, 'fillet medallions': 5669, 'ground poppy seed': 5670, 'char fillets': 5671, 'kabuli channa': 5672, 'torpedo rolls': 5673, 'reduced fat cream of mushroom soup': 5674, \"Uncle Ben's Ready Rice Whole Grain Brown Rice\": 5675, 'granary bread': 5676, 'arrow root': 5677, 'seasoned ground turkey': 5678, 'TABASCO® Chipotle Pepper Sauce': 5679, 'Greek black olives': 5680, 'plum jam': 5681, 'watermelon radishes': 5682, 'Marcona almonds': 5683, 'Kung Pao sauce': 5684, 'long buns': 5685, 'baobab fruit powder': 5686, 'low sodium tomato paste': 5687, 'cinnamon candy canes': 5688, 'cooked long-grain brown rice': 5689, 'frozen spring roll wrappers': 5690, 'Truvía® natural sweetener': 5691, 'braggs liquid aminos': 5692, 'ground turkey sausage': 5693, 'lamb rib roast': 5694, 'butter flavor shortening': 5695, 'breadfruit': 5696, 'turkey ham': 5697, 'reduced sodium kidney beans': 5698, 'top loin steaks': 5699, 'dark soy': 5700, 'kappa': 5701, 'japanese peanuts': 5702, 'strawberry extract': 5703, 'artificial sweetener': 5704, 'snow pea pods': 5705, 'small yellow onion': 5706, 'whole grain rice': 5707, 'cipollini onions': 5708, 'arrowroot flour': 5709, 'dried strawberries': 5710, 'dr pepper': 5711, 'pork tongue': 5712, 'demi baguette': 5713, 'fried wonton strips': 5714, 'Ibarra Chocolate': 5715, 'multigrain cereal': 5716, 'strained yogurt': 5717, 'nut oil': 5718, 'artisan bread': 5719, 'standing rib roast': 5720, 'bénédictine': 5721, 'shredded low-fat jarlsberg cheese': 5722, 'smoked hog jowl': 5723, 'bean curd stick': 5724, 'skinless mahi mahi fillets': 5725, 'hot spanish paprika': 5726, 'durum wheat flour': 5727, 'bone marrow': 5728, 'house seasoning': 5729, 'swede': 5730, 'raclette': 5731, 'whole wheat potato buns': 5732, 'boneless magret duck breast halves': 5733, 'pummelo': 5734, 'condensed reduced fat reduced sodium cream of chicken soup': 5735, \"za'atar\": 5736, 'blacan': 5737, 'ginger syrup': 5738, 'stem ginger': 5739, 'Ro-Tel Diced Tomatoes & Green Chilies': 5740, 'topside steak': 5741, 'steel-cut oatmeal': 5742, 'wheatberries': 5743, 'japanese breadcrumbs': 5744, 'marrons glacés': 5745, 'baby okra': 5746, 'loin pork chops': 5747, 'extra': 5748, 'butter pecan ice cream': 5749, 'padron peppers': 5750, 'hot italian turkey sausage links': 5751, 'farfalline': 5752, 'salt free seasoning': 5753, 'black bass': 5754, 'honey whiskey': 5755, 'Pillsbury™ Crescent Recipe Creations® refrigerated seamless dough sheet': 5756, 'rotel pasta, cook and drain': 5757, 'preserv raspberri seedless': 5758, 'sodium free chicken stock': 5759, 'chocolate truffle': 5760, 'mesquite flavored seasoning mix': 5761, 'organic coconut oil': 5762, 'low-fat crème fraîche': 5763, 'flageolet': 5764, 'stellette': 5765, 'filling': 5766, 'small green chile': 5767, 'skinless and boneless chicken breast fillet': 5768, 'pork sirloin chops': 5769, 'Karo Corn Syrup': 5770, 'toffee bits': 5771, 'flower petals': 5772, 'chiltepín': 5773, 'garlic olive oil': 5774, 'chopped potatoes': 5775, 'cake mix or white yellow': 5776, 'licorice root': 5777, 'creamed spinach': 5778, 'crumpet': 5779, 'regular cucumber': 5780, 'boned skinned duck breast halves': 5781, 'yoghurt natural low fat': 5782, 'lapsang souchong': 5783, 'raspberry fruit spread': 5784, 'smoked chorizo': 5785, 'vanilla pudding': 5786, 'limeade': 5787, 'low fat cream of celery soup': 5788, 'large marshmallows': 5789, 'madeira wine': 5790, 'benne seed': 5791, 'muscovy': 5792, 'pancit canton': 5793, 'caramel flavored syrup': 5794, 'Fisher Pecan Halves': 5795, 'Azteca Flour Tortillas': 5796, 'KRAFT Original Barbecue Sauce': 5797, 'thick curds': 5798, 'butterscotch sauce': 5799, 'century eggs': 5800, 'duck egg': 5801, 'sparkling lemonade': 5802, 'regular tofu': 5803, 'hing (powder)': 5804, 'low sodium cajun seasoning': 5805, 'white grapefruit juice': 5806, 'lamb kidneys': 5807, 'rustic bread': 5808, 'Wolf Brand Chili': 5809, 'Louisiana Cajun Seasoning': 5810, 'dark lager': 5811, 'asian': 5812, 'powdered sugar icing': 5813, 'skinless boneless turkey breast halves': 5814, 'strawberry gelatin': 5815, 'hellmannâ€™ or best food canola cholesterol free mayonnais': 5816, 'harusame': 5817, 'sliced meat': 5818, 'banana extract': 5819, 'bottled lime juice': 5820, 'green tea leaves': 5821, 'hazelnut liqueur': 5822, 'bittersweet baking chocolate': 5823, 'Heinz Worcestershire Sauce': 5824, 'poppy seed dressing': 5825, 'cubed mango': 5826, 'chicory': 5827, 'disco empanada frozen': 5828, 'knorr reduc sodium chicken flavor bouillon': 5829, 'v 8 juice': 5830, 'crushed pistachio': 5831, 'kippers': 5832, 'balm leaves': 5833, 'sour salt': 5834, 'venison steaks': 5835, 'flaked oats': 5836, 'hops': 5837, 'malt': 5838, 'dried chipotle pepper': 5839, 'vindaloo paste': 5840, 'katakuriko': 5841, 'cinnamon ice cream': 5842, 'sweetbreads': 5843, 'chai tea concentrate': 5844, 'yeast extract': 5845, 'absinthe': 5846, 'Mountain Dew Soda': 5847, 'hong kong-style noodles': 5848, 'burgundy wine': 5849, 'low sodium broth': 5850, \"tony chachere's seasoning\": 5851, 'forest mushroom': 5852, 'v8': 5853, 'chicken nugget': 5854, 'mincemeat pie filling': 5855, 'flax seeds': 5856, 'vegan bouillon cubes': 5857, 'Galliano': 5858, 'sloe gin': 5859, 'chicken demi-glace': 5860, '2% low fat cheddar chees': 5861, 'truffle puree': 5862, 'galanga': 5863, 'hubbard squash': 5864, 'low-fat sweetened condensed milk': 5865, 'venison roast': 5866, 'dri fruit tropic': 5867, 'tart crust': 5868, 'shredded bamboo': 5869, 'pointed peppers': 5870, 'kangkong': 5871, 'Wholesome Sweeteners Organic Sugar': 5872, 'gluten free cornmeal': 5873, 'gluten-free pie crust': 5874, 'fine grind white cornmeal': 5875, 'broccoli romanesco': 5876, 'garlic herb spreadable cheese': 5877, 'turkey carcass': 5878, 'Pillsbury Thin Pizza Crust': 5879, 'semisweet vegan chocolate chips': 5880, 'butter cake': 5881, \"Eggland's Best® eggs\": 5882, 'gluten free lasagna noodle': 5883, 'gluten free marinara sauce': 5884, 'Spice Islands® Minced Garlic': 5885, 'white grape juice': 5886, 'tomato cream sauce': 5887, 'knorr tomato bouillon with chicken flavor': 5888, 'chocolate candy': 5889, 'panang curry paste': 5890, 'Better Than Bouillon Chicken Base': 5891, 'sweet italian pork sausage': 5892, 'sweet pickle juice': 5893, 'strip loin': 5894, 'cod roe': 5895, 'caraway': 5896, 'long green': 5897, 'potato nuggets': 5898, 'ground peppercorn': 5899, 'raw peeled prawns': 5900, 'Barilla Linguine': 5901, 'V8 Juice': 5902, 'burrito seasoning mix': 5903, 'alum': 5904, 'CURRY GUY Smoked Garam Masala': 5905, 'reduced sodium condensed cream of chicken soup': 5906, 'pork sausage casing': 5907, 'flavored vinegar': 5908, 'Good Seasons Italian Dressing Mix': 5909, 'anise liqueur': 5910, 'refrigerated dinner rolls': 5911, 'nut meal': 5912, 'dried cloud ears': 5913, \"Cox's Orange Pippin\": 5914, 'white poppy seeds': 5915, 'chile puree': 5916, 'light lager': 5917, 'thousand island dressing': 5918, 'old-fashioned oatmeal': 5919, 'Braeburn Apple': 5920, 'daikon sprouts': 5921, 'DeLallo Penne Ziti': 5922, 'queso panela': 5923, 'low sodium jarred chicken soup base': 5924, 'cajun-creole seasoning mix': 5925, 'black bean stir fry sauce': 5926, 'refrigerated seamless crescent dough': 5927, 'prepared pie crusts': 5928, 'peach salsa': 5929, 'meat glaze': 5930, 'reduced sodium fat free chicken broth': 5931, 'ground espresso': 5932, 'slider buns': 5933, 'gravenstein apple': 5934, 'laksa paste': 5935, 'acini di pepe': 5936, 'smoked whitefish': 5937, 'Kraft Big Slice Pepper Jack Cheese Slices': 5938, 'boneless duck breast': 5939, 'yam bean': 5940, 'stem ginger in syrup': 5941, 'celery tops': 5942, 'hard cider': 5943, 'cappuccino': 5944, 'teriyaki marinade': 5945, 'green chile sauce': 5946, 'low-fat vanilla yogurt': 5947, 'KRAFT Shredded Mozzarella Cheese': 5948, 'beef stew seasoning mix': 5949, 'fat free ground turkey breast': 5950, 'ramen noodles seasoning': 5951, 'cremini': 5952, 'snaps': 5953, 'pickled garlic': 5954, 'alphabet pasta': 5955, 'pineapple chunks in natural juice': 5956, 'reduced sodium vegetable stock': 5957, 'cookie crumbs': 5958, 'hen': 5959, 'long green pepper': 5960, 'purple potatoes': 5961, 'chicken heart': 5962, 'Camellia Red Kidney Beans': 5963, 'low-fat tartar sauce': 5964, 'dulong': 5965, 'skinless cod fillets': 5966, 'fideos pasta': 5967, 'gomashio': 5968, 'sago': 5969, 'chicken broth low fat': 5970, 'fruitcake': 5971, 'framboise eau-de-vie': 5972, 'sweet biscuit crumbs': 5973, 'hen of the woods': 5974, 'quahog clams': 5975, 'peanut brittle': 5976, 'genmai miso': 5977, 'hoja santa leaves': 5978, 'cipollini': 5979, 'milk chocolate pieces': 5980, 'mousse': 5981, 'KRAFT Shredded Low-Moisture Part-Skim Mozzarella Cheese': 5982, 'pocket bread': 5983, 'licor 43': 5984, 'warm buns': 5985, 'amba': 5986, 'Chambord Liqueur': 5987, 'hot pepper rings': 5988, 'whole wheat berries': 5989, 'lox': 5990, 'maui onion': 5991, 'dried apple rings': 5992, 'winter savory': 5993, 'lamb cubes': 5994, 'tangelos': 5995, 'queso crema': 5996, 'chocolate chip cookie mix': 5997, 'whole baby okra': 5998, 'Pam Cooking Spray': 5999, 'pistou': 6000, 'mission figs': 6001, 'crabmeat frozen': 6002, 'cake pound prepar': 6003, 'flavored wine': 6004, 'popcorn kernels': 6005, 'meat extract': 6006, '2% lowfat greek yogurt': 6007, 'grassfed beef': 6008, 'hyssop': 6009, 'melissa': 6010, 'melon liqueur': 6011, 'golden mushroom soup': 6012, 'fresh white truffles': 6013, 'chocolate milk': 6014, 'KRAFT Mexican Style Shredded Four Cheese with a TOUCH OF PHILADELPHIA': 6015, 'white bread flour': 6016, 'culinary lavender': 6017, 'Crystal Farms Reduced Fat Shredded Marble Jack Cheese': 6018, 'breast': 6019, 'Smart Balance Cooking Spray': 6020, 'chocolate frosting': 6021, 'guava paste': 6022, 'asti spumante': 6023, 'english breakfast tea leaves': 6024, 'nama shoyu': 6025, 'pot stickers': 6026, 'whole wheat bread slices': 6027, 'unsweetened baking chocolate': 6028, 'ngo gai': 6029, 'organic vegetable stock': 6030, 'sub rolls': 6031, 'ready-made pie crusts': 6032, 'pasilla chile pepper': 6033, 'calabash': 6034, 'low-fat cheddar cheese': 6035, 'almond syrup': 6036, 'jamon serrano': 6037, 'watermelon seeds': 6038, 'barolo': 6039, 'double crust': 6040, 'gluten-free bread': 6041, 'lady apples': 6042, 'instant oats': 6043, 'shoulder roast': 6044, 'smoked almonds': 6045, 'low sodium tomato': 6046, 'creole seafood seasoning': 6047, 'vegetable soup': 6048, 'roasting hen': 6049, 'chunky style pasta sauce': 6050, 'blackberry brandy': 6051, 'boneless salmon fillets': 6052, 'suckling pig': 6053, 'passover wine': 6054, '33% less sodium cooked deli ham': 6055, 'Mission Corn Tortillas': 6056, 'whole wheat crackers': 6057, 'clementine juice': 6058, 'raspberry lambic': 6059, 'white baking bar': 6060, 'moonshine': 6061, 'low fat part skim ricotta chees': 6062, 'kochu chang': 6063, 'mango juice': 6064, 'blanco chees queso': 6065, 'low-fat turkey kielbasa': 6066, 'Pure Wesson Canola Oil': 6067, 'legumes': 6068, 'olive tapenade': 6069, 'Mezzetta Sliced Greek Kalamata Olives': 6070, 'frozen garden peas': 6071, 'burger rolls': 6072, 'low-fat monterey jack': 6073, 'shredded low-fat cheddar': 6074, 'low sodium beef bouillon granules': 6075, 'condensed cream of broccoli soup': 6076, 'sumac powder': 6077, 'peapods': 6078, 'reduced sodium italian style stewed tomatoes': 6079, 'hots': 6080, 'La Victoria Red Chile Sauce': 6081, 'honey dijon mustard': 6082, 'matsutake mushrooms': 6083, 'coconut milk yogurt': 6084, 'Soy Vay® Hoisin Garlic Marinade & Sauce': 6085, 'lean chuck roast': 6086, 'cold-smoked salmon': 6087, 'scape pesto': 6088, 'riso': 6089, 'low sodium crushed tomatoes': 6090, 'dried coconut flakes': 6091, 'mixed frozen seafood': 6092, 'dangmyun': 6093, 'salt free southwest chipotle seasoning': 6094, 'organic low sodium chicken broth': 6095, 'cajun remoulade': 6096, 'jumbo shell pasta , cook and drain': 6097, 'hake fillets': 6098, 'chicken flavored rice': 6099, 'azuki bean': 6100, 'nonfat italian dressing': 6101, 'angus': 6102, 'Gourmet Garden Parsley': 6103, 'Knorr® Pasta Sides™ - Chicken flavor': 6104, 'low-fat canned coconut milk': 6105, 'pilsner': 6106, 'lavender flowers': 6107, 'duck bones': 6108, 'young leeks': 6109, 'gray salt': 6110, 'head cauliflower': 6111, 'bird pepper': 6112, 'soup pasta': 6113, 'topping': 6114, 'Kraft Mayonnaise': 6115, 'whole wheat pita pockets': 6116, 'muscadine grapes': 6117, 'milk chocolate kisses': 6118, 'rustic rub': 6119, 'italian vinaigrette': 6120, 'branca menta': 6121, 'Kraft Extra Sharp Cheddar Cheese': 6122, 'Jonshonville® Cajun Style Chicken Sausage': 6123, 'edamame beans': 6124, 'kinchay': 6125, 'frozen cherries': 6126, 'dipping chocolate': 6127, 'ground nuts': 6128, 'whole wheat rotini': 6129, 'creme de cacao': 6130, 'filé': 6131, 'Heath Candy Bars': 6132, 'chocolate graham cracker crumbs': 6133, 'cubed pancetta': 6134, 'Gebhardt Chili Powder': 6135, 'Pure Wesson Vegetable Oil': 6136, 'tikka paste': 6137, 'lean minced lamb': 6138, 'calamari steak': 6139, 'Manzanilla olives': 6140, 'dri basil leaves, crush': 6141, 'meat loaf mixture': 6142, 'vodka sauce': 6143, 'mint syrup': 6144, 'medium potatoes': 6145, 'pareve margarine': 6146, 'halloumi cheese': 6147, 'sherbet': 6148, 'quick yeast': 6149, 'split yellow lentils': 6150, 'frozen mashed potatoes': 6151, 'yellow heirloom tomatoes': 6152, 'val': 6153, 'assam': 6154, 'fryers': 6155, 'candied chestnuts': 6156, 'dried rigatoni': 6157, 'canned chicken': 6158, 'hungarian hot paprika': 6159, 'Japanese Mayonnaise': 6160, 'sashimi grade tuna': 6161, 'salted pistachios': 6162, 'low-fat sharp cheddar cheese': 6163, 'apple brandy': 6164, 'pancit': 6165, 'lecithin': 6166, 'anise oil': 6167, 'mahlab': 6168, 'shrimp small uncook': 6169, 'lipton tea bags': 6170, 'nondairy whipped topping': 6171, 'ground pork sausage': 6172, 'Old El Paso Green Chiles': 6173, 'porter': 6174, 'red currants': 6175, 'Progresso Artichoke Hearts': 6176, 'Truvía® Baking Blend': 6177, 'chrysanthemum': 6178, 'salted anchovies': 6179, 'white bread crumbs': 6180, '2 1/2 to 3 lb. chicken, cut into serving pieces': 6181, 'regular or convert rice': 6182, 'delicata squash': 6183, 'ground asafetida': 6184, 'Sangiovese': 6185, 'Pepperidge Farm Puff Pastry Sheets': 6186, 'meringue powder': 6187, 'sichuan peppercorn oil': 6188, 'fresh chicken stock': 6189, 'fudge cake mix': 6190, 'fresh curry': 6191, 'fat-free croutons': 6192, 'broiler chicken': 6193, 'praline syrup': 6194, 'salt free herb seasoning': 6195, 'pork sirloin': 6196, 'coleslaw dressing': 6197, 'Jack Daniels Whiskey': 6198, 'au jus gravy mix': 6199, 'sliced fresh fruit': 6200, 'Everglades Seasoning': 6201, 'yellowtail snapper fillets': 6202, 'frozen ravioli': 6203, 'reduced sugar orange marmalade': 6204, 'McCormick Ground Cumin': 6205, 'chile piquin': 6206, 'mini bananas': 6207, 'fedelini': 6208, 'pisco brandy': 6209, 'cornbread crumbs': 6210, 'fresno pepper': 6211, 'aged cheddar cheese': 6212, 'dried raspberry': 6213, 'cooked beetroot': 6214, 'creamed horseradish': 6215, 'roasted garlic oil': 6216, 'baby goat': 6217, 'cheese curds': 6218, 'Castelvetrano olives': 6219, 'breadcrumb mix': 6220, 'fermented bean paste': 6221, 'Nielsen-Massey Vanilla Extract': 6222, \"Hellmann's Dijonnaise Creamy Dijon Mustard\": 6223, 'cactus': 6224, 'violets': 6225, 'Goya Extra Virgin Olive Oil': 6226, 'Goya Ground Cumin': 6227, 'Goya Hot Sauce': 6228, 'organic buttermilk': 6229, 'shredded nori': 6230, 'boneless steak': 6231, 'Reblochon': 6232, 'fat-free shredded cheddar cheese': 6233, 'sun dried tomato dressing': 6234, 'Irish Red ale': 6235, 'bigoli': 6236, 'apple slice': 6237, 'sago pearls': 6238, 'red quinoa': 6239, 'cucuzza': 6240, 'flavored tortilla chips': 6241, 'Italian seasoned diced tomatoes': 6242, 'frozen onion rings': 6243, 'sugar pearls': 6244, 'pepper cheese': 6245, 'sunflower kernels': 6246, 'brown rice spaghetti': 6247, 'gluten-free spaghetti': 6248, 'verjuice': 6249, 'nonfat mozzarella cheese': 6250, 'unhulled sesame seeds': 6251, 'lamb leg steaks': 6252, 'ice cream salt': 6253, 'peeled canned low sodium tomatoes': 6254, 'TACO BELL® Thick & Chunky Mild Salsa': 6255, 'sirloin tip steak': 6256, 'black radish': 6257, 'white zinfandel': 6258, 'sturgeon': 6259, 'nonfat dried milk': 6260, 't-bone steak': 6261, \"M&M's Candy\": 6262, 'red velvet cake mix': 6263, 'Dole Seven Lettuces': 6264, 'other': 6265, 'Nakano Seasoned Rice Vinegar': 6266, 'wieners': 6267, 'butterscotch filling': 6268, 'jimmies': 6269, 'mint chocolate chip ice cream': 6270, 'tupelo honey': 6271, 'vanilla frosting': 6272, 'soybean oil': 6273, 'kha': 6274, 'low sodium low fat vegetable broth': 6275, 'liver sausage': 6276, 'beet juice': 6277, 'Pillsbury™ classic pizza crust': 6278, 'black sea bass': 6279, 'bottled low sodium salsa': 6280, 'beurre manié': 6281, 'muscadet': 6282, 'buffalo mozarella': 6283, 'asian dressing': 6284, 'strawberry compote': 6285, 'tart filling': 6286, 'chocolate milk mix': 6287, 'tatsoi': 6288, 'tuong': 6289, 'reduced fat reduced sodium cream of mushroom soup': 6290, 'reduced sodium chicken flavor stuffing mix': 6291, 'gluten free barbecue sauce': 6292, 'rub seasoning': 6293, 'tangzhong roux': 6294, 'malt powder': 6295, 'sourdough starter': 6296, 'pork loin rib chops': 6297, 'beef boneless meat stew': 6298, 'creamer potatoes': 6299, 'turkey breast deli meat': 6300, 'vegan sour cream': 6301, 'low-fat firm silken tofu': 6302, 'tiger lily buds': 6303, 'boysenberries': 6304, 'lo bok': 6305, 'whole grain buns': 6306, 'chuka soba noodles': 6307, 'diced mushrooms': 6308, 'hot italian turkey sausage': 6309, 'curry sauce mix': 6310, 'baking sugar': 6311, 'Kraft Shredded Pepper Jack Cheese': 6312, 'roast duck meat': 6313, 'salt free cajun creole seasoning': 6314, 'black cherries': 6315, 'ginkgo nut': 6316, 'soy crumbles': 6317, 'Kim Crawford Sauvignon Blanc': 6318, 'bourbon liqueur': 6319, 'Old Bay Blackened Seasoning': 6320, 'citrus juice': 6321, 'gluten-free penne': 6322, 'cream cheese spread': 6323, 'nonfat frozen yogurt': 6324, 'porcini powder': 6325, 'sourdough rolls': 6326, 'arak': 6327, 'cream cheese lowfat': 6328, 'tubettini': 6329, 'maitake mushrooms': 6330, 'Amarena cherries': 6331, 'cointreau liqueur': 6332, 'dry jack': 6333, 'slider rolls': 6334, 'gluten-free broth': 6335, 'ic pop': 6336, 'sesame butter': 6337, 'less sodium fat free chicken broth': 6338, 'jerk seasoning mix': 6339, 'Sugar in the Raw': 6340, 'crouton italian season': 6341, 'low-fat parmesan cheese': 6342, 'lipton pure leaf unsweeten iced tea': 6343, 'irish oats': 6344, 'one third less sodium chicken broth': 6345, 'Zatarains Creole Seasoning': 6346, 'Knudsen Sour Cream': 6347, 'cream powder': 6348, 'process cheese spread': 6349, 'pineapple syrup': 6350, 'Tuaca Liqueur': 6351, 'american cheese food': 6352, 'vanilla cake mix': 6353, 'Kikkoman Less Sodium Soy Sauce': 6354, 'Kikkoman Oyster Sauce': 6355, 'refrigerated bread dough': 6356, 'italian rolls': 6357, 'shoulder lamb chops': 6358, 'true cinnamon': 6359, 'McCormick Taco Seasoning': 6360, 'tomato sauce low sodium': 6361, 'water chestnut powder': 6362, 'chioggia': 6363, 'KRAFT Shredded Colby & Monterey Jack Cheese': 6364, 'KRAFT Zesty Lime Vinaigrette Dressing': 6365, 'jambalaya': 6366, 'table wine': 6367, 'rosemary needles': 6368, 'reduced sodium smoked ham': 6369, 'veal medallions': 6370, 'new mexico red chile powder': 6371, 'shanghai bok choy': 6372, 'boquerones': 6373, 'treviso radicchio': 6374, 'japanese radish': 6375, 'black grapes': 6376, 'smoked mackerel': 6377, 'elderflower cordial': 6378, 'sweet white wine': 6379, 'baby turnips': 6380, 'oyster liquor': 6381, 'tater tots': 6382, 'matzo cake meal': 6383, 'lemon cake mix': 6384, 'pizza seasoning': 6385, 'pippin apples': 6386, 'rum raisin ice cream': 6387, 'pandan essence': 6388, 'seasoning rub': 6389, 'liquid sweetener': 6390, 'Foster Farms boneless skinless chicken breasts': 6391, 'country gravy': 6392, 'nonfat half-and-half': 6393, 'edible gold leaf': 6394, 'low-fat soft goat cheese': 6395, 'flax egg': 6396, 'conger eel': 6397, 'chocolate liqueur': 6398, 'cured pork': 6399, 'straight bourbon whiskey': 6400, 'condensed reduced fat reduced sodium tomato soup': 6401, 'condensed cream': 6402, 'anise powder': 6403, 'low-fat plain greek yogurt': 6404, 'swiss': 6405, 'snow crab': 6406, 'spot prawns': 6407, 'barilla piccolini mini': 6408, 'hachiya': 6409, 'salmon sashimi': 6410, 'grape vine leaves': 6411, 'brown butter': 6412, 'cold meatloaf': 6413, 'low-fat chicken broth': 6414, 'peanut butter chips': 6415, 'yoplait': 6416, 'White Lily Flour': 6417, 'squash seeds': 6418, 'paste tomato': 6419, 'grain alcohol': 6420, 'praline': 6421, 'pita wraps': 6422, 'mesquite seasoning': 6423, 'semi sweet mini chocolate chips': 6424, 'andouille turkey sausages': 6425, 'peeled diced tomatoes': 6426, 'whole wheat angel hair pasta': 6427, 'Nido Milk Powder': 6428, 'french style sandwich rolls': 6429, 'liverwurst': 6430, 'Kitchen Bouquet': 6431, 'tortellini, cook and drain': 6432, 'do chua': 6433, 'black garlic': 6434, 'Knorr Fish Stock Cubes': 6435, 'Crisco Pure Vegetable Oil': 6436, 'mian': 6437, 'mandarin orange juice': 6438, 'eggnog': 6439, 'low-fat caesar dressing': 6440, 'low-fat smoked sausage': 6441, 'Pillsbury Pie Crusts': 6442, 'brown rice penne': 6443, 'mahimahi fillet': 6444, 'eye steaks': 6445, 'brill': 6446, 'dark rye flour': 6447, 'samphire': 6448, 'brown sauce': 6449, 'cream of potato soup': 6450, 'guanabana': 6451, 'Knorr Onion Minicubes': 6452, 'instant tea powder': 6453, 'crab sticks': 6454, 'celery powder': 6455, 'mellow white miso': 6456, 'low fat coleslaw dressing': 6457, 'hijiki': 6458, 'baked corn tortilla chips': 6459, 'cannelloni': 6460, 'ogura-an': 6461, 'chowchow': 6462, 'Hogue Cabernet Sauvignon': 6463, 'steak tips': 6464, 'Jameson Whiskey': 6465, 'won ton skins': 6466, 'chinese winter melon': 6467, 'beef carpaccio': 6468, 'wonton noodles': 6469, 'paprika paste': 6470, 'gnocchetti sardi': 6471, 'Progresso Balsamic Vinegar': 6472, 'chestnut spread': 6473, 'tri-tip steak': 6474, 'Sargento® Artisan Blends® Shredded Parmesan Cheese': 6475, 'jerk rub seasoning': 6476, 'tandoori masala mix': 6477, 'rice mix': 6478, 'chinese pepper': 6479, 'heirloom squash': 6480, 'banana puree': 6481, 'Bertolli Tomato & Basil Sauce': 6482, 'small shells': 6483, 'sunchokes': 6484, 'speck': 6485, 'blood': 6486, 'miswa': 6487, 'pork heart': 6488, 'brown beech mushrooms': 6489, 'minced lean steak': 6490, 'framboise liqueur': 6491, 'lipton onion soup mix': 6492, 'frozen sweetened raspberries': 6493, 'pancetta slices': 6494, 'beluga lentil': 6495, 'goat s milk cheese': 6496, 'Herdez Salsa': 6497, 'tomato chutney': 6498, 'light whipping cream': 6499, 'poolish': 6500, 'Wish-Bone® Robusto Italian Dressing': 6501, 'meat drippings': 6502, 'goya sazon': 6503, 'mozzarella string cheese': 6504, 'frozen seafood': 6505, 'gluten-free oyster sauce': 6506, 'gluten-free tamari sauce': 6507, 'soft-shelled crabs': 6508, 'langoustines': 6509, 'prosciutto fat': 6510, 'vanilla bean seeds': 6511, 'center cut pork roast': 6512, 'mashed cauliflower': 6513, 'Lipton Lemon Iced Tea Mix': 6514, 'cracked wheat': 6515, 'dip mix': 6516, 'spinach tortilla': 6517, 'reduced sugar ketchup': 6518, 'nonfat milk powder': 6519, 'seasoned panko bread crumbs': 6520, 'tomate verde': 6521, 'dried neem leaves': 6522, 'glucose': 6523, 'dried shallots': 6524, 'chateaubriand': 6525, 'english breakfast tea': 6526, 'german mustard': 6527, 'mentaiko': 6528, 'garlic pepper blend': 6529, 'Knorr® Pasta Sides™ - Butter & Herb': 6530, 'diced bacon': 6531, 'crushed peppercorn': 6532, 'honey-flavored greek style yogurt': 6533, 'toasted buns': 6534, 'arhar': 6535, 'borlotti': 6536, 'ground dried shrimp': 6537, 'savoy spinach': 6538, 'roasted pepitas': 6539, 'proscuitto': 6540, 'low-fat vanilla wafers': 6541, 'whole turkey': 6542, 'low fat shred cheddar chees sharp varieti': 6543, 'chinese radish': 6544, 'Spice Islands Garlic Salt': 6545, 'Spice Islands Ground Cumin Seed': 6546, 'cortland apples': 6547, 'homemade meatballs': 6548, 'Success White Rice': 6549, 'king crab': 6550, 'madeleine': 6551, 'KRAFT Mexican Style 2% Milk Finely Shredded Four Cheese': 6552, 'TACO BELL® HOME ORIGINALS® Taco Seasoning Mix': 6553, 'ratatouille': 6554, 'shark': 6555, 'roasted almond oil': 6556, 'shredded American cheese': 6557, 'peach sorbet': 6558, 'raspberry sherbet': 6559, 'whole grain rotini': 6560, 'george dickel': 6561, 'Hidden Valley® Original Ranch® Light Dressing': 6562, 'baked pita chips': 6563, 'citrus fruit': 6564, 'Hidden Valley® Farmhouse Originals Italian with Herbs Dressing': 6565, 'coconut butter': 6566, 'spicy mayonnaise': 6567, 'cold coffee': 6568, 'carnation condensed milk': 6569, 'panela': 6570, 'coconut syrup': 6571, 'Green Giant Whole Kernel Sweet Corn': 6572, 'graham flour': 6573, 'corn bread crumbs': 6574, 'drum': 6575, 'madagascar bourbon vanilla extract': 6576, 'date molasses': 6577, 'raki': 6578, 'fingerling': 6579, 'greek seasoning mix': 6580, 'powdered egg whites': 6581, 'bermuda onion': 6582, 'snip fresh dill': 6583, 'hoja santa': 6584, 'chicken egg': 6585, 'cherry vinegar': 6586, 'whole wheat bread dough': 6587, 'tuna, drain and flake': 6588, 'hakusai': 6589, 'pumpkin seed mole': 6590, 'swanson chicken stock': 6591, 'whole wheat sourdough bread': 6592, 'linguisa': 6593, 'hot pepperoni': 6594, 'orgeat syrup': 6595, 'citric acid powder': 6596, 'cooki vanilla wafer': 6597, 'italian meatballs': 6598, 'honeycomb tripe': 6599, 'oil packed dried tomatoes': 6600, 'nori furikake': 6601, 'knorr reduc sodium chicken flavor bouillon cube': 6602, 'veal escalopes': 6603, 'puff pastry cups': 6604, 'wensleydale': 6605, 'reduced sodium reduced fat cream of mushroom soup': 6606, 'caramel syrup': 6607, 'lambs liver': 6608, 'unsalted pecans': 6609, 'Doritos Tortilla Chips': 6610, 'Cinnamon Toast Crunch Cereal': 6611, 'carrot juice': 6612, 'Progresso Diced Tomatoes': 6613, 'winesap': 6614, 'friselle': 6615, 'aquavit': 6616, 'sato imo': 6617, 'Jagermeister Liqueur': 6618, 'Knorr Beef Stock Cubes': 6619, 'shredded lowfat monterey jack cheese': 6620, 'huckleberries': 6621, 'chicken and rice soup': 6622, 'carp': 6623, 'cooked deli ham': 6624, 'vanilla low-fat frozen yogurt': 6625, 'potato starch flour': 6626, 'lotus leaves': 6627, 'sazon goya with coriander and annatto': 6628, 'crosswise': 6629, 'skinless snapper fillets': 6630, 'pike': 6631, 'hot fudge topping': 6632, 'matzos': 6633, 'low-fat deli ham': 6634, 'wild asparagus': 6635, 'young nettle': 6636, 'no salt added canned tomatoes': 6637, 'green bellpepper': 6638, 'cinnamon hot candy': 6639, 'Stonefire Tandoori Garlic Naan': 6640, 'ramen noodle soup': 6641, 'chili con carne': 6642, 'imitation seafood': 6643, 'soft margarine': 6644, 'dark chocolate cocoa powder': 6645, 'granular sucrolose sweetener': 6646, 'Holland House White Wine Vinegar': 6647, 'frankfurters': 6648, 'whipped dessert topping': 6649, 'Ragu Traditional Sauce': 6650, 'soy-based liquid seasoning': 6651, 'reduced sodium chicken bouillon granules': 6652, 'mung bean vermicelli': 6653, 'yogurt low fat': 6654, 'boneless duck breast halves': 6655, 'Classico Pasta Sauce': 6656, 'tortelloni': 6657, 'rice milk': 6658, 'Manischewitz Matzo Meal': 6659, 'Manischewitz Potato Starch': 6660, 'dried lavender flowers': 6661, 'arctic char': 6662, 'sandwich wraps': 6663, 'Chartreuse Liqueur': 6664, 'aloe juice': 6665, 'tonic water': 6666, 'salt free chili powder': 6667, 'tofu sour cream': 6668, 'spicy salami': 6669, 'Honeysuckle White® Hot Italian Turkey Sausage Links': 6670, 'chocolate extract': 6671, 'chocolate graham crackers': 6672, 'cumberland sausage': 6673, 'cocktail pumpernickel bread': 6674, 'chunky tomatoes': 6675, \"Colman's Mustard Powder\": 6676, 'manouri': 6677, 'cherry vanilla ice cream': 6678, 'bone-in ribeye steak': 6679, 'frozen lemonade concentrate, thawed and undiluted': 6680, 'flowering chinese chives': 6681, 'praline topping': 6682, 'riblets': 6683, 'puff paste': 6684, 'Barilla Plus Pasta': 6685, 'turkey giblet stock': 6686, 'light chicken stock': 6687, 'conchiglie': 6688, '2% milk shredded mozzarella cheese': 6689, 'Makers Mark Whisky': 6690, 'knorr pasta side   cheesi cheddar': 6691, 'whole grain baguette': 6692, 'reduced sodium ham': 6693, 'whole wheat peasant bread': 6694, 'ranch-style seasoning': 6695, 'ketjap': 6696, 'chocolate flavored liqueur': 6697, 'rotini pasta, cook and drain': 6698, 'game': 6699, 'tongue': 6700, 'Daiya': 6701, 'curry mix': 6702, 'Kraft Slim Cut Mozzarella Cheese Slices': 6703, 'Oscar Mayer Cotto Salami': 6704, 'Challenge Butter': 6705, 'orange glaze': 6706, 'cholesterol free egg substitute': 6707, 'ciabatta loaf': 6708, 'Lipton® Iced Tea Brew Family Size Tea Bags': 6709, 'Hidden Valley® Greek Yogurt Original Ranch® Dip Mix': 6710, 'lop chong': 6711, 'tomato garlic pasta sauce': 6712, 'crushed cheese crackers': 6713}\n"
     ]
    }
   ],
   "source": [
    "print(str(dictionary.token2id))"
   ]
  },
  {
   "cell_type": "code",
   "execution_count": 25,
   "metadata": {},
   "outputs": [
    {
     "name": "stdout",
     "output_type": "stream",
     "text": [
      "salt 23\n",
      "sugar 9\n",
      "water 10\n",
      "mushrooms 0\n",
      "chicken 1\n",
      "eggs 2\n"
     ]
    }
   ],
   "source": [
    "for word in words:    \n",
    "    print (word, cnt[str(dictionary.token2id[word])])"
   ]
  },
  {
   "cell_type": "code",
   "execution_count": 27,
   "metadata": {},
   "outputs": [],
   "source": [
    "save_answers1(23,9,10,0,1,2)"
   ]
  },
  {
   "cell_type": "markdown",
   "metadata": {},
   "source": [
    "### Фильтрация словаря\n",
    "В топах тем гораздо чаще встречаются первые три рассмотренных ингредиента, чем последние три. При этом наличие в рецепте курицы, яиц и грибов яснее дает понять, что мы будем готовить, чем наличие соли, сахара и воды. Таким образом, даже в рецептах есть слова, часто встречающиеся в текстах и не несущие смысловой нагрузки, и поэтому их не желательно видеть в темах. Наиболее простой прием борьбы с такими фоновыми элементами — фильтрация словаря по частоте. Обычно словарь фильтруют с двух сторон: убирают очень редкие слова (в целях экономии памяти) и очень частые слова (в целях повышения интерпретируемости тем). Мы уберем только частые слова."
   ]
  },
  {
   "cell_type": "code",
   "execution_count": 28,
   "metadata": {},
   "outputs": [],
   "source": [
    "import copy\n",
    "dictionary2 = copy.deepcopy(dictionary)"
   ]
  },
  {
   "cell_type": "code",
   "execution_count": 29,
   "metadata": {},
   "outputs": [
    {
     "name": "stdout",
     "output_type": "stream",
     "text": [
      "Dictionary(6714 unique tokens: ['black olives', 'feta cheese crumbles', 'garbanzo beans', 'garlic', 'grape tomatoes']...)\n",
      "feta cheese crumbles\n",
      "f\n"
     ]
    }
   ],
   "source": [
    "print(dictionary2)\n",
    "print(dictionary2[1])\n",
    "print(dictionary2[1][0])"
   ]
  },
  {
   "cell_type": "markdown",
   "metadata": {},
   "source": [
    "__Задание 2.__ У объекта dictionary2 есть переменная *dfs* — это словарь, ключами которого являются id токена, а элементами — число раз, сколько слово встретилось во всей коллекции. Сохраните в отдельный список ингредиенты, которые встретились в коллекции больше 4000 раз. Вызовите метод словаря *filter_tokens*, подав в качестве первого аргумента полученный список популярных ингредиентов. Вычислите две величины: dict_size_before и dict_size_after — размер словаря до и после фильтрации.\n",
    "\n",
    "Затем, используя новый словарь, создайте новый корпус документов, corpus2, по аналогии с тем, как это сделано в начале ноутбука. Вычислите две величины: corpus_size_before и corpus_size_after — суммарное количество ингредиентов в корпусе (для каждого документа вычислите число различных ингредиентов в нем и просуммируйте по всем документам) до и после фильтрации.\n",
    "\n",
    "Передайте величины dict_size_before, dict_size_after, corpus_size_before, corpus_size_after в функцию save_answers2 и загрузите сгенерированный файл в форму."
   ]
  },
  {
   "cell_type": "code",
   "execution_count": 30,
   "metadata": {},
   "outputs": [],
   "source": [
    "freq4000 = map(lambda it: it[0],filter(lambda it: it[1] > 4000, dictionary2.dfs.items()))#The method items() returns a list of dict's (key, value) tuple pairs"
   ]
  },
  {
   "cell_type": "code",
   "execution_count": 31,
   "metadata": {},
   "outputs": [
    {
     "data": {
      "text/plain": [
       "<map at 0x127e88fd0>"
      ]
     },
     "execution_count": 31,
     "metadata": {},
     "output_type": "execute_result"
    }
   ],
   "source": [
    "freq4000"
   ]
  },
  {
   "cell_type": "code",
   "execution_count": 32,
   "metadata": {},
   "outputs": [
    {
     "name": "stdout",
     "output_type": "stream",
     "text": [
      "before: 6714\n",
      "after: 6702\n"
     ]
    }
   ],
   "source": [
    "dict_size_before = len(dictionary2)\n",
    "dictionary2.filter_tokens(freq4000)\n",
    "dict_size_after = len(dictionary2)\n",
    "print ('before:', dict_size_before)\n",
    "print ('after:', dict_size_after)"
   ]
  },
  {
   "cell_type": "code",
   "execution_count": 33,
   "metadata": {},
   "outputs": [
    {
     "name": "stdout",
     "output_type": "stream",
     "text": [
      "before: 428249\n",
      "after: 343665\n"
     ]
    }
   ],
   "source": [
    "corpus_size_before = sum(map(lambda x: len(x),corpus))\n",
    "corpus2 = [dictionary2.doc2bow(text) for text in texts]  # составляем корпус документов\n",
    "corpus_size_after = sum(map(lambda x: len(x),corpus2))\n",
    "print ('before:', corpus_size_before)\n",
    "print ('after:', corpus_size_after)"
   ]
  },
  {
   "cell_type": "code",
   "execution_count": 34,
   "metadata": {},
   "outputs": [],
   "source": [
    "def save_answers2(dict_size_before, dict_size_after, corpus_size_before, corpus_size_after):\n",
    "    with open(\"cooking_LDA_pa_task2.txt\", \"w\") as fout:\n",
    "        fout.write(\" \".join([str(el) for el in [dict_size_before, dict_size_after, corpus_size_before, corpus_size_after]]))"
   ]
  },
  {
   "cell_type": "code",
   "execution_count": 35,
   "metadata": {},
   "outputs": [],
   "source": [
    "save_answers2(dict_size_before, dict_size_after, corpus_size_before, corpus_size_after)"
   ]
  },
  {
   "cell_type": "markdown",
   "metadata": {},
   "source": [
    "### Сравнение когерентностей\n",
    "__Задание 3.__ Постройте еще одну модель по корпусу corpus2 и словарю dictionary2, остальные параметры оставьте такими же, как при первом построении модели. Сохраните новую модель в другую переменную (не перезаписывайте предыдущую модель). Не забудьте про фиксирование seed!\n",
    "\n",
    "Затем воспользуйтесь методом *top_topics* модели, чтобы вычислить ее когерентность. Передайте в качестве аргумента соответствующий модели корпус. Метод вернет список кортежей (топ токенов, когерентность), отсортированных по убыванию последней. Вычислите среднюю по всем темам когерентность для каждой из двух моделей и передайте в функцию save_answers3. "
   ]
  },
  {
   "cell_type": "code",
   "execution_count": 92,
   "metadata": {},
   "outputs": [
    {
     "name": "stdout",
     "output_type": "stream",
     "text": [
      "CPU times: user 3 µs, sys: 1 µs, total: 4 µs\n",
      "Wall time: 5.96 µs\n"
     ]
    }
   ],
   "source": [
    "%time\n",
    "np.random.seed(76543)\n",
    "# здесь код для построения модели:\n",
    "lda2 = models.ldamodel.LdaModel(corpus = corpus2, num_topics=40, passes=5, id2word=dictionary2)"
   ]
  },
  {
   "cell_type": "code",
   "execution_count": 93,
   "metadata": {},
   "outputs": [],
   "source": [
    "np.random.seed(76543)\n",
    "cog2 = lda2.top_topics(corpus2)"
   ]
  },
  {
   "cell_type": "code",
   "execution_count": 94,
   "metadata": {},
   "outputs": [],
   "source": [
    "coherence2=0\n",
    "for i in cog2:\n",
    "    coherence2+=i[1]\n",
    "coherence2 = coherence2/len(cog2)"
   ]
  },
  {
   "cell_type": "code",
   "execution_count": 95,
   "metadata": {},
   "outputs": [
    {
     "ename": "ValueError",
     "evalue": "The associated dictionary should be provided with the corpus or 'id2word' for topic model should be set as the associated dictionary.",
     "output_type": "error",
     "traceback": [
      "\u001b[0;31m---------------------------------------------------------------------------\u001b[0m",
      "\u001b[0;31mValueError\u001b[0m                                Traceback (most recent call last)",
      "\u001b[0;32m<ipython-input-95-9661ff018978>\u001b[0m in \u001b[0;36m<module>\u001b[0;34m\u001b[0m\n\u001b[1;32m      1\u001b[0m \u001b[0mnp\u001b[0m\u001b[0;34m.\u001b[0m\u001b[0mrandom\u001b[0m\u001b[0;34m.\u001b[0m\u001b[0mseed\u001b[0m\u001b[0;34m(\u001b[0m\u001b[0;36m76543\u001b[0m\u001b[0;34m)\u001b[0m\u001b[0;34m\u001b[0m\u001b[0m\n\u001b[0;32m----> 2\u001b[0;31m \u001b[0mcog\u001b[0m \u001b[0;34m=\u001b[0m \u001b[0mlda\u001b[0m\u001b[0;34m.\u001b[0m\u001b[0mtop_topics\u001b[0m\u001b[0;34m(\u001b[0m\u001b[0mcorpus\u001b[0m\u001b[0;34m)\u001b[0m\u001b[0;34m\u001b[0m\u001b[0m\n\u001b[0m",
      "\u001b[0;32m~/anaconda3/lib/python3.6/site-packages/gensim/models/ldamodel.py\u001b[0m in \u001b[0;36mtop_topics\u001b[0;34m(self, corpus, texts, dictionary, window_size, coherence, topn, processes)\u001b[0m\n\u001b[1;32m   1247\u001b[0m             \u001b[0mmodel\u001b[0m\u001b[0;34m=\u001b[0m\u001b[0mself\u001b[0m\u001b[0;34m,\u001b[0m \u001b[0mcorpus\u001b[0m\u001b[0;34m=\u001b[0m\u001b[0mcorpus\u001b[0m\u001b[0;34m,\u001b[0m \u001b[0mtexts\u001b[0m\u001b[0;34m=\u001b[0m\u001b[0mtexts\u001b[0m\u001b[0;34m,\u001b[0m \u001b[0mdictionary\u001b[0m\u001b[0;34m=\u001b[0m\u001b[0mdictionary\u001b[0m\u001b[0;34m,\u001b[0m\u001b[0;34m\u001b[0m\u001b[0m\n\u001b[1;32m   1248\u001b[0m             \u001b[0mwindow_size\u001b[0m\u001b[0;34m=\u001b[0m\u001b[0mwindow_size\u001b[0m\u001b[0;34m,\u001b[0m \u001b[0mcoherence\u001b[0m\u001b[0;34m=\u001b[0m\u001b[0mcoherence\u001b[0m\u001b[0;34m,\u001b[0m \u001b[0mtopn\u001b[0m\u001b[0;34m=\u001b[0m\u001b[0mtopn\u001b[0m\u001b[0;34m,\u001b[0m\u001b[0;34m\u001b[0m\u001b[0m\n\u001b[0;32m-> 1249\u001b[0;31m             \u001b[0mprocesses\u001b[0m\u001b[0;34m=\u001b[0m\u001b[0mprocesses\u001b[0m\u001b[0;34m\u001b[0m\u001b[0m\n\u001b[0m\u001b[1;32m   1250\u001b[0m         )\n\u001b[1;32m   1251\u001b[0m         \u001b[0mcoherence_scores\u001b[0m \u001b[0;34m=\u001b[0m \u001b[0mcm\u001b[0m\u001b[0;34m.\u001b[0m\u001b[0mget_coherence_per_topic\u001b[0m\u001b[0;34m(\u001b[0m\u001b[0;34m)\u001b[0m\u001b[0;34m\u001b[0m\u001b[0m\n",
      "\u001b[0;32m~/anaconda3/lib/python3.6/site-packages/gensim/models/coherencemodel.py\u001b[0m in \u001b[0;36m__init__\u001b[0;34m(self, model, topics, texts, corpus, dictionary, window_size, keyed_vectors, coherence, topn, processes)\u001b[0m\n\u001b[1;32m    168\u001b[0m             \u001b[0;32mif\u001b[0m \u001b[0misinstance\u001b[0m\u001b[0;34m(\u001b[0m\u001b[0mmodel\u001b[0m\u001b[0;34m.\u001b[0m\u001b[0mid2word\u001b[0m\u001b[0;34m,\u001b[0m \u001b[0mutils\u001b[0m\u001b[0;34m.\u001b[0m\u001b[0mFakeDict\u001b[0m\u001b[0;34m)\u001b[0m\u001b[0;34m:\u001b[0m\u001b[0;34m\u001b[0m\u001b[0m\n\u001b[1;32m    169\u001b[0m                 raise ValueError(\n\u001b[0;32m--> 170\u001b[0;31m                     \u001b[0;34m\"The associated dictionary should be provided with the corpus or 'id2word'\"\u001b[0m\u001b[0;34m\u001b[0m\u001b[0m\n\u001b[0m\u001b[1;32m    171\u001b[0m                     \" for topic model should be set as the associated dictionary.\")\n\u001b[1;32m    172\u001b[0m             \u001b[0;32melse\u001b[0m\u001b[0;34m:\u001b[0m\u001b[0;34m\u001b[0m\u001b[0m\n",
      "\u001b[0;31mValueError\u001b[0m: The associated dictionary should be provided with the corpus or 'id2word' for topic model should be set as the associated dictionary."
     ]
    }
   ],
   "source": [
    "np.random.seed(76543)\n",
    "cog = lda.top_topics(corpus)"
   ]
  },
  {
   "cell_type": "code",
   "execution_count": null,
   "metadata": {},
   "outputs": [],
   "source": [
    "coherence2 = np.mean([x[1] for x in coher2])"
   ]
  },
  {
   "cell_type": "code",
   "execution_count": 79,
   "metadata": {},
   "outputs": [
    {
     "name": "stdout",
     "output_type": "stream",
     "text": [
      "\n",
      "Perplexity:  -6.807660608085416\n"
     ]
    }
   ],
   "source": [
    "# Compute Perplexity\n",
    "print('\\nPerplexity: ', lda.log_perplexity(corpus))  # a measure of how good the model is. lower the better."
   ]
  },
  {
   "cell_type": "code",
   "execution_count": 81,
   "metadata": {},
   "outputs": [
    {
     "name": "stdout",
     "output_type": "stream",
     "text": [
      "\n",
      "Perplexity:  -7.2571434206467\n"
     ]
    }
   ],
   "source": [
    "# Compute Perplexity\n",
    "print('\\nPerplexity: ', lda2.log_perplexity(corpus2))  # a measure of how good the model is. lower the better."
   ]
  },
  {
   "cell_type": "code",
   "execution_count": 85,
   "metadata": {},
   "outputs": [
    {
     "name": "stdout",
     "output_type": "stream",
     "text": [
      "\n",
      "Coherence Score:  0.47352756425710646\n"
     ]
    }
   ],
   "source": [
    "# Compute Coherence Score\n",
    "coherence_model_lda = CoherenceModel(model=lda, texts=texts, dictionary=dictionary, coherence='c_v')\n",
    "coherence_lda = coherence_model_lda.get_coherence()\n",
    "print('\\nCoherence Score: ', coherence_lda)"
   ]
  },
  {
   "cell_type": "code",
   "execution_count": 87,
   "metadata": {},
   "outputs": [
    {
     "name": "stdout",
     "output_type": "stream",
     "text": [
      "\n",
      "Coherence Score2:  0.5940310731257086\n"
     ]
    }
   ],
   "source": [
    "# Compute Coherence Score\n",
    "coherence_model_lda2 = CoherenceModel(model=lda2, texts=texts, dictionary=dictionary, coherence='c_v')\n",
    "coherence_lda2 = coherence_model_lda2.get_coherence()\n",
    "print('\\nCoherence Score2: ', coherence_lda2)"
   ]
  },
  {
   "cell_type": "code",
   "execution_count": 89,
   "metadata": {},
   "outputs": [],
   "source": [
    "def save_answers3(coherence, coherence2):\n",
    "    with open(\"cooking_LDA_pa_task3.txt\", \"w\") as fout:\n",
    "        fout.write(\" \".join([\"%3f\"%el for el in [coherence, coherence2]]))"
   ]
  },
  {
   "cell_type": "code",
   "execution_count": 91,
   "metadata": {},
   "outputs": [
    {
     "name": "stdout",
     "output_type": "stream",
     "text": [
      "0.47352756425710646 0.5940310731257086\n"
     ]
    }
   ],
   "source": [
    "print(coherence_lda,coherence_lda2)\n",
    "save_answers3(coherence_lda, coherence_lda2)"
   ]
  },
  {
   "cell_type": "markdown",
   "metadata": {},
   "source": [
    "Считается, что когерентность хорошо соотносится с человеческими оценками интерпретируемости тем. Поэтому на больших текстовых коллекциях когерентность обычно повышается, если убрать фоновую лексику. Однако в нашем случае этого не произошло. "
   ]
  },
  {
   "cell_type": "markdown",
   "metadata": {},
   "source": [
    "### Изучение влияния гиперпараметра alpha"
   ]
  },
  {
   "cell_type": "markdown",
   "metadata": {},
   "source": [
    "В этом разделе мы будем работать со второй моделью, то есть той, которая построена по сокращенному корпусу. \n",
    "\n",
    "Пока что мы посмотрели только на матрицу темы-слова, теперь давайте посмотрим на матрицу темы-документы. Выведите темы для нулевого (или любого другого) документа из корпуса, воспользовавшись методом *get_document_topics* второй модели:"
   ]
  },
  {
   "cell_type": "code",
   "execution_count": 42,
   "metadata": {},
   "outputs": [
    {
     "data": {
      "text/plain": [
       "[(25, 0.128125), (30, 0.13386253), (31, 0.62238747)]"
      ]
     },
     "execution_count": 42,
     "metadata": {},
     "output_type": "execute_result"
    }
   ],
   "source": [
    "lda2.get_document_topics(corpus2[0])"
   ]
  },
  {
   "cell_type": "markdown",
   "metadata": {},
   "source": [
    "Также выведите содержимое переменной *.alpha* второй модели:"
   ]
  },
  {
   "cell_type": "code",
   "execution_count": 43,
   "metadata": {},
   "outputs": [
    {
     "data": {
      "text/plain": [
       "array([0.025, 0.025, 0.025, 0.025, 0.025, 0.025, 0.025, 0.025, 0.025,\n",
       "       0.025, 0.025, 0.025, 0.025, 0.025, 0.025, 0.025, 0.025, 0.025,\n",
       "       0.025, 0.025, 0.025, 0.025, 0.025, 0.025, 0.025, 0.025, 0.025,\n",
       "       0.025, 0.025, 0.025, 0.025, 0.025, 0.025, 0.025, 0.025, 0.025,\n",
       "       0.025, 0.025, 0.025, 0.025], dtype=float32)"
      ]
     },
     "execution_count": 43,
     "metadata": {},
     "output_type": "execute_result"
    }
   ],
   "source": [
    "lda2.alpha"
   ]
  },
  {
   "cell_type": "markdown",
   "metadata": {},
   "source": [
    "У вас должно получиться, что документ характеризуется небольшим числом тем. Попробуем поменять гиперпараметр alpha, задающий априорное распределение Дирихле для распределений тем в документах."
   ]
  },
  {
   "cell_type": "markdown",
   "metadata": {},
   "source": [
    "__Задание 4.__ Обучите третью модель: используйте сокращенный корпус (corpus2 и dictionary2) и установите параметр __alpha=1__, passes=5. Не забудьте про фиксацию seed! Выведите темы новой модели для нулевого документа; должно получиться, что распределение над множеством тем практически равномерное. Чтобы убедиться в том, что во второй модели документы описываются гораздо более разреженными распределениями, чем в третьей, посчитайте суммарное количество элементов, __превосходящих 0.01__, в матрицах темы-документы обеих моделей. Другими словами, запросите темы  модели для каждого документа с параметром *minimum_probability=0.01* и просуммируйте число элементов в получаемых массивах. Передайте две суммы (сначала для модели с alpha по умолчанию, затем для модели в alpha=1) в функцию save_answers4."
   ]
  },
  {
   "cell_type": "code",
   "execution_count": 44,
   "metadata": {},
   "outputs": [],
   "source": [
    "np.random.seed(76543)\n",
    "# здесь код для построения модели:\n",
    "lda3 = models.LdaModel(corpus=corpus2, num_topics=40, passes=5,alpha=1.0)"
   ]
  },
  {
   "cell_type": "code",
   "execution_count": 45,
   "metadata": {},
   "outputs": [
    {
     "data": {
      "text/plain": [
       "<gensim.interfaces.TransformedCorpus at 0x1291c09e8>"
      ]
     },
     "execution_count": 45,
     "metadata": {},
     "output_type": "execute_result"
    }
   ],
   "source": [
    "lda3.get_document_topics(corpus2, minimum_probability=0.01)                    \n",
    "#Return topic distribution for the given document bow, as a list of (topic_id, topic_probability) 2-tuples."
   ]
  },
  {
   "cell_type": "code",
   "execution_count": 46,
   "metadata": {},
   "outputs": [
    {
     "data": {
      "text/plain": [
       "[(0, 0.021695828),\n",
       " (1, 0.022924127),\n",
       " (2, 0.020408163),\n",
       " (3, 0.041062277),\n",
       " (4, 0.02139242),\n",
       " (5, 0.031005992),\n",
       " (6, 0.020522937),\n",
       " (7, 0.020524312),\n",
       " (8, 0.020792864),\n",
       " (9, 0.020822424),\n",
       " (10, 0.020790204),\n",
       " (11, 0.040557828),\n",
       " (12, 0.020417145),\n",
       " (13, 0.04546879),\n",
       " (14, 0.020683417),\n",
       " (15, 0.020825036),\n",
       " (16, 0.020644134),\n",
       " (17, 0.020983728),\n",
       " (18, 0.02040817),\n",
       " (19, 0.020582668),\n",
       " (20, 0.024073482),\n",
       " (21, 0.020514075),\n",
       " (22, 0.020408163),\n",
       " (23, 0.020420155),\n",
       " (24, 0.020909522),\n",
       " (25, 0.020781057),\n",
       " (26, 0.020660942),\n",
       " (27, 0.020482056),\n",
       " (28, 0.020718073),\n",
       " (29, 0.020483883),\n",
       " (30, 0.0408474),\n",
       " (31, 0.06814593),\n",
       " (32, 0.021023829),\n",
       " (33, 0.02051092),\n",
       " (34, 0.022154743),\n",
       " (35, 0.020476999),\n",
       " (36, 0.020432752),\n",
       " (37, 0.020526981),\n",
       " (38, 0.020410515),\n",
       " (39, 0.043506067)]"
      ]
     },
     "execution_count": 46,
     "metadata": {},
     "output_type": "execute_result"
    }
   ],
   "source": [
    "lda3.get_document_topics(corpus[0])"
   ]
  },
  {
   "cell_type": "code",
   "execution_count": 47,
   "metadata": {},
   "outputs": [],
   "source": [
    "def cnt_model (lda,corpus):\n",
    "    cnt=0\n",
    "    for corp in corpus:\n",
    "        topics=lda.get_document_topics(corp,minimum_probability=0.01)\n",
    "        cnt+=len(topics)\n",
    "    return cnt"
   ]
  },
  {
   "cell_type": "code",
   "execution_count": 48,
   "metadata": {},
   "outputs": [],
   "source": [
    "count_model2=cnt_model(lda2,corpus2)\n",
    "count_model3=cnt_model(lda3,corpus2)"
   ]
  },
  {
   "cell_type": "code",
   "execution_count": 49,
   "metadata": {},
   "outputs": [
    {
     "name": "stdout",
     "output_type": "stream",
     "text": [
      "198506 1590960\n"
     ]
    }
   ],
   "source": [
    "print(count_model2,count_model3)"
   ]
  },
  {
   "cell_type": "code",
   "execution_count": 50,
   "metadata": {},
   "outputs": [],
   "source": [
    "def save_answers4(count_model2, count_model3):\n",
    "    with open(\"cooking_LDA_pa_task4.txt\", \"w\") as fout:\n",
    "        fout.write(\" \".join([str(el) for el in [count_model2, count_model3]]))"
   ]
  },
  {
   "cell_type": "code",
   "execution_count": 51,
   "metadata": {},
   "outputs": [],
   "source": [
    "save_answers4(count_model2,count_model3)"
   ]
  },
  {
   "cell_type": "markdown",
   "metadata": {},
   "source": [
    "Таким образом, гиперпараметр __alpha__ влияет на разреженность распределений тем в документах. Аналогично гиперпараметр __eta__ влияет на разреженность распределений слов в темах."
   ]
  },
  {
   "cell_type": "markdown",
   "metadata": {},
   "source": [
    "### LDA как способ понижения размерности\n",
    "Иногда, распределения над темами, найденные с помощью LDA, добавляют в матрицу объекты-признаки как дополнительные, семантические, признаки, и это может улучшить качество решения задачи. Для простоты давайте просто обучим классификатор рецептов на кухни на признаках, полученных из LDA, и измерим точность (accuracy).\n",
    "\n",
    "__Задание 5.__ Используйте модель, построенную по сокращенной выборке с alpha по умолчанию (вторую модель). Составьте матрицу $\\Theta = p(t|d)$ вероятностей тем в документах; вы можете использовать тот же метод get_document_topics, а также вектор правильных ответов y (в том же порядке, в котором рецепты идут в переменной recipes). Создайте объект RandomForestClassifier со 100 деревьями, с помощью функции cross_val_score вычислите среднюю accuracy по трем фолдам (перемешивать данные не нужно) и передайте в функцию save_answers5."
   ]
  },
  {
   "cell_type": "code",
   "execution_count": 53,
   "metadata": {},
   "outputs": [],
   "source": [
    "from sklearn.ensemble import RandomForestClassifier\n",
    "from sklearn.model_selection import cross_val_score"
   ]
  },
  {
   "cell_type": "code",
   "execution_count": 54,
   "metadata": {},
   "outputs": [],
   "source": [
    "theta=np.zeros([len(corpus2),40]) # n of topics =40"
   ]
  },
  {
   "cell_type": "code",
   "execution_count": 55,
   "metadata": {},
   "outputs": [
    {
     "data": {
      "text/plain": [
       "(39774, 40)"
      ]
     },
     "execution_count": 55,
     "metadata": {},
     "output_type": "execute_result"
    }
   ],
   "source": [
    "theta.shape"
   ]
  },
  {
   "cell_type": "code",
   "execution_count": 56,
   "metadata": {},
   "outputs": [
    {
     "data": {
      "text/plain": [
       "<bound method LdaModel.get_document_topics of <gensim.models.ldamodel.LdaModel object at 0x127e88b38>>"
      ]
     },
     "execution_count": 56,
     "metadata": {},
     "output_type": "execute_result"
    }
   ],
   "source": [
    "lda2.get_document_topics"
   ]
  },
  {
   "cell_type": "code",
   "execution_count": 57,
   "metadata": {},
   "outputs": [],
   "source": [
    "for i,j in enumerate(corpus2):\n",
    "    for topic_id,prob in lda2.get_document_topics(j):\n",
    "        theta[i,topic_id]=prob"
   ]
  },
  {
   "cell_type": "code",
   "execution_count": 58,
   "metadata": {},
   "outputs": [
    {
     "name": "stdout",
     "output_type": "stream",
     "text": [
      "['southern_us', 'indian', 'japanese', 'moroccan', 'mexican', 'irish', 'italian', 'chinese', 'vietnamese', 'filipino', 'greek', 'cajun_creole', 'thai', 'french', 'british', 'jamaican', 'korean', 'russian', 'spanish', 'brazilian']\n"
     ]
    }
   ],
   "source": [
    "cuisine_list=list(set([recipe[\"cuisine\"] for recipe in recipes]))\n",
    "print(cuisine_list)"
   ]
  },
  {
   "cell_type": "code",
   "execution_count": 59,
   "metadata": {},
   "outputs": [
    {
     "name": "stdout",
     "output_type": "stream",
     "text": [
      "['greek' 'southern_us' 'filipino' ... 'irish' 'chinese' 'mexican']\n"
     ]
    },
    {
     "data": {
      "text/plain": [
       "(39774,)"
      ]
     },
     "execution_count": 59,
     "metadata": {},
     "output_type": "execute_result"
    }
   ],
   "source": [
    "y=np.array([recipe[\"cuisine\"] for recipe in recipes])\n",
    "print(y)\n",
    "y.shape"
   ]
  },
  {
   "cell_type": "code",
   "execution_count": 60,
   "metadata": {},
   "outputs": [],
   "source": [
    "clf=RandomForestClassifier(n_estimators=100)"
   ]
  },
  {
   "cell_type": "code",
   "execution_count": 61,
   "metadata": {},
   "outputs": [],
   "source": [
    "accuracy=np.mean(cross_val_score(clf,theta,y,cv=3,scoring='accuracy'))"
   ]
  },
  {
   "cell_type": "code",
   "execution_count": 62,
   "metadata": {},
   "outputs": [
    {
     "name": "stdout",
     "output_type": "stream",
     "text": [
      "0.5555390131985823\n"
     ]
    }
   ],
   "source": [
    "print(accuracy)"
   ]
  },
  {
   "cell_type": "code",
   "execution_count": 63,
   "metadata": {},
   "outputs": [],
   "source": [
    "def save_answers5(accuracy):\n",
    "     with open(\"cooking_LDA_pa_task5.txt\", \"w\") as fout:\n",
    "        fout.write(str(accuracy))"
   ]
  },
  {
   "cell_type": "code",
   "execution_count": 64,
   "metadata": {},
   "outputs": [],
   "source": [
    "save_answers5(accuracy)"
   ]
  },
  {
   "cell_type": "markdown",
   "metadata": {},
   "source": [
    "Для такого большого количества классов это неплохая точность. Вы можете попроовать обучать RandomForest на исходной матрице частот слов, имеющей значительно большую размерность, и увидеть, что accuracy увеличивается на 10–15%. Таким образом, LDA собрал не всю, но достаточно большую часть информации из выборки, в матрице низкого ранга."
   ]
  },
  {
   "cell_type": "markdown",
   "metadata": {},
   "source": [
    "### LDA — вероятностная модель\n",
    "Матричное разложение, использующееся в LDA, интерпретируется как следующий процесс генерации документов.\n",
    "\n",
    "Для документа $d$ длины $n_d$:\n",
    "1. Из априорного распределения Дирихле с параметром alpha сгенерировать распределение над множеством тем: $\\theta_d \\sim Dirichlet(\\alpha)$\n",
    "1. Для каждого слова $w = 1, \\dots, n_d$:\n",
    "    1. Сгенерировать тему из дискретного распределения $t \\sim \\theta_{d}$\n",
    "    1. Сгенерировать слово из дискретного распределения $w \\sim \\phi_{t}$.\n",
    "    \n",
    "Подробнее об этом в [Википедии](https://en.wikipedia.org/wiki/Latent_Dirichlet_allocation).\n",
    "\n",
    "В контексте нашей задачи получается, что, используя данный генеративный процесс, можно создавать новые рецепты. Вы можете передать в функцию модель и число ингредиентов и сгенерировать рецепт :)"
   ]
  },
  {
   "cell_type": "code",
   "execution_count": 65,
   "metadata": {},
   "outputs": [],
   "source": [
    "def generate_recipe(model, num_ingredients):\n",
    "    theta = np.random.dirichlet(model.alpha)\n",
    "    for i in range(num_ingredients):\n",
    "        t = np.random.choice(np.arange(model.num_topics), p=theta)\n",
    "        topic = model.show_topic(t, topn=model.num_terms)\n",
    "        topic_distr = [x[1] for x in topic]\n",
    "        terms = [x[0] for x in topic]\n",
    "        w = np.random.choice(terms, p=topic_distr)\n",
    "        print (w)"
   ]
  },
  {
   "cell_type": "code",
   "execution_count": 66,
   "metadata": {},
   "outputs": [
    {
     "name": "stdout",
     "output_type": "stream",
     "text": [
      "218\n",
      "181\n",
      "71\n"
     ]
    }
   ],
   "source": [
    "generate_recipe(lda2,3)"
   ]
  },
  {
   "cell_type": "markdown",
   "metadata": {},
   "source": [
    "### Интерпретация построенной модели\n",
    "Вы можете рассмотреть топы ингредиентов каждой темы. Большиснтво тем сами по себе похожи на рецепты; в некоторых собираются продукты одного вида, например, свежие фрукты или разные виды сыра.\n",
    "\n",
    "Попробуем эмпирически соотнести наши темы с национальными кухнями (cuisine). Построим матрицу $A$ размера темы $x$ кухни, ее элементы $a_{tc}$ — суммы $p(t|d)$ по всем документам $d$, которые отнесены к кухне $c$. Нормируем матрицу на частоты рецептов по разным кухням, чтобы избежать дисбаланса между кухнями. Следующая функция получает на вход объект модели, объект корпуса и исходные данные и возвращает нормированную матрицу $A$. Ее удобно визуализировать с помощью seaborn."
   ]
  },
  {
   "cell_type": "code",
   "execution_count": 67,
   "metadata": {},
   "outputs": [],
   "source": [
    "import pandas\n",
    "import seaborn\n",
    "from matplotlib import pyplot as plt\n",
    "%matplotlib inline"
   ]
  },
  {
   "cell_type": "code",
   "execution_count": 68,
   "metadata": {},
   "outputs": [],
   "source": [
    "def compute_topic_cuisine_matrix(model, corpus, recipes):\n",
    "    # составляем вектор целевых признаков\n",
    "    targets = list(set([recipe[\"cuisine\"] for recipe in recipes]))\n",
    "    # составляем матрицу\n",
    "    tc_matrix = pandas.DataFrame(data=np.zeros((model.num_topics, len(targets))), columns=targets)\n",
    "    for recipe, bow in zip(recipes, corpus):\n",
    "        recipe_topic = model.get_document_topics(bow)\n",
    "        for t, prob in recipe_topic:\n",
    "            tc_matrix[recipe[\"cuisine\"]][t] += prob\n",
    "    # нормируем матрицу\n",
    "    target_sums = pandas.DataFrame(data=np.zeros((1, len(targets))), columns=targets)\n",
    "    for recipe in recipes:\n",
    "        target_sums[recipe[\"cuisine\"]] += 1\n",
    "    return pandas.DataFrame(tc_matrix.values/target_sums.values, columns=tc_matrix.columns)"
   ]
  },
  {
   "cell_type": "code",
   "execution_count": 73,
   "metadata": {},
   "outputs": [],
   "source": [
    "def plot_matrix(tc_matrix):\n",
    "    plt.figure(figsize=(10, 10))\n",
    "    seaborn.heatmap(tc_matrix, square=True)"
   ]
  },
  {
   "cell_type": "code",
   "execution_count": 74,
   "metadata": {},
   "outputs": [
    {
     "data": {
      "image/png": "[encoded data removed]",
      "text/plain": [
       "<Figure size 720x720 with 2 Axes>"
      ]
     },
     "metadata": {
      "needs_background": "light"
     },
     "output_type": "display_data"
    }
   ],
   "source": [
    "# Визуализируйте матрицу\n",
    "plot_matrix(compute_topic_cuisine_matrix(lda2,corpus2,recipes))"
   ]
  },
  {
   "cell_type": "markdown",
   "metadata": {},
   "source": [
    "Чем темнее квадрат в матрице, тем больше связь этой темы с данной кухней. Мы видим, что у нас есть темы, которые связаны с несколькими кухнями. Такие темы показывают набор ингредиентов, которые популярны в кухнях нескольких народов, то есть указывают на схожесть кухонь этих народов. Некоторые темы распределены по всем кухням равномерно, они показывают наборы продуктов, которые часто используются в кулинарии всех стран. "
   ]
  },
  {
   "cell_type": "markdown",
   "metadata": {},
   "source": [
    "Жаль, что в датасете нет названий рецептов, иначе темы было бы проще интерпретировать..."
   ]
  },
  {
   "cell_type": "markdown",
   "metadata": {},
   "source": [
    "### Заключение\n",
    "В этом задании вы построили несколько моделей LDA, посмотрели, на что влияют гиперпараметры модели и как можно использовать построенную модель. "
   ]
  }
 ],
 "metadata": {
  "kernelspec": {
   "display_name": "Python 3",
   "language": "python",
   "name": "python3"
  },
  "language_info": {
   "codemirror_mode": {
    "name": "ipython",
    "version": 3
   },
   "file_extension": ".py",
   "mimetype": "text/x-python",
   "name": "python",
   "nbconvert_exporter": "python",
   "pygments_lexer": "ipython3",
   "version": "3.6.6"
  }
 },
 "nbformat": 4,
 "nbformat_minor": 1
}

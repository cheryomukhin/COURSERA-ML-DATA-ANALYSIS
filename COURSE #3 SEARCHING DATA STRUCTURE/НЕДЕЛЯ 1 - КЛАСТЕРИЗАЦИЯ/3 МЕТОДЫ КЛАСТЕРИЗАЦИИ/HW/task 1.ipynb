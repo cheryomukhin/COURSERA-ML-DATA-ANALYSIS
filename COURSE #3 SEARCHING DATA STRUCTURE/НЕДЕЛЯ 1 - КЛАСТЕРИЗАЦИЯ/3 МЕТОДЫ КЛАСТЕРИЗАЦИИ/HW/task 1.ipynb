{
 "cells": [
  {
   "cell_type": "markdown",
   "metadata": {},
   "source": [
    "# Задание по программированию: Размещение баннеров"
   ]
  },
  {
   "cell_type": "markdown",
   "metadata": {},
   "source": [
    "Представим, что международное круизное агентство Carnival Cruise Line решило себя разрекламировать с помощью баннеров и обратилось для этого к вам. Чтобы протестировать, велика ли от таких баннеров польза, их будет размещено всего 20 штук по всему миру. Вам надо выбрать 20 таких локаций для размещения, чтобы польза была большой и агентство продолжило с вами сотрудничать.\n",
    "\n",
    "Агентство крупное, и у него есть несколько офисов по всему миру. Вблизи этих офисов оно и хочет разместить баннеры — легче договариваться и проверять результат. Также эти места должны быть популярны среди туристов.\n",
    "\n",
    "Для поиска оптимальных мест воспользуемся базой данных крупнейшей социальной сети, основанной на локациях — Foursquare.\n",
    "\n",
    "Часть открытых данных есть, например, на сайте archive.org:\n",
    "\n",
    "https://archive.org/details/201309_foursquare_dataset_umn\n",
    "\n",
    "Скачаем любым удобным образом архив fsq.zip с этой страницы.\n",
    "\n",
    "Нас будет интересовать файл checkins.dat. \n"
   ]
  },
  {
   "cell_type": "code",
   "execution_count": 187,
   "metadata": {},
   "outputs": [],
   "source": [
    "import numpy as np\n",
    "import pandas as pd\n",
    "import seaborn as sns\n",
    "import matplotlib.pyplot as plt\n",
    "from sklearn.cluster import MeanShift, estimate_bandwidth\n",
    "from geopy.distance import geodesic\n",
    "from itertools import groupby\n",
    "from operator import itemgetter\n",
    "%matplotlib inline"
   ]
  },
  {
   "cell_type": "markdown",
   "metadata": {},
   "source": [
    "Для удобной работы с этим документом преобразуем его к формату csv, удалив строки, не содержащие координат — они неинформативны для нас:"
   ]
  },
  {
   "cell_type": "code",
   "execution_count": 136,
   "metadata": {
    "scrolled": true
   },
   "outputs": [],
   "source": [
    "data = pd.read_csv('checkins.dat', header=0, sep='|', low_memory=False)"
   ]
  },
  {
   "cell_type": "code",
   "execution_count": 137,
   "metadata": {},
   "outputs": [],
   "source": [
    "data = data.iloc[1:]"
   ]
  },
  {
   "cell_type": "code",
   "execution_count": 138,
   "metadata": {},
   "outputs": [
    {
     "data": {
      "text/html": [
       "<div>\n",
       "<style scoped>\n",
       "    .dataframe tbody tr th:only-of-type {\n",
       "        vertical-align: middle;\n",
       "    }\n",
       "\n",
       "    .dataframe tbody tr th {\n",
       "        vertical-align: top;\n",
       "    }\n",
       "\n",
       "    .dataframe thead th {\n",
       "        text-align: right;\n",
       "    }\n",
       "</style>\n",
       "<table border=\"1\" class=\"dataframe\">\n",
       "  <thead>\n",
       "    <tr style=\"text-align: right;\">\n",
       "      <th></th>\n",
       "      <th>id</th>\n",
       "      <th>user_id</th>\n",
       "      <th>venue_id</th>\n",
       "      <th>latitude</th>\n",
       "      <th>longitude</th>\n",
       "      <th>created_at</th>\n",
       "    </tr>\n",
       "  </thead>\n",
       "  <tbody>\n",
       "    <tr>\n",
       "      <th>1</th>\n",
       "      <td>984301</td>\n",
       "      <td>2041916.0</td>\n",
       "      <td>5222.0</td>\n",
       "      <td></td>\n",
       "      <td></td>\n",
       "      <td>2012-04-21 17:39:01</td>\n",
       "    </tr>\n",
       "    <tr>\n",
       "      <th>2</th>\n",
       "      <td>984222</td>\n",
       "      <td>15824.0</td>\n",
       "      <td>5222.0</td>\n",
       "      <td>38.8951118</td>\n",
       "      <td>-77.0363658</td>\n",
       "      <td>2012-04-21 17:43:47</td>\n",
       "    </tr>\n",
       "    <tr>\n",
       "      <th>3</th>\n",
       "      <td>984315</td>\n",
       "      <td>1764391.0</td>\n",
       "      <td>5222.0</td>\n",
       "      <td></td>\n",
       "      <td></td>\n",
       "      <td>2012-04-21 17:37:18</td>\n",
       "    </tr>\n",
       "    <tr>\n",
       "      <th>4</th>\n",
       "      <td>984234</td>\n",
       "      <td>44652.0</td>\n",
       "      <td>5222.0</td>\n",
       "      <td>33.800745</td>\n",
       "      <td>-84.41052</td>\n",
       "      <td>2012-04-21 17:43:43</td>\n",
       "    </tr>\n",
       "    <tr>\n",
       "      <th>5</th>\n",
       "      <td>984249</td>\n",
       "      <td>2146840.0</td>\n",
       "      <td>5222.0</td>\n",
       "      <td></td>\n",
       "      <td></td>\n",
       "      <td>2012-04-21 17:42:58</td>\n",
       "    </tr>\n",
       "  </tbody>\n",
       "</table>\n",
       "</div>"
      ],
      "text/plain": [
       "      id       user_id    venue_id        latitude             longitude       \\\n",
       "1    984301   2041916.0      5222.0                                             \n",
       "2    984222     15824.0      5222.0          38.8951118          -77.0363658    \n",
       "3    984315   1764391.0      5222.0                                             \n",
       "4    984234     44652.0      5222.0           33.800745            -84.41052    \n",
       "5    984249   2146840.0      5222.0                                             \n",
       "\n",
       "       created_at        \n",
       "1   2012-04-21 17:39:01  \n",
       "2   2012-04-21 17:43:47  \n",
       "3   2012-04-21 17:37:18  \n",
       "4   2012-04-21 17:43:43  \n",
       "5   2012-04-21 17:42:58  "
      ]
     },
     "execution_count": 138,
     "metadata": {},
     "output_type": "execute_result"
    }
   ],
   "source": [
    "data.head()"
   ]
  },
  {
   "cell_type": "code",
   "execution_count": 139,
   "metadata": {},
   "outputs": [
    {
     "name": "stdout",
     "output_type": "stream",
     "text": [
      "<class 'pandas.core.frame.DataFrame'>\n",
      "RangeIndex: 1021967 entries, 1 to 1021967\n",
      "Data columns (total 6 columns):\n",
      "   id                    1021967 non-null object\n",
      " user_id                 1021966 non-null float64\n",
      " venue_id                1021966 non-null float64\n",
      "     latitude            1021966 non-null object\n",
      "     longitude           1021966 non-null object\n",
      "     created_at          1021966 non-null object\n",
      "dtypes: float64(2), object(4)\n",
      "memory usage: 46.8+ MB\n"
     ]
    }
   ],
   "source": [
    "data.info()"
   ]
  },
  {
   "cell_type": "code",
   "execution_count": 140,
   "metadata": {},
   "outputs": [],
   "source": [
    "data.columns = ['id','user_id','venue_id','latitude','longitude','created_at']"
   ]
  },
  {
   "cell_type": "code",
   "execution_count": 141,
   "metadata": {},
   "outputs": [],
   "source": [
    "data= data.apply(pd.to_numeric, errors='ceries')"
   ]
  },
  {
   "cell_type": "code",
   "execution_count": 142,
   "metadata": {},
   "outputs": [],
   "source": [
    "data = data.fillna('')\n",
    "data = data[data.latitude != '']\n",
    "data = data[data.id != '']\n",
    "data = data[data.longitude != '']\n",
    "data = data[data.user_id != '']\n",
    "data = data[data.venue_id != '']"
   ]
  },
  {
   "cell_type": "code",
   "execution_count": 143,
   "metadata": {},
   "outputs": [
    {
     "data": {
      "text/html": [
       "<div>\n",
       "<style scoped>\n",
       "    .dataframe tbody tr th:only-of-type {\n",
       "        vertical-align: middle;\n",
       "    }\n",
       "\n",
       "    .dataframe tbody tr th {\n",
       "        vertical-align: top;\n",
       "    }\n",
       "\n",
       "    .dataframe thead th {\n",
       "        text-align: right;\n",
       "    }\n",
       "</style>\n",
       "<table border=\"1\" class=\"dataframe\">\n",
       "  <thead>\n",
       "    <tr style=\"text-align: right;\">\n",
       "      <th></th>\n",
       "      <th>id</th>\n",
       "      <th>user_id</th>\n",
       "      <th>venue_id</th>\n",
       "      <th>latitude</th>\n",
       "      <th>longitude</th>\n",
       "      <th>created_at</th>\n",
       "    </tr>\n",
       "  </thead>\n",
       "  <tbody>\n",
       "    <tr>\n",
       "      <th>2</th>\n",
       "      <td>984222</td>\n",
       "      <td>15824</td>\n",
       "      <td>5222</td>\n",
       "      <td>38.8951</td>\n",
       "      <td>-77.0364</td>\n",
       "      <td></td>\n",
       "    </tr>\n",
       "    <tr>\n",
       "      <th>4</th>\n",
       "      <td>984234</td>\n",
       "      <td>44652</td>\n",
       "      <td>5222</td>\n",
       "      <td>33.8007</td>\n",
       "      <td>-84.4105</td>\n",
       "      <td></td>\n",
       "    </tr>\n",
       "    <tr>\n",
       "      <th>8</th>\n",
       "      <td>984291</td>\n",
       "      <td>105054</td>\n",
       "      <td>5222</td>\n",
       "      <td>45.5235</td>\n",
       "      <td>-122.676</td>\n",
       "      <td></td>\n",
       "    </tr>\n",
       "    <tr>\n",
       "      <th>10</th>\n",
       "      <td>984318</td>\n",
       "      <td>2.14654e+06</td>\n",
       "      <td>5222</td>\n",
       "      <td>40.7645</td>\n",
       "      <td>-111.905</td>\n",
       "      <td></td>\n",
       "    </tr>\n",
       "    <tr>\n",
       "      <th>11</th>\n",
       "      <td>984232</td>\n",
       "      <td>93870</td>\n",
       "      <td>380645</td>\n",
       "      <td>33.4484</td>\n",
       "      <td>-112.074</td>\n",
       "      <td></td>\n",
       "    </tr>\n",
       "    <tr>\n",
       "      <th>12</th>\n",
       "      <td>984483</td>\n",
       "      <td>1.03029e+06</td>\n",
       "      <td>955969</td>\n",
       "      <td>32.2217</td>\n",
       "      <td>-110.926</td>\n",
       "      <td></td>\n",
       "    </tr>\n",
       "    <tr>\n",
       "      <th>13</th>\n",
       "      <td>984685</td>\n",
       "      <td>304253</td>\n",
       "      <td>23558</td>\n",
       "      <td>40.65</td>\n",
       "      <td>-73.95</td>\n",
       "      <td></td>\n",
       "    </tr>\n",
       "    <tr>\n",
       "      <th>14</th>\n",
       "      <td>984470</td>\n",
       "      <td>720850</td>\n",
       "      <td>749715</td>\n",
       "      <td>33.4484</td>\n",
       "      <td>-112.074</td>\n",
       "      <td></td>\n",
       "    </tr>\n",
       "    <tr>\n",
       "      <th>16</th>\n",
       "      <td>984610</td>\n",
       "      <td>1.63967e+06</td>\n",
       "      <td>442605</td>\n",
       "      <td>33.4148</td>\n",
       "      <td>-111.909</td>\n",
       "      <td></td>\n",
       "    </tr>\n",
       "    <tr>\n",
       "      <th>19</th>\n",
       "      <td>984653</td>\n",
       "      <td>1.64719e+06</td>\n",
       "      <td>23558</td>\n",
       "      <td>42.3584</td>\n",
       "      <td>-71.0598</td>\n",
       "      <td></td>\n",
       "    </tr>\n",
       "  </tbody>\n",
       "</table>\n",
       "</div>"
      ],
      "text/plain": [
       "        id      user_id venue_id latitude longitude created_at\n",
       "2   984222        15824     5222  38.8951  -77.0364           \n",
       "4   984234        44652     5222  33.8007  -84.4105           \n",
       "8   984291       105054     5222  45.5235  -122.676           \n",
       "10  984318  2.14654e+06     5222  40.7645  -111.905           \n",
       "11  984232        93870   380645  33.4484  -112.074           \n",
       "12  984483  1.03029e+06   955969  32.2217  -110.926           \n",
       "13  984685       304253    23558    40.65    -73.95           \n",
       "14  984470       720850   749715  33.4484  -112.074           \n",
       "16  984610  1.63967e+06   442605  33.4148  -111.909           \n",
       "19  984653  1.64719e+06    23558  42.3584  -71.0598           "
      ]
     },
     "execution_count": 143,
     "metadata": {},
     "output_type": "execute_result"
    }
   ],
   "source": [
    "data.head(10)"
   ]
  },
  {
   "cell_type": "code",
   "execution_count": 144,
   "metadata": {},
   "outputs": [
    {
     "data": {
      "text/html": [
       "<div>\n",
       "<style scoped>\n",
       "    .dataframe tbody tr th:only-of-type {\n",
       "        vertical-align: middle;\n",
       "    }\n",
       "\n",
       "    .dataframe tbody tr th {\n",
       "        vertical-align: top;\n",
       "    }\n",
       "\n",
       "    .dataframe thead th {\n",
       "        text-align: right;\n",
       "    }\n",
       "</style>\n",
       "<table border=\"1\" class=\"dataframe\">\n",
       "  <thead>\n",
       "    <tr style=\"text-align: right;\">\n",
       "      <th></th>\n",
       "      <th>id</th>\n",
       "      <th>user_id</th>\n",
       "      <th>venue_id</th>\n",
       "      <th>latitude</th>\n",
       "      <th>longitude</th>\n",
       "      <th>created_at</th>\n",
       "    </tr>\n",
       "  </thead>\n",
       "  <tbody>\n",
       "    <tr>\n",
       "      <th>count</th>\n",
       "      <td>396634.0</td>\n",
       "      <td>396634.0</td>\n",
       "      <td>396634.0</td>\n",
       "      <td>396634.000000</td>\n",
       "      <td>396634.000000</td>\n",
       "      <td>396634</td>\n",
       "    </tr>\n",
       "    <tr>\n",
       "      <th>unique</th>\n",
       "      <td>396634.0</td>\n",
       "      <td>167709.0</td>\n",
       "      <td>47321.0</td>\n",
       "      <td>11785.000000</td>\n",
       "      <td>11731.000000</td>\n",
       "      <td>1</td>\n",
       "    </tr>\n",
       "    <tr>\n",
       "      <th>top</th>\n",
       "      <td>927039.0</td>\n",
       "      <td>1326476.0</td>\n",
       "      <td>5222.0</td>\n",
       "      <td>41.878114</td>\n",
       "      <td>-87.629798</td>\n",
       "      <td></td>\n",
       "    </tr>\n",
       "    <tr>\n",
       "      <th>freq</th>\n",
       "      <td>1.0</td>\n",
       "      <td>48.0</td>\n",
       "      <td>12739.0</td>\n",
       "      <td>15254.000000</td>\n",
       "      <td>15254.000000</td>\n",
       "      <td>396634</td>\n",
       "    </tr>\n",
       "  </tbody>\n",
       "</table>\n",
       "</div>"
      ],
      "text/plain": [
       "              id    user_id  venue_id       latitude      longitude created_at\n",
       "count   396634.0   396634.0  396634.0  396634.000000  396634.000000     396634\n",
       "unique  396634.0   167709.0   47321.0   11785.000000   11731.000000          1\n",
       "top     927039.0  1326476.0    5222.0      41.878114     -87.629798           \n",
       "freq         1.0       48.0   12739.0   15254.000000   15254.000000     396634"
      ]
     },
     "execution_count": 144,
     "metadata": {},
     "output_type": "execute_result"
    }
   ],
   "source": [
    "data.describe()"
   ]
  },
  {
   "cell_type": "code",
   "execution_count": 145,
   "metadata": {},
   "outputs": [],
   "source": [
    "data = data.drop('id', 1)\n",
    "data = data.drop('user_id', 1)\n",
    "data = data.drop('venue_id', 1)\n",
    "data = data.drop('created_at', 1)"
   ]
  },
  {
   "cell_type": "markdown",
   "metadata": {},
   "source": [
    "С помощью pandas построим DataFrame и убедимся, что все 396634 строки с координатами считаны успешно."
   ]
  },
  {
   "cell_type": "code",
   "execution_count": 123,
   "metadata": {},
   "outputs": [
    {
     "name": "stdout",
     "output_type": "stream",
     "text": [
      "<class 'pandas.core.frame.DataFrame'>\n",
      "Int64Index: 396634 entries, 2 to 1021965\n",
      "Data columns (total 2 columns):\n",
      "latitude     396634 non-null object\n",
      "longitude    396634 non-null object\n",
      "dtypes: object(2)\n",
      "memory usage: 9.1+ MB\n"
     ]
    }
   ],
   "source": [
    "data.info()"
   ]
  },
  {
   "cell_type": "code",
   "execution_count": 124,
   "metadata": {
    "scrolled": true
   },
   "outputs": [
    {
     "data": {
      "text/html": [
       "<div>\n",
       "<style scoped>\n",
       "    .dataframe tbody tr th:only-of-type {\n",
       "        vertical-align: middle;\n",
       "    }\n",
       "\n",
       "    .dataframe tbody tr th {\n",
       "        vertical-align: top;\n",
       "    }\n",
       "\n",
       "    .dataframe thead th {\n",
       "        text-align: right;\n",
       "    }\n",
       "</style>\n",
       "<table border=\"1\" class=\"dataframe\">\n",
       "  <thead>\n",
       "    <tr style=\"text-align: right;\">\n",
       "      <th></th>\n",
       "      <th>latitude</th>\n",
       "      <th>longitude</th>\n",
       "    </tr>\n",
       "  </thead>\n",
       "  <tbody>\n",
       "    <tr>\n",
       "      <th>2</th>\n",
       "      <td>38.8951</td>\n",
       "      <td>-77.0364</td>\n",
       "    </tr>\n",
       "    <tr>\n",
       "      <th>4</th>\n",
       "      <td>33.8007</td>\n",
       "      <td>-84.4105</td>\n",
       "    </tr>\n",
       "    <tr>\n",
       "      <th>8</th>\n",
       "      <td>45.5235</td>\n",
       "      <td>-122.676</td>\n",
       "    </tr>\n",
       "    <tr>\n",
       "      <th>10</th>\n",
       "      <td>40.7645</td>\n",
       "      <td>-111.905</td>\n",
       "    </tr>\n",
       "    <tr>\n",
       "      <th>11</th>\n",
       "      <td>33.4484</td>\n",
       "      <td>-112.074</td>\n",
       "    </tr>\n",
       "  </tbody>\n",
       "</table>\n",
       "</div>"
      ],
      "text/plain": [
       "   latitude longitude\n",
       "2   38.8951  -77.0364\n",
       "4   33.8007  -84.4105\n",
       "8   45.5235  -122.676\n",
       "10  40.7645  -111.905\n",
       "11  33.4484  -112.074"
      ]
     },
     "execution_count": 124,
     "metadata": {},
     "output_type": "execute_result"
    }
   ],
   "source": [
    "data.head()"
   ]
  },
  {
   "cell_type": "markdown",
   "metadata": {},
   "source": [
    "Теперь необходимо кластеризовать данные координаты, чтобы выявить центры скоплений туристов. Поскольку баннеры имеют сравнительно небольшую площадь действия, нам нужен алгоритм, позволяющий ограничить размер кластера и не зависящий от количества кластеров.\n",
    "\n",
    "Эта задача — хороший повод познакомиться с алгоритмом MeanShift, который мы обошли стороной в основной части лекций. Его описание при желании можно посмотреть в sklearn user guide, а чуть позже появится дополнительное видео с обзором этого и некоторых других алгоритмов кластеризации. Используйте MeanShift, указав bandwidth=0.1, что в переводе из градусов в метры колеблется примерно от 5 до 10 км в средних широтах."
   ]
  },
  {
   "cell_type": "code",
   "execution_count": 125,
   "metadata": {},
   "outputs": [],
   "source": [
    "cluster = MeanShift(bandwidth=0.1)"
   ]
  },
  {
   "cell_type": "markdown",
   "metadata": {},
   "source": [
    "Примечание:на 396634 строках кластеризация будет работать долго. Быть очень терпеливым не возбраняется — результат от этого только улучшится. Но для того, чтобы сдать задание, понадобится сабсет из первых 100 тысяч строк. Это компромисс между качеством и затраченным временем. Обучение алгоритма на всём датасете занимает около часа, а на 100 тыс. строк — примерно 2 минуты, однако этого достаточно для получения корректных результатов.\n",
    "\n"
   ]
  },
  {
   "cell_type": "code",
   "execution_count": 126,
   "metadata": {},
   "outputs": [],
   "source": [
    "X = data.iloc[:100000]"
   ]
  },
  {
   "cell_type": "code",
   "execution_count": 127,
   "metadata": {},
   "outputs": [
    {
     "data": {
      "text/plain": [
       "MeanShift(bandwidth=0.1, bin_seeding=False, cluster_all=True, min_bin_freq=1,\n",
       "     n_jobs=None, seeds=None)"
      ]
     },
     "execution_count": 127,
     "metadata": {},
     "output_type": "execute_result"
    }
   ],
   "source": [
    "cluster.fit(X)"
   ]
  },
  {
   "cell_type": "code",
   "execution_count": 128,
   "metadata": {},
   "outputs": [],
   "source": [
    "big_cluster_labels = [i for i, k in groupby(sorted(cluster.labels_)) if len(list(k)) > 15]"
   ]
  },
  {
   "cell_type": "code",
   "execution_count": 129,
   "metadata": {},
   "outputs": [
    {
     "name": "stdout",
     "output_type": "stream",
     "text": [
      "40.71771639727507,-73.9918354198967\n",
      "33.44943805020126,-112.00213969017547\n",
      "33.44638027037988,-111.90188756212359\n",
      "41.87824377967115,-87.62984336226329\n",
      "37.68868157406161,-122.40933037359147\n",
      "38.8861652155993,-77.04878333074303\n",
      "33.357344562325096,-111.82265410760392\n",
      "33.76663623218336,-84.39328918481657\n",
      "42.363218639848895,-71.07368760857386\n",
      "47.60624471741767,-122.33204382627093\n",
      "36.117229142990276,-115.17107342280688\n",
      "34.06039755458241,-118.24870902659876\n",
      "44.97794782033687,-93.2673008852605\n",
      "30.26718361698159,-97.74311928133027\n",
      "40.76687624004166,-73.83335349045205\n",
      "39.735830152625304,-104.98658042770822\n",
      "39.95168037300773,-75.16273592391683\n",
      "34.03548695312116,-118.43899771946148\n",
      "32.98089338217789,-117.07811797821928\n",
      "32.80302053531547,-96.76989743494408\n"
     ]
    }
   ],
   "source": [
    "big_cluster_centers = [cluster.cluster_centers_[label] for label in big_cluster_labels]\n",
    "for c in big_cluster_centers[0:20]:\n",
    "    print(\"{},{}\".format(c[0], c[1]))"
   ]
  },
  {
   "cell_type": "markdown",
   "metadata": {},
   "source": [
    "При желании увидеть получившиеся результаты на карте можно передать центры получившихся кластеров в один из инструментов визуализации. \n",
    "\n",
    "Например, сайт mapcustomizer.com имеет функцию Bulk Entry, куда можно вставить центры полученных кластеров в формате:"
   ]
  },
  {
   "cell_type": "markdown",
   "metadata": {},
   "source": [
    "<img src=\"map.png\">"
   ]
  },
  {
   "cell_type": "markdown",
   "metadata": {
    "collapsed": true
   },
   "source": [
    "20 баннеров надо разместить близ офисов компании. Найдем на Google Maps по запросу Carnival Cruise Line адреса всех офисов:"
   ]
  },
  {
   "cell_type": "code",
   "execution_count": 185,
   "metadata": {},
   "outputs": [],
   "source": [
    "# office_locations = {\n",
    "#    \"Los Angeles\":(33.751277, -118.188740),\n",
    "#    \"Miami\":(25.867736, -80.324116),\n",
    "#    \"London\":(51.503016, -0.075479),\n",
    "#    \"Amsterdam\":(52.378894, 4.885084),\n",
    "#    \"Beijing\":(39.366487, 117.036146),\n",
    "#    \"Sydney\":(-33.868457, 151.205134)\n",
    "#    }"
   ]
  },
  {
   "cell_type": "code",
   "execution_count": 164,
   "metadata": {},
   "outputs": [],
   "source": [
    "offices = [\n",
    "    [33.751277, -118.188740],\n",
    "    [25.867736, -80.324116],\n",
    "    [51.503016, -0.075479],\n",
    "    [52.378894, 4.885084],\n",
    "    [39.366487, 117.036146],\n",
    "    [-33.868457, 151.205134]\n",
    "]"
   ]
  },
  {
   "cell_type": "markdown",
   "metadata": {},
   "source": [
    "Осталось определить 20 ближайших к ним центров кластеров. Т.е. посчитать дистанцию до ближайшего офиса для каждой точки и выбрать 20 с наименьшим значением.\n",
    "\n",
    "Примечание: при подсчете расстояний и в кластеризации можно пренебречь тем, что Земля круглая, так как в точках, расположенных близко друг к другу погрешность мала, а в остальных точках значение достаточно велико."
   ]
  },
  {
   "cell_type": "code",
   "execution_count": 165,
   "metadata": {},
   "outputs": [],
   "source": [
    "def dist(a, b):\n",
    "    return geodesic(tuple(a), tuple(b)).meters"
   ]
  },
  {
   "cell_type": "code",
   "execution_count": 162,
   "metadata": {},
   "outputs": [],
   "source": [
    "pair = (dist(big_cluster_centers[0], offices['Los Angeles']), tuple(big_cluster_centers[0]))"
   ]
  },
  {
   "cell_type": "code",
   "execution_count": 166,
   "metadata": {},
   "outputs": [],
   "source": [
    "distances = []\n",
    "\n",
    "for office in offices:\n",
    "    for center in big_cluster_centers:\n",
    "        pair = (dist(center, office), tuple(center))\n",
    "        distances.append(pair)\n",
    "\n",
    "distances = sorted(distances, key=lambda el: el[0], reverse=False)"
   ]
  },
  {
   "cell_type": "code",
   "execution_count": 167,
   "metadata": {},
   "outputs": [
    {
     "data": {
      "text/plain": [
       "[(823.4439411475207, (52.37296399032261, 4.892317222580647)),\n",
       " (868.7548891021023, (-33.86063042857143, 151.20477592857145)),\n",
       " (2499.8389390054376, (25.8456722642857, -80.31889059642857)),\n",
       " (3475.8459533280306, (51.502991260887086, -0.12553728870967767)),\n",
       " (7473.232780811575, (33.8098779552631, -118.14892380690813)),\n",
       " (13989.508526127951, (25.7858124199675, -80.2179380368254)),\n",
       " (18446.965858320746, (25.70534972105258, -80.28342873815798)),\n",
       " (19965.422193502367, (33.8883253427586, -118.04892817172427)),\n",
       " (20083.481829807635, (26.010098249285683, -80.19999058571432)),\n",
       " (20972.688719543396, (33.87298601157018, -118.36209114655645)),\n",
       " (24618.591405677696, (33.97257482142858, -118.16837066666663)),\n",
       " (28509.664311609533, (33.81730643390889, -117.891249170958)),\n",
       " (30052.96080939686, (26.138843786842077, -80.33434683684207)),\n",
       " (30781.40806039245, (33.98393587403844, -118.00740497307689)),\n",
       " (31753.93518744878, (33.67430265976576, -117.85878926777275)),\n",
       " (32558.263282541993, (26.120862658633104, -80.1589066802157)),\n",
       " (34733.546602938426, (34.06039755458241, -118.24870902659876)),\n",
       " (37600.4788270859, (26.20058464102565, -80.25071612564099)),\n",
       " (39111.035882229226, (34.03548695312116, -118.43899771946148)),\n",
       " (41985.2124476177, (33.65089599288026, -117.75207397281613))]"
      ]
     },
     "execution_count": 167,
     "metadata": {},
     "output_type": "execute_result"
    }
   ],
   "source": [
    "distances[0:20]"
   ]
  },
  {
   "cell_type": "markdown",
   "metadata": {},
   "source": [
    "Для сдачи задания выберите из получившихся 20 центров тот, который наименее удален от ближайшего к нему офиса. Ответ в этом задании — широта и долгота этого центра, записанные через пробел."
   ]
  },
  {
   "cell_type": "code",
   "execution_count": 186,
   "metadata": {},
   "outputs": [
    {
     "name": "stdout",
     "output_type": "stream",
     "text": [
      "(52.37296399032261, 4.892317222580647)\n"
     ]
    }
   ],
   "source": [
    "print(distances[0][1])"
   ]
  },
  {
   "cell_type": "code",
   "execution_count": 181,
   "metadata": {},
   "outputs": [],
   "source": [
    "def write_answer(answers):\n",
    "    with open(\"answer.txt\", \"w\") as file_obj:\n",
    "        file_obj.write(\" \".join([str(num) for num in answers]))"
   ]
  },
  {
   "cell_type": "code",
   "execution_count": 182,
   "metadata": {},
   "outputs": [
    {
     "data": {
      "text/plain": [
       "[52.37296399032261, 4.892317222580647]"
      ]
     },
     "execution_count": 182,
     "metadata": {},
     "output_type": "execute_result"
    }
   ],
   "source": [
    "answers = [item for item in distances[0][1]]\n",
    "answers"
   ]
  },
  {
   "cell_type": "code",
   "execution_count": 183,
   "metadata": {},
   "outputs": [],
   "source": [
    "write_answer(answers)"
   ]
  }
 ],
 "metadata": {
  "kernelspec": {
   "display_name": "Python 3",
   "language": "python",
   "name": "python3"
  },
  "language_info": {
   "codemirror_mode": {
    "name": "ipython",
    "version": 3
   },
   "file_extension": ".py",
   "mimetype": "text/x-python",
   "name": "python",
   "nbconvert_exporter": "python",
   "pygments_lexer": "ipython3",
   "version": "3.6.6"
  }
 },
 "nbformat": 4,
 "nbformat_minor": 1
}

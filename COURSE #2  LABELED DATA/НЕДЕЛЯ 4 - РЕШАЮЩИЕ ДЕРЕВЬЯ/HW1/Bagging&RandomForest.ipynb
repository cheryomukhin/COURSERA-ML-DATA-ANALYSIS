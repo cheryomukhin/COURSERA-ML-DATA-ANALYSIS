{
 "cells": [
  {
   "cell_type": "markdown",
   "metadata": {},
   "source": [
    "## Бэггинг и случайный лес ##"
   ]
  },
  {
   "cell_type": "markdown",
   "metadata": {},
   "source": [
    "Загрузите датасет *digits* с помощью функции *load_digits* из *sklearn.datasets* и подготовьте матрицу признаков X и ответы на обучающей выборке y (вам потребуются поля *data* и *target* в объекте, который возвращает *load_digits*)."
   ]
  },
  {
   "cell_type": "code",
   "execution_count": 1,
   "metadata": {},
   "outputs": [],
   "source": [
    "import numpy as np\n",
    "import matplotlib.pyplot as plt\n",
    "plt.style.use('ggplot')\n",
    "\n",
    "%matplotlib inline"
   ]
  },
  {
   "cell_type": "code",
   "execution_count": 2,
   "metadata": {},
   "outputs": [
    {
     "name": "stdout",
     "output_type": "stream",
     "text": [
      "['seaborn-dark', 'seaborn-darkgrid', 'seaborn-ticks', 'fivethirtyeight', 'seaborn-whitegrid', 'classic', '_classic_test', 'fast', 'seaborn-talk', 'seaborn-dark-palette', 'seaborn-bright', 'seaborn-pastel', 'grayscale', 'seaborn-notebook', 'ggplot', 'seaborn-colorblind', 'seaborn-muted', 'seaborn', 'Solarize_Light2', 'seaborn-paper', 'bmh', 'tableau-colorblind10', 'seaborn-white', 'dark_background', 'seaborn-poster', 'seaborn-deep']\n"
     ]
    }
   ],
   "source": [
    "print(plt.style.available)"
   ]
  },
  {
   "cell_type": "code",
   "execution_count": 3,
   "metadata": {},
   "outputs": [],
   "source": [
    "from sklearn.datasets import load_digits\n",
    "\n",
    "data = load_digits()\n",
    "X, y = data.data, data.target"
   ]
  },
  {
   "cell_type": "markdown",
   "metadata": {},
   "source": [
    "Для оценки качества далее нужно будет использовать *cross_val_score* из *sklearn.cross_validation* с параметром *cv=10*. Эта функция реализует *k-fold cross validation* c *k* равным значению параметра *cv*. Мы предлагаем использовать *k=10*, чтобы полученные оценки качества имели небольшой разброс, и было проще проверить полученные ответы. На практике же часто хватает и *k=5*. Функция *cross_val_score* будет возвращать *numpy.ndarray*, в котором будет *k* чисел - качество в каждом из *k* экспериментов *k-fold cross validation*. Для получения среднего значения (которое и будет оценкой качества работы) вызовите метод *.mean()* у массива, который возвращает *cross_val_score*."
   ]
  },
  {
   "cell_type": "markdown",
   "metadata": {},
   "source": [
    "С небольшой вероятностью вы можете натолкнуться на случай, когда полученное вами качество в каком-то из пунктов не попадет в диапазон, заданный для правильных ответов - в этом случае попробуйте перезапустить ячейку с *cross_val_score* несколько раз и выбрать наиболее «типичное» значение. Если это не помогает, то где-то была допущена ошибка."
   ]
  },
  {
   "cell_type": "markdown",
   "metadata": {},
   "source": [
    "Если вам захочется ускорить вычисление *cross_val_score* - можете попробовать использовать параметр *n_jobs*, но будьте осторожны: в одной из старых версий *sklearn* была ошибка, которая приводила к неверному результату работы *cross_val_score* при задании *n_jobs* отличным от *1*. Сейчас такой проблемы возникнуть не должно, но проверить, что все в порядке, не будет лишним."
   ]
  },
  {
   "cell_type": "markdown",
   "metadata": {},
   "source": [
    "1.\n",
    "\n",
    "Создайте *DecisionTreeClassifier* с настройками по умолчанию и измерьте качество его работы с помощью *cross_val_score*. Эта величина и будет ответом в пункте *1*."
   ]
  },
  {
   "cell_type": "code",
   "execution_count": 5,
   "metadata": {},
   "outputs": [
    {
     "name": "stdout",
     "output_type": "stream",
     "text": [
      "0.8370850802141552\n"
     ]
    }
   ],
   "source": [
    "from sklearn.tree import DecisionTreeClassifier \n",
    "from sklearn.model_selection import cross_val_score\n",
    "\n",
    "\n",
    "def write_answer_1(score):\n",
    "    with open(\"answer1.txt\", \"w\") as file_obj:\n",
    "        file_obj.write(str(score))\n",
    "\n",
    "dtree = DecisionTreeClassifier(random_state=42)\n",
    "dtree.fit(X, y)\n",
    "\n",
    "score = np.mean(cross_val_score(dtree, X, y, cv=10, n_jobs=-1))\n",
    "print (score)\n",
    "\n",
    "write_answer_1(score)"
   ]
  },
  {
   "cell_type": "markdown",
   "metadata": {},
   "source": [
    "2.\n",
    "\n",
    "Воспользуйтесь *BaggingClassifier* из *sklearn.ensemble*, чтобы обучить бэггинг над *DecisionTreeClassifier*. Используйте в *BaggingClassifier* параметры по умолчанию, задав только количество деревьев равным *100*.\n",
    "\n",
    "Качество классификации новой модели - ответ в пункте *2*. Обратите внимание, как соотносится качество работы композиции решающих деревьев с качеством работы одного решающего дерева."
   ]
  },
  {
   "cell_type": "code",
   "execution_count": 7,
   "metadata": {},
   "outputs": [
    {
     "name": "stdout",
     "output_type": "stream",
     "text": [
      "0.9266223799121667\n"
     ]
    }
   ],
   "source": [
    "from sklearn.ensemble import BaggingClassifier\n",
    "\n",
    "\n",
    "def write_answer_2(score):\n",
    "    with open(\"answer2.txt\", \"w\") as file_obj:\n",
    "        file_obj.write(str(score))\n",
    "        \n",
    "b_dtree = BaggingClassifier(dtree, n_estimators=100, random_state=42)\n",
    "b_dtree.fit(X, y)\n",
    "\n",
    "score = np.mean(cross_val_score(b_dtree, X, y, cv=10, n_jobs=-1))\n",
    "print (score)\n",
    "\n",
    "write_answer_2(score)"
   ]
  },
  {
   "cell_type": "markdown",
   "metadata": {},
   "source": [
    "3.\n",
    "\n",
    "Теперь изучите параметры *BaggingClassifier* и выберите их такими, чтобы каждый базовый алгоритм обучался не на всех *d* признаках, а на $\\sqrt d$ случайных признаков. Качество работы получившегося классификатора - ответ в пункте *3*. Корень из числа признаков - часто используемая эвристика в задачах классификации, в задачах регрессии же часто берут число признаков, деленное на три. Но в общем случае ничто не мешает вам выбирать любое другое число случайных признаков."
   ]
  },
  {
   "cell_type": "code",
   "execution_count": 9,
   "metadata": {},
   "outputs": [
    {
     "name": "stdout",
     "output_type": "stream",
     "text": [
      "0.9311692335245662\n"
     ]
    }
   ],
   "source": [
    "def write_answer_3(score):\n",
    "    with open(\"answer3.txt\", \"w\") as file_obj:\n",
    "        file_obj.write(str(score))\n",
    "        \n",
    "b_dtree = BaggingClassifier(dtree, n_estimators=100, max_features=int(np.sqrt(X.shape[1])), random_state=42)\n",
    "b_dtree.fit(X, y)\n",
    "\n",
    "score = np.mean(cross_val_score(b_dtree, X, y, cv=10, n_jobs=-1))\n",
    "print (score)\n",
    "\n",
    "write_answer_3(score)"
   ]
  },
  {
   "cell_type": "markdown",
   "metadata": {},
   "source": [
    "4.\n",
    "\n",
    "Наконец, давайте попробуем выбирать случайные признаки не один раз на все дерево, а при построении каждой вершины дерева. Сделать это несложно: нужно убрать выбор случайного подмножества признаков в *BaggingClassifier* и добавить его в *DecisionTreeClassifier*. Какой параметр за это отвечает, можно понять из документации *sklearn*, либо просто попробовать угадать (скорее всего, у вас сразу получится). Попробуйте выбирать опять же $\\sqrt d$ признаков. Качество полученного классификатора на контрольной выборке и будет ответом в пункте *4*."
   ]
  },
  {
   "cell_type": "code",
   "execution_count": 11,
   "metadata": {},
   "outputs": [
    {
     "name": "stdout",
     "output_type": "stream",
     "text": [
      "0.9533321022473988\n"
     ]
    }
   ],
   "source": [
    "def write_answer_4(score):\n",
    "    with open(\"answer4.txt\", \"w\") as file_obj:\n",
    "        file_obj.write(str(score))\n",
    "        \n",
    "dtree = DecisionTreeClassifier(max_features=int(np.sqrt(X.shape[1])), random_state=42)\n",
    "\n",
    "b_dtree = BaggingClassifier(dtree, n_estimators=100, random_state=42)\n",
    "b_dtree.fit(X, y)\n",
    "\n",
    "score = np.mean(cross_val_score(b_dtree, X, y, cv=10, n_jobs=-1))\n",
    "print (score)\n",
    "\n",
    "write_answer_4(score)"
   ]
  },
  {
   "cell_type": "markdown",
   "metadata": {},
   "source": [
    "5.\n",
    "\n",
    "Полученный в пункте 4 классификатор - бэггинг на рандомизированных деревьях (в которых при построении каждой вершины выбирается случайное подмножество признаков и разбиение ищется только по ним). Это в точности соответствует алгоритму *Random Forest*, поэтому почему бы не сравнить качество работы классификатора с *RandomForestClassifier* из *sklearn.ensemble*. Сделайте это, а затем изучите, как качество классификации на данном датасете зависит от количества деревьев, количества признаков, выбираемых при построении каждой вершины дерева, а также ограничений на глубину дерева. Для наглядности лучше построить графики зависимости качества от значений параметров, но для сдачи задания это делать не обязательно.\n",
    "\n",
    "На основе наблюдений выпишите через пробел номера правильных утверждений из приведенных ниже в порядке возрастания номера (это будет ответ в п.*5*)"
   ]
  },
  {
   "cell_type": "markdown",
   "metadata": {},
   "source": [
    "1) Случайный лес сильно переобучается с ростом количества деревьев\n",
    "\n",
    "2) При очень маленьком числе деревьев (5, 10, 15), случайный лес работает хуже, чем при большем числе деревьев\n",
    "\n",
    "3) С ростом количества деревьев в случайном лесе, в какой-то момент деревьев становится достаточно для высокого качества классификации, а затем качество существенно не меняется.\n",
    "\n",
    "4) При большом количестве признаков (для данного датасета - 40, 50) качество классификации становится хуже, чем при малом количестве признаков (5, 10). Это связано с тем, что чем меньше признаков выбирается в каждом узле, тем более различными получаются деревья (ведь деревья сильно неустойчивы к изменениям в обучающей выборке), и тем лучше работает их композиция.\n",
    "\n",
    "5) При большом количестве признаков (40, 50, 60) качество классификации лучше, чем при малом количестве признаков (5, 10). Это связано с тем, что чем больше признаков - тем больше информации об объектах, а значит алгоритм может делать прогнозы более точно.\n",
    "\n",
    "6) При небольшой максимальной глубине деревьев (5-6) качество работы случайного леса намного лучше, чем без ограничения глубины, т.к. деревья получаются не переобученными. С ростом глубины деревьев качество ухудшается.\n",
    "\n",
    "7) При небольшой максимальной глубине деревьев (5-6) качество работы случайного леса заметно хуже, чем без ограничений, т.к. деревья получаются недообученными. С ростом глубины качество сначала улучшается, а затем не меняется существенно, т.к. из-за усреднения прогнозов и различий деревьев их переобученность в бэггинге не сказывается на итоговом качестве (все деревья преобучены по-разному, и при усреднении они компенсируют переобученность друг-друга)."
   ]
  },
  {
   "cell_type": "code",
   "execution_count": 13,
   "metadata": {},
   "outputs": [
    {
     "name": "stdout",
     "output_type": "stream",
     "text": [
      "0.9533106688723997\n"
     ]
    }
   ],
   "source": [
    "from sklearn.ensemble import RandomForestClassifier\n",
    "\n",
    "\n",
    "def write_answer_5(answers):\n",
    "    with open(\"answer5.txt\", \"w\") as file_obj:\n",
    "        file_obj.write(\" \".join([str(num) for num in answers]))\n",
    "\n",
    "rf = RandomForestClassifier(n_estimators=100, random_state=42)\n",
    "rf.fit(X, y)\n",
    "\n",
    "score = np.mean(cross_val_score(rf, X, y, cv=10, n_jobs=-1))\n",
    "print (score)"
   ]
  },
  {
   "cell_type": "code",
   "execution_count": 14,
   "metadata": {},
   "outputs": [
    {
     "data": {
      "image/png": "[encoded data removed]",
      "text/plain": [
       "<Figure size 432x288 with 1 Axes>"
      ]
     },
     "metadata": {
      "needs_background": "light"
     },
     "output_type": "display_data"
    },
    {
     "name": "stdout",
     "output_type": "stream",
     "text": [
      "CPU times: user 445 ms, sys: 48.2 ms, total: 494 ms\n",
      "Wall time: 6.75 s\n"
     ]
    }
   ],
   "source": [
    "%%time\n",
    "scoring = []\n",
    "trees_grid = [5, 10, 15, 20, 30, 50, 75, 100]\n",
    "for ntrees in trees_grid:\n",
    "    rfc = RandomForestClassifier(n_estimators=ntrees, random_state=42, n_jobs=-1)\n",
    "    score = cross_val_score(rfc, X, y, cv=10, n_jobs=-1)    \n",
    "    scoring.append(score)\n",
    "scoring = np.asmatrix(scoring)\n",
    "\n",
    "plt.plot(trees_grid, scoring.mean(axis = 1), marker='.') # Построение графика\n",
    "plt.xlabel('$ntrees$') # Метка по оси x в формате TeX\n",
    "plt.ylabel('$score$') # Метка по оси y в формате TeX\n",
    "plt.grid(True) # Сетка\n",
    "plt.show() # Показать график"
   ]
  },
  {
   "cell_type": "code",
   "execution_count": 15,
   "metadata": {},
   "outputs": [
    {
     "data": {
      "image/png": "[encoded data removed]",
      "text/plain": [
       "<Figure size 432x288 with 1 Axes>"
      ]
     },
     "metadata": {
      "needs_background": "light"
     },
     "output_type": "display_data"
    },
    {
     "name": "stdout",
     "output_type": "stream",
     "text": [
      "CPU times: user 314 ms, sys: 33.4 ms, total: 348 ms\n",
      "Wall time: 12.6 s\n"
     ]
    }
   ],
   "source": [
    "%%time\n",
    "scoring = []\n",
    "max_features_grid = [2, 4, 8, 16, 32, 48, 64]\n",
    "for max_features in max_features_grid:\n",
    "    rfc = RandomForestClassifier(n_estimators=100, random_state=42, n_jobs=-1, max_features=max_features)\n",
    "    score = cross_val_score(rfc, X, y, cv=10, n_jobs=-1)    \n",
    "    scoring.append(score)\n",
    "scoring = np.asmatrix(scoring)\n",
    "\n",
    "plt.plot(max_features_grid, scoring.mean(axis = 1), marker='.') # Построение графика\n",
    "plt.xlabel('$max\\_features$') # Метка по оси x в формате TeX\n",
    "plt.ylabel('$score$') # Метка по оси y в формате TeX\n",
    "plt.grid(True) # Сетка\n",
    "plt.show() # Показать график"
   ]
  },
  {
   "cell_type": "code",
   "execution_count": 16,
   "metadata": {},
   "outputs": [
    {
     "data": {
      "image/png": "[encoded data removed]",
      "text/plain": [
       "<Figure size 432x288 with 1 Axes>"
      ]
     },
     "metadata": {
      "needs_background": "light"
     },
     "output_type": "display_data"
    },
    {
     "name": "stdout",
     "output_type": "stream",
     "text": [
      "CPU times: user 378 ms, sys: 49.8 ms, total: 428 ms\n",
      "Wall time: 12.4 s\n"
     ]
    }
   ],
   "source": [
    "%%time\n",
    "scoring = []\n",
    "max_depth_grid = [3, 5, 7, 9, 11, 13, 15, 17, 20, 22, 24]\n",
    "for max_depth in max_depth_grid:\n",
    "    rfc = RandomForestClassifier(n_estimators=100, random_state=42, n_jobs=-1, max_depth=max_depth)\n",
    "    score = cross_val_score(rfc, X, y, cv=10, n_jobs=-1)    \n",
    "    scoring.append(score)\n",
    "scoring = np.asmatrix(scoring)\n",
    "\n",
    "plt.plot(max_depth_grid, scoring.mean(axis = 1), marker='.') # Построение графика\n",
    "plt.xlabel('$max\\_depth$') # Метка по оси x в формате TeX\n",
    "plt.ylabel('$score$') # Метка по оси y в формате TeX\n",
    "plt.grid(True) # Сетка\n",
    "plt.show() # Показать график"
   ]
  },
  {
   "cell_type": "code",
   "execution_count": 17,
   "metadata": {},
   "outputs": [],
   "source": [
    "answers = [2, 3, 4, 7]\n",
    "write_answer_5(answers)"
   ]
  },
  {
   "cell_type": "code",
   "execution_count": null,
   "metadata": {},
   "outputs": [],
   "source": []
  }
 ],
 "metadata": {
  "kernelspec": {
   "display_name": "Python 3",
   "language": "python",
   "name": "python3"
  },
  "language_info": {
   "codemirror_mode": {
    "name": "ipython",
    "version": 3
   },
   "file_extension": ".py",
   "mimetype": "text/x-python",
   "name": "python",
   "nbconvert_exporter": "python",
   "pygments_lexer": "ipython3",
   "version": "3.6.6"
  }
 },
 "nbformat": 4,
 "nbformat_minor": 2
}

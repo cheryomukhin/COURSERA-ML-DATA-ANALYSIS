{
 "cells": [
  {
   "cell_type": "code",
   "execution_count": 1,
   "metadata": {},
   "outputs": [],
   "source": [
    "import re\n",
    "from typing import List, Tuple\n",
    "\n",
    "import numpy as np\n",
    "import scipy.spatial as sp\n"
   ]
  },
  {
   "cell_type": "code",
   "execution_count": 2,
   "metadata": {},
   "outputs": [],
   "source": [
    "class Cosinusator:\n",
    "    def process(self, filename_in: str, filename_out: str):\n",
    "        sentence_tokens, strings = self.get_sentence_tokens(filename_in)\n",
    "        augmented_matrix = self.get_matrix(sentence_tokens)\n",
    "\n",
    "        needle = augmented_matrix[0]\n",
    "        matrix = augmented_matrix[1:]\n",
    "        indexes = self.get_closest_indexes(needle, matrix, 2)\n",
    "\n",
    "        self.write_output(indexes, filename_out)\n",
    "\n",
    "    @staticmethod\n",
    "    def get_sentence_tokens(filename: str) -> Tuple[List[List[str]], List[str]]:\n",
    "        file = open(filename, 'r')\n",
    "        strings = file.readlines()\n",
    "        tokens = [re.split('[^a-z]', string.lower()) for string in strings]\n",
    "        file.close()\n",
    "        return [list(filter(None, t)) for t in tokens], strings\n",
    "\n",
    "    @staticmethod\n",
    "    def get_all_tokens(sentence_tokens: List[List[str]]) -> List[str]:\n",
    "        flatten = [s for sentence in sentence_tokens for s in sentence]\n",
    "        flatten = list(set(flatten))\n",
    "        print(\"Total tokens: %s\" % len(flatten))\n",
    "        return flatten\n",
    "\n",
    "    @staticmethod\n",
    "    def get_matrix(sentence_tokens: List[List[str]]) -> List[List[int]]:\n",
    "        token_list = Cosinusator.get_all_tokens(sentence_tokens)\n",
    "\n",
    "        matrix = []\n",
    "        for sentence in sentence_tokens:\n",
    "            tmp = [sentence.count(token) for token in token_list]\n",
    "            matrix.append(tmp)\n",
    "\n",
    "        return matrix\n",
    "\n",
    "    @staticmethod\n",
    "    def get_closest_indexes(needle: List[int], matrix: List[List[int]], count: int) -> List[int]:\n",
    "        distances = np.array([sp.distance.cosine(needle, hayshake) for hayshake in matrix])\n",
    "\n",
    "        indexes = []\n",
    "        for i in range(count):\n",
    "            index = np.argmin(distances)\n",
    "            indexes.append(index)\n",
    "            distances[index] += 1\n",
    "\n",
    "        return indexes\n",
    "\n",
    "    @staticmethod\n",
    "    def write_output(ans: List[int], filename: str) -> None:\n",
    "        file = open(filename, 'w')\n",
    "        file.write(' '.join([str(i + 1) for i in ans]))\n",
    "        file.close()"
   ]
  },
  {
   "cell_type": "code",
   "execution_count": 3,
   "metadata": {},
   "outputs": [
    {
     "name": "stdout",
     "output_type": "stream",
     "text": [
      "Total tokens: 254\n"
     ]
    }
   ],
   "source": [
    "cos = Cosinusator()\n",
    "cos.process('sentences.txt', 'submission-1.txt')"
   ]
  },
  {
   "cell_type": "code",
   "execution_count": null,
   "metadata": {},
   "outputs": [],
   "source": []
  }
 ],
 "metadata": {
  "kernelspec": {
   "display_name": "Python 3",
   "language": "python",
   "name": "python3"
  },
  "language_info": {
   "codemirror_mode": {
    "name": "ipython",
    "version": 3
   },
   "file_extension": ".py",
   "mimetype": "text/x-python",
   "name": "python",
   "nbconvert_exporter": "python",
   "pygments_lexer": "ipython3",
   "version": "3.6.6"
  }
 },
 "nbformat": 4,
 "nbformat_minor": 2
}

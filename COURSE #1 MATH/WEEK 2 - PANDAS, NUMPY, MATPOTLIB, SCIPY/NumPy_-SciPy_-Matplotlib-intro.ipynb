{
 "cells": [
  {
   "cell_type": "markdown",
   "metadata": {},
   "source": [
    "# Первое знакомство с NumPy, SciPy и Matplotlib"
   ]
  },
  {
   "cell_type": "markdown",
   "metadata": {},
   "source": [
    "## Numpy"
   ]
  },
  {
   "cell_type": "code",
   "execution_count": 1,
   "metadata": {},
   "outputs": [],
   "source": [
    "import numpy as np"
   ]
  },
  {
   "cell_type": "code",
   "execution_count": 2,
   "metadata": {},
   "outputs": [],
   "source": [
    "x = [2, 3, 4, 6]\n",
    "y = np.array(x)"
   ]
  },
  {
   "cell_type": "code",
   "execution_count": 39,
   "metadata": {},
   "outputs": [
    {
     "name": "stdout",
     "output_type": "stream",
     "text": [
      "<class 'numpy.ndarray'> [-1.00000000e+01 -9.90000000e+00 -9.80000000e+00 -9.70000000e+00\n",
      " -9.60000000e+00 -9.50000000e+00 -9.40000000e+00 -9.30000000e+00\n",
      " -9.20000000e+00 -9.10000000e+00 -9.00000000e+00 -8.90000000e+00\n",
      " -8.80000000e+00 -8.70000000e+00 -8.60000000e+00 -8.50000000e+00\n",
      " -8.40000000e+00 -8.30000000e+00 -8.20000000e+00 -8.10000000e+00\n",
      " -8.00000000e+00 -7.90000000e+00 -7.80000000e+00 -7.70000000e+00\n",
      " -7.60000000e+00 -7.50000000e+00 -7.40000000e+00 -7.30000000e+00\n",
      " -7.20000000e+00 -7.10000000e+00 -7.00000000e+00 -6.90000000e+00\n",
      " -6.80000000e+00 -6.70000000e+00 -6.60000000e+00 -6.50000000e+00\n",
      " -6.40000000e+00 -6.30000000e+00 -6.20000000e+00 -6.10000000e+00\n",
      " -6.00000000e+00 -5.90000000e+00 -5.80000000e+00 -5.70000000e+00\n",
      " -5.60000000e+00 -5.50000000e+00 -5.40000000e+00 -5.30000000e+00\n",
      " -5.20000000e+00 -5.10000000e+00 -5.00000000e+00 -4.90000000e+00\n",
      " -4.80000000e+00 -4.70000000e+00 -4.60000000e+00 -4.50000000e+00\n",
      " -4.40000000e+00 -4.30000000e+00 -4.20000000e+00 -4.10000000e+00\n",
      " -4.00000000e+00 -3.90000000e+00 -3.80000000e+00 -3.70000000e+00\n",
      " -3.60000000e+00 -3.50000000e+00 -3.40000000e+00 -3.30000000e+00\n",
      " -3.20000000e+00 -3.10000000e+00 -3.00000000e+00 -2.90000000e+00\n",
      " -2.80000000e+00 -2.70000000e+00 -2.60000000e+00 -2.50000000e+00\n",
      " -2.40000000e+00 -2.30000000e+00 -2.20000000e+00 -2.10000000e+00\n",
      " -2.00000000e+00 -1.90000000e+00 -1.80000000e+00 -1.70000000e+00\n",
      " -1.60000000e+00 -1.50000000e+00 -1.40000000e+00 -1.30000000e+00\n",
      " -1.20000000e+00 -1.10000000e+00 -1.00000000e+00 -9.00000000e-01\n",
      " -8.00000000e-01 -7.00000000e-01 -6.00000000e-01 -5.00000000e-01\n",
      " -4.00000000e-01 -3.00000000e-01 -2.00000000e-01 -1.00000000e-01\n",
      " -3.55271368e-14  1.00000000e-01  2.00000000e-01  3.00000000e-01\n",
      "  4.00000000e-01  5.00000000e-01  6.00000000e-01  7.00000000e-01\n",
      "  8.00000000e-01  9.00000000e-01  1.00000000e+00  1.10000000e+00\n",
      "  1.20000000e+00  1.30000000e+00  1.40000000e+00  1.50000000e+00\n",
      "  1.60000000e+00  1.70000000e+00  1.80000000e+00  1.90000000e+00\n",
      "  2.00000000e+00  2.10000000e+00  2.20000000e+00  2.30000000e+00\n",
      "  2.40000000e+00  2.50000000e+00  2.60000000e+00  2.70000000e+00\n",
      "  2.80000000e+00  2.90000000e+00  3.00000000e+00  3.10000000e+00\n",
      "  3.20000000e+00  3.30000000e+00  3.40000000e+00  3.50000000e+00\n",
      "  3.60000000e+00  3.70000000e+00  3.80000000e+00  3.90000000e+00\n",
      "  4.00000000e+00  4.10000000e+00  4.20000000e+00  4.30000000e+00\n",
      "  4.40000000e+00  4.50000000e+00  4.60000000e+00  4.70000000e+00\n",
      "  4.80000000e+00  4.90000000e+00  5.00000000e+00  5.10000000e+00\n",
      "  5.20000000e+00  5.30000000e+00  5.40000000e+00  5.50000000e+00\n",
      "  5.60000000e+00  5.70000000e+00  5.80000000e+00  5.90000000e+00\n",
      "  6.00000000e+00  6.10000000e+00  6.20000000e+00  6.30000000e+00\n",
      "  6.40000000e+00  6.50000000e+00  6.60000000e+00  6.70000000e+00\n",
      "  6.80000000e+00  6.90000000e+00  7.00000000e+00  7.10000000e+00\n",
      "  7.20000000e+00  7.30000000e+00  7.40000000e+00  7.50000000e+00\n",
      "  7.60000000e+00  7.70000000e+00  7.80000000e+00  7.90000000e+00\n",
      "  8.00000000e+00  8.10000000e+00  8.20000000e+00  8.30000000e+00\n",
      "  8.40000000e+00  8.50000000e+00  8.60000000e+00  8.70000000e+00\n",
      "  8.80000000e+00  8.90000000e+00  9.00000000e+00  9.10000000e+00\n",
      "  9.20000000e+00  9.30000000e+00  9.40000000e+00  9.50000000e+00\n",
      "  9.60000000e+00  9.70000000e+00  9.80000000e+00  9.90000000e+00]\n",
      "<class 'numpy.ndarray'> [-1.00000000e+03 -9.70299000e+02 -9.41192000e+02 -9.12673000e+02\n",
      " -8.84736000e+02 -8.57375000e+02 -8.30584000e+02 -8.04357000e+02\n",
      " -7.78688000e+02 -7.53571000e+02 -7.29000000e+02 -7.04969000e+02\n",
      " -6.81472000e+02 -6.58503000e+02 -6.36056000e+02 -6.14125000e+02\n",
      " -5.92704000e+02 -5.71787000e+02 -5.51368000e+02 -5.31441000e+02\n",
      " -5.12000000e+02 -4.93039000e+02 -4.74552000e+02 -4.56533000e+02\n",
      " -4.38976000e+02 -4.21875000e+02 -4.05224000e+02 -3.89017000e+02\n",
      " -3.73248000e+02 -3.57911000e+02 -3.43000000e+02 -3.28509000e+02\n",
      " -3.14432000e+02 -3.00763000e+02 -2.87496000e+02 -2.74625000e+02\n",
      " -2.62144000e+02 -2.50047000e+02 -2.38328000e+02 -2.26981000e+02\n",
      " -2.16000000e+02 -2.05379000e+02 -1.95112000e+02 -1.85193000e+02\n",
      " -1.75616000e+02 -1.66375000e+02 -1.57464000e+02 -1.48877000e+02\n",
      " -1.40608000e+02 -1.32651000e+02 -1.25000000e+02 -1.17649000e+02\n",
      " -1.10592000e+02 -1.03823000e+02 -9.73360000e+01 -9.11250000e+01\n",
      " -8.51840000e+01 -7.95070000e+01 -7.40880000e+01 -6.89210000e+01\n",
      " -6.40000000e+01 -5.93190000e+01 -5.48720000e+01 -5.06530000e+01\n",
      " -4.66560000e+01 -4.28750000e+01 -3.93040000e+01 -3.59370000e+01\n",
      " -3.27680000e+01 -2.97910000e+01 -2.70000000e+01 -2.43890000e+01\n",
      " -2.19520000e+01 -1.96830000e+01 -1.75760000e+01 -1.56250000e+01\n",
      " -1.38240000e+01 -1.21670000e+01 -1.06480000e+01 -9.26100000e+00\n",
      " -8.00000000e+00 -6.85900000e+00 -5.83200000e+00 -4.91300000e+00\n",
      " -4.09600000e+00 -3.37500000e+00 -2.74400000e+00 -2.19700000e+00\n",
      " -1.72800000e+00 -1.33100000e+00 -1.00000000e+00 -7.29000000e-01\n",
      " -5.12000000e-01 -3.43000000e-01 -2.16000000e-01 -1.25000000e-01\n",
      " -6.40000000e-02 -2.70000000e-02 -8.00000000e-03 -1.00000000e-03\n",
      " -4.48415509e-41  1.00000000e-03  8.00000000e-03  2.70000000e-02\n",
      "  6.40000000e-02  1.25000000e-01  2.16000000e-01  3.43000000e-01\n",
      "  5.12000000e-01  7.29000000e-01  1.00000000e+00  1.33100000e+00\n",
      "  1.72800000e+00  2.19700000e+00  2.74400000e+00  3.37500000e+00\n",
      "  4.09600000e+00  4.91300000e+00  5.83200000e+00  6.85900000e+00\n",
      "  8.00000000e+00  9.26100000e+00  1.06480000e+01  1.21670000e+01\n",
      "  1.38240000e+01  1.56250000e+01  1.75760000e+01  1.96830000e+01\n",
      "  2.19520000e+01  2.43890000e+01  2.70000000e+01  2.97910000e+01\n",
      "  3.27680000e+01  3.59370000e+01  3.93040000e+01  4.28750000e+01\n",
      "  4.66560000e+01  5.06530000e+01  5.48720000e+01  5.93190000e+01\n",
      "  6.40000000e+01  6.89210000e+01  7.40880000e+01  7.95070000e+01\n",
      "  8.51840000e+01  9.11250000e+01  9.73360000e+01  1.03823000e+02\n",
      "  1.10592000e+02  1.17649000e+02  1.25000000e+02  1.32651000e+02\n",
      "  1.40608000e+02  1.48877000e+02  1.57464000e+02  1.66375000e+02\n",
      "  1.75616000e+02  1.85193000e+02  1.95112000e+02  2.05379000e+02\n",
      "  2.16000000e+02  2.26981000e+02  2.38328000e+02  2.50047000e+02\n",
      "  2.62144000e+02  2.74625000e+02  2.87496000e+02  3.00763000e+02\n",
      "  3.14432000e+02  3.28509000e+02  3.43000000e+02  3.57911000e+02\n",
      "  3.73248000e+02  3.89017000e+02  4.05224000e+02  4.21875000e+02\n",
      "  4.38976000e+02  4.56533000e+02  4.74552000e+02  4.93039000e+02\n",
      "  5.12000000e+02  5.31441000e+02  5.51368000e+02  5.71787000e+02\n",
      "  5.92704000e+02  6.14125000e+02  6.36056000e+02  6.58503000e+02\n",
      "  6.81472000e+02  7.04969000e+02  7.29000000e+02  7.53571000e+02\n",
      "  7.78688000e+02  8.04357000e+02  8.30584000e+02  8.57375000e+02\n",
      "  8.84736000e+02  9.12673000e+02  9.41192000e+02  9.70299000e+02]\n"
     ]
    }
   ],
   "source": [
    "print (type(x), x)\n",
    "print (type(y), y)"
   ]
  },
  {
   "cell_type": "code",
   "execution_count": 38,
   "metadata": {},
   "outputs": [
    {
     "name": "stdout",
     "output_type": "stream",
     "text": [
      "[-9.9 -9.8]\n"
     ]
    }
   ],
   "source": [
    "print (x[1:3])"
   ]
  },
  {
   "cell_type": "code",
   "execution_count": 40,
   "metadata": {},
   "outputs": [
    {
     "name": "stdout",
     "output_type": "stream",
     "text": [
      "[-970.299 -941.192]\n"
     ]
    }
   ],
   "source": [
    "print (y[1:3])"
   ]
  },
  {
   "cell_type": "code",
   "execution_count": 41,
   "metadata": {},
   "outputs": [
    {
     "name": "stdout",
     "output_type": "stream",
     "text": [
      "[-10.   -9.8]\n"
     ]
    }
   ],
   "source": [
    "print (x[[0, 2]])"
   ]
  },
  {
   "cell_type": "code",
   "execution_count": 42,
   "metadata": {},
   "outputs": [
    {
     "name": "stdout",
     "output_type": "stream",
     "text": [
      "[-1000.     -941.192]\n"
     ]
    }
   ],
   "source": [
    "print (y[[0, 2]])"
   ]
  },
  {
   "cell_type": "code",
   "execution_count": 43,
   "metadata": {},
   "outputs": [
    {
     "name": "stdout",
     "output_type": "stream",
     "text": [
      "[  3.375   4.096   4.913   5.832   6.859   8.      9.261  10.648  12.167\n",
      "  13.824  15.625  17.576  19.683  21.952  24.389  27.     29.791  32.768\n",
      "  35.937  39.304  42.875  46.656  50.653  54.872  59.319  64.     68.921\n",
      "  74.088  79.507  85.184  91.125  97.336 103.823 110.592 117.649 125.\n",
      " 132.651 140.608 148.877 157.464 166.375 175.616 185.193 195.112 205.379\n",
      " 216.    226.981 238.328 250.047 262.144 274.625 287.496 300.763 314.432\n",
      " 328.509 343.    357.911 373.248 389.017 405.224 421.875 438.976 456.533\n",
      " 474.552 493.039 512.    531.441 551.368 571.787 592.704 614.125 636.056\n",
      " 658.503 681.472 704.969 729.    753.571 778.688 804.357 830.584 857.375\n",
      " 884.736 912.673 941.192 970.299]\n"
     ]
    }
   ],
   "source": [
    "print (y[y>3])"
   ]
  },
  {
   "cell_type": "code",
   "execution_count": 44,
   "metadata": {},
   "outputs": [
    {
     "name": "stdout",
     "output_type": "stream",
     "text": [
      "[-5.00000000e+01 -4.95000000e+01 -4.90000000e+01 -4.85000000e+01\n",
      " -4.80000000e+01 -4.75000000e+01 -4.70000000e+01 -4.65000000e+01\n",
      " -4.60000000e+01 -4.55000000e+01 -4.50000000e+01 -4.45000000e+01\n",
      " -4.40000000e+01 -4.35000000e+01 -4.30000000e+01 -4.25000000e+01\n",
      " -4.20000000e+01 -4.15000000e+01 -4.10000000e+01 -4.05000000e+01\n",
      " -4.00000000e+01 -3.95000000e+01 -3.90000000e+01 -3.85000000e+01\n",
      " -3.80000000e+01 -3.75000000e+01 -3.70000000e+01 -3.65000000e+01\n",
      " -3.60000000e+01 -3.55000000e+01 -3.50000000e+01 -3.45000000e+01\n",
      " -3.40000000e+01 -3.35000000e+01 -3.30000000e+01 -3.25000000e+01\n",
      " -3.20000000e+01 -3.15000000e+01 -3.10000000e+01 -3.05000000e+01\n",
      " -3.00000000e+01 -2.95000000e+01 -2.90000000e+01 -2.85000000e+01\n",
      " -2.80000000e+01 -2.75000000e+01 -2.70000000e+01 -2.65000000e+01\n",
      " -2.60000000e+01 -2.55000000e+01 -2.50000000e+01 -2.45000000e+01\n",
      " -2.40000000e+01 -2.35000000e+01 -2.30000000e+01 -2.25000000e+01\n",
      " -2.20000000e+01 -2.15000000e+01 -2.10000000e+01 -2.05000000e+01\n",
      " -2.00000000e+01 -1.95000000e+01 -1.90000000e+01 -1.85000000e+01\n",
      " -1.80000000e+01 -1.75000000e+01 -1.70000000e+01 -1.65000000e+01\n",
      " -1.60000000e+01 -1.55000000e+01 -1.50000000e+01 -1.45000000e+01\n",
      " -1.40000000e+01 -1.35000000e+01 -1.30000000e+01 -1.25000000e+01\n",
      " -1.20000000e+01 -1.15000000e+01 -1.10000000e+01 -1.05000000e+01\n",
      " -1.00000000e+01 -9.50000000e+00 -9.00000000e+00 -8.50000000e+00\n",
      " -8.00000000e+00 -7.50000000e+00 -7.00000000e+00 -6.50000000e+00\n",
      " -6.00000000e+00 -5.50000000e+00 -5.00000000e+00 -4.50000000e+00\n",
      " -4.00000000e+00 -3.50000000e+00 -3.00000000e+00 -2.50000000e+00\n",
      " -2.00000000e+00 -1.50000000e+00 -1.00000000e+00 -5.00000000e-01\n",
      " -1.77635684e-13  5.00000000e-01  1.00000000e+00  1.50000000e+00\n",
      "  2.00000000e+00  2.50000000e+00  3.00000000e+00  3.50000000e+00\n",
      "  4.00000000e+00  4.50000000e+00  5.00000000e+00  5.50000000e+00\n",
      "  6.00000000e+00  6.50000000e+00  7.00000000e+00  7.50000000e+00\n",
      "  8.00000000e+00  8.50000000e+00  9.00000000e+00  9.50000000e+00\n",
      "  1.00000000e+01  1.05000000e+01  1.10000000e+01  1.15000000e+01\n",
      "  1.20000000e+01  1.25000000e+01  1.30000000e+01  1.35000000e+01\n",
      "  1.40000000e+01  1.45000000e+01  1.50000000e+01  1.55000000e+01\n",
      "  1.60000000e+01  1.65000000e+01  1.70000000e+01  1.75000000e+01\n",
      "  1.80000000e+01  1.85000000e+01  1.90000000e+01  1.95000000e+01\n",
      "  2.00000000e+01  2.05000000e+01  2.10000000e+01  2.15000000e+01\n",
      "  2.20000000e+01  2.25000000e+01  2.30000000e+01  2.35000000e+01\n",
      "  2.40000000e+01  2.45000000e+01  2.50000000e+01  2.55000000e+01\n",
      "  2.60000000e+01  2.65000000e+01  2.70000000e+01  2.75000000e+01\n",
      "  2.80000000e+01  2.85000000e+01  2.90000000e+01  2.95000000e+01\n",
      "  3.00000000e+01  3.05000000e+01  3.10000000e+01  3.15000000e+01\n",
      "  3.20000000e+01  3.25000000e+01  3.30000000e+01  3.35000000e+01\n",
      "  3.40000000e+01  3.45000000e+01  3.50000000e+01  3.55000000e+01\n",
      "  3.60000000e+01  3.65000000e+01  3.70000000e+01  3.75000000e+01\n",
      "  3.80000000e+01  3.85000000e+01  3.90000000e+01  3.95000000e+01\n",
      "  4.00000000e+01  4.05000000e+01  4.10000000e+01  4.15000000e+01\n",
      "  4.20000000e+01  4.25000000e+01  4.30000000e+01  4.35000000e+01\n",
      "  4.40000000e+01  4.45000000e+01  4.50000000e+01  4.55000000e+01\n",
      "  4.60000000e+01  4.65000000e+01  4.70000000e+01  4.75000000e+01\n",
      "  4.80000000e+01  4.85000000e+01  4.90000000e+01  4.95000000e+01]\n"
     ]
    }
   ],
   "source": [
    "print (x * 5)"
   ]
  },
  {
   "cell_type": "code",
   "execution_count": 45,
   "metadata": {},
   "outputs": [
    {
     "name": "stdout",
     "output_type": "stream",
     "text": [
      "[-5.00000000e+03 -4.85149500e+03 -4.70596000e+03 -4.56336500e+03\n",
      " -4.42368000e+03 -4.28687500e+03 -4.15292000e+03 -4.02178500e+03\n",
      " -3.89344000e+03 -3.76785500e+03 -3.64500000e+03 -3.52484500e+03\n",
      " -3.40736000e+03 -3.29251500e+03 -3.18028000e+03 -3.07062500e+03\n",
      " -2.96352000e+03 -2.85893500e+03 -2.75684000e+03 -2.65720500e+03\n",
      " -2.56000000e+03 -2.46519500e+03 -2.37276000e+03 -2.28266500e+03\n",
      " -2.19488000e+03 -2.10937500e+03 -2.02612000e+03 -1.94508500e+03\n",
      " -1.86624000e+03 -1.78955500e+03 -1.71500000e+03 -1.64254500e+03\n",
      " -1.57216000e+03 -1.50381500e+03 -1.43748000e+03 -1.37312500e+03\n",
      " -1.31072000e+03 -1.25023500e+03 -1.19164000e+03 -1.13490500e+03\n",
      " -1.08000000e+03 -1.02689500e+03 -9.75560000e+02 -9.25965000e+02\n",
      " -8.78080000e+02 -8.31875000e+02 -7.87320000e+02 -7.44385000e+02\n",
      " -7.03040000e+02 -6.63255000e+02 -6.25000000e+02 -5.88245000e+02\n",
      " -5.52960000e+02 -5.19115000e+02 -4.86680000e+02 -4.55625000e+02\n",
      " -4.25920000e+02 -3.97535000e+02 -3.70440000e+02 -3.44605000e+02\n",
      " -3.20000000e+02 -2.96595000e+02 -2.74360000e+02 -2.53265000e+02\n",
      " -2.33280000e+02 -2.14375000e+02 -1.96520000e+02 -1.79685000e+02\n",
      " -1.63840000e+02 -1.48955000e+02 -1.35000000e+02 -1.21945000e+02\n",
      " -1.09760000e+02 -9.84150000e+01 -8.78800000e+01 -7.81250000e+01\n",
      " -6.91200000e+01 -6.08350000e+01 -5.32400000e+01 -4.63050000e+01\n",
      " -4.00000000e+01 -3.42950000e+01 -2.91600000e+01 -2.45650000e+01\n",
      " -2.04800000e+01 -1.68750000e+01 -1.37200000e+01 -1.09850000e+01\n",
      " -8.64000000e+00 -6.65500000e+00 -5.00000000e+00 -3.64500000e+00\n",
      " -2.56000000e+00 -1.71500000e+00 -1.08000000e+00 -6.25000000e-01\n",
      " -3.20000000e-01 -1.35000000e-01 -4.00000000e-02 -5.00000000e-03\n",
      " -2.24207754e-40  5.00000000e-03  4.00000000e-02  1.35000000e-01\n",
      "  3.20000000e-01  6.25000000e-01  1.08000000e+00  1.71500000e+00\n",
      "  2.56000000e+00  3.64500000e+00  5.00000000e+00  6.65500000e+00\n",
      "  8.64000000e+00  1.09850000e+01  1.37200000e+01  1.68750000e+01\n",
      "  2.04800000e+01  2.45650000e+01  2.91600000e+01  3.42950000e+01\n",
      "  4.00000000e+01  4.63050000e+01  5.32400000e+01  6.08350000e+01\n",
      "  6.91200000e+01  7.81250000e+01  8.78800000e+01  9.84150000e+01\n",
      "  1.09760000e+02  1.21945000e+02  1.35000000e+02  1.48955000e+02\n",
      "  1.63840000e+02  1.79685000e+02  1.96520000e+02  2.14375000e+02\n",
      "  2.33280000e+02  2.53265000e+02  2.74360000e+02  2.96595000e+02\n",
      "  3.20000000e+02  3.44605000e+02  3.70440000e+02  3.97535000e+02\n",
      "  4.25920000e+02  4.55625000e+02  4.86680000e+02  5.19115000e+02\n",
      "  5.52960000e+02  5.88245000e+02  6.25000000e+02  6.63255000e+02\n",
      "  7.03040000e+02  7.44385000e+02  7.87320000e+02  8.31875000e+02\n",
      "  8.78080000e+02  9.25965000e+02  9.75560000e+02  1.02689500e+03\n",
      "  1.08000000e+03  1.13490500e+03  1.19164000e+03  1.25023500e+03\n",
      "  1.31072000e+03  1.37312500e+03  1.43748000e+03  1.50381500e+03\n",
      "  1.57216000e+03  1.64254500e+03  1.71500000e+03  1.78955500e+03\n",
      "  1.86624000e+03  1.94508500e+03  2.02612000e+03  2.10937500e+03\n",
      "  2.19488000e+03  2.28266500e+03  2.37276000e+03  2.46519500e+03\n",
      "  2.56000000e+03  2.65720500e+03  2.75684000e+03  2.85893500e+03\n",
      "  2.96352000e+03  3.07062500e+03  3.18028000e+03  3.29251500e+03\n",
      "  3.40736000e+03  3.52484500e+03  3.64500000e+03  3.76785500e+03\n",
      "  3.89344000e+03  4.02178500e+03  4.15292000e+03  4.28687500e+03\n",
      "  4.42368000e+03  4.56336500e+03  4.70596000e+03  4.85149500e+03]\n"
     ]
    }
   ],
   "source": [
    "print (y * 5)"
   ]
  },
  {
   "cell_type": "code",
   "execution_count": 46,
   "metadata": {},
   "outputs": [
    {
     "name": "stdout",
     "output_type": "stream",
     "text": [
      "[1.00000000e+02 9.80100000e+01 9.60400000e+01 9.40900000e+01\n",
      " 9.21600000e+01 9.02500000e+01 8.83600000e+01 8.64900000e+01\n",
      " 8.46400000e+01 8.28100000e+01 8.10000000e+01 7.92100000e+01\n",
      " 7.74400000e+01 7.56900000e+01 7.39600000e+01 7.22500000e+01\n",
      " 7.05600000e+01 6.88900000e+01 6.72400000e+01 6.56100000e+01\n",
      " 6.40000000e+01 6.24100000e+01 6.08400000e+01 5.92900000e+01\n",
      " 5.77600000e+01 5.62500000e+01 5.47600000e+01 5.32900000e+01\n",
      " 5.18400000e+01 5.04100000e+01 4.90000000e+01 4.76100000e+01\n",
      " 4.62400000e+01 4.48900000e+01 4.35600000e+01 4.22500000e+01\n",
      " 4.09600000e+01 3.96900000e+01 3.84400000e+01 3.72100000e+01\n",
      " 3.60000000e+01 3.48100000e+01 3.36400000e+01 3.24900000e+01\n",
      " 3.13600000e+01 3.02500000e+01 2.91600000e+01 2.80900000e+01\n",
      " 2.70400000e+01 2.60100000e+01 2.50000000e+01 2.40100000e+01\n",
      " 2.30400000e+01 2.20900000e+01 2.11600000e+01 2.02500000e+01\n",
      " 1.93600000e+01 1.84900000e+01 1.76400000e+01 1.68100000e+01\n",
      " 1.60000000e+01 1.52100000e+01 1.44400000e+01 1.36900000e+01\n",
      " 1.29600000e+01 1.22500000e+01 1.15600000e+01 1.08900000e+01\n",
      " 1.02400000e+01 9.61000000e+00 9.00000000e+00 8.41000000e+00\n",
      " 7.84000000e+00 7.29000000e+00 6.76000000e+00 6.25000000e+00\n",
      " 5.76000000e+00 5.29000000e+00 4.84000000e+00 4.41000000e+00\n",
      " 4.00000000e+00 3.61000000e+00 3.24000000e+00 2.89000000e+00\n",
      " 2.56000000e+00 2.25000000e+00 1.96000000e+00 1.69000000e+00\n",
      " 1.44000000e+00 1.21000000e+00 1.00000000e+00 8.10000000e-01\n",
      " 6.40000000e-01 4.90000000e-01 3.60000000e-01 2.50000000e-01\n",
      " 1.60000000e-01 9.00000000e-02 4.00000000e-02 1.00000000e-02\n",
      " 1.26217745e-27 1.00000000e-02 4.00000000e-02 9.00000000e-02\n",
      " 1.60000000e-01 2.50000000e-01 3.60000000e-01 4.90000000e-01\n",
      " 6.40000000e-01 8.10000000e-01 1.00000000e+00 1.21000000e+00\n",
      " 1.44000000e+00 1.69000000e+00 1.96000000e+00 2.25000000e+00\n",
      " 2.56000000e+00 2.89000000e+00 3.24000000e+00 3.61000000e+00\n",
      " 4.00000000e+00 4.41000000e+00 4.84000000e+00 5.29000000e+00\n",
      " 5.76000000e+00 6.25000000e+00 6.76000000e+00 7.29000000e+00\n",
      " 7.84000000e+00 8.41000000e+00 9.00000000e+00 9.61000000e+00\n",
      " 1.02400000e+01 1.08900000e+01 1.15600000e+01 1.22500000e+01\n",
      " 1.29600000e+01 1.36900000e+01 1.44400000e+01 1.52100000e+01\n",
      " 1.60000000e+01 1.68100000e+01 1.76400000e+01 1.84900000e+01\n",
      " 1.93600000e+01 2.02500000e+01 2.11600000e+01 2.20900000e+01\n",
      " 2.30400000e+01 2.40100000e+01 2.50000000e+01 2.60100000e+01\n",
      " 2.70400000e+01 2.80900000e+01 2.91600000e+01 3.02500000e+01\n",
      " 3.13600000e+01 3.24900000e+01 3.36400000e+01 3.48100000e+01\n",
      " 3.60000000e+01 3.72100000e+01 3.84400000e+01 3.96900000e+01\n",
      " 4.09600000e+01 4.22500000e+01 4.35600000e+01 4.48900000e+01\n",
      " 4.62400000e+01 4.76100000e+01 4.90000000e+01 5.04100000e+01\n",
      " 5.18400000e+01 5.32900000e+01 5.47600000e+01 5.62500000e+01\n",
      " 5.77600000e+01 5.92900000e+01 6.08400000e+01 6.24100000e+01\n",
      " 6.40000000e+01 6.56100000e+01 6.72400000e+01 6.88900000e+01\n",
      " 7.05600000e+01 7.22500000e+01 7.39600000e+01 7.56900000e+01\n",
      " 7.74400000e+01 7.92100000e+01 8.10000000e+01 8.28100000e+01\n",
      " 8.46400000e+01 8.64900000e+01 8.83600000e+01 9.02500000e+01\n",
      " 9.21600000e+01 9.40900000e+01 9.60400000e+01 9.80100000e+01]\n"
     ]
    }
   ],
   "source": [
    "print (x ** 2)"
   ]
  },
  {
   "cell_type": "code",
   "execution_count": 47,
   "metadata": {},
   "outputs": [
    {
     "name": "stdout",
     "output_type": "stream",
     "text": [
      "[1.00000000e+06 9.41480149e+05 8.85842381e+05 8.32972005e+05\n",
      " 7.82757790e+05 7.35091891e+05 6.89869781e+05 6.46990183e+05\n",
      " 6.06355001e+05 5.67869252e+05 5.31441000e+05 4.96981291e+05\n",
      " 4.64404087e+05 4.33626201e+05 4.04567235e+05 3.77149516e+05\n",
      " 3.51298032e+05 3.26940373e+05 3.04006671e+05 2.82429536e+05\n",
      " 2.62144000e+05 2.43087456e+05 2.25199601e+05 2.08422380e+05\n",
      " 1.92699929e+05 1.77978516e+05 1.64206490e+05 1.51334226e+05\n",
      " 1.39314070e+05 1.28100284e+05 1.17649000e+05 1.07918163e+05\n",
      " 9.88674826e+04 9.04583822e+04 8.26539500e+04 7.54188906e+04\n",
      " 6.87194767e+04 6.25235022e+04 5.68002356e+04 5.15203744e+04\n",
      " 4.66560000e+04 4.21805336e+04 3.80686925e+04 3.42964472e+04\n",
      " 3.08409795e+04 2.76806406e+04 2.47949113e+04 2.21643611e+04\n",
      " 1.97706097e+04 1.75962878e+04 1.56250000e+04 1.38412872e+04\n",
      " 1.22305905e+04 1.07792153e+04 9.47429690e+03 8.30376563e+03\n",
      " 7.25631386e+03 6.32136305e+03 5.48903174e+03 4.75010424e+03\n",
      " 4.09600000e+03 3.51874376e+03 3.01093638e+03 2.56572641e+03\n",
      " 2.17678234e+03 1.83826563e+03 1.54480442e+03 1.29146797e+03\n",
      " 1.07374182e+03 8.87503681e+02 7.29000000e+02 5.94823321e+02\n",
      " 4.81890304e+02 3.87420489e+02 3.08915776e+02 2.44140625e+02\n",
      " 1.91102976e+02 1.48035889e+02 1.13379904e+02 8.57661210e+01\n",
      " 6.40000000e+01 4.70458810e+01 3.40122240e+01 2.41375690e+01\n",
      " 1.67772160e+01 1.13906250e+01 7.52953600e+00 4.82680900e+00\n",
      " 2.98598400e+00 1.77156100e+00 1.00000000e+00 5.31441000e-01\n",
      " 2.62144000e-01 1.17649000e-01 4.66560000e-02 1.56250000e-02\n",
      " 4.09600000e-03 7.29000000e-04 6.40000000e-05 1.00000000e-06\n",
      " 2.01076468e-81 1.00000000e-06 6.40000000e-05 7.29000000e-04\n",
      " 4.09600000e-03 1.56250000e-02 4.66560000e-02 1.17649000e-01\n",
      " 2.62144000e-01 5.31441000e-01 1.00000000e+00 1.77156100e+00\n",
      " 2.98598400e+00 4.82680900e+00 7.52953600e+00 1.13906250e+01\n",
      " 1.67772160e+01 2.41375690e+01 3.40122240e+01 4.70458810e+01\n",
      " 6.40000000e+01 8.57661210e+01 1.13379904e+02 1.48035889e+02\n",
      " 1.91102976e+02 2.44140625e+02 3.08915776e+02 3.87420489e+02\n",
      " 4.81890304e+02 5.94823321e+02 7.29000000e+02 8.87503681e+02\n",
      " 1.07374182e+03 1.29146797e+03 1.54480442e+03 1.83826562e+03\n",
      " 2.17678234e+03 2.56572641e+03 3.01093638e+03 3.51874376e+03\n",
      " 4.09600000e+03 4.75010424e+03 5.48903174e+03 6.32136305e+03\n",
      " 7.25631386e+03 8.30376562e+03 9.47429690e+03 1.07792153e+04\n",
      " 1.22305905e+04 1.38412872e+04 1.56250000e+04 1.75962878e+04\n",
      " 1.97706097e+04 2.21643611e+04 2.47949113e+04 2.76806406e+04\n",
      " 3.08409795e+04 3.42964472e+04 3.80686925e+04 4.21805336e+04\n",
      " 4.66560000e+04 5.15203744e+04 5.68002356e+04 6.25235022e+04\n",
      " 6.87194767e+04 7.54188906e+04 8.26539500e+04 9.04583822e+04\n",
      " 9.88674826e+04 1.07918163e+05 1.17649000e+05 1.28100284e+05\n",
      " 1.39314070e+05 1.51334226e+05 1.64206490e+05 1.77978516e+05\n",
      " 1.92699929e+05 2.08422380e+05 2.25199601e+05 2.43087456e+05\n",
      " 2.62144000e+05 2.82429536e+05 3.04006671e+05 3.26940373e+05\n",
      " 3.51298032e+05 3.77149516e+05 4.04567235e+05 4.33626201e+05\n",
      " 4.64404087e+05 4.96981291e+05 5.31441000e+05 5.67869252e+05\n",
      " 6.06355001e+05 6.46990183e+05 6.89869781e+05 7.35091891e+05\n",
      " 7.82757790e+05 8.32972005e+05 8.85842381e+05 9.41480149e+05]\n"
     ]
    }
   ],
   "source": [
    "print (y ** 2)"
   ]
  },
  {
   "cell_type": "code",
   "execution_count": 14,
   "metadata": {},
   "outputs": [],
   "source": [
    "matrix = [[1, 2, 4], [3, 1, 0]]\n",
    "nd_array = np.array(matrix)"
   ]
  },
  {
   "cell_type": "code",
   "execution_count": 48,
   "metadata": {},
   "outputs": [
    {
     "name": "stdout",
     "output_type": "stream",
     "text": [
      "0\n"
     ]
    }
   ],
   "source": [
    "print (matrix[1][2])"
   ]
  },
  {
   "cell_type": "code",
   "execution_count": 49,
   "metadata": {},
   "outputs": [
    {
     "name": "stdout",
     "output_type": "stream",
     "text": [
      "0\n"
     ]
    }
   ],
   "source": [
    "print (nd_array[1, 2])"
   ]
  },
  {
   "cell_type": "code",
   "execution_count": 50,
   "metadata": {},
   "outputs": [
    {
     "name": "stdout",
     "output_type": "stream",
     "text": [
      "0.5694978732235377\n"
     ]
    }
   ],
   "source": [
    "print (np.random.rand())"
   ]
  },
  {
   "cell_type": "code",
   "execution_count": 51,
   "metadata": {},
   "outputs": [
    {
     "name": "stdout",
     "output_type": "stream",
     "text": [
      "-0.7890402150718833\n"
     ]
    }
   ],
   "source": [
    "print (np.random.randn())"
   ]
  },
  {
   "cell_type": "code",
   "execution_count": 52,
   "metadata": {},
   "outputs": [
    {
     "name": "stdout",
     "output_type": "stream",
     "text": [
      "[-0.88528124  0.6347084  -1.32137486  0.82742175]\n"
     ]
    }
   ],
   "source": [
    "print (np.random.randn(4))"
   ]
  },
  {
   "cell_type": "code",
   "execution_count": 53,
   "metadata": {},
   "outputs": [
    {
     "name": "stdout",
     "output_type": "stream",
     "text": [
      "[[-0.39325919  0.27741764 -1.64497438 -0.28538921  0.1718623 ]\n",
      " [ 0.97757146 -0.70194115 -0.97258021  1.03713411 -0.30508522]\n",
      " [ 0.09897889 -0.97611067 -0.19860881 -1.20967046  0.64336952]\n",
      " [-0.87035042  0.28767336  0.98946257 -0.96726798  0.97931823]]\n"
     ]
    }
   ],
   "source": [
    "print (np.random.randn(4, 5))"
   ]
  },
  {
   "cell_type": "code",
   "execution_count": 54,
   "metadata": {},
   "outputs": [
    {
     "name": "stdout",
     "output_type": "stream",
     "text": [
      "[0.  0.1 0.2 0.3 0.4 0.5 0.6 0.7 0.8 0.9 1.  1.1 1.2 1.3 1.4 1.5 1.6 1.7\n",
      " 1.8 1.9 2.  2.1 2.2 2.3 2.4 2.5 2.6 2.7 2.8 2.9 3.  3.1 3.2 3.3 3.4 3.5\n",
      " 3.6 3.7 3.8 3.9 4.  4.1 4.2 4.3 4.4 4.5 4.6 4.7 4.8 4.9 5.  5.1 5.2 5.3\n",
      " 5.4 5.5 5.6 5.7 5.8 5.9 6.  6.1 6.2 6.3 6.4 6.5 6.6 6.7 6.8 6.9 7.  7.1\n",
      " 7.2 7.3 7.4 7.5 7.6 7.7 7.8 7.9]\n"
     ]
    }
   ],
   "source": [
    "print (np.arange(0, 8, 0.1))"
   ]
  },
  {
   "cell_type": "code",
   "execution_count": 55,
   "metadata": {},
   "outputs": [
    {
     "ename": "TypeError",
     "evalue": "'float' object cannot be interpreted as an integer",
     "output_type": "error",
     "traceback": [
      "\u001b[0;31m---------------------------------------------------------------------------\u001b[0m",
      "\u001b[0;31mTypeError\u001b[0m                                 Traceback (most recent call last)",
      "\u001b[0;32m<ipython-input-55-c7cd1de94c3a>\u001b[0m in \u001b[0;36m<module>\u001b[0;34m()\u001b[0m\n\u001b[0;32m----> 1\u001b[0;31m \u001b[0mprint\u001b[0m \u001b[0;34m(\u001b[0m\u001b[0mrange\u001b[0m\u001b[0;34m(\u001b[0m\u001b[0;36m0\u001b[0m\u001b[0;34m,\u001b[0m \u001b[0;36m8\u001b[0m\u001b[0;34m,\u001b[0m \u001b[0;36m0.1\u001b[0m\u001b[0;34m)\u001b[0m\u001b[0;34m)\u001b[0m\u001b[0;34m\u001b[0m\u001b[0m\n\u001b[0m",
      "\u001b[0;31mTypeError\u001b[0m: 'float' object cannot be interpreted as an integer"
     ]
    }
   ],
   "source": [
    "print (range(0, 8, 0.1))"
   ]
  },
  {
   "cell_type": "code",
   "execution_count": 23,
   "metadata": {},
   "outputs": [
    {
     "name": "stdout",
     "output_type": "stream",
     "text": [
      "4.98 µs ± 68.4 ns per loop (mean ± std. dev. of 7 runs, 100000 loops each)\n",
      "234 ns ± 1.82 ns per loop (mean ± std. dev. of 7 runs, 1000000 loops each)\n"
     ]
    }
   ],
   "source": [
    "%timeit np.arange(0, 10000)\n",
    "%timeit range(0, 10000)"
   ]
  },
  {
   "cell_type": "markdown",
   "metadata": {},
   "source": [
    "## SciPy"
   ]
  },
  {
   "cell_type": "code",
   "execution_count": 24,
   "metadata": {},
   "outputs": [],
   "source": [
    "from scipy import optimize"
   ]
  },
  {
   "cell_type": "code",
   "execution_count": 56,
   "metadata": {},
   "outputs": [
    {
     "name": "stdout",
     "output_type": "stream",
     "text": [
      "3.0\n"
     ]
    }
   ],
   "source": [
    "def f(x):\n",
    "    return (x[0] - 3.2) ** 2 + (x[1] - 0.1) ** 2 + 3\n",
    "\n",
    "print (f([3.2, 0.1]))"
   ]
  },
  {
   "cell_type": "code",
   "execution_count": 57,
   "metadata": {},
   "outputs": [
    {
     "name": "stdout",
     "output_type": "stream",
     "text": [
      "      fun: 3.0000000000011435\n",
      " hess_inv: array([[ 0.94055055, -0.16183475],\n",
      "       [-0.16183475,  0.55944947]])\n",
      "      jac: array([-2.05636024e-06,  5.36441803e-07])\n",
      "  message: 'Optimization terminated successfully.'\n",
      "     nfev: 16\n",
      "      nit: 3\n",
      "     njev: 4\n",
      "   status: 0\n",
      "  success: True\n",
      "        x: array([3.19999896, 0.10000026])\n"
     ]
    }
   ],
   "source": [
    "x_min = optimize.minimize(f, [5, 5])\n",
    "print (x_min)"
   ]
  },
  {
   "cell_type": "code",
   "execution_count": 58,
   "metadata": {},
   "outputs": [
    {
     "name": "stdout",
     "output_type": "stream",
     "text": [
      "[3.19999896 0.10000026]\n"
     ]
    }
   ],
   "source": [
    "print (x_min.x)"
   ]
  },
  {
   "cell_type": "code",
   "execution_count": 29,
   "metadata": {},
   "outputs": [],
   "source": [
    "from scipy import linalg"
   ]
  },
  {
   "cell_type": "code",
   "execution_count": 59,
   "metadata": {},
   "outputs": [
    {
     "name": "stdout",
     "output_type": "stream",
     "text": [
      "[ 2. -2.  9.]\n"
     ]
    }
   ],
   "source": [
    "a = np.array([[3, 2, 0], [1, -1, 0], [0, 5, 1]])\n",
    "b = np.array([2, 4, -1])\n",
    "\n",
    "x = linalg.solve(a, b)\n",
    "print (x)"
   ]
  },
  {
   "cell_type": "code",
   "execution_count": 60,
   "metadata": {},
   "outputs": [
    {
     "name": "stdout",
     "output_type": "stream",
     "text": [
      "[ 2.  4. -1.]\n"
     ]
    }
   ],
   "source": [
    "print (np.dot(a, x))"
   ]
  },
  {
   "cell_type": "code",
   "execution_count": 61,
   "metadata": {},
   "outputs": [
    {
     "name": "stdout",
     "output_type": "stream",
     "text": [
      "(4, 4) (3,) (3, 3)\n",
      "<class 'numpy.ndarray'> <class 'numpy.ndarray'> <class 'numpy.ndarray'>\n"
     ]
    }
   ],
   "source": [
    "X = np.random.randn(4, 3)\n",
    "U, D, V = linalg.svd(X)\n",
    "print (U.shape, D.shape, V.shape)\n",
    "print (type(U), type(D), type(V))"
   ]
  },
  {
   "cell_type": "markdown",
   "metadata": {},
   "source": [
    "## Matplotlib"
   ]
  },
  {
   "cell_type": "code",
   "execution_count": 33,
   "metadata": {},
   "outputs": [],
   "source": [
    "%matplotlib inline"
   ]
  },
  {
   "cell_type": "code",
   "execution_count": 34,
   "metadata": {},
   "outputs": [
    {
     "data": {
      "image/png": "[encoded data removed]",
      "text/plain": [
       "<matplotlib.figure.Figure at 0x10b2924a8>"
      ]
     },
     "metadata": {},
     "output_type": "display_data"
    }
   ],
   "source": [
    "from matplotlib import pylab as plt\n",
    "\n",
    "plt.plot([1, 2, 3, 4], [1, 4, 9, 16])\n",
    "plt.show()"
   ]
  },
  {
   "cell_type": "code",
   "execution_count": 35,
   "metadata": {},
   "outputs": [
    {
     "data": {
      "image/png": "[encoded data removed]",
      "text/plain": [
       "<matplotlib.figure.Figure at 0x10fc00668>"
      ]
     },
     "metadata": {},
     "output_type": "display_data"
    }
   ],
   "source": [
    "x = np.arange(-10, 10, 0.1)\n",
    "y = x ** 3\n",
    "plt.plot(x, y)\n",
    "plt.show()"
   ]
  },
  {
   "cell_type": "markdown",
   "metadata": {},
   "source": [
    "## Все вместе"
   ]
  },
  {
   "cell_type": "code",
   "execution_count": 36,
   "metadata": {},
   "outputs": [],
   "source": [
    "%matplotlib inline\n",
    "import numpy as np\n",
    "import matplotlib.pyplot as plt\n",
    "from scipy import interpolate"
   ]
  },
  {
   "cell_type": "code",
   "execution_count": 62,
   "metadata": {},
   "outputs": [
    {
     "name": "stdout",
     "output_type": "stream",
     "text": [
      "[0 2 4 6 8]\n",
      "[0.93276988 0.53346596 0.22428584 0.21642751 0.10879287]\n"
     ]
    }
   ],
   "source": [
    "x = np.arange(0, 10, 2)\n",
    "y = np.exp(-x/3.0) + np.random.randn(len(x)) * 0.05\n",
    "\n",
    "print (x[:5])\n",
    "print (y[:5])"
   ]
  },
  {
   "cell_type": "code",
   "execution_count": 63,
   "metadata": {},
   "outputs": [],
   "source": [
    "f = interpolate.interp1d(x, y, kind='quadratic')\n",
    "xnew = np.arange(0, 8, 0.1)\n",
    "ynew = f(xnew)"
   ]
  },
  {
   "cell_type": "code",
   "execution_count": 64,
   "metadata": {},
   "outputs": [
    {
     "data": {
      "image/png": "[encoded data removed]",
      "text/plain": [
       "<matplotlib.figure.Figure at 0x110128cc0>"
      ]
     },
     "metadata": {},
     "output_type": "display_data"
    }
   ],
   "source": [
    "plt.plot(x, y, 'o', xnew, ynew, '-')\n",
    "plt.show()"
   ]
  },
  {
   "cell_type": "code",
   "execution_count": 66,
   "metadata": {},
   "outputs": [
    {
     "data": {
      "text/plain": [
       "array([[0.61739671, 0.79454902, 0.32151661, 0.99497082, 0.02390574],\n",
       "       [0.24524548, 0.30207111, 0.35591766, 0.79219081, 0.31430083],\n",
       "       [0.37586608, 0.04595066, 0.2512329 , 0.12176586, 0.68719811],\n",
       "       [0.22057169, 0.19396217, 0.25309056, 0.14118107, 0.10288767]])"
      ]
     },
     "execution_count": 66,
     "metadata": {},
     "output_type": "execute_result"
    }
   ],
   "source": [
    "np.random.rand(4, 5) "
   ]
  },
  {
   "cell_type": "code",
   "execution_count": 69,
   "metadata": {},
   "outputs": [
    {
     "data": {
      "text/plain": [
       "numpy.ndarray"
      ]
     },
     "execution_count": 69,
     "metadata": {},
     "output_type": "execute_result"
    }
   ],
   "source": [
    "type(x)"
   ]
  },
  {
   "cell_type": "code",
   "execution_count": 70,
   "metadata": {},
   "outputs": [
    {
     "data": {
      "text/plain": [
       "numpy.ndarray"
      ]
     },
     "execution_count": 70,
     "metadata": {},
     "output_type": "execute_result"
    }
   ],
   "source": [
    "type(y)"
   ]
  },
  {
   "cell_type": "code",
   "execution_count": 71,
   "metadata": {},
   "outputs": [
    {
     "ename": "IndexError",
     "evalue": "invalid index to scalar variable.",
     "output_type": "error",
     "traceback": [
      "\u001b[0;31m---------------------------------------------------------------------------\u001b[0m",
      "\u001b[0;31mIndexError\u001b[0m                                Traceback (most recent call last)",
      "\u001b[0;32m<ipython-input-71-14d992990d4f>\u001b[0m in \u001b[0;36m<module>\u001b[0;34m()\u001b[0m\n\u001b[0;32m----> 1\u001b[0;31m \u001b[0mx\u001b[0m\u001b[0;34m[\u001b[0m\u001b[0;36m2\u001b[0m\u001b[0;34m]\u001b[0m\u001b[0;34m[\u001b[0m\u001b[0;36m3\u001b[0m\u001b[0;34m]\u001b[0m\u001b[0;34m\u001b[0m\u001b[0m\n\u001b[0m",
      "\u001b[0;31mIndexError\u001b[0m: invalid index to scalar variable."
     ]
    }
   ],
   "source": [
    "x[2][3]"
   ]
  },
  {
   "cell_type": "code",
   "execution_count": 72,
   "metadata": {},
   "outputs": [
    {
     "ename": "IndexError",
     "evalue": "too many indices for array",
     "output_type": "error",
     "traceback": [
      "\u001b[0;31m---------------------------------------------------------------------------\u001b[0m",
      "\u001b[0;31mIndexError\u001b[0m                                Traceback (most recent call last)",
      "\u001b[0;32m<ipython-input-72-ebce440c82d5>\u001b[0m in \u001b[0;36m<module>\u001b[0;34m()\u001b[0m\n\u001b[0;32m----> 1\u001b[0;31m \u001b[0mx\u001b[0m\u001b[0;34m[\u001b[0m\u001b[0;36m2\u001b[0m\u001b[0;34m,\u001b[0m \u001b[0;36m3\u001b[0m\u001b[0;34m]\u001b[0m\u001b[0;34m\u001b[0m\u001b[0m\n\u001b[0m",
      "\u001b[0;31mIndexError\u001b[0m: too many indices for array"
     ]
    }
   ],
   "source": [
    "x[2, 3]"
   ]
  },
  {
   "cell_type": "code",
   "execution_count": 73,
   "metadata": {},
   "outputs": [
    {
     "ename": "SyntaxError",
     "evalue": "invalid syntax (<ipython-input-73-67db260540b7>, line 1)",
     "output_type": "error",
     "traceback": [
      "\u001b[0;36m  File \u001b[0;32m\"<ipython-input-73-67db260540b7>\"\u001b[0;36m, line \u001b[0;32m1\u001b[0m\n\u001b[0;31m    x[2 3]\u001b[0m\n\u001b[0m        ^\u001b[0m\n\u001b[0;31mSyntaxError\u001b[0m\u001b[0;31m:\u001b[0m invalid syntax\n"
     ]
    }
   ],
   "source": [
    "x[2 3]"
   ]
  },
  {
   "cell_type": "code",
   "execution_count": 74,
   "metadata": {},
   "outputs": [
    {
     "ename": "IndexError",
     "evalue": "only integers, slices (`:`), ellipsis (`...`), numpy.newaxis (`None`) and integer or boolean arrays are valid indices",
     "output_type": "error",
     "traceback": [
      "\u001b[0;31m---------------------------------------------------------------------------\u001b[0m",
      "\u001b[0;31mIndexError\u001b[0m                                Traceback (most recent call last)",
      "\u001b[0;32m<ipython-input-74-1b314d600a7b>\u001b[0m in \u001b[0;36m<module>\u001b[0;34m()\u001b[0m\n\u001b[0;32m----> 1\u001b[0;31m \u001b[0mx\u001b[0m\u001b[0;34m[\u001b[0m\u001b[0;34m\"2, 3\"\u001b[0m\u001b[0;34m]\u001b[0m\u001b[0;34m\u001b[0m\u001b[0m\n\u001b[0m",
      "\u001b[0;31mIndexError\u001b[0m: only integers, slices (`:`), ellipsis (`...`), numpy.newaxis (`None`) and integer or boolean arrays are valid indices"
     ]
    }
   ],
   "source": [
    "x[\"2, 3\"]"
   ]
  },
  {
   "cell_type": "code",
   "execution_count": 75,
   "metadata": {},
   "outputs": [
    {
     "data": {
      "text/plain": [
       "array([6])"
      ]
     },
     "execution_count": 75,
     "metadata": {},
     "output_type": "execute_result"
    }
   ],
   "source": [
    "x[3:4]"
   ]
  },
  {
   "cell_type": "code",
   "execution_count": null,
   "metadata": {},
   "outputs": [],
   "source": []
  }
 ],
 "metadata": {
  "kernelspec": {
   "display_name": "Python 3",
   "language": "python",
   "name": "python3"
  },
  "language_info": {
   "codemirror_mode": {
    "name": "ipython",
    "version": 3
   },
   "file_extension": ".py",
   "mimetype": "text/x-python",
   "name": "python",
   "nbconvert_exporter": "python",
   "pygments_lexer": "ipython3",
   "version": "3.6.6"
  }
 },
 "nbformat": 4,
 "nbformat_minor": 1
}

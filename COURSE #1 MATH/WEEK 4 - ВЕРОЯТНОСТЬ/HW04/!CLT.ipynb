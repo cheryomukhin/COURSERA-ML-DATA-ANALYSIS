{
 "cells": [
  {
   "cell_type": "markdown",
   "metadata": {
    "collapsed": true
   },
   "source": [
    "# Центральная предельная теорема своими руками"
   ]
  },
  {
   "cell_type": "markdown",
   "metadata": {},
   "source": [
    "## Инструкции ###\n",
    "\n",
    "В этом задании вам предстоит проверить работу центральной предельной теоремы, а также поработать с генерацией случайных чисел и построением графиков в Питоне.\n",
    "\n",
    "Выберите ваше любимое непрерывное распределение (чем меньше оно будет похоже на нормальное, тем интереснее; попробуйте выбрать какое-нибудь распределение из тех, что мы не обсуждали в курсе). Сгенерируйте из него выборку объёма 1000, постройте гистограмму выборки и нарисуйте поверх неё теоретическую плотность распределения вашей случайной величины (чтобы величины были в одном масштабе, не забудьте выставить у гистограммы значение параметра normed=True).\n",
    "\n",
    "Ваша задача — оценить распределение выборочного среднего вашей случайной величины при разных объёмах выборок. Для этого при трёх и более значениях n (например, 5, 10, 50) сгенерируйте 1000 выборок объёма n и постройте гистограммы распределений их выборочных средних. Используя информацию о среднем и дисперсии исходного распределения (её можно без труда найти в википедии), посчитайте значения параметров нормальных распределений, которыми, согласно центральной предельной теореме, приближается распределение выборочных средних. Обратите внимание: для подсчёта значений этих параметров нужно использовать именно теоретические среднее и дисперсию вашей случайной величины, а не их выборочные оценки. Поверх каждой гистограммы нарисуйте плотность соответствующего нормального распределения (будьте внимательны с параметрами функции, она принимает на вход не дисперсию, а стандартное отклонение).\n",
    "\n",
    "Опишите разницу между полученными распределениями при различных значениях n. Как меняется точность аппроксимации распределения выборочных средних нормальным с ростом n?"
   ]
  },
  {
   "cell_type": "markdown",
   "metadata": {},
   "source": [
    "## Review criteria\n",
    "\n",
    "Решение должно представлять собой IPython-ноутбук, содержащий:\n",
    "\n",
    "* код, генерирующий выборки и графики;\n",
    "* краткие описания каждого блока кода, объясняющие, что он делает;\n",
    "* необходимые графики (убедитесь, что на них подписаны оси);\n",
    "* выкладки с вычислениями параметров нормальных распределений, аппроксимирующих выборочные средние при различных n;\n",
    "* выводы по результатам выполнения задания."
   ]
  },
  {
   "cell_type": "markdown",
   "metadata": {},
   "source": [
    "## Центральные предельные теоремы\n",
    "\n",
    "Центра́льные преде́льные теоре́мы (Ц. П. Т.) — класс теорем в теории вероятностей, утверждающих, что сумма достаточно большого количества слабо зависимых случайных величин, имеющих примерно одинаковые масштабы (ни одно из слагаемых не доминирует, не вносит в сумму определяющего вклада), имеет распределение, близкое к нормальному.\n",
    "\n",
    "Так как многие случайные величины в приложениях формируются под влиянием нескольких слабо зависимых случайных факторов, их распределение считают нормальным. При этом должно соблюдаться условие, что ни один из факторов не является доминирующим. Центральные предельные теоремы в этих случаях обосновывают применение нормального распределения.\n",
    "\n",
    "## Распределение Парето\n",
    "\n",
    "Распределе́ние Паре́то в теории вероятностей — двухпараметрическое семейство абсолютно непрерывных \n",
    "распределений, являющихся степенными. Называется по имени Вилфредо Парето. \n",
    "Встречается при исследовании различных явлений, в частности, социальных, экономических, физических \n",
    "и других[1]. Вне области экономики иногда называется также распределением Брэдфорда.\n",
    "\n",
    "Bилфредо Парето изначально использовал это распределение для описания распределения благосостояния, \n",
    "а также распределения дохода[2]. Его правило 20 к 80 (которое гласит: 20 % популяции владеет 80 % богатства) \n",
    "однако зависит от конкретной величины k, и утверждается, что фактически встречаются существенные \n",
    "количественные отклонения, например, данные самого Парето по Британии в Cours d'économie politique \n",
    "говорят, что там примерно 30 % населения владеет 70 % общего дохода.\n",
    "\n",
    "Распределение Парето встречается не только в экономике. Можно привести следующие примеры:\n",
    "\n",
    "* В лингвистике распределение Парето известно под именем закона Ципфа (для разных языков показатель степени может несколько различаться, также существует небольшое отклонение от простой степенной зависимости у самых частотных слов, однако в целом степенной закон описывает это распределение достаточно хорошо). Частными проявлениями этой закономерности можно считать:\n",
    "* Зависимость абсолютной частоты слов (сколько всего раз каждое конкретное слово встретилось) в достаточно длинном тексте от ранга (порядкового номера при упорядочении слов по абсолютной частоте). Степенной характер остается вне зависимости от того, приводятся ли слова к начальной форме или берутся из текста как есть.\n",
    "* Аналогичная кривая для популярности имен.\n",
    "* Распределение размера населенных пунктов.[3]\n",
    "* Распределение размера файла в интернет-трафике по TCP-протоколу.[3]\n",
    "\n",
    "http://docs.scipy.org/doc/scipy/reference/generated/scipy.stats.pareto.html#scipy.stats.pareto\n",
    "\n"
   ]
  },
  {
   "cell_type": "code",
   "execution_count": 68,
   "metadata": {},
   "outputs": [],
   "source": [
    "import math\n",
    "import numpy as np\n",
    "import matplotlib.pyplot as plt\n",
    "import scipy.stats as sts\n",
    "%matplotlib inline"
   ]
  },
  {
   "cell_type": "markdown",
   "metadata": {},
   "source": [
    "### ШАГ №1\n",
    "Выберите ваше любимое непрерывное распределение (чем меньше оно будет похоже на нормальное, тем интереснее; попробуйте выбрать какое-нибудь распределение из тех, что мы не обсуждали в курсе). Сгенерируйте из него выборку объёма 1000, постройте гистограмму выборки и нарисуйте поверх неё теоретическую плотность распределения вашей случайной величины (чтобы величины были в одном масштабе, не забудьте выставить у гистограммы значение параметра normed=True)."
   ]
  },
  {
   "cell_type": "markdown",
   "metadata": {},
   "source": [
    "Непреры́вное равноме́рное распределе́ние — в теории вероятностей — распределение случайной вещественной величины, принимающей значения, принадлежащие интервалу [a, b], характеризующееся тем, что плотность вероятности на этом интервале постоянна."
   ]
  },
  {
   "cell_type": "code",
   "execution_count": 69,
   "metadata": {},
   "outputs": [],
   "source": [
    "# Выбор параметров для распределения\n",
    "k = 10\n",
    "\n",
    "#Сгенерируйте из него выборку объёма 1000\n",
    "sampleRange = pareto.rvs(k, size=1000)"
   ]
  },
  {
   "cell_type": "code",
   "execution_count": 98,
   "metadata": {},
   "outputs": [
    {
     "data": {
      "text/plain": [
       "<matplotlib.legend.Legend at 0x1a1cfeb048>"
      ]
     },
     "execution_count": 98,
     "metadata": {},
     "output_type": "execute_result"
    },
    {
     "data": {
      "image/png": "[encoded data removed]",
      "text/plain": [
       "<Figure size 432x288 with 1 Axes>"
      ]
     },
     "metadata": {
      "needs_background": "light"
     },
     "output_type": "display_data"
    }
   ],
   "source": [
    "#Постройте гистограмму выборки и нарисуйте поверх неё теоретическую плотность распределения вашей случайной величины.\n",
    "plt.hist(sampleRange, density = True, bins=20, alpha=1, label='hist samples pareto')\n",
    "plt.ylabel('number of samples')\n",
    "plt.xlabel('$x$')\n",
    "\n",
    "#Теоретическая плотность распределения случайной величины\n",
    "left = pareto.ppf(0.01, k)\n",
    "right =  pareto.ppf(0.99, k)\n",
    "x = np.linspace(left,  right, 100)\n",
    "plt.plot(x, pareto.pdf(x, k), 'r-', lw=5, alpha=0.7, label='pareto pdf')\n",
    "plt.legend(loc='best') "
   ]
  },
  {
   "cell_type": "markdown",
   "metadata": {},
   "source": [
    "### ШАГ №2\n",
    "\n",
    "Ваша задача — оценить распределение выборочного среднего вашей случайной величины при разных объёмах выборок. Для этого при трёх и более значениях n (например, 5, 10, 50) сгенерируйте 1000 выборок объёма n и постройте гистограммы распределений их выборочных средних. Используя информацию о среднем и дисперсии исходного распределения (её можно без труда найти в википедии), посчитайте значения параметров нормальных распределений, которыми, согласно центральной предельной теореме, приближается распределение выборочных средних. **Обратите внимание**: для подсчёта значений этих параметров нужно использовать именно теоретические среднее и дисперсию вашей случайной величины, а не их выборочные оценки. Поверх каждой гистограммы нарисуйте плотность соответствующего нормального распределения (будьте внимательны с параметрами функции, она принимает на вход не дисперсию, а стандартное отклонение)."
   ]
  },
  {
   "cell_type": "code",
   "execution_count": 93,
   "metadata": {},
   "outputs": [],
   "source": [
    "# функция построения гистограммы распределений выборочных средних \n",
    "# и плотности соответствующего нормального распределения \n",
    "\n",
    "def ParetoFunc(sizeSamples, Ex, Dx):\n",
    "    n = sizeSamples\n",
    "    \n",
    "    #генерация выборок\n",
    "    values = np.array([ pareto.rvs(k, size=n) for x in range(1000)])\n",
    "    \n",
    "    #вычисление выборочных средних\n",
    "    meanVal = values.mean(axis = 1)\n",
    "    plt.hist(meanVal, density=True, alpha=1, label='hist mean n ' + str(n))\n",
    "    \n",
    "    #математическое ожидание mu и sigma нормального распределения\n",
    "    mu = Ex\n",
    "    sigma = math.sqrt(Dx/n)\n",
    "    print ('математическое ожидание=' , mu)\n",
    "    print ('sigma=' , sigma)\n",
    "    \n",
    "    # зададим нормальное распределенние\n",
    "    norm_rv = sts.norm(loc=mu, scale=sigma)\n",
    "    x = np.linspace(0.5,2,100)\n",
    "    pdf = norm_rv.pdf(x)\n",
    "    plt.plot(x, pdf, 'r-', lw=3, alpha=0.7, label='pareto pdf n ' + str(n))\n",
    "    plt.ylabel('samples')\n",
    "    plt.xlabel('$x$')\n",
    "    plt.legend(loc='best')"
   ]
  },
  {
   "cell_type": "code",
   "execution_count": 94,
   "metadata": {},
   "outputs": [
    {
     "name": "stdout",
     "output_type": "stream",
     "text": [
      "Ex= 1.1111111111111112  STD= 0.12422599874998831  DX= 0.015432098765432098\n"
     ]
    }
   ],
   "source": [
    "# Теоретические EX, std, DX  распределения\n",
    "EX = pareto.mean(k)\n",
    "std = pareto.std(k)\n",
    "DX = std**2\n",
    "print ('Ex=', EX, ' STD=', std, ' DX=', DX)"
   ]
  },
  {
   "cell_type": "code",
   "execution_count": 95,
   "metadata": {},
   "outputs": [
    {
     "name": "stdout",
     "output_type": "stream",
     "text": [
      "математическое ожидание= 1.1111111111111112\n",
      "sigma= 0.05555555555555555\n"
     ]
    },
    {
     "data": {
      "image/png": "[encoded data removed]",
      "text/plain": [
       "<Figure size 432x288 with 1 Axes>"
      ]
     },
     "metadata": {
      "needs_background": "light"
     },
     "output_type": "display_data"
    }
   ],
   "source": [
    "# При n = 5 генерируем 1000 выборок объёма n и строим гистограммы распределений их выборочных средних.\n",
    "ParetoFunc(5, EX, DX)"
   ]
  },
  {
   "cell_type": "code",
   "execution_count": 96,
   "metadata": {},
   "outputs": [
    {
     "name": "stdout",
     "output_type": "stream",
     "text": [
      "математическое ожидание= 1.1111111111111112\n",
      "sigma= 0.017568209223157664\n"
     ]
    },
    {
     "data": {
      "image/png": "[encoded data removed]",
      "text/plain": [
       "<Figure size 432x288 with 1 Axes>"
      ]
     },
     "metadata": {
      "needs_background": "light"
     },
     "output_type": "display_data"
    }
   ],
   "source": [
    "# При n = 50 генерируем 1000 выборок объёма n и строим гистограммы распределений их выборочных средних.\n",
    "ParetoFunc(50, EX, DX)"
   ]
  },
  {
   "cell_type": "code",
   "execution_count": 97,
   "metadata": {},
   "outputs": [
    {
     "name": "stdout",
     "output_type": "stream",
     "text": [
      "математическое ожидание= 1.1111111111111112\n",
      "sigma= 0.012422599874998832\n"
     ]
    },
    {
     "data": {
      "image/png": "[encoded data removed]",
      "text/plain": [
       "<Figure size 432x288 with 1 Axes>"
      ]
     },
     "metadata": {
      "needs_background": "light"
     },
     "output_type": "display_data"
    }
   ],
   "source": [
    "# При n = 100 генерируем 1000 выборок объёма n и строим гистограммы распределений их выборочных средних.\n",
    "ParetoFunc(100, EX, DX)"
   ]
  },
  {
   "cell_type": "markdown",
   "metadata": {},
   "source": [
    "<b>Опишите разницу между полученными распределениями при различных значениях n. Как меняется точность аппроксимации распределения выборочных средних нормальным с ростом n?</b>"
   ]
  },
  {
   "cell_type": "markdown",
   "metadata": {},
   "source": [
    "Распределение выборочных средних для функции pareto хорошо описывается нормальным распределением, что является утверждением центральной предельной теоремы. С ростом n точность аппроксимации увеличивается."
   ]
  },
  {
   "cell_type": "markdown",
   "metadata": {},
   "source": []
  }
 ],
 "metadata": {
  "kernelspec": {
   "display_name": "Python 3",
   "language": "python",
   "name": "python3"
  },
  "language_info": {
   "codemirror_mode": {
    "name": "ipython",
    "version": 3
   },
   "file_extension": ".py",
   "mimetype": "text/x-python",
   "name": "python",
   "nbconvert_exporter": "python",
   "pygments_lexer": "ipython3",
   "version": "3.6.6"
  }
 },
 "nbformat": 4,
 "nbformat_minor": 2
}
